{
 "cells": [
  {
   "cell_type": "markdown",
   "metadata": {
    "id": "Dz8Bi24aJu5d"
   },
   "source": [
    "# 자료의 분포 연습:  요약 통계량의 정의, 정규분포"
   ]
  },
  {
   "cell_type": "code",
   "execution_count": 1,
   "metadata": {
    "id": "Oa_WZuA3LKYO"
   },
   "outputs": [],
   "source": [
    "https://www.chosun.com/international/china/2022/10/16/PS34GVMYRZCOFGJRLPWUDFVHU4/import pandas as pd\n",
    "import numpy as np"
   ]
  },
  {
   "cell_type": "code",
   "execution_count": 2,
   "metadata": {
    "id": "sMud8aGPbjRE"
   },
   "outputs": [
    {
     "name": "stderr",
     "output_type": "stream",
     "text": [
      "/Users/ylee19067/opt/anaconda3/lib/python3.8/site-packages/scipy/__init__.py:146: UserWarning: A NumPy version >=1.16.5 and <1.23.0 is required for this version of SciPy (detected version 1.23.1\n",
      "  warnings.warn(f\"A NumPy version >={np_minversion} and <{np_maxversion}\"\n"
     ]
    }
   ],
   "source": [
    "import scipy.stats as stats\n",
    "\n",
    "import matplotlib.pyplot as plt\n",
    "%matplotlib inline"
   ]
  },
  {
   "cell_type": "markdown",
   "metadata": {
    "id": "TJ_KYDTxJ0WB"
   },
   "source": [
    "## 자료의 분포를 나타내는 요약 통계량"
   ]
  },
  {
   "cell_type": "markdown",
   "metadata": {
    "id": "LiqQ886RKAal"
   },
   "source": [
    "자료의 중심을 나타내는 대표값 \n",
    "\n",
    "- 평균 (mean, average)\n",
    "- 중간값 (중위수, median)\n",
    "\n",
    "- 중간값의 계산\n",
    "  \n",
    "  + 자료를 순서대로 늘어놓았을 때 중간에 오는 값\n",
    "  + 자료의 길이 n이 홀수이면 (n + 1)/2번째의 값이고 \n",
    "  + 자료의 길이 n이 짝수이면 n/2번째의 값과 n/2 + 1번째 값의 평균이다."
   ]
  },
  {
   "cell_type": "markdown",
   "metadata": {
    "id": "oofp1Y7IKLDv"
   },
   "source": [
    "자료의 극단(extreme)을 나타내는 대표값\n",
    "\n",
    "- 최소값과 최대값\n",
    "\n",
    "자료의 퍼진 정도를 나타내는 대표값\n",
    "\n",
    "- 하위 50% 집단의 중간값 (아래 4분위수: Q1) => 1/4 번째 수\n",
    "- 상위 50% 집단의 중간값 (위 4분위수: Q3) => 3/4 번째 수\n",
    "- **k 번째 수의 순서: (k-1)/(n-1) 번째**\n",
    "\n",
    "4분위수 거리 (IQR, inter-quanrtile range; inter-quantile range) \n",
    "\n",
    "  - IQR = Q3 − Q1\n"
   ]
  },
  {
   "cell_type": "markdown",
   "metadata": {
    "id": "cOtHRS8yK0Wp"
   },
   "source": [
    "### 예제 1\n",
    "\n",
    "1,2,3,4,5,6,7,8,9,10\n",
    "\n",
    "- Q1?\n",
    "\n",
    "  + n = 10 이므로 3 는 (3 -1 )/(10-1) = 2/9 번째 수\n",
    "  + n = 10 이므로 4 는 (4 -1 )/(10-1) = 3/9 번째 수\n",
    "  + Q1 = 1/4 번째 수\n",
    "  + 따라서 \n",
    "\n",
    "  $$ Q1 = 3\\frac{(3/9-1/4)}{(3/9-2/9)} + 4\\frac{(1/4-2/9)}{(3/9-2/9)} = 3.25 $$\n",
    "\n",
    "- Q3?\n",
    "\n",
    "  + n = 10 이므로 7 는 (7 -1 )/(10-1) = 6/9 번째 수\n",
    "  + n = 10 이므로 8 는 (8 -1 )/(10-1) = 7/9 번째 수\n",
    "  + Q1 = 3/4 번째 수\n",
    "  + 따라서 \n",
    "  \n",
    "  $$ Q3 = 7 \\frac{(7/9-3/4)}{(7/9-6/9)} + 8\\frac{(3/4-6/9)}{(7/9-6/9)} = 7.75 $$\n"
   ]
  },
  {
   "cell_type": "code",
   "execution_count": 3,
   "metadata": {
    "colab": {
     "base_uri": "https://localhost:8080/"
    },
    "id": "kAG1xKD9VaFD",
    "outputId": "5778c940-ee0d-494e-e41a-1adba501938a"
   },
   "outputs": [
    {
     "data": {
      "text/plain": [
       "array([ 1,  2,  3,  4,  5,  6,  7,  8,  9, 10])"
      ]
     },
     "execution_count": 3,
     "metadata": {},
     "output_type": "execute_result"
    }
   ],
   "source": [
    "x = np.array([1,2,3,4,5,6,7,8,9,10])\n",
    "x"
   ]
  },
  {
   "cell_type": "code",
   "execution_count": 4,
   "metadata": {
    "colab": {
     "base_uri": "https://localhost:8080/"
    },
    "id": "Tvk9WaSqVlYL",
    "outputId": "e1270476-0ee5-4f1c-c1a6-beccbbef65b3"
   },
   "outputs": [
    {
     "data": {
      "text/plain": [
       "array([0.        , 0.11111111, 0.22222222, 0.33333333, 0.44444444,\n",
       "       0.55555556, 0.66666667, 0.77777778, 0.88888889, 1.        ])"
      ]
     },
     "execution_count": 4,
     "metadata": {},
     "output_type": "execute_result"
    }
   ],
   "source": [
    "(x-1)/(len(x)-1) # 순서 "
   ]
  },
  {
   "cell_type": "code",
   "execution_count": 5,
   "metadata": {
    "id": "p7bmD1a7Jrrh"
   },
   "outputs": [],
   "source": [
    "df1 = pd.DataFrame({'x': x})"
   ]
  },
  {
   "cell_type": "code",
   "execution_count": 6,
   "metadata": {
    "colab": {
     "base_uri": "https://localhost:8080/",
     "height": 357
    },
    "id": "w_f_zXayLWxU",
    "outputId": "b04386b7-ff73-43cd-8a61-3a7f7f75c80a"
   },
   "outputs": [
    {
     "data": {
      "text/html": [
       "<div>\n",
       "<style scoped>\n",
       "    .dataframe tbody tr th:only-of-type {\n",
       "        vertical-align: middle;\n",
       "    }\n",
       "\n",
       "    .dataframe tbody tr th {\n",
       "        vertical-align: top;\n",
       "    }\n",
       "\n",
       "    .dataframe thead th {\n",
       "        text-align: right;\n",
       "    }\n",
       "</style>\n",
       "<table border=\"1\" class=\"dataframe\">\n",
       "  <thead>\n",
       "    <tr style=\"text-align: right;\">\n",
       "      <th></th>\n",
       "      <th>x</th>\n",
       "    </tr>\n",
       "  </thead>\n",
       "  <tbody>\n",
       "    <tr>\n",
       "      <th>0</th>\n",
       "      <td>1</td>\n",
       "    </tr>\n",
       "    <tr>\n",
       "      <th>1</th>\n",
       "      <td>2</td>\n",
       "    </tr>\n",
       "    <tr>\n",
       "      <th>2</th>\n",
       "      <td>3</td>\n",
       "    </tr>\n",
       "    <tr>\n",
       "      <th>3</th>\n",
       "      <td>4</td>\n",
       "    </tr>\n",
       "    <tr>\n",
       "      <th>4</th>\n",
       "      <td>5</td>\n",
       "    </tr>\n",
       "    <tr>\n",
       "      <th>5</th>\n",
       "      <td>6</td>\n",
       "    </tr>\n",
       "    <tr>\n",
       "      <th>6</th>\n",
       "      <td>7</td>\n",
       "    </tr>\n",
       "    <tr>\n",
       "      <th>7</th>\n",
       "      <td>8</td>\n",
       "    </tr>\n",
       "    <tr>\n",
       "      <th>8</th>\n",
       "      <td>9</td>\n",
       "    </tr>\n",
       "    <tr>\n",
       "      <th>9</th>\n",
       "      <td>10</td>\n",
       "    </tr>\n",
       "  </tbody>\n",
       "</table>\n",
       "</div>"
      ],
      "text/plain": [
       "    x\n",
       "0   1\n",
       "1   2\n",
       "2   3\n",
       "3   4\n",
       "4   5\n",
       "5   6\n",
       "6   7\n",
       "7   8\n",
       "8   9\n",
       "9  10"
      ]
     },
     "execution_count": 6,
     "metadata": {},
     "output_type": "execute_result"
    }
   ],
   "source": [
    "df1"
   ]
  },
  {
   "cell_type": "code",
   "execution_count": 7,
   "metadata": {
    "colab": {
     "base_uri": "https://localhost:8080/",
     "height": 295
    },
    "id": "fVCKt98hLdL8",
    "outputId": "8d615bb0-305e-4c28-c4cd-9bc0af37dfc5"
   },
   "outputs": [
    {
     "data": {
      "text/html": [
       "<div>\n",
       "<style scoped>\n",
       "    .dataframe tbody tr th:only-of-type {\n",
       "        vertical-align: middle;\n",
       "    }\n",
       "\n",
       "    .dataframe tbody tr th {\n",
       "        vertical-align: top;\n",
       "    }\n",
       "\n",
       "    .dataframe thead th {\n",
       "        text-align: right;\n",
       "    }\n",
       "</style>\n",
       "<table border=\"1\" class=\"dataframe\">\n",
       "  <thead>\n",
       "    <tr style=\"text-align: right;\">\n",
       "      <th></th>\n",
       "      <th>x</th>\n",
       "    </tr>\n",
       "  </thead>\n",
       "  <tbody>\n",
       "    <tr>\n",
       "      <th>count</th>\n",
       "      <td>10.00000</td>\n",
       "    </tr>\n",
       "    <tr>\n",
       "      <th>mean</th>\n",
       "      <td>5.50000</td>\n",
       "    </tr>\n",
       "    <tr>\n",
       "      <th>std</th>\n",
       "      <td>3.02765</td>\n",
       "    </tr>\n",
       "    <tr>\n",
       "      <th>min</th>\n",
       "      <td>1.00000</td>\n",
       "    </tr>\n",
       "    <tr>\n",
       "      <th>25%</th>\n",
       "      <td>3.25000</td>\n",
       "    </tr>\n",
       "    <tr>\n",
       "      <th>50%</th>\n",
       "      <td>5.50000</td>\n",
       "    </tr>\n",
       "    <tr>\n",
       "      <th>75%</th>\n",
       "      <td>7.75000</td>\n",
       "    </tr>\n",
       "    <tr>\n",
       "      <th>max</th>\n",
       "      <td>10.00000</td>\n",
       "    </tr>\n",
       "  </tbody>\n",
       "</table>\n",
       "</div>"
      ],
      "text/plain": [
       "              x\n",
       "count  10.00000\n",
       "mean    5.50000\n",
       "std     3.02765\n",
       "min     1.00000\n",
       "25%     3.25000\n",
       "50%     5.50000\n",
       "75%     7.75000\n",
       "max    10.00000"
      ]
     },
     "execution_count": 7,
     "metadata": {},
     "output_type": "execute_result"
    }
   ],
   "source": [
    "df1.describe()"
   ]
  },
  {
   "cell_type": "markdown",
   "metadata": {
    "id": "YVkx7rsRWXiQ"
   },
   "source": [
    "### 예제 2\n",
    "\n",
    "1,2,3,4,5,6,7,8,9\n",
    "\n",
    "- Q1?\n",
    "\n",
    "  + n = 9 이므로 3 는 (3 -1 )/(9-1) = 2/8 = 1/4 번째 수\n",
    "  + Q1 = 1/4 번째 수\n",
    "  + 따라서 Q1 = 3\n",
    "\n",
    "- Q3?\n",
    "\n",
    "  + n = 9 이므로 7 는 (7 -1 )/(9-1) = 6/8 = 3/4 번째 수\n",
    "  + Q3 = 3/4 번째 수\n",
    "  + 따라서 Q3 = 7\n"
   ]
  },
  {
   "cell_type": "code",
   "execution_count": 8,
   "metadata": {
    "id": "4Uc1ognHWdpV"
   },
   "outputs": [],
   "source": [
    "x=np.array([1,2,3,4,5,6,7,8,9])"
   ]
  },
  {
   "cell_type": "code",
   "execution_count": 9,
   "metadata": {
    "colab": {
     "base_uri": "https://localhost:8080/"
    },
    "id": "FystRYftWj9o",
    "outputId": "975d1c47-3c52-4234-e22f-6c9e780e6cea"
   },
   "outputs": [
    {
     "data": {
      "text/plain": [
       "array([0.   , 0.125, 0.25 , 0.375, 0.5  , 0.625, 0.75 , 0.875, 1.   ])"
      ]
     },
     "execution_count": 9,
     "metadata": {},
     "output_type": "execute_result"
    }
   ],
   "source": [
    "(x-1)/(len(x)-1) # 순서"
   ]
  },
  {
   "cell_type": "code",
   "execution_count": 10,
   "metadata": {
    "id": "8vElpRNbLfag"
   },
   "outputs": [],
   "source": [
    "df2 = pd.DataFrame({'x': x})"
   ]
  },
  {
   "cell_type": "code",
   "execution_count": 11,
   "metadata": {
    "colab": {
     "base_uri": "https://localhost:8080/",
     "height": 326
    },
    "id": "1mJtnD5SLw6b",
    "outputId": "d7f26c8b-93d6-4b65-a8e4-3aa7f1bbaa13"
   },
   "outputs": [
    {
     "data": {
      "text/html": [
       "<div>\n",
       "<style scoped>\n",
       "    .dataframe tbody tr th:only-of-type {\n",
       "        vertical-align: middle;\n",
       "    }\n",
       "\n",
       "    .dataframe tbody tr th {\n",
       "        vertical-align: top;\n",
       "    }\n",
       "\n",
       "    .dataframe thead th {\n",
       "        text-align: right;\n",
       "    }\n",
       "</style>\n",
       "<table border=\"1\" class=\"dataframe\">\n",
       "  <thead>\n",
       "    <tr style=\"text-align: right;\">\n",
       "      <th></th>\n",
       "      <th>x</th>\n",
       "    </tr>\n",
       "  </thead>\n",
       "  <tbody>\n",
       "    <tr>\n",
       "      <th>0</th>\n",
       "      <td>1</td>\n",
       "    </tr>\n",
       "    <tr>\n",
       "      <th>1</th>\n",
       "      <td>2</td>\n",
       "    </tr>\n",
       "    <tr>\n",
       "      <th>2</th>\n",
       "      <td>3</td>\n",
       "    </tr>\n",
       "    <tr>\n",
       "      <th>3</th>\n",
       "      <td>4</td>\n",
       "    </tr>\n",
       "    <tr>\n",
       "      <th>4</th>\n",
       "      <td>5</td>\n",
       "    </tr>\n",
       "    <tr>\n",
       "      <th>5</th>\n",
       "      <td>6</td>\n",
       "    </tr>\n",
       "    <tr>\n",
       "      <th>6</th>\n",
       "      <td>7</td>\n",
       "    </tr>\n",
       "    <tr>\n",
       "      <th>7</th>\n",
       "      <td>8</td>\n",
       "    </tr>\n",
       "    <tr>\n",
       "      <th>8</th>\n",
       "      <td>9</td>\n",
       "    </tr>\n",
       "  </tbody>\n",
       "</table>\n",
       "</div>"
      ],
      "text/plain": [
       "   x\n",
       "0  1\n",
       "1  2\n",
       "2  3\n",
       "3  4\n",
       "4  5\n",
       "5  6\n",
       "6  7\n",
       "7  8\n",
       "8  9"
      ]
     },
     "execution_count": 11,
     "metadata": {},
     "output_type": "execute_result"
    }
   ],
   "source": [
    "df2"
   ]
  },
  {
   "cell_type": "code",
   "execution_count": 12,
   "metadata": {
    "colab": {
     "base_uri": "https://localhost:8080/",
     "height": 295
    },
    "id": "1D9wM6YhLxfg",
    "outputId": "7c19d1fe-641e-4dd1-fa78-ecf3cc3d2672"
   },
   "outputs": [
    {
     "data": {
      "text/html": [
       "<div>\n",
       "<style scoped>\n",
       "    .dataframe tbody tr th:only-of-type {\n",
       "        vertical-align: middle;\n",
       "    }\n",
       "\n",
       "    .dataframe tbody tr th {\n",
       "        vertical-align: top;\n",
       "    }\n",
       "\n",
       "    .dataframe thead th {\n",
       "        text-align: right;\n",
       "    }\n",
       "</style>\n",
       "<table border=\"1\" class=\"dataframe\">\n",
       "  <thead>\n",
       "    <tr style=\"text-align: right;\">\n",
       "      <th></th>\n",
       "      <th>x</th>\n",
       "    </tr>\n",
       "  </thead>\n",
       "  <tbody>\n",
       "    <tr>\n",
       "      <th>count</th>\n",
       "      <td>9.000000</td>\n",
       "    </tr>\n",
       "    <tr>\n",
       "      <th>mean</th>\n",
       "      <td>5.000000</td>\n",
       "    </tr>\n",
       "    <tr>\n",
       "      <th>std</th>\n",
       "      <td>2.738613</td>\n",
       "    </tr>\n",
       "    <tr>\n",
       "      <th>min</th>\n",
       "      <td>1.000000</td>\n",
       "    </tr>\n",
       "    <tr>\n",
       "      <th>25%</th>\n",
       "      <td>3.000000</td>\n",
       "    </tr>\n",
       "    <tr>\n",
       "      <th>50%</th>\n",
       "      <td>5.000000</td>\n",
       "    </tr>\n",
       "    <tr>\n",
       "      <th>75%</th>\n",
       "      <td>7.000000</td>\n",
       "    </tr>\n",
       "    <tr>\n",
       "      <th>max</th>\n",
       "      <td>9.000000</td>\n",
       "    </tr>\n",
       "  </tbody>\n",
       "</table>\n",
       "</div>"
      ],
      "text/plain": [
       "              x\n",
       "count  9.000000\n",
       "mean   5.000000\n",
       "std    2.738613\n",
       "min    1.000000\n",
       "25%    3.000000\n",
       "50%    5.000000\n",
       "75%    7.000000\n",
       "max    9.000000"
      ]
     },
     "execution_count": 12,
     "metadata": {},
     "output_type": "execute_result"
    }
   ],
   "source": [
    "df2.describe()"
   ]
  },
  {
   "cell_type": "markdown",
   "metadata": {
    "id": "KBwV8M1_YEqj"
   },
   "source": [
    "### 상자그림"
   ]
  },
  {
   "cell_type": "markdown",
   "metadata": {
    "id": "FHdkwMWXYIy6"
   },
   "source": [
    "-  자료의 분포을 나타내는 그림\n",
    "\n",
    "- box plot\n",
    "\n",
    "- 위 선 끝점: Q3 + (1.5)IQR\n",
    "\n",
    "- 상자 위: 75% 백분위수 (3사분위수, Q3)\n",
    "\n",
    "- 상자 중앙: 중앙값(median)\n",
    "\n",
    "- 상자 아래 : 25% 백분위수 (1사분위수, Q1)\n",
    "\n",
    "- 아래 선 끝점: Q1 - (1.5)IQR\n"
   ]
  },
  {
   "cell_type": "code",
   "execution_count": 13,
   "metadata": {
    "id": "a2eOj9YOYEIn"
   },
   "outputs": [],
   "source": [
    "y = np.random.rand(50)"
   ]
  },
  {
   "cell_type": "code",
   "execution_count": 14,
   "metadata": {
    "id": "5ENxmGeNY6hI"
   },
   "outputs": [],
   "source": [
    "df3 = pd.DataFrame({'y':y})"
   ]
  },
  {
   "cell_type": "code",
   "execution_count": 15,
   "metadata": {
    "colab": {
     "base_uri": "https://localhost:8080/",
     "height": 265
    },
    "id": "S4eDtWbFY5Qp",
    "outputId": "325eb4dd-f13f-4e2c-c085-625fadb5c3f7"
   },
   "outputs": [
    {
     "data": {
      "image/png": "[encoded data removed]",
      "text/plain": [
       "<Figure size 640x480 with 1 Axes>"
      ]
     },
     "metadata": {},
     "output_type": "display_data"
    }
   ],
   "source": [
    "boxplot = df3.plot.box(y='y')"
   ]
  },
  {
   "cell_type": "markdown",
   "metadata": {
    "id": "BDwWA8D2ZnJU"
   },
   "source": [
    "### 이상점\n",
    "\n",
    "- 이상점, 특이값 (outlier)\n",
    "- 자료의 값들 중 전체적인 경향에서 벗어난 값\n",
    "- 이상점은 잘못된 값일 수도 있으나 (예: 입력오류) 자료의 일부분인 경우도 흔하다 (예: 대한민국 국가대표의 연봉 중 손흥민의 연봉)\n",
    "- 이상점의 판별 - 매우 어려움\n",
    "- 이상점이 존재하는 경우 자료의 요약에 대하여 세심한 주의를 기울여야 한다 (예: median의 사용)\n",
    "\n",
    "다음 두 자료 의 평균과 중앙값은?\n",
    "\n",
    "    자료1: 1, 2, 3, 4, 5\n",
    "   \n",
    "    자료2: 1, 2, 3, 4, 100\n",
    "\n",
    "- 매우 특이한 값이 존재하거나 자료가 매우 비대칭일 경우 중심의 측도로서 평균은 적절치 않다."
   ]
  },
  {
   "cell_type": "markdown",
   "metadata": {
    "id": "mVXzholXX4o3"
   },
   "source": [
    "## 정규분포"
   ]
  },
  {
   "cell_type": "markdown",
   "metadata": {
    "id": "aBL537ana41K"
   },
   "source": [
    "- 평균 $\\mu$이고 분산이 $\\sigma^2$인 정규분포를 $N(\\mu,~\\sigma^2)$로 표시한다.\n",
    "\n",
    "- $N(\\mu,~\\sigma^2)$의 확률밀도함수\n",
    "\n",
    "$$ f(x; \\mu,\\sigma^2) = \\frac{1}{\\sqrt{2 \\pi \\sigma^2}} \\exp \\left (-\\frac{ (x-\\mu)^2}{2\\sigma^2} \\right ) $$\n",
    "\n",
    "\n",
    "- 평균 $\\mu$를 중심으로 대칭이며 꼬리의 확률이 빠르게 줄어드는 분포\n",
    "\n",
    "-  평균 0 이고 분산이 1인 정규분포는 표준정규분포 ($N(0,1)$, standard normal distribution)\n",
    "\n",
    "- 자료의 퍼진 정도가  분산 $\\sigma^2$에 따라 다르다.\n",
    "\n",
    "- $X$의  분포가 $N(\\mu,~\\sigma^2)$일 때 $Z=(X-\\mu)/\\sigma$의 분포는 $N(0,1)$이다.\n"
   ]
  },
  {
   "cell_type": "markdown",
   "metadata": {
    "id": "V237LWcfb9Gi"
   },
   "source": [
    "### 표준 정규분포의 확률밀도함수"
   ]
  },
  {
   "cell_type": "markdown",
   "metadata": {
    "id": "-LNHATrhihaU"
   },
   "source": [
    "정규분포의 평균과 표준편차의 값은 아래 `mu` 와 `sigma` 값입니다. \n",
    "\n",
    "**참고: 아래 정규분포의 확률밀도함수를 그리는 파이썬 표현식은 시함이나 과제에 나오지 않습니다. 학생들의 이해를 돕기 위하여 그래프를 그리는 프로그램이므로 따로 공부할 필요는 없습니다.**\n"
   ]
  },
  {
   "cell_type": "code",
   "execution_count": 16,
   "metadata": {
    "id": "VG4dFvHqLzHv"
   },
   "outputs": [],
   "source": [
    "mu=0\n",
    "sigma=1\n",
    "normal_distribution=stats.norm(mu,sigma)"
   ]
  },
  {
   "cell_type": "code",
   "execution_count": 17,
   "metadata": {
    "colab": {
     "base_uri": "https://localhost:8080/",
     "height": 282
    },
    "id": "27unkGPabc8I",
    "outputId": "a24f1b9c-6ae4-4f4e-ad26-1e3f08a6c23a"
   },
   "outputs": [
    {
     "data": {
      "text/plain": [
       "[<matplotlib.lines.Line2D at 0x7ff240f09430>]"
      ]
     },
     "execution_count": 17,
     "metadata": {},
     "output_type": "execute_result"
    },
    {
     "data": {
      "image/png": "[encoded data removed]",
      "text/plain": [
       "<Figure size 640x480 with 1 Axes>"
      ]
     },
     "metadata": {},
     "output_type": "display_data"
    }
   ],
   "source": [
    "heights=np.linspace(mu-3*sigma, mu+3*sigma,10000)\n",
    "plt.plot(heights,normal_distribution.pdf(heights),'b')"
   ]
  },
  {
   "cell_type": "markdown",
   "metadata": {
    "id": "Xj1r_9sheOPE"
   },
   "source": [
    "### 정규분포의 확률 계산\n",
    "\n",
    "$X$의  분포가 $N(\\mu,~\\sigma^2)$일 때, 임의의  $a<b$ 에 대하여 \n",
    "\n",
    "\n",
    "\n",
    "$$\n",
    "\\begin{align*}\n",
    " P(a \\le X \\le b) & = \\int_a^b f(z; \\mu, \\sigma)~~dz \\\\\n",
    "  & =  P(-\\infty \\le X \\le b)  - P(-\\infty \\le X \\le a)  \n",
    "\\end{align*}\n",
    "$$\n",
    "\n",
    "\n",
    "$$\n",
    "\\begin{align*} \n",
    "P(-\\infty \\le X \\le b)  &= \\int^b_{-\\infty}f(z; \\mu, \\sigma)~~dz \\\\\n",
    " & = \\texttt{normal_distribution.cdf(b)} \n",
    " \\end{align*}\n",
    " $$"
   ]
  },
  {
   "cell_type": "markdown",
   "metadata": {
    "id": "3d7yyDsFcM7P"
   },
   "source": [
    "### 정규분포의 성질\n",
    "\n",
    "$X$의  분포가 $N(\\mu,~\\sigma^2)$일 때\n",
    "\n",
    "\\begin{eqnarray*}\n",
    " P( \\mu-\\sigma <X<\\mu+\\sigma) =& 0.683 \\quad \\text{(blue area)}\\\\\n",
    " P( \\mu-2\\sigma <X<\\mu+2\\sigma) =& 0.954 \\quad \\text{(green area)}\\\\\n",
    " P( \\mu-3\\sigma <X<\\mu+3\\sigma) =& 0.995 \\quad \\text{(red area)}\n",
    " \\end{eqnarray*} \n",
    "\n"
   ]
  },
  {
   "cell_type": "code",
   "execution_count": 18,
   "metadata": {
    "colab": {
     "base_uri": "https://localhost:8080/"
    },
    "id": "-qw5n-5-e-PR",
    "outputId": "775ede6e-408e-408b-9ddd-6c5892f1692a"
   },
   "outputs": [
    {
     "data": {
      "text/plain": [
       "0.6826894921370859"
      ]
     },
     "execution_count": 18,
     "metadata": {},
     "output_type": "execute_result"
    }
   ],
   "source": [
    "normal_distribution.cdf(mu+sigma) - normal_distribution.cdf(mu-sigma)"
   ]
  },
  {
   "cell_type": "code",
   "execution_count": 19,
   "metadata": {
    "colab": {
     "base_uri": "https://localhost:8080/"
    },
    "id": "BhGU8wGTfqga",
    "outputId": "bb948ee0-5bb6-43f9-8586-5ce0c9009c42"
   },
   "outputs": [
    {
     "data": {
      "text/plain": [
       "0.9544997361036416"
      ]
     },
     "execution_count": 19,
     "metadata": {},
     "output_type": "execute_result"
    }
   ],
   "source": [
    "normal_distribution.cdf(mu+2*sigma) - normal_distribution.cdf(mu-2*sigma)"
   ]
  },
  {
   "cell_type": "code",
   "execution_count": 20,
   "metadata": {
    "colab": {
     "base_uri": "https://localhost:8080/"
    },
    "id": "WZ3OLJxXfqjk",
    "outputId": "ccdd9733-5d0e-417a-8e68-ca2501ba914b"
   },
   "outputs": [
    {
     "data": {
      "text/plain": [
       "0.9973002039367398"
      ]
     },
     "execution_count": 20,
     "metadata": {},
     "output_type": "execute_result"
    }
   ],
   "source": [
    "normal_distribution.cdf(mu+3*sigma) - normal_distribution.cdf(mu-3*sigma)"
   ]
  },
  {
   "cell_type": "code",
   "execution_count": 21,
   "metadata": {
    "colab": {
     "base_uri": "https://localhost:8080/",
     "height": 282
    },
    "id": "zJes7BCSbsuX",
    "outputId": "3f79af72-7b04-4a45-baf0-9153db50bc0d"
   },
   "outputs": [
    {
     "data": {
      "text/plain": [
       "<matplotlib.collections.PolyCollection at 0x7ff1d035e5e0>"
      ]
     },
     "execution_count": 21,
     "metadata": {},
     "output_type": "execute_result"
    },
    {
     "data": {
      "image/png": "[encoded data removed]",
      "text/plain": [
       "<Figure size 640x480 with 1 Axes>"
      ]
     },
     "metadata": {},
     "output_type": "display_data"
    }
   ],
   "source": [
    "heights=np.linspace(mu-4*sigma, mu+4*sigma,10000)\n",
    "plt.plot(heights,normal_distribution.pdf(heights),'b')\n",
    "\n",
    "area=np.arange(mu-sigma,mu+sigma ,0.1)\n",
    "plt.fill_between(area,normal_distribution.pdf(area),color='b')"
   ]
  },
  {
   "cell_type": "code",
   "execution_count": 22,
   "metadata": {
    "colab": {
     "base_uri": "https://localhost:8080/",
     "height": 282
    },
    "id": "OLh7N_yfdRTY",
    "outputId": "eca28e33-00a5-462c-f34f-af9aa5abaa94"
   },
   "outputs": [
    {
     "data": {
      "text/plain": [
       "<matplotlib.collections.PolyCollection at 0x7ff210725f70>"
      ]
     },
     "execution_count": 22,
     "metadata": {},
     "output_type": "execute_result"
    },
    {
     "data": {
      "image/png": "[encoded data removed]",
      "text/plain": [
       "<Figure size 640x480 with 1 Axes>"
      ]
     },
     "metadata": {},
     "output_type": "display_data"
    }
   ],
   "source": [
    "heights=np.linspace(mu-4*sigma, mu+4*sigma,10000)\n",
    "plt.plot(heights,normal_distribution.pdf(heights),'b')\n",
    "\n",
    "area=np.arange(mu-2*sigma,mu+2*sigma ,0.1)\n",
    "plt.fill_between(area,normal_distribution.pdf(area),color='g')"
   ]
  },
  {
   "cell_type": "code",
   "execution_count": 23,
   "metadata": {
    "colab": {
     "base_uri": "https://localhost:8080/",
     "height": 282
    },
    "id": "AaD1RX5YddH1",
    "outputId": "7c2a2832-1016-41a4-e06e-49323462e71a"
   },
   "outputs": [
    {
     "data": {
      "text/plain": [
       "<matplotlib.collections.PolyCollection at 0x7ff1d0413af0>"
      ]
     },
     "execution_count": 23,
     "metadata": {},
     "output_type": "execute_result"
    },
    {
     "data": {
      "image/png": "[encoded data removed]",
      "text/plain": [
       "<Figure size 640x480 with 1 Axes>"
      ]
     },
     "metadata": {},
     "output_type": "display_data"
    }
   ],
   "source": [
    "heights=np.linspace(mu-4*sigma, mu+4*sigma,10000)\n",
    "plt.plot(heights,normal_distribution.pdf(heights),'b')\n",
    "\n",
    "area=np.arange(mu-3*sigma,mu+3*sigma ,0.1)\n",
    "plt.fill_between(area,normal_distribution.pdf(area),color='r')"
   ]
  },
  {
   "cell_type": "markdown",
   "metadata": {
    "id": "0yWidnMxgpc1"
   },
   "source": [
    "### 정규분포에서 난수 추출\n",
    "\n",
    "\n",
    "라이브러리 `numpy` 의 `np.random.normal(mu, sigma, n)` 함수를 사용한다."
   ]
  },
  {
   "cell_type": "code",
   "execution_count": 24,
   "metadata": {
    "id": "Kk-8gQ-hgoiT"
   },
   "outputs": [],
   "source": [
    "df3= pd.DataFrame({'x': np.random.normal(mu, sigma, 1000)})"
   ]
  },
  {
   "cell_type": "code",
   "execution_count": 25,
   "metadata": {
    "colab": {
     "base_uri": "https://localhost:8080/",
     "height": 282
    },
    "id": "xUzffRsYf6Qc",
    "outputId": "9f394f54-4933-4075-92b0-6dd82e2c592d"
   },
   "outputs": [
    {
     "data": {
      "text/plain": [
       "<AxesSubplot:ylabel='Frequency'>"
      ]
     },
     "execution_count": 25,
     "metadata": {},
     "output_type": "execute_result"
    },
    {
     "data": {
      "image/png": "[encoded data removed]",
      "text/plain": [
       "<Figure size 640x480 with 1 Axes>"
      ]
     },
     "metadata": {},
     "output_type": "display_data"
    }
   ],
   "source": [
    "df3.plot.hist(y='x')"
   ]
  },
  {
   "cell_type": "code",
   "execution_count": 26,
   "metadata": {
    "colab": {
     "base_uri": "https://localhost:8080/",
     "height": 282
    },
    "id": "ljPvtB8mhQCS",
    "outputId": "ab11d001-e00c-4c5c-c32a-08bc264f1938"
   },
   "outputs": [
    {
     "data": {
      "text/plain": [
       "<AxesSubplot:>"
      ]
     },
     "execution_count": 26,
     "metadata": {},
     "output_type": "execute_result"
    },
    {
     "data": {
      "image/png": "[encoded data removed]",
      "text/plain": [
       "<Figure size 640x480 with 1 Axes>"
      ]
     },
     "metadata": {},
     "output_type": "display_data"
    }
   ],
   "source": [
    "df3.plot.box(y='x')"
   ]
  },
  {
   "cell_type": "code",
   "execution_count": 27,
   "metadata": {
    "colab": {
     "base_uri": "https://localhost:8080/",
     "height": 295
    },
    "id": "HoleGAAfhmei",
    "outputId": "23919d9f-0503-4525-85f2-4ac650d67aff"
   },
   "outputs": [
    {
     "data": {
      "text/html": [
       "<div>\n",
       "<style scoped>\n",
       "    .dataframe tbody tr th:only-of-type {\n",
       "        vertical-align: middle;\n",
       "    }\n",
       "\n",
       "    .dataframe tbody tr th {\n",
       "        vertical-align: top;\n",
       "    }\n",
       "\n",
       "    .dataframe thead th {\n",
       "        text-align: right;\n",
       "    }\n",
       "</style>\n",
       "<table border=\"1\" class=\"dataframe\">\n",
       "  <thead>\n",
       "    <tr style=\"text-align: right;\">\n",
       "      <th></th>\n",
       "      <th>x</th>\n",
       "    </tr>\n",
       "  </thead>\n",
       "  <tbody>\n",
       "    <tr>\n",
       "      <th>count</th>\n",
       "      <td>1000.000000</td>\n",
       "    </tr>\n",
       "    <tr>\n",
       "      <th>mean</th>\n",
       "      <td>-0.054477</td>\n",
       "    </tr>\n",
       "    <tr>\n",
       "      <th>std</th>\n",
       "      <td>0.970082</td>\n",
       "    </tr>\n",
       "    <tr>\n",
       "      <th>min</th>\n",
       "      <td>-3.348352</td>\n",
       "    </tr>\n",
       "    <tr>\n",
       "      <th>25%</th>\n",
       "      <td>-0.713155</td>\n",
       "    </tr>\n",
       "    <tr>\n",
       "      <th>50%</th>\n",
       "      <td>-0.035265</td>\n",
       "    </tr>\n",
       "    <tr>\n",
       "      <th>75%</th>\n",
       "      <td>0.569991</td>\n",
       "    </tr>\n",
       "    <tr>\n",
       "      <th>max</th>\n",
       "      <td>3.340564</td>\n",
       "    </tr>\n",
       "  </tbody>\n",
       "</table>\n",
       "</div>"
      ],
      "text/plain": [
       "                 x\n",
       "count  1000.000000\n",
       "mean     -0.054477\n",
       "std       0.970082\n",
       "min      -3.348352\n",
       "25%      -0.713155\n",
       "50%      -0.035265\n",
       "75%       0.569991\n",
       "max       3.340564"
      ]
     },
     "execution_count": 27,
     "metadata": {},
     "output_type": "execute_result"
    }
   ],
   "source": [
    "df3.describe()"
   ]
  },
  {
   "cell_type": "code",
   "execution_count": null,
   "metadata": {
    "id": "AZcoPg6ujtnh"
   },
   "outputs": [],
   "source": []
  }
 ],
 "metadata": {
  "colab": {
   "collapsed_sections": [],
   "name": "stat-summary.ipynb",
   "provenance": []
  },
  "kernelspec": {
   "display_name": "Python 3 (ipykernel)",
   "language": "python",
   "name": "python3"
  },
  "language_info": {
   "codemirror_mode": {
    "name": "ipython",
    "version": 3
   },
   "file_extension": ".py",
   "mimetype": "text/x-python",
   "name": "python",
   "nbconvert_exporter": "python",
   "pygments_lexer": "ipython3",
   "version": "3.8.8"
  }
 },
 "nbformat": 4,
 "nbformat_minor": 1
}
