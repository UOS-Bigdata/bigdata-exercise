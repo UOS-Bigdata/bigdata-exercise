{
 "cells": [
  {
   "cell_type": "markdown",
   "metadata": {
    "id": "xVKtcstMMcCs"
   },
   "source": [
    "# 빅데이터개론2 - 중간고사의 범위와 요약 \n",
    "\n",
    "다음은 중간고사의 범위에 해당하는 주제와 내용을 요약, 정리한 것입니다. "
   ]
  },
  {
   "cell_type": "code",
   "execution_count": 1,
   "metadata": {
    "id": "o9016F3qkcIE"
   },
   "outputs": [],
   "source": [
    "import math\n",
    "import sys\n",
    "import numpy as np\n",
    "import pandas as pd"
   ]
  },
  {
   "cell_type": "markdown",
   "metadata": {},
   "source": [
    "## 중간고사 시험 범위\n",
    "\n",
    "[온라인 교재](https://uos-bigdata.github.io/bigdatabook/intro.html)에서 다음 내용이 중간고사 시험범위입니다.\n",
    "\n",
    "- 2장. 파이썬의 기초\n",
    "- 3장. 자료의 형식\n",
    "- 4장. 데이터프레임\n",
    "- 5장 1절. 자료의 분포\n",
    "\n",
    "**5장 1절의 내용 중 그림이나 그래프를 그리는 파이썬 코드는 시험에 출제되지 않습니다. 자료를 이용한 여러가지 통계량의 계산과 그레프를 이용하여 자료의 분포를 파학하는 문제가 출제됩니다.** \n",
    "\n",
    "[빅데이터 개론 2 - 연습 및 과제 해답](https://uos-bigdata.github.io/bigdata-exercise/intro.html)은 교과서, 강의, 과제 등에서 다룬 주제들에 대한 연습과 답안을 제공하는 노트북이 있는 사이트입니다. 꼭 참고하세요.  "
   ]
  },
  {
   "cell_type": "markdown",
   "metadata": {
    "id": "fqkbnWRkrvMF"
   },
   "source": [
    "## 자료의 분포\n",
    "\n",
    "- 그림을 이용한 분포의 특성 분석\n",
    "\n",
    "  - 파이 차트(pie chart)와 바 차트(bar chart): 범주형 자료에 대한 분포의 특성  \n",
    "  - 히스토그램과 상자그림: 연속형 자료에 대한 분포의 특성\n",
    "  - 시계열 그림: 시간에 따른 변화\n",
    "  - 산점도(산포도) : 두 개의 연속형 분포의 관계\n",
    "\n",
    "- 연속형 자료에 대한 요약통계량(평균, 표준편차, 중간값, Q1, Q3, 최대값, 최소값)의 정의와 의미\n"
   ]
  },
  {
   "cell_type": "markdown",
   "metadata": {
    "id": "8DM_PKoNrbfs"
   },
   "source": [
    "## 파이썬 프로그래밍 "
   ]
  },
  {
   "cell_type": "markdown",
   "metadata": {
    "id": "ia86UwinNPFF"
   },
   "source": [
    "### 표현식과 변수\n",
    "\n",
    "- 연산자\n",
    "\n",
    "  - 산술 연산자 \n",
    "    + `+`, `-`, `*`, `/`, `**`, `//`\n",
    "\n",
    "  - 비교 연산자\n",
    "    + `==`, `<`, `>`, `>=`, `<=`\n",
    "\n",
    "  - 논리 연산자\n",
    "    + `and`, `or`, `not`\n",
    "\n",
    "  비교 연산자와 논리 연산자의 결과는 `True` 또는 `False` 이며 이 결과는 예약어이다.\n",
    "\n",
    "-변수의 지정과 이름의 규칙 \n",
    "\n",
    "  - 대, 소문자를 구분한다\n",
    "  - 문자, 숫자, 언더바(_)를 포함할 수 있다. 하지만 숫자로 시작하면 안 된다.\n",
    "  - 변수의 값은 `variable = ... ` 으로 지정한다.\n",
    "\n"
   ]
  },
  {
   "cell_type": "markdown",
   "metadata": {
    "id": "qbg_gKrAlPNg"
   },
   "source": [
    "### 문자열\n",
    "\n",
    "- 문자열로 정의된 변수(이름)을 더하기 `+` 연산자로 조합하여 여러 개의 문자열을 연결\n",
    "- 문자열을 정수로 곱하면 숫자만큼 반복 \n",
    "- 문자열에서 원하는 문자열의 위치를 지정해 주면 문자열의 일부분만 추출 (예: `string[0]`, `string[1:2]`)\n",
    "- 특수한 기능을 가진 특수 문자열 (예: `\\n`)\n",
    "- 문장열에 작은 따옴표 `'` 와 큰 따옴표 `\"` 가 포함된 경우 출력 방법\n",
    "- 문자열에 대한 메소드(method)\n",
    "  + `string.replce()`\n",
    "  + `string.upper()`\n",
    "  + `string.count()`\n",
    "  + `string.split()`"
   ]
  },
  {
   "cell_type": "code",
   "execution_count": 2,
   "metadata": {
    "id": "B-628iQWloop"
   },
   "outputs": [],
   "source": [
    "color = 'red'"
   ]
  },
  {
   "cell_type": "code",
   "execution_count": 3,
   "metadata": {
    "id": "dTLYVgWFkolv"
   },
   "outputs": [],
   "source": [
    "thing = \"apple\""
   ]
  },
  {
   "cell_type": "code",
   "execution_count": 4,
   "metadata": {
    "colab": {
     "base_uri": "https://localhost:8080/",
     "height": 35
    },
    "id": "ljIvFqMilsLk",
    "outputId": "05bd8d23-b989-485b-b31a-ea520ae5e0c4"
   },
   "outputs": [
    {
     "data": {
      "text/plain": [
       "'red apple'"
      ]
     },
     "execution_count": 4,
     "metadata": {},
     "output_type": "execute_result"
    }
   ],
   "source": [
    "color + ' ' + thing"
   ]
  },
  {
   "cell_type": "code",
   "execution_count": 5,
   "metadata": {
    "colab": {
     "base_uri": "https://localhost:8080/",
     "height": 35
    },
    "id": "hyc-e3arl9xa",
    "outputId": "34c55c21-9cfa-4e39-e676-1aff6191ccf1"
   },
   "outputs": [
    {
     "data": {
      "text/plain": [
       "'appleappleapple'"
      ]
     },
     "execution_count": 5,
     "metadata": {},
     "output_type": "execute_result"
    }
   ],
   "source": [
    "thing*3"
   ]
  },
  {
   "cell_type": "code",
   "execution_count": 6,
   "metadata": {
    "colab": {
     "base_uri": "https://localhost:8080/",
     "height": 35
    },
    "id": "3xJfLmbZMZBX",
    "outputId": "d99f67a5-9e54-4dd1-e264-09e46f247dc9"
   },
   "outputs": [
    {
     "data": {
      "text/plain": [
       "'a'"
      ]
     },
     "execution_count": 6,
     "metadata": {},
     "output_type": "execute_result"
    }
   ],
   "source": [
    "thing[0]"
   ]
  },
  {
   "cell_type": "code",
   "execution_count": 7,
   "metadata": {
    "colab": {
     "base_uri": "https://localhost:8080/",
     "height": 35
    },
    "id": "W2TIXSa_laGa",
    "outputId": "2305e209-f2bb-4831-dfbf-0b213950eb2a"
   },
   "outputs": [
    {
     "data": {
      "text/plain": [
       "'ap'"
      ]
     },
     "execution_count": 7,
     "metadata": {},
     "output_type": "execute_result"
    }
   ],
   "source": [
    "thing[0:2]"
   ]
  },
  {
   "cell_type": "code",
   "execution_count": 8,
   "metadata": {
    "colab": {
     "base_uri": "https://localhost:8080/"
    },
    "id": "WZ71bnI7ldlI",
    "outputId": "38e22a50-ed82-43a7-d605-f2626f44418b"
   },
   "outputs": [
    {
     "name": "stdout",
     "output_type": "stream",
     "text": [
      "가나다\n",
      "라마바사\n"
     ]
    }
   ],
   "source": [
    "print(\"가나다\\n라마바사\")"
   ]
  },
  {
   "cell_type": "code",
   "execution_count": 9,
   "metadata": {
    "colab": {
     "base_uri": "https://localhost:8080/"
    },
    "id": "No1U_c1WmvMG",
    "outputId": "72e9346b-dccb-466f-9ce6-feaf2a402dba"
   },
   "outputs": [
    {
     "name": "stdout",
     "output_type": "stream",
     "text": [
      "He said \"yes\"\n"
     ]
    }
   ],
   "source": [
    "print(\"He said \\\"yes\\\"\")"
   ]
  },
  {
   "cell_type": "code",
   "execution_count": 10,
   "metadata": {
    "colab": {
     "base_uri": "https://localhost:8080/",
     "height": 35
    },
    "id": "PbE36zfjm139",
    "outputId": "82f1e273-e4f8-42e0-da96-0f5d97a1b216"
   },
   "outputs": [
    {
     "data": {
      "text/plain": [
       "'C:\\\\some\\\\name'"
      ]
     },
     "execution_count": 10,
     "metadata": {},
     "output_type": "execute_result"
    }
   ],
   "source": [
    "directory_path = r'C:\\some\\name'\n",
    "directory_path"
   ]
  },
  {
   "cell_type": "markdown",
   "metadata": {},
   "source": [
    "문자열도 서로 비교할 수 있다. 문자는 순서가 있으며 영문은 알파벳의 순서로, 한글은 자음의 순서로 위치가 결정된다.\n",
    "\n",
    "- 문자의 순서는 숫자, 영문 대문자, 영문 소문자, 한글의 순으로 나타난다.\n",
    "\n",
    "```\n",
    "1 < 2 < 3 < ..... < A < B < C <......< X < Y < Z < a < b < c < ..... < x < y < z < 가 < 나 < 다 < ...\n",
    "```\n",
    "\n",
    "- 하나의 문자를 비교하는 경우 주어진 순서에 따라서 **앞에 위치한 문자가  뒤에 위치한 문자보다 크기가 작다** \n",
    "\n",
    "- 문자열의 비교는 대응되는 위치의 문자를 비교하여 대소가 결정된다. "
   ]
  },
  {
   "cell_type": "code",
   "execution_count": 11,
   "metadata": {},
   "outputs": [
    {
     "data": {
      "text/plain": [
       "True"
      ]
     },
     "execution_count": 11,
     "metadata": {},
     "output_type": "execute_result"
    }
   ],
   "source": [
    "'A' < 'B'"
   ]
  },
  {
   "cell_type": "code",
   "execution_count": 21,
   "metadata": {},
   "outputs": [
    {
     "data": {
      "text/plain": [
       "False"
      ]
     },
     "execution_count": 21,
     "metadata": {},
     "output_type": "execute_result"
    }
   ],
   "source": [
    "'x' > 'y'"
   ]
  },
  {
   "cell_type": "code",
   "execution_count": 20,
   "metadata": {},
   "outputs": [
    {
     "data": {
      "text/plain": [
       "False"
      ]
     },
     "execution_count": 20,
     "metadata": {},
     "output_type": "execute_result"
    }
   ],
   "source": [
    "'가' > '나'"
   ]
  },
  {
   "cell_type": "code",
   "execution_count": 22,
   "metadata": {},
   "outputs": [
    {
     "data": {
      "text/plain": [
       "False"
      ]
     },
     "execution_count": 22,
     "metadata": {},
     "output_type": "execute_result"
    }
   ],
   "source": [
    "'가' > '거'"
   ]
  },
  {
   "cell_type": "code",
   "execution_count": 12,
   "metadata": {},
   "outputs": [
    {
     "data": {
      "text/plain": [
       "False"
      ]
     },
     "execution_count": 12,
     "metadata": {},
     "output_type": "execute_result"
    }
   ],
   "source": [
    "'AZ' > 'BA'"
   ]
  },
  {
   "cell_type": "code",
   "execution_count": 26,
   "metadata": {},
   "outputs": [
    {
     "data": {
      "text/plain": [
       "True"
      ]
     },
     "execution_count": 26,
     "metadata": {},
     "output_type": "execute_result"
    }
   ],
   "source": [
    "'1' < 'A'"
   ]
  },
  {
   "cell_type": "code",
   "execution_count": 27,
   "metadata": {},
   "outputs": [
    {
     "data": {
      "text/plain": [
       "True"
      ]
     },
     "execution_count": 27,
     "metadata": {},
     "output_type": "execute_result"
    }
   ],
   "source": [
    "'999999' < 'A'"
   ]
  },
  {
   "cell_type": "markdown",
   "metadata": {},
   "source": [
    "다음 두 문자열을 비교하는 경우 3번째 위치(`abc`)까지 동일하고 4번째 위치한 `d` 와 `c` 를 비교하므로 결과는 `False` 이다. "
   ]
  },
  {
   "cell_type": "code",
   "execution_count": 15,
   "metadata": {},
   "outputs": [
    {
     "data": {
      "text/plain": [
       "False"
      ]
     },
     "execution_count": 15,
     "metadata": {},
     "output_type": "execute_result"
    }
   ],
   "source": [
    "'abcd' < 'abcc'"
   ]
  },
  {
   "cell_type": "code",
   "execution_count": 19,
   "metadata": {},
   "outputs": [
    {
     "data": {
      "text/plain": [
       "True"
      ]
     },
     "execution_count": 19,
     "metadata": {},
     "output_type": "execute_result"
    }
   ],
   "source": [
    "'abc' < 'abcd'"
   ]
  },
  {
   "cell_type": "code",
   "execution_count": 16,
   "metadata": {},
   "outputs": [
    {
     "data": {
      "text/plain": [
       "True"
      ]
     },
     "execution_count": 16,
     "metadata": {},
     "output_type": "execute_result"
    }
   ],
   "source": [
    "'시립대' < '시립대학교'"
   ]
  },
  {
   "cell_type": "code",
   "execution_count": 25,
   "metadata": {},
   "outputs": [
    {
     "data": {
      "text/plain": [
       "True"
      ]
     },
     "execution_count": 25,
     "metadata": {},
     "output_type": "execute_result"
    }
   ],
   "source": [
    "'가' < '값'"
   ]
  },
  {
   "cell_type": "markdown",
   "metadata": {},
   "source": [
    "영문자에서 대문자가 소문자보다 앞에 위치한다. "
   ]
  },
  {
   "cell_type": "code",
   "execution_count": 23,
   "metadata": {},
   "outputs": [
    {
     "data": {
      "text/plain": [
       "True"
      ]
     },
     "execution_count": 23,
     "metadata": {},
     "output_type": "execute_result"
    }
   ],
   "source": [
    "'Z' < 'a'"
   ]
  },
  {
   "cell_type": "code",
   "execution_count": 14,
   "metadata": {},
   "outputs": [
    {
     "data": {
      "text/plain": [
       "True"
      ]
     },
     "execution_count": 14,
     "metadata": {},
     "output_type": "execute_result"
    }
   ],
   "source": [
    "'Apple' < 'apple'"
   ]
  },
  {
   "cell_type": "code",
   "execution_count": 28,
   "metadata": {},
   "outputs": [
    {
     "data": {
      "text/plain": [
       "False"
      ]
     },
     "execution_count": 28,
     "metadata": {},
     "output_type": "execute_result"
    }
   ],
   "source": [
    "'가' < 'z'"
   ]
  },
  {
   "cell_type": "markdown",
   "metadata": {},
   "source": [
    "문자열에 `+` 와 `*` 연산자를 사용할 수 있다."
   ]
  },
  {
   "cell_type": "code",
   "execution_count": 66,
   "metadata": {},
   "outputs": [
    {
     "data": {
      "text/plain": [
       "'하하하하하'"
      ]
     },
     "execution_count": 66,
     "metadata": {},
     "output_type": "execute_result"
    }
   ],
   "source": [
    "x1 = \"하\"\n",
    "5*x1"
   ]
  },
  {
   "cell_type": "code",
   "execution_count": 67,
   "metadata": {},
   "outputs": [
    {
     "data": {
      "text/plain": [
       "'I am Tom'"
      ]
     },
     "execution_count": 67,
     "metadata": {},
     "output_type": "execute_result"
    }
   ],
   "source": [
    "x1 = \"I\"\n",
    "x2 = \"am\"\n",
    "x3 = \"Tom\"\n",
    "x1 + ' ' + x2 + ' ' + x3"
   ]
  },
  {
   "cell_type": "markdown",
   "metadata": {
    "id": "81kh33_wn2B7"
   },
   "source": [
    "### 리스트와 행렬\n",
    "\n",
    "- 리스트(`list`)는 여러 개의 원소(element)를 모아 놓은 순서가 있는 객체이며 `[]` 로 지정한다. \n",
    "- 행렬(`array`)은 **같은 형식의 원소들**을 모아 놓은 순서가 있는 객체이다. 행렬은 라이브러리 `numpy` 를 불러서 사용할 수 있다.\n",
    "- 행렬 형식의 지정은  `np.array()` 사용\n",
    "- 행렬을 만드는 함수\n",
    "  + `np.array()`\n",
    "  + `np.arange()`\n",
    "  + `np.repeat()`\n",
    "\n",
    "- 행렬의 차원을 변경하는 메소드 `reshape()`\n",
    "- 행렬의 원소를 추출하는 방법: `array[row index, col index]`\n",
    "\n",
    "\n",
    "\n",
    "**리스트나 행렬의 처음 위치(`index`)는 모두 0으로 시작한다!!!**"
   ]
  },
  {
   "cell_type": "code",
   "execution_count": 29,
   "metadata": {},
   "outputs": [
    {
     "data": {
      "text/plain": [
       "1"
      ]
     },
     "execution_count": 29,
     "metadata": {},
     "output_type": "execute_result"
    }
   ],
   "source": [
    "a1 = [1,2,3,4]\n",
    "a1[0]"
   ]
  },
  {
   "cell_type": "code",
   "execution_count": 31,
   "metadata": {},
   "outputs": [
    {
     "data": {
      "text/plain": [
       "2"
      ]
     },
     "execution_count": 31,
     "metadata": {},
     "output_type": "execute_result"
    }
   ],
   "source": [
    "a1[1]"
   ]
  },
  {
   "cell_type": "code",
   "execution_count": 32,
   "metadata": {},
   "outputs": [
    {
     "data": {
      "text/plain": [
       "4"
      ]
     },
     "execution_count": 32,
     "metadata": {},
     "output_type": "execute_result"
    }
   ],
   "source": [
    "a1[3]"
   ]
  },
  {
   "cell_type": "code",
   "execution_count": 33,
   "metadata": {},
   "outputs": [
    {
     "ename": "IndexError",
     "evalue": "list index out of range",
     "output_type": "error",
     "traceback": [
      "\u001b[0;31m---------------------------------------------------------------------------\u001b[0m",
      "\u001b[0;31mIndexError\u001b[0m                                Traceback (most recent call last)",
      "Input \u001b[0;32mIn [33]\u001b[0m, in \u001b[0;36m<cell line: 1>\u001b[0;34m()\u001b[0m\n\u001b[0;32m----> 1\u001b[0m \u001b[43ma1\u001b[49m\u001b[43m[\u001b[49m\u001b[38;5;241;43m4\u001b[39;49m\u001b[43m]\u001b[49m\n",
      "\u001b[0;31mIndexError\u001b[0m: list index out of range"
     ]
    }
   ],
   "source": [
    "a1[4] # 오류! 리스트의 범위를 벗어난 경우 "
   ]
  },
  {
   "cell_type": "markdown",
   "metadata": {},
   "source": [
    "리스트는 서로 다른 형식의 자료를 모아놓을 수 있다. "
   ]
  },
  {
   "cell_type": "code",
   "execution_count": 44,
   "metadata": {
    "colab": {
     "base_uri": "https://localhost:8080/"
    },
    "id": "PD0MMDim9NRG",
    "outputId": "7d87ba38-46df-44c2-bfc5-167cb33d5507"
   },
   "outputs": [
    {
     "data": {
      "text/plain": [
       "[1, 'A', 3, True]"
      ]
     },
     "execution_count": 44,
     "metadata": {},
     "output_type": "execute_result"
    }
   ],
   "source": [
    "a1 = [1,\"A\",3, True]\n",
    "a1"
   ]
  },
  {
   "cell_type": "code",
   "execution_count": 45,
   "metadata": {
    "colab": {
     "base_uri": "https://localhost:8080/"
    },
    "id": "_6YBJcdo9pR7",
    "outputId": "ddfa7cd7-64df-42b1-9a30-7f3126d049ae"
   },
   "outputs": [
    {
     "data": {
      "text/plain": [
       "1"
      ]
     },
     "execution_count": 45,
     "metadata": {},
     "output_type": "execute_result"
    }
   ],
   "source": [
    "a1[0]"
   ]
  },
  {
   "cell_type": "code",
   "execution_count": 46,
   "metadata": {},
   "outputs": [
    {
     "data": {
      "text/plain": [
       "'A'"
      ]
     },
     "execution_count": 46,
     "metadata": {},
     "output_type": "execute_result"
    }
   ],
   "source": [
    "a1[1]"
   ]
  },
  {
   "cell_type": "code",
   "execution_count": 47,
   "metadata": {
    "colab": {
     "base_uri": "https://localhost:8080/",
     "height": 162
    },
    "id": "gwdG3NQP9rZ-",
    "outputId": "10973add-a305-4206-cc2d-0d52960d4f12"
   },
   "outputs": [
    {
     "data": {
      "text/plain": [
       "True"
      ]
     },
     "execution_count": 47,
     "metadata": {},
     "output_type": "execute_result"
    }
   ],
   "source": [
    "a1[3]  "
   ]
  },
  {
   "cell_type": "code",
   "execution_count": 48,
   "metadata": {},
   "outputs": [],
   "source": [
    "a2 = [1,2,a1,['A', 'B']]"
   ]
  },
  {
   "cell_type": "code",
   "execution_count": 49,
   "metadata": {},
   "outputs": [
    {
     "data": {
      "text/plain": [
       "[1, 'A', 3, True]"
      ]
     },
     "execution_count": 49,
     "metadata": {},
     "output_type": "execute_result"
    }
   ],
   "source": [
    "a2[2]"
   ]
  },
  {
   "cell_type": "code",
   "execution_count": 50,
   "metadata": {},
   "outputs": [
    {
     "data": {
      "text/plain": [
       "['A', 'B']"
      ]
     },
     "execution_count": 50,
     "metadata": {},
     "output_type": "execute_result"
    }
   ],
   "source": [
    "a2[3]"
   ]
  },
  {
   "cell_type": "markdown",
   "metadata": {},
   "source": [
    "연산자 `in` 를 이용하여 왼쪽에 주어진  객체가  오른쪽의 리스트에 포함된 원소인지 참과 거짓을 구할 수 있다."
   ]
  },
  {
   "cell_type": "code",
   "execution_count": 68,
   "metadata": {},
   "outputs": [],
   "source": [
    "a1 = 1\n",
    "a2 = [2]\n",
    "a3 = [3,4]\n",
    "a3 = [a1, a2, a3]"
   ]
  },
  {
   "cell_type": "code",
   "execution_count": 69,
   "metadata": {},
   "outputs": [
    {
     "data": {
      "text/plain": [
       "[1, [2], [3, 4]]"
      ]
     },
     "execution_count": 69,
     "metadata": {},
     "output_type": "execute_result"
    }
   ],
   "source": [
    "a3"
   ]
  },
  {
   "cell_type": "code",
   "execution_count": 70,
   "metadata": {},
   "outputs": [
    {
     "data": {
      "text/plain": [
       "True"
      ]
     },
     "execution_count": 70,
     "metadata": {},
     "output_type": "execute_result"
    }
   ],
   "source": [
    "1 in a3"
   ]
  },
  {
   "cell_type": "code",
   "execution_count": 71,
   "metadata": {},
   "outputs": [
    {
     "data": {
      "text/plain": [
       "False"
      ]
     },
     "execution_count": 71,
     "metadata": {},
     "output_type": "execute_result"
    }
   ],
   "source": [
    "2 in a3 # 숫자 2는 a3 의 원소가 아니다. "
   ]
  },
  {
   "cell_type": "code",
   "execution_count": 72,
   "metadata": {},
   "outputs": [
    {
     "data": {
      "text/plain": [
       "True"
      ]
     },
     "execution_count": 72,
     "metadata": {},
     "output_type": "execute_result"
    }
   ],
   "source": [
    "[2] in a3 # 하나의 원소 2 호 구성된 리스트는 a3 안에 있다."
   ]
  },
  {
   "cell_type": "code",
   "execution_count": 73,
   "metadata": {},
   "outputs": [
    {
     "data": {
      "text/plain": [
       "False"
      ]
     },
     "execution_count": 73,
     "metadata": {},
     "output_type": "execute_result"
    }
   ],
   "source": [
    "3 in a3"
   ]
  },
  {
   "cell_type": "code",
   "execution_count": 74,
   "metadata": {},
   "outputs": [
    {
     "data": {
      "text/plain": [
       "True"
      ]
     },
     "execution_count": 74,
     "metadata": {},
     "output_type": "execute_result"
    }
   ],
   "source": [
    "[3,4] in a3"
   ]
  },
  {
   "cell_type": "markdown",
   "metadata": {},
   "source": [
    "라이브러이 `numpy` 의 행렬은 같은 형식의 자료만 모아놓을 수 있다."
   ]
  },
  {
   "cell_type": "code",
   "execution_count": 53,
   "metadata": {
    "colab": {
     "base_uri": "https://localhost:8080/"
    },
    "id": "bM49Fn7_UC8s",
    "outputId": "fbc01135-a022-474e-a33f-9d96d8ffdef1"
   },
   "outputs": [
    {
     "data": {
      "text/plain": [
       "array(['1', 'A', '3', 'True'], dtype='<U21')"
      ]
     },
     "execution_count": 53,
     "metadata": {},
     "output_type": "execute_result"
    }
   ],
   "source": [
    "x0 = np.array([1,\"A\",3, True])\n",
    "x0 # 모든 원소가 문자열이 된다."
   ]
  },
  {
   "cell_type": "code",
   "execution_count": 54,
   "metadata": {
    "colab": {
     "base_uri": "https://localhost:8080/"
    },
    "id": "cdO7JbDCn1Oz",
    "outputId": "69651bd3-7f73-43ca-fe3d-fd882fe7a5dd"
   },
   "outputs": [
    {
     "data": {
      "text/plain": [
       "array([1, 2, 3, 4])"
      ]
     },
     "execution_count": 54,
     "metadata": {},
     "output_type": "execute_result"
    }
   ],
   "source": [
    "x1  = np.array([1,2,3,4])\n",
    "x1"
   ]
  },
  {
   "cell_type": "code",
   "execution_count": 55,
   "metadata": {
    "colab": {
     "base_uri": "https://localhost:8080/"
    },
    "id": "1LCD8r5cpITJ",
    "outputId": "aa3c7f81-ed7d-46ba-bdaf-06259e4d65a0"
   },
   "outputs": [
    {
     "data": {
      "text/plain": [
       "1"
      ]
     },
     "execution_count": 55,
     "metadata": {},
     "output_type": "execute_result"
    }
   ],
   "source": [
    "x1[0]"
   ]
  },
  {
   "cell_type": "code",
   "execution_count": 56,
   "metadata": {
    "colab": {
     "base_uri": "https://localhost:8080/"
    },
    "id": "6hndA88EpLh0",
    "outputId": "23a73833-0a80-4026-a706-c4431cf2c892"
   },
   "outputs": [
    {
     "data": {
      "text/plain": [
       "array([1, 2])"
      ]
     },
     "execution_count": 56,
     "metadata": {},
     "output_type": "execute_result"
    }
   ],
   "source": [
    "x1[0:2]"
   ]
  },
  {
   "cell_type": "code",
   "execution_count": 57,
   "metadata": {
    "colab": {
     "base_uri": "https://localhost:8080/"
    },
    "id": "edSySprEnNkN",
    "outputId": "121e08e6-4d3f-461a-fff5-cb64713e6a30"
   },
   "outputs": [
    {
     "data": {
      "text/plain": [
       "array([[1, 2, 3, 4],\n",
       "       [5, 6, 7, 8]])"
      ]
     },
     "execution_count": 57,
     "metadata": {},
     "output_type": "execute_result"
    }
   ],
   "source": [
    "x2 = np.array([[1,2,3,4], [5,6,7,8]])\n",
    "x2"
   ]
  },
  {
   "cell_type": "code",
   "execution_count": 58,
   "metadata": {
    "colab": {
     "base_uri": "https://localhost:8080/"
    },
    "id": "yf1TG7qCpPuv",
    "outputId": "2d5c5933-dd03-40d8-a88f-60008494303b"
   },
   "outputs": [
    {
     "data": {
      "text/plain": [
       "1"
      ]
     },
     "execution_count": 58,
     "metadata": {},
     "output_type": "execute_result"
    }
   ],
   "source": [
    "x2[0,0]"
   ]
  },
  {
   "cell_type": "code",
   "execution_count": 59,
   "metadata": {
    "colab": {
     "base_uri": "https://localhost:8080/"
    },
    "id": "ay2--Pj4pSNp",
    "outputId": "447fc0e9-0567-4ba9-f268-e7f7faf15451"
   },
   "outputs": [
    {
     "data": {
      "text/plain": [
       "array([[1, 2],\n",
       "       [5, 6]])"
      ]
     },
     "execution_count": 59,
     "metadata": {},
     "output_type": "execute_result"
    }
   ],
   "source": [
    "x2[0:2, 0:2]"
   ]
  },
  {
   "cell_type": "code",
   "execution_count": 60,
   "metadata": {
    "colab": {
     "base_uri": "https://localhost:8080/"
    },
    "id": "Ua0TpqkIph0P",
    "outputId": "6037f3ba-b078-458e-b35c-27186422221d"
   },
   "outputs": [
    {
     "data": {
      "text/plain": [
       "array([2, 3])"
      ]
     },
     "execution_count": 60,
     "metadata": {},
     "output_type": "execute_result"
    }
   ],
   "source": [
    "x2[0, 1:3]"
   ]
  },
  {
   "cell_type": "markdown",
   "metadata": {},
   "source": [
    "행렬에서 `reshape` 와 `arange` 를 사용하면 편리하게 다양한 행렬을 쉽게 만들 수 있다."
   ]
  },
  {
   "cell_type": "code",
   "execution_count": 61,
   "metadata": {
    "colab": {
     "base_uri": "https://localhost:8080/"
    },
    "id": "AXhbYQvIoeiZ",
    "outputId": "c07b59c1-6fae-4d88-e18e-8ea7f934a289"
   },
   "outputs": [
    {
     "data": {
      "text/plain": [
       "array([[1, 2, 3, 4, 5, 6, 7, 8]])"
      ]
     },
     "execution_count": 61,
     "metadata": {},
     "output_type": "execute_result"
    }
   ],
   "source": [
    "x3 = np.array([[1,2,3,4,5,6,7,8]])\n",
    "x3"
   ]
  },
  {
   "cell_type": "code",
   "execution_count": 62,
   "metadata": {
    "colab": {
     "base_uri": "https://localhost:8080/"
    },
    "id": "aA_g7KFdpAUc",
    "outputId": "c120a12d-9b56-4792-ccb2-4d4431a57ff7"
   },
   "outputs": [
    {
     "data": {
      "text/plain": [
       "array([[1, 2],\n",
       "       [3, 4],\n",
       "       [5, 6],\n",
       "       [7, 8]])"
      ]
     },
     "execution_count": 62,
     "metadata": {},
     "output_type": "execute_result"
    }
   ],
   "source": [
    "x3.reshape(4,2)"
   ]
  },
  {
   "cell_type": "code",
   "execution_count": 77,
   "metadata": {},
   "outputs": [
    {
     "data": {
      "text/plain": [
       "array([0, 1, 2, 3, 4, 5, 6, 7, 8, 9])"
      ]
     },
     "execution_count": 77,
     "metadata": {},
     "output_type": "execute_result"
    }
   ],
   "source": [
    "y = np.arange(10)\n",
    "y"
   ]
  },
  {
   "cell_type": "code",
   "execution_count": 84,
   "metadata": {},
   "outputs": [
    {
     "data": {
      "text/plain": [
       "array([1, 2, 3, 4, 5, 6, 7, 8, 9])"
      ]
     },
     "execution_count": 84,
     "metadata": {},
     "output_type": "execute_result"
    }
   ],
   "source": [
    "a= np.arange(1,10)\n",
    "a"
   ]
  },
  {
   "cell_type": "code",
   "execution_count": 85,
   "metadata": {},
   "outputs": [
    {
     "data": {
      "text/plain": [
       "array([1, 3, 5, 7, 9])"
      ]
     },
     "execution_count": 85,
     "metadata": {},
     "output_type": "execute_result"
    }
   ],
   "source": [
    "a= np.arange(1,10,2)\n",
    "a"
   ]
  },
  {
   "cell_type": "code",
   "execution_count": 82,
   "metadata": {},
   "outputs": [
    {
     "data": {
      "text/plain": [
       "array([1, 4, 7])"
      ]
     },
     "execution_count": 82,
     "metadata": {},
     "output_type": "execute_result"
    }
   ],
   "source": [
    "a= np.arange(1,10,3)\n",
    "a"
   ]
  },
  {
   "cell_type": "code",
   "execution_count": 83,
   "metadata": {},
   "outputs": [
    {
     "data": {
      "text/plain": [
       "array([ 1,  4,  7, 10])"
      ]
     },
     "execution_count": 83,
     "metadata": {},
     "output_type": "execute_result"
    }
   ],
   "source": [
    "a= np.arange(1,11,3) \n",
    "a"
   ]
  },
  {
   "cell_type": "code",
   "execution_count": 86,
   "metadata": {},
   "outputs": [
    {
     "data": {
      "text/plain": [
       "array([[0, 1, 2, 3, 4],\n",
       "       [5, 6, 7, 8, 9]])"
      ]
     },
     "execution_count": 86,
     "metadata": {},
     "output_type": "execute_result"
    }
   ],
   "source": [
    "y = np.arange(10)\n",
    "y.reshape(2,5)"
   ]
  },
  {
   "cell_type": "code",
   "execution_count": 88,
   "metadata": {},
   "outputs": [
    {
     "data": {
      "text/plain": [
       "array([[0, 1],\n",
       "       [2, 3],\n",
       "       [4, 5],\n",
       "       [6, 7],\n",
       "       [8, 9]])"
      ]
     },
     "execution_count": 88,
     "metadata": {},
     "output_type": "execute_result"
    }
   ],
   "source": [
    "y.reshape(5,2)"
   ]
  },
  {
   "cell_type": "code",
   "execution_count": 87,
   "metadata": {},
   "outputs": [
    {
     "data": {
      "text/plain": [
       "array([[0, 1, 2, 3, 4],\n",
       "       [5, 6, 7, 8, 9]])"
      ]
     },
     "execution_count": 87,
     "metadata": {},
     "output_type": "execute_result"
    }
   ],
   "source": [
    "y2 = np.arange(10).reshape(2,5) # 위의 두 표현식을 하나의 문장으로 구성할 수 있다.\n",
    "y2"
   ]
  },
  {
   "cell_type": "markdown",
   "metadata": {
    "id": "nw6RTHrU0rq_"
   },
   "source": [
    "### 데이터프레임\n",
    "\n",
    "- 데이터프레임를 만드는 방법\n",
    "- 데이터프레임의 열(들)을 선택하는 방법\n",
    "- 데이터프레임을 조건으로 슬라이싱(slicing) 또는 부분 선택(subset) 하는 방법\n",
    "  + 비교연산자 `<`, `<=`, `>`, `>=`, `!=`, `==` 을 사용한다.\n",
    "  + 두 개 이상의 비교 표현식을 연결할 경우 또는(OR) 은 `|`을 사용하고 그리고(AND) 는 `&` 를 사용한다.\n",
    "  + 비교 표현식을 연결할 경우 각 비교식은 언제나 괄호 `()` 로 묶어준다.\n",
    " \n",
    "  + 라벨(label, 이름)에 기반한 인덱스\n",
    "\n",
    "    + 데이타프레임의 열이름(column name)으로 지칭하거나 또는 행을 조건식을 이용한 True, False 로 선택할 때 사용한다.\n",
    "\n",
    "    + 행과 열을 모두 슬라이싱 하는 경우 `.loc[]`을 사용한다. 열만 슬라이싱하는 경우도 `.loc[]` 사용 가능 \n",
    "\n",
    "  + 위치(integer position)에 기반한 인덱스\n",
    "\n",
    "    + 행과 열 순서의 위치를 나타내는 정수를 사용하여 슬라이싱한다.\n",
    "\n",
    "    + 모든 위치는 0으로 시작한다.\n",
    "\n",
    "    + `.iloc[]` 을 사용한다.  \n",
    "\n",
    "- 정렬하는 방법: `df.sort_values()` \n",
    "- 열이름 바꾸는 방법: `df.rename()`\n",
    "- 새로운 열의 생성\n",
    "- 열과 행의 요약 (예: `df.sum(axis=0)`, `df.sum(axis=0)`)  \n",
    "- 숫자 열의 요약 통계 : `df.describe()`\n",
    "- 데이터프레임의 그룹화 \n",
    "- 데이터프레임의 결합\n",
    "\n",
    "  ```\n",
    "  pd.merge(left_df, right_df, on=\"name\", how=\"inner\")\n",
    "  ```\n",
    "  + 이제 두 개의 데이터 프레임을 결합할 때 식별자를 선택하는 방법을 요약해 보자.\n",
    "\n",
    "    + `how='left'` : 식별자는 왼쪽 데이터프레임에만 있는 것으로 선택\n",
    "    + `how='right'` : 식별자는 오른쪽 데이터프레임에만 있는 것으로 선택\n",
    "    + `how='inner'` : 식별자는 두 데이터프레임에 공통인 것으로 선택\n",
    "    + `how='outer'` : 식별자는 두 데이터프레임에 나타난 모든 것으로 선택\n",
    "\n",
    "  식별자를 선택하는 선택명령문 `how=` 을 지정하지 않으면 디폴트는 방법은 `how='inner` 이다.\n",
    "\n",
    "\n"
   ]
  },
  {
   "cell_type": "code",
   "execution_count": 89,
   "metadata": {
    "id": "-cu9zbbWpDCH"
   },
   "outputs": [],
   "source": [
    "df = pd.DataFrame(\n",
    "    { 'name' : ['이철수', '김영희', '홍길동', 'John Smith', 'Mary Doe'],\n",
    "      'sex'  : ['M', 'F', 'M', 'M', 'F'],\n",
    "      'age'  : [ 23, 25, 21, 33, 45],\n",
    "      'height' : [153.5, 175.3, 163.4, 180.0, 165.7]\n",
    "    } )"
   ]
  },
  {
   "cell_type": "code",
   "execution_count": 90,
   "metadata": {
    "colab": {
     "base_uri": "https://localhost:8080/",
     "height": 203
    },
    "id": "kw5i_gopL7G1",
    "outputId": "ef78e8c8-e7ed-4672-8fd9-b625e9436e39"
   },
   "outputs": [
    {
     "data": {
      "text/html": [
       "<div>\n",
       "<style scoped>\n",
       "    .dataframe tbody tr th:only-of-type {\n",
       "        vertical-align: middle;\n",
       "    }\n",
       "\n",
       "    .dataframe tbody tr th {\n",
       "        vertical-align: top;\n",
       "    }\n",
       "\n",
       "    .dataframe thead th {\n",
       "        text-align: right;\n",
       "    }\n",
       "</style>\n",
       "<table border=\"1\" class=\"dataframe\">\n",
       "  <thead>\n",
       "    <tr style=\"text-align: right;\">\n",
       "      <th></th>\n",
       "      <th>name</th>\n",
       "      <th>sex</th>\n",
       "      <th>age</th>\n",
       "      <th>height</th>\n",
       "    </tr>\n",
       "  </thead>\n",
       "  <tbody>\n",
       "    <tr>\n",
       "      <th>0</th>\n",
       "      <td>이철수</td>\n",
       "      <td>M</td>\n",
       "      <td>23</td>\n",
       "      <td>153.5</td>\n",
       "    </tr>\n",
       "    <tr>\n",
       "      <th>1</th>\n",
       "      <td>김영희</td>\n",
       "      <td>F</td>\n",
       "      <td>25</td>\n",
       "      <td>175.3</td>\n",
       "    </tr>\n",
       "    <tr>\n",
       "      <th>2</th>\n",
       "      <td>홍길동</td>\n",
       "      <td>M</td>\n",
       "      <td>21</td>\n",
       "      <td>163.4</td>\n",
       "    </tr>\n",
       "    <tr>\n",
       "      <th>3</th>\n",
       "      <td>John Smith</td>\n",
       "      <td>M</td>\n",
       "      <td>33</td>\n",
       "      <td>180.0</td>\n",
       "    </tr>\n",
       "    <tr>\n",
       "      <th>4</th>\n",
       "      <td>Mary Doe</td>\n",
       "      <td>F</td>\n",
       "      <td>45</td>\n",
       "      <td>165.7</td>\n",
       "    </tr>\n",
       "  </tbody>\n",
       "</table>\n",
       "</div>"
      ],
      "text/plain": [
       "         name sex  age  height\n",
       "0         이철수   M   23   153.5\n",
       "1         김영희   F   25   175.3\n",
       "2         홍길동   M   21   163.4\n",
       "3  John Smith   M   33   180.0\n",
       "4    Mary Doe   F   45   165.7"
      ]
     },
     "execution_count": 90,
     "metadata": {},
     "output_type": "execute_result"
    }
   ],
   "source": [
    "df"
   ]
  },
  {
   "cell_type": "code",
   "execution_count": 91,
   "metadata": {
    "colab": {
     "base_uri": "https://localhost:8080/"
    },
    "id": "Cy0GYIpc1ojk",
    "outputId": "d0c55bc4-d0e1-40ca-8081-5d47b38adb69"
   },
   "outputs": [
    {
     "data": {
      "text/plain": [
       "0           이철수\n",
       "1           김영희\n",
       "2           홍길동\n",
       "3    John Smith\n",
       "4      Mary Doe\n",
       "Name: name, dtype: object"
      ]
     },
     "execution_count": 91,
     "metadata": {},
     "output_type": "execute_result"
    }
   ],
   "source": [
    "df.name"
   ]
  },
  {
   "cell_type": "code",
   "execution_count": 92,
   "metadata": {
    "colab": {
     "base_uri": "https://localhost:8080/"
    },
    "id": "I9Sq-5cT1hqn",
    "outputId": "ea7171a7-47b9-4396-fae2-09c6212cf24f"
   },
   "outputs": [
    {
     "data": {
      "text/plain": [
       "0           이철수\n",
       "1           김영희\n",
       "2           홍길동\n",
       "3    John Smith\n",
       "4      Mary Doe\n",
       "Name: name, dtype: object"
      ]
     },
     "execution_count": 92,
     "metadata": {},
     "output_type": "execute_result"
    }
   ],
   "source": [
    "df['name'] # 결과는 시리즈(series)"
   ]
  },
  {
   "cell_type": "code",
   "execution_count": 93,
   "metadata": {
    "colab": {
     "base_uri": "https://localhost:8080/",
     "height": 203
    },
    "id": "wdtIVRwF5cha",
    "outputId": "1914622d-5fce-458d-9a0d-61a6b042090b"
   },
   "outputs": [
    {
     "data": {
      "text/html": [
       "<div>\n",
       "<style scoped>\n",
       "    .dataframe tbody tr th:only-of-type {\n",
       "        vertical-align: middle;\n",
       "    }\n",
       "\n",
       "    .dataframe tbody tr th {\n",
       "        vertical-align: top;\n",
       "    }\n",
       "\n",
       "    .dataframe thead th {\n",
       "        text-align: right;\n",
       "    }\n",
       "</style>\n",
       "<table border=\"1\" class=\"dataframe\">\n",
       "  <thead>\n",
       "    <tr style=\"text-align: right;\">\n",
       "      <th></th>\n",
       "      <th>name</th>\n",
       "    </tr>\n",
       "  </thead>\n",
       "  <tbody>\n",
       "    <tr>\n",
       "      <th>0</th>\n",
       "      <td>이철수</td>\n",
       "    </tr>\n",
       "    <tr>\n",
       "      <th>1</th>\n",
       "      <td>김영희</td>\n",
       "    </tr>\n",
       "    <tr>\n",
       "      <th>2</th>\n",
       "      <td>홍길동</td>\n",
       "    </tr>\n",
       "    <tr>\n",
       "      <th>3</th>\n",
       "      <td>John Smith</td>\n",
       "    </tr>\n",
       "    <tr>\n",
       "      <th>4</th>\n",
       "      <td>Mary Doe</td>\n",
       "    </tr>\n",
       "  </tbody>\n",
       "</table>\n",
       "</div>"
      ],
      "text/plain": [
       "         name\n",
       "0         이철수\n",
       "1         김영희\n",
       "2         홍길동\n",
       "3  John Smith\n",
       "4    Mary Doe"
      ]
     },
     "execution_count": 93,
     "metadata": {},
     "output_type": "execute_result"
    }
   ],
   "source": [
    "df[['name']] # 결과는 데이터프레임(dataframe)"
   ]
  },
  {
   "cell_type": "code",
   "execution_count": 94,
   "metadata": {
    "colab": {
     "base_uri": "https://localhost:8080/",
     "height": 203
    },
    "id": "iwKGKEKdLEtU",
    "outputId": "cdafea7d-c297-4e83-a632-c4d05f0d1f14"
   },
   "outputs": [
    {
     "data": {
      "text/html": [
       "<div>\n",
       "<style scoped>\n",
       "    .dataframe tbody tr th:only-of-type {\n",
       "        vertical-align: middle;\n",
       "    }\n",
       "\n",
       "    .dataframe tbody tr th {\n",
       "        vertical-align: top;\n",
       "    }\n",
       "\n",
       "    .dataframe thead th {\n",
       "        text-align: right;\n",
       "    }\n",
       "</style>\n",
       "<table border=\"1\" class=\"dataframe\">\n",
       "  <thead>\n",
       "    <tr style=\"text-align: right;\">\n",
       "      <th></th>\n",
       "      <th>name</th>\n",
       "      <th>height</th>\n",
       "    </tr>\n",
       "  </thead>\n",
       "  <tbody>\n",
       "    <tr>\n",
       "      <th>0</th>\n",
       "      <td>이철수</td>\n",
       "      <td>153.5</td>\n",
       "    </tr>\n",
       "    <tr>\n",
       "      <th>1</th>\n",
       "      <td>김영희</td>\n",
       "      <td>175.3</td>\n",
       "    </tr>\n",
       "    <tr>\n",
       "      <th>2</th>\n",
       "      <td>홍길동</td>\n",
       "      <td>163.4</td>\n",
       "    </tr>\n",
       "    <tr>\n",
       "      <th>3</th>\n",
       "      <td>John Smith</td>\n",
       "      <td>180.0</td>\n",
       "    </tr>\n",
       "    <tr>\n",
       "      <th>4</th>\n",
       "      <td>Mary Doe</td>\n",
       "      <td>165.7</td>\n",
       "    </tr>\n",
       "  </tbody>\n",
       "</table>\n",
       "</div>"
      ],
      "text/plain": [
       "         name  height\n",
       "0         이철수   153.5\n",
       "1         김영희   175.3\n",
       "2         홍길동   163.4\n",
       "3  John Smith   180.0\n",
       "4    Mary Doe   165.7"
      ]
     },
     "execution_count": 94,
     "metadata": {},
     "output_type": "execute_result"
    }
   ],
   "source": [
    "df[['name', 'height']]"
   ]
  },
  {
   "cell_type": "code",
   "execution_count": 95,
   "metadata": {
    "colab": {
     "base_uri": "https://localhost:8080/",
     "height": 142
    },
    "id": "1Qz2BhIlLMx7",
    "outputId": "6883846e-7633-4baa-94be-5c542f82ab78"
   },
   "outputs": [
    {
     "data": {
      "text/html": [
       "<div>\n",
       "<style scoped>\n",
       "    .dataframe tbody tr th:only-of-type {\n",
       "        vertical-align: middle;\n",
       "    }\n",
       "\n",
       "    .dataframe tbody tr th {\n",
       "        vertical-align: top;\n",
       "    }\n",
       "\n",
       "    .dataframe thead th {\n",
       "        text-align: right;\n",
       "    }\n",
       "</style>\n",
       "<table border=\"1\" class=\"dataframe\">\n",
       "  <thead>\n",
       "    <tr style=\"text-align: right;\">\n",
       "      <th></th>\n",
       "      <th>name</th>\n",
       "      <th>sex</th>\n",
       "      <th>age</th>\n",
       "      <th>height</th>\n",
       "    </tr>\n",
       "  </thead>\n",
       "  <tbody>\n",
       "    <tr>\n",
       "      <th>0</th>\n",
       "      <td>이철수</td>\n",
       "      <td>M</td>\n",
       "      <td>23</td>\n",
       "      <td>153.5</td>\n",
       "    </tr>\n",
       "    <tr>\n",
       "      <th>2</th>\n",
       "      <td>홍길동</td>\n",
       "      <td>M</td>\n",
       "      <td>21</td>\n",
       "      <td>163.4</td>\n",
       "    </tr>\n",
       "    <tr>\n",
       "      <th>3</th>\n",
       "      <td>John Smith</td>\n",
       "      <td>M</td>\n",
       "      <td>33</td>\n",
       "      <td>180.0</td>\n",
       "    </tr>\n",
       "  </tbody>\n",
       "</table>\n",
       "</div>"
      ],
      "text/plain": [
       "         name sex  age  height\n",
       "0         이철수   M   23   153.5\n",
       "2         홍길동   M   21   163.4\n",
       "3  John Smith   M   33   180.0"
      ]
     },
     "execution_count": 95,
     "metadata": {},
     "output_type": "execute_result"
    }
   ],
   "source": [
    "df[df['sex'] == 'M']"
   ]
  },
  {
   "cell_type": "code",
   "execution_count": 96,
   "metadata": {
    "colab": {
     "base_uri": "https://localhost:8080/",
     "height": 142
    },
    "id": "GiuQXKFe_3tR",
    "outputId": "455b99f1-233d-41f5-b051-129f185d9c7f"
   },
   "outputs": [
    {
     "data": {
      "text/html": [
       "<div>\n",
       "<style scoped>\n",
       "    .dataframe tbody tr th:only-of-type {\n",
       "        vertical-align: middle;\n",
       "    }\n",
       "\n",
       "    .dataframe tbody tr th {\n",
       "        vertical-align: top;\n",
       "    }\n",
       "\n",
       "    .dataframe thead th {\n",
       "        text-align: right;\n",
       "    }\n",
       "</style>\n",
       "<table border=\"1\" class=\"dataframe\">\n",
       "  <thead>\n",
       "    <tr style=\"text-align: right;\">\n",
       "      <th></th>\n",
       "      <th>name</th>\n",
       "      <th>sex</th>\n",
       "      <th>age</th>\n",
       "      <th>height</th>\n",
       "    </tr>\n",
       "  </thead>\n",
       "  <tbody>\n",
       "    <tr>\n",
       "      <th>0</th>\n",
       "      <td>이철수</td>\n",
       "      <td>M</td>\n",
       "      <td>23</td>\n",
       "      <td>153.5</td>\n",
       "    </tr>\n",
       "    <tr>\n",
       "      <th>2</th>\n",
       "      <td>홍길동</td>\n",
       "      <td>M</td>\n",
       "      <td>21</td>\n",
       "      <td>163.4</td>\n",
       "    </tr>\n",
       "    <tr>\n",
       "      <th>3</th>\n",
       "      <td>John Smith</td>\n",
       "      <td>M</td>\n",
       "      <td>33</td>\n",
       "      <td>180.0</td>\n",
       "    </tr>\n",
       "  </tbody>\n",
       "</table>\n",
       "</div>"
      ],
      "text/plain": [
       "         name sex  age  height\n",
       "0         이철수   M   23   153.5\n",
       "2         홍길동   M   21   163.4\n",
       "3  John Smith   M   33   180.0"
      ]
     },
     "execution_count": 96,
     "metadata": {},
     "output_type": "execute_result"
    }
   ],
   "source": [
    "df.loc[df['sex'] == 'M']  # df[df['sex'] == 'M'] 와 동일한 결과"
   ]
  },
  {
   "cell_type": "code",
   "execution_count": 97,
   "metadata": {
    "colab": {
     "base_uri": "https://localhost:8080/",
     "height": 172
    },
    "id": "fyChbyP7LYvQ",
    "outputId": "14148fb9-0eb4-465b-fbc9-6e6fe93d9270"
   },
   "outputs": [
    {
     "data": {
      "text/html": [
       "<div>\n",
       "<style scoped>\n",
       "    .dataframe tbody tr th:only-of-type {\n",
       "        vertical-align: middle;\n",
       "    }\n",
       "\n",
       "    .dataframe tbody tr th {\n",
       "        vertical-align: top;\n",
       "    }\n",
       "\n",
       "    .dataframe thead th {\n",
       "        text-align: right;\n",
       "    }\n",
       "</style>\n",
       "<table border=\"1\" class=\"dataframe\">\n",
       "  <thead>\n",
       "    <tr style=\"text-align: right;\">\n",
       "      <th></th>\n",
       "      <th>name</th>\n",
       "      <th>sex</th>\n",
       "      <th>age</th>\n",
       "      <th>height</th>\n",
       "    </tr>\n",
       "  </thead>\n",
       "  <tbody>\n",
       "    <tr>\n",
       "      <th>1</th>\n",
       "      <td>김영희</td>\n",
       "      <td>F</td>\n",
       "      <td>25</td>\n",
       "      <td>175.3</td>\n",
       "    </tr>\n",
       "    <tr>\n",
       "      <th>2</th>\n",
       "      <td>홍길동</td>\n",
       "      <td>M</td>\n",
       "      <td>21</td>\n",
       "      <td>163.4</td>\n",
       "    </tr>\n",
       "    <tr>\n",
       "      <th>3</th>\n",
       "      <td>John Smith</td>\n",
       "      <td>M</td>\n",
       "      <td>33</td>\n",
       "      <td>180.0</td>\n",
       "    </tr>\n",
       "    <tr>\n",
       "      <th>4</th>\n",
       "      <td>Mary Doe</td>\n",
       "      <td>F</td>\n",
       "      <td>45</td>\n",
       "      <td>165.7</td>\n",
       "    </tr>\n",
       "  </tbody>\n",
       "</table>\n",
       "</div>"
      ],
      "text/plain": [
       "         name sex  age  height\n",
       "1         김영희   F   25   175.3\n",
       "2         홍길동   M   21   163.4\n",
       "3  John Smith   M   33   180.0\n",
       "4    Mary Doe   F   45   165.7"
      ]
     },
     "execution_count": 97,
     "metadata": {},
     "output_type": "execute_result"
    }
   ],
   "source": [
    "df.loc[df['height'] >= 160.0]"
   ]
  },
  {
   "cell_type": "code",
   "execution_count": 98,
   "metadata": {
    "colab": {
     "base_uri": "https://localhost:8080/",
     "height": 172
    },
    "id": "BUJbenI8Lgfe",
    "outputId": "f654238e-63aa-4e6f-d1b5-bd7cf25e1365"
   },
   "outputs": [
    {
     "data": {
      "text/html": [
       "<div>\n",
       "<style scoped>\n",
       "    .dataframe tbody tr th:only-of-type {\n",
       "        vertical-align: middle;\n",
       "    }\n",
       "\n",
       "    .dataframe tbody tr th {\n",
       "        vertical-align: top;\n",
       "    }\n",
       "\n",
       "    .dataframe thead th {\n",
       "        text-align: right;\n",
       "    }\n",
       "</style>\n",
       "<table border=\"1\" class=\"dataframe\">\n",
       "  <thead>\n",
       "    <tr style=\"text-align: right;\">\n",
       "      <th></th>\n",
       "      <th>name</th>\n",
       "      <th>height</th>\n",
       "    </tr>\n",
       "  </thead>\n",
       "  <tbody>\n",
       "    <tr>\n",
       "      <th>1</th>\n",
       "      <td>김영희</td>\n",
       "      <td>175.3</td>\n",
       "    </tr>\n",
       "    <tr>\n",
       "      <th>2</th>\n",
       "      <td>홍길동</td>\n",
       "      <td>163.4</td>\n",
       "    </tr>\n",
       "    <tr>\n",
       "      <th>3</th>\n",
       "      <td>John Smith</td>\n",
       "      <td>180.0</td>\n",
       "    </tr>\n",
       "    <tr>\n",
       "      <th>4</th>\n",
       "      <td>Mary Doe</td>\n",
       "      <td>165.7</td>\n",
       "    </tr>\n",
       "  </tbody>\n",
       "</table>\n",
       "</div>"
      ],
      "text/plain": [
       "         name  height\n",
       "1         김영희   175.3\n",
       "2         홍길동   163.4\n",
       "3  John Smith   180.0\n",
       "4    Mary Doe   165.7"
      ]
     },
     "execution_count": 98,
     "metadata": {},
     "output_type": "execute_result"
    }
   ],
   "source": [
    "df.loc[df['height'] >= 160.0, ['name', 'height']]"
   ]
  },
  {
   "cell_type": "code",
   "execution_count": 99,
   "metadata": {
    "colab": {
     "base_uri": "https://localhost:8080/",
     "height": 110
    },
    "id": "zJ5YeXe4Ln-q",
    "outputId": "fc200b94-904e-44f0-90a1-48f72f1c09c0"
   },
   "outputs": [
    {
     "data": {
      "text/html": [
       "<div>\n",
       "<style scoped>\n",
       "    .dataframe tbody tr th:only-of-type {\n",
       "        vertical-align: middle;\n",
       "    }\n",
       "\n",
       "    .dataframe tbody tr th {\n",
       "        vertical-align: top;\n",
       "    }\n",
       "\n",
       "    .dataframe thead th {\n",
       "        text-align: right;\n",
       "    }\n",
       "</style>\n",
       "<table border=\"1\" class=\"dataframe\">\n",
       "  <thead>\n",
       "    <tr style=\"text-align: right;\">\n",
       "      <th></th>\n",
       "      <th>name</th>\n",
       "      <th>sex</th>\n",
       "      <th>age</th>\n",
       "      <th>height</th>\n",
       "    </tr>\n",
       "  </thead>\n",
       "  <tbody>\n",
       "    <tr>\n",
       "      <th>2</th>\n",
       "      <td>홍길동</td>\n",
       "      <td>M</td>\n",
       "      <td>21</td>\n",
       "      <td>163.4</td>\n",
       "    </tr>\n",
       "    <tr>\n",
       "      <th>3</th>\n",
       "      <td>John Smith</td>\n",
       "      <td>M</td>\n",
       "      <td>33</td>\n",
       "      <td>180.0</td>\n",
       "    </tr>\n",
       "  </tbody>\n",
       "</table>\n",
       "</div>"
      ],
      "text/plain": [
       "         name sex  age  height\n",
       "2         홍길동   M   21   163.4\n",
       "3  John Smith   M   33   180.0"
      ]
     },
     "execution_count": 99,
     "metadata": {},
     "output_type": "execute_result"
    }
   ],
   "source": [
    "df[ (df['sex'] == 'M') & (df['height'] >= 160.0) ]"
   ]
  },
  {
   "cell_type": "code",
   "execution_count": 100,
   "metadata": {
    "colab": {
     "base_uri": "https://localhost:8080/",
     "height": 203
    },
    "id": "hrC1fTcLLz-d",
    "outputId": "8ebe25fe-ff21-4d09-87e3-b91558a7dec7"
   },
   "outputs": [
    {
     "data": {
      "text/html": [
       "<div>\n",
       "<style scoped>\n",
       "    .dataframe tbody tr th:only-of-type {\n",
       "        vertical-align: middle;\n",
       "    }\n",
       "\n",
       "    .dataframe tbody tr th {\n",
       "        vertical-align: top;\n",
       "    }\n",
       "\n",
       "    .dataframe thead th {\n",
       "        text-align: right;\n",
       "    }\n",
       "</style>\n",
       "<table border=\"1\" class=\"dataframe\">\n",
       "  <thead>\n",
       "    <tr style=\"text-align: right;\">\n",
       "      <th></th>\n",
       "      <th>name</th>\n",
       "      <th>sex</th>\n",
       "      <th>age</th>\n",
       "      <th>height</th>\n",
       "    </tr>\n",
       "  </thead>\n",
       "  <tbody>\n",
       "    <tr>\n",
       "      <th>0</th>\n",
       "      <td>이철수</td>\n",
       "      <td>M</td>\n",
       "      <td>23</td>\n",
       "      <td>153.5</td>\n",
       "    </tr>\n",
       "    <tr>\n",
       "      <th>1</th>\n",
       "      <td>김영희</td>\n",
       "      <td>F</td>\n",
       "      <td>25</td>\n",
       "      <td>175.3</td>\n",
       "    </tr>\n",
       "    <tr>\n",
       "      <th>2</th>\n",
       "      <td>홍길동</td>\n",
       "      <td>M</td>\n",
       "      <td>21</td>\n",
       "      <td>163.4</td>\n",
       "    </tr>\n",
       "    <tr>\n",
       "      <th>3</th>\n",
       "      <td>John Smith</td>\n",
       "      <td>M</td>\n",
       "      <td>33</td>\n",
       "      <td>180.0</td>\n",
       "    </tr>\n",
       "    <tr>\n",
       "      <th>4</th>\n",
       "      <td>Mary Doe</td>\n",
       "      <td>F</td>\n",
       "      <td>45</td>\n",
       "      <td>165.7</td>\n",
       "    </tr>\n",
       "  </tbody>\n",
       "</table>\n",
       "</div>"
      ],
      "text/plain": [
       "         name sex  age  height\n",
       "0         이철수   M   23   153.5\n",
       "1         김영희   F   25   175.3\n",
       "2         홍길동   M   21   163.4\n",
       "3  John Smith   M   33   180.0\n",
       "4    Mary Doe   F   45   165.7"
      ]
     },
     "execution_count": 100,
     "metadata": {},
     "output_type": "execute_result"
    }
   ],
   "source": [
    "df.loc[ (df['age'] < 25 ) | (df['height'] >= 160.0) ]"
   ]
  },
  {
   "cell_type": "code",
   "execution_count": 101,
   "metadata": {
    "colab": {
     "base_uri": "https://localhost:8080/",
     "height": 35
    },
    "id": "f1ShPJGAL2wh",
    "outputId": "9a2a30aa-1618-4de4-fb55-cbeff73f2cf8"
   },
   "outputs": [
    {
     "data": {
      "text/plain": [
       "'이철수'"
      ]
     },
     "execution_count": 101,
     "metadata": {},
     "output_type": "execute_result"
    }
   ],
   "source": [
    "df.iloc[0,0]"
   ]
  },
  {
   "cell_type": "code",
   "execution_count": 102,
   "metadata": {
    "colab": {
     "base_uri": "https://localhost:8080/",
     "height": 110
    },
    "id": "E33xYtMQNVXN",
    "outputId": "00d93579-2ceb-4353-c47e-6d6d8969ae2d"
   },
   "outputs": [
    {
     "data": {
      "text/html": [
       "<div>\n",
       "<style scoped>\n",
       "    .dataframe tbody tr th:only-of-type {\n",
       "        vertical-align: middle;\n",
       "    }\n",
       "\n",
       "    .dataframe tbody tr th {\n",
       "        vertical-align: top;\n",
       "    }\n",
       "\n",
       "    .dataframe thead th {\n",
       "        text-align: right;\n",
       "    }\n",
       "</style>\n",
       "<table border=\"1\" class=\"dataframe\">\n",
       "  <thead>\n",
       "    <tr style=\"text-align: right;\">\n",
       "      <th></th>\n",
       "      <th>name</th>\n",
       "      <th>sex</th>\n",
       "      <th>age</th>\n",
       "      <th>height</th>\n",
       "    </tr>\n",
       "  </thead>\n",
       "  <tbody>\n",
       "    <tr>\n",
       "      <th>0</th>\n",
       "      <td>이철수</td>\n",
       "      <td>M</td>\n",
       "      <td>23</td>\n",
       "      <td>153.5</td>\n",
       "    </tr>\n",
       "    <tr>\n",
       "      <th>1</th>\n",
       "      <td>김영희</td>\n",
       "      <td>F</td>\n",
       "      <td>25</td>\n",
       "      <td>175.3</td>\n",
       "    </tr>\n",
       "  </tbody>\n",
       "</table>\n",
       "</div>"
      ],
      "text/plain": [
       "  name sex  age  height\n",
       "0  이철수   M   23   153.5\n",
       "1  김영희   F   25   175.3"
      ]
     },
     "execution_count": 102,
     "metadata": {},
     "output_type": "execute_result"
    }
   ],
   "source": [
    "df.iloc[0:2, 0:4]"
   ]
  },
  {
   "cell_type": "code",
   "execution_count": 103,
   "metadata": {
    "colab": {
     "base_uri": "https://localhost:8080/",
     "height": 203
    },
    "id": "GGG27dbbNaD8",
    "outputId": "41066bf5-0f77-4542-b40a-00c2bfaf8cc4"
   },
   "outputs": [
    {
     "data": {
      "text/html": [
       "<div>\n",
       "<style scoped>\n",
       "    .dataframe tbody tr th:only-of-type {\n",
       "        vertical-align: middle;\n",
       "    }\n",
       "\n",
       "    .dataframe tbody tr th {\n",
       "        vertical-align: top;\n",
       "    }\n",
       "\n",
       "    .dataframe thead th {\n",
       "        text-align: right;\n",
       "    }\n",
       "</style>\n",
       "<table border=\"1\" class=\"dataframe\">\n",
       "  <thead>\n",
       "    <tr style=\"text-align: right;\">\n",
       "      <th></th>\n",
       "      <th>name</th>\n",
       "      <th>sex</th>\n",
       "      <th>age</th>\n",
       "      <th>height</th>\n",
       "    </tr>\n",
       "  </thead>\n",
       "  <tbody>\n",
       "    <tr>\n",
       "      <th>2</th>\n",
       "      <td>홍길동</td>\n",
       "      <td>M</td>\n",
       "      <td>21</td>\n",
       "      <td>163.4</td>\n",
       "    </tr>\n",
       "    <tr>\n",
       "      <th>0</th>\n",
       "      <td>이철수</td>\n",
       "      <td>M</td>\n",
       "      <td>23</td>\n",
       "      <td>153.5</td>\n",
       "    </tr>\n",
       "    <tr>\n",
       "      <th>1</th>\n",
       "      <td>김영희</td>\n",
       "      <td>F</td>\n",
       "      <td>25</td>\n",
       "      <td>175.3</td>\n",
       "    </tr>\n",
       "    <tr>\n",
       "      <th>3</th>\n",
       "      <td>John Smith</td>\n",
       "      <td>M</td>\n",
       "      <td>33</td>\n",
       "      <td>180.0</td>\n",
       "    </tr>\n",
       "    <tr>\n",
       "      <th>4</th>\n",
       "      <td>Mary Doe</td>\n",
       "      <td>F</td>\n",
       "      <td>45</td>\n",
       "      <td>165.7</td>\n",
       "    </tr>\n",
       "  </tbody>\n",
       "</table>\n",
       "</div>"
      ],
      "text/plain": [
       "         name sex  age  height\n",
       "2         홍길동   M   21   163.4\n",
       "0         이철수   M   23   153.5\n",
       "1         김영희   F   25   175.3\n",
       "3  John Smith   M   33   180.0\n",
       "4    Mary Doe   F   45   165.7"
      ]
     },
     "execution_count": 103,
     "metadata": {},
     "output_type": "execute_result"
    }
   ],
   "source": [
    "df.sort_values(by ='age', ascending= True)"
   ]
  },
  {
   "cell_type": "code",
   "execution_count": 104,
   "metadata": {
    "colab": {
     "base_uri": "https://localhost:8080/",
     "height": 203
    },
    "id": "RupxC9OIOPm8",
    "outputId": "29e57ad6-d6e4-44cf-d4a7-1bee656191e4"
   },
   "outputs": [
    {
     "data": {
      "text/html": [
       "<div>\n",
       "<style scoped>\n",
       "    .dataframe tbody tr th:only-of-type {\n",
       "        vertical-align: middle;\n",
       "    }\n",
       "\n",
       "    .dataframe tbody tr th {\n",
       "        vertical-align: top;\n",
       "    }\n",
       "\n",
       "    .dataframe thead th {\n",
       "        text-align: right;\n",
       "    }\n",
       "</style>\n",
       "<table border=\"1\" class=\"dataframe\">\n",
       "  <thead>\n",
       "    <tr style=\"text-align: right;\">\n",
       "      <th></th>\n",
       "      <th>name</th>\n",
       "      <th>sex</th>\n",
       "      <th>age</th>\n",
       "      <th>height</th>\n",
       "    </tr>\n",
       "  </thead>\n",
       "  <tbody>\n",
       "    <tr>\n",
       "      <th>3</th>\n",
       "      <td>John Smith</td>\n",
       "      <td>M</td>\n",
       "      <td>33</td>\n",
       "      <td>180.0</td>\n",
       "    </tr>\n",
       "    <tr>\n",
       "      <th>1</th>\n",
       "      <td>김영희</td>\n",
       "      <td>F</td>\n",
       "      <td>25</td>\n",
       "      <td>175.3</td>\n",
       "    </tr>\n",
       "    <tr>\n",
       "      <th>4</th>\n",
       "      <td>Mary Doe</td>\n",
       "      <td>F</td>\n",
       "      <td>45</td>\n",
       "      <td>165.7</td>\n",
       "    </tr>\n",
       "    <tr>\n",
       "      <th>2</th>\n",
       "      <td>홍길동</td>\n",
       "      <td>M</td>\n",
       "      <td>21</td>\n",
       "      <td>163.4</td>\n",
       "    </tr>\n",
       "    <tr>\n",
       "      <th>0</th>\n",
       "      <td>이철수</td>\n",
       "      <td>M</td>\n",
       "      <td>23</td>\n",
       "      <td>153.5</td>\n",
       "    </tr>\n",
       "  </tbody>\n",
       "</table>\n",
       "</div>"
      ],
      "text/plain": [
       "         name sex  age  height\n",
       "3  John Smith   M   33   180.0\n",
       "1         김영희   F   25   175.3\n",
       "4    Mary Doe   F   45   165.7\n",
       "2         홍길동   M   21   163.4\n",
       "0         이철수   M   23   153.5"
      ]
     },
     "execution_count": 104,
     "metadata": {},
     "output_type": "execute_result"
    }
   ],
   "source": [
    "df.sort_values(by ='height', ascending= False)"
   ]
  },
  {
   "cell_type": "code",
   "execution_count": 105,
   "metadata": {
    "colab": {
     "base_uri": "https://localhost:8080/",
     "height": 203
    },
    "id": "S6_oXa1COVMS",
    "outputId": "6580bb59-4ded-4471-9064-15cf17a8b2f3"
   },
   "outputs": [
    {
     "data": {
      "text/html": [
       "<div>\n",
       "<style scoped>\n",
       "    .dataframe tbody tr th:only-of-type {\n",
       "        vertical-align: middle;\n",
       "    }\n",
       "\n",
       "    .dataframe tbody tr th {\n",
       "        vertical-align: top;\n",
       "    }\n",
       "\n",
       "    .dataframe thead th {\n",
       "        text-align: right;\n",
       "    }\n",
       "</style>\n",
       "<table border=\"1\" class=\"dataframe\">\n",
       "  <thead>\n",
       "    <tr style=\"text-align: right;\">\n",
       "      <th></th>\n",
       "      <th>name</th>\n",
       "      <th>sex</th>\n",
       "      <th>연령</th>\n",
       "      <th>height</th>\n",
       "    </tr>\n",
       "  </thead>\n",
       "  <tbody>\n",
       "    <tr>\n",
       "      <th>0</th>\n",
       "      <td>이철수</td>\n",
       "      <td>M</td>\n",
       "      <td>23</td>\n",
       "      <td>153.5</td>\n",
       "    </tr>\n",
       "    <tr>\n",
       "      <th>1</th>\n",
       "      <td>김영희</td>\n",
       "      <td>F</td>\n",
       "      <td>25</td>\n",
       "      <td>175.3</td>\n",
       "    </tr>\n",
       "    <tr>\n",
       "      <th>2</th>\n",
       "      <td>홍길동</td>\n",
       "      <td>M</td>\n",
       "      <td>21</td>\n",
       "      <td>163.4</td>\n",
       "    </tr>\n",
       "    <tr>\n",
       "      <th>3</th>\n",
       "      <td>John Smith</td>\n",
       "      <td>M</td>\n",
       "      <td>33</td>\n",
       "      <td>180.0</td>\n",
       "    </tr>\n",
       "    <tr>\n",
       "      <th>4</th>\n",
       "      <td>Mary Doe</td>\n",
       "      <td>F</td>\n",
       "      <td>45</td>\n",
       "      <td>165.7</td>\n",
       "    </tr>\n",
       "  </tbody>\n",
       "</table>\n",
       "</div>"
      ],
      "text/plain": [
       "         name sex  연령  height\n",
       "0         이철수   M  23   153.5\n",
       "1         김영희   F  25   175.3\n",
       "2         홍길동   M  21   163.4\n",
       "3  John Smith   M  33   180.0\n",
       "4    Mary Doe   F  45   165.7"
      ]
     },
     "execution_count": 105,
     "metadata": {},
     "output_type": "execute_result"
    }
   ],
   "source": [
    "df.rename( columns={ 'age' : '연령'})"
   ]
  },
  {
   "cell_type": "code",
   "execution_count": 106,
   "metadata": {
    "colab": {
     "base_uri": "https://localhost:8080/",
     "height": 203
    },
    "id": "lO0MyndYOj3J",
    "outputId": "1f656614-f55c-4f1f-9a58-126c623686cb"
   },
   "outputs": [
    {
     "data": {
      "text/html": [
       "<div>\n",
       "<style scoped>\n",
       "    .dataframe tbody tr th:only-of-type {\n",
       "        vertical-align: middle;\n",
       "    }\n",
       "\n",
       "    .dataframe tbody tr th {\n",
       "        vertical-align: top;\n",
       "    }\n",
       "\n",
       "    .dataframe thead th {\n",
       "        text-align: right;\n",
       "    }\n",
       "</style>\n",
       "<table border=\"1\" class=\"dataframe\">\n",
       "  <thead>\n",
       "    <tr style=\"text-align: right;\">\n",
       "      <th></th>\n",
       "      <th>name</th>\n",
       "      <th>sex</th>\n",
       "      <th>age</th>\n",
       "      <th>height</th>\n",
       "      <th>height_inch</th>\n",
       "    </tr>\n",
       "  </thead>\n",
       "  <tbody>\n",
       "    <tr>\n",
       "      <th>0</th>\n",
       "      <td>이철수</td>\n",
       "      <td>M</td>\n",
       "      <td>23</td>\n",
       "      <td>153.5</td>\n",
       "      <td>6043.31035</td>\n",
       "    </tr>\n",
       "    <tr>\n",
       "      <th>1</th>\n",
       "      <td>김영희</td>\n",
       "      <td>F</td>\n",
       "      <td>25</td>\n",
       "      <td>175.3</td>\n",
       "      <td>6901.57853</td>\n",
       "    </tr>\n",
       "    <tr>\n",
       "      <th>2</th>\n",
       "      <td>홍길동</td>\n",
       "      <td>M</td>\n",
       "      <td>21</td>\n",
       "      <td>163.4</td>\n",
       "      <td>6433.07434</td>\n",
       "    </tr>\n",
       "    <tr>\n",
       "      <th>3</th>\n",
       "      <td>John Smith</td>\n",
       "      <td>M</td>\n",
       "      <td>33</td>\n",
       "      <td>180.0</td>\n",
       "      <td>7086.61800</td>\n",
       "    </tr>\n",
       "    <tr>\n",
       "      <th>4</th>\n",
       "      <td>Mary Doe</td>\n",
       "      <td>F</td>\n",
       "      <td>45</td>\n",
       "      <td>165.7</td>\n",
       "      <td>6523.62557</td>\n",
       "    </tr>\n",
       "  </tbody>\n",
       "</table>\n",
       "</div>"
      ],
      "text/plain": [
       "         name sex  age  height  height_inch\n",
       "0         이철수   M   23   153.5   6043.31035\n",
       "1         김영희   F   25   175.3   6901.57853\n",
       "2         홍길동   M   21   163.4   6433.07434\n",
       "3  John Smith   M   33   180.0   7086.61800\n",
       "4    Mary Doe   F   45   165.7   6523.62557"
      ]
     },
     "execution_count": 106,
     "metadata": {},
     "output_type": "execute_result"
    }
   ],
   "source": [
    "df['height_inch'] = df['height'] * 39.3701  \n",
    "df"
   ]
  },
  {
   "cell_type": "markdown",
   "metadata": {
    "id": "Dw-sa3OwANk1"
   },
   "source": [
    "키가 175 cm 이상인 사람들의 이름을 `평균이상` 으로 바꾸는 명령문"
   ]
  },
  {
   "cell_type": "code",
   "execution_count": 107,
   "metadata": {
    "colab": {
     "base_uri": "https://localhost:8080/",
     "height": 203
    },
    "id": "Lf3X7yBZAxTi",
    "outputId": "2958a415-db5f-410f-b811-695cda1aee24"
   },
   "outputs": [
    {
     "data": {
      "text/html": [
       "<div>\n",
       "<style scoped>\n",
       "    .dataframe tbody tr th:only-of-type {\n",
       "        vertical-align: middle;\n",
       "    }\n",
       "\n",
       "    .dataframe tbody tr th {\n",
       "        vertical-align: top;\n",
       "    }\n",
       "\n",
       "    .dataframe thead th {\n",
       "        text-align: right;\n",
       "    }\n",
       "</style>\n",
       "<table border=\"1\" class=\"dataframe\">\n",
       "  <thead>\n",
       "    <tr style=\"text-align: right;\">\n",
       "      <th></th>\n",
       "      <th>name</th>\n",
       "      <th>sex</th>\n",
       "      <th>age</th>\n",
       "      <th>height</th>\n",
       "      <th>height_inch</th>\n",
       "    </tr>\n",
       "  </thead>\n",
       "  <tbody>\n",
       "    <tr>\n",
       "      <th>0</th>\n",
       "      <td>이철수</td>\n",
       "      <td>M</td>\n",
       "      <td>23</td>\n",
       "      <td>153.5</td>\n",
       "      <td>6043.31035</td>\n",
       "    </tr>\n",
       "    <tr>\n",
       "      <th>1</th>\n",
       "      <td>평균이상</td>\n",
       "      <td>F</td>\n",
       "      <td>25</td>\n",
       "      <td>175.3</td>\n",
       "      <td>6901.57853</td>\n",
       "    </tr>\n",
       "    <tr>\n",
       "      <th>2</th>\n",
       "      <td>홍길동</td>\n",
       "      <td>M</td>\n",
       "      <td>21</td>\n",
       "      <td>163.4</td>\n",
       "      <td>6433.07434</td>\n",
       "    </tr>\n",
       "    <tr>\n",
       "      <th>3</th>\n",
       "      <td>평균이상</td>\n",
       "      <td>M</td>\n",
       "      <td>33</td>\n",
       "      <td>180.0</td>\n",
       "      <td>7086.61800</td>\n",
       "    </tr>\n",
       "    <tr>\n",
       "      <th>4</th>\n",
       "      <td>Mary Doe</td>\n",
       "      <td>F</td>\n",
       "      <td>45</td>\n",
       "      <td>165.7</td>\n",
       "      <td>6523.62557</td>\n",
       "    </tr>\n",
       "  </tbody>\n",
       "</table>\n",
       "</div>"
      ],
      "text/plain": [
       "       name sex  age  height  height_inch\n",
       "0       이철수   M   23   153.5   6043.31035\n",
       "1      평균이상   F   25   175.3   6901.57853\n",
       "2       홍길동   M   21   163.4   6433.07434\n",
       "3      평균이상   M   33   180.0   7086.61800\n",
       "4  Mary Doe   F   45   165.7   6523.62557"
      ]
     },
     "execution_count": 107,
     "metadata": {},
     "output_type": "execute_result"
    }
   ],
   "source": [
    "df.loc[ df.height >= 175, \"name\" ] = '평균이상'\n",
    "df"
   ]
  },
  {
   "cell_type": "code",
   "execution_count": 108,
   "metadata": {
    "colab": {
     "base_uri": "https://localhost:8080/"
    },
    "id": "FCrB5SaIk_nO",
    "outputId": "32324a80-c8b8-4586-e42d-4c1af5ca8236"
   },
   "outputs": [
    {
     "data": {
      "text/plain": [
       "age        45.0\n",
       "height    180.0\n",
       "dtype: float64"
      ]
     },
     "execution_count": 108,
     "metadata": {},
     "output_type": "execute_result"
    }
   ],
   "source": [
    "df[['age','height']].max()"
   ]
  },
  {
   "cell_type": "code",
   "execution_count": 109,
   "metadata": {
    "colab": {
     "base_uri": "https://localhost:8080/"
    },
    "id": "m69P4MUEheoz",
    "outputId": "b573fc6f-96b4-4789-c7ee-998762fcf806"
   },
   "outputs": [
    {
     "data": {
      "text/plain": [
       "age       147.0\n",
       "height    837.9\n",
       "dtype: float64"
      ]
     },
     "execution_count": 109,
     "metadata": {},
     "output_type": "execute_result"
    }
   ],
   "source": [
    "df[['age','height']].sum()"
   ]
  },
  {
   "cell_type": "code",
   "execution_count": 110,
   "metadata": {
    "colab": {
     "base_uri": "https://localhost:8080/"
    },
    "id": "kv47T83MUvhF",
    "outputId": "4d07a7aa-970f-4f71-f1b4-3fab9c718294"
   },
   "outputs": [
    {
     "data": {
      "text/plain": [
       "age        29.40\n",
       "height    167.58\n",
       "dtype: float64"
      ]
     },
     "execution_count": 110,
     "metadata": {},
     "output_type": "execute_result"
    }
   ],
   "source": [
    "df[['age','height']].mean()"
   ]
  },
  {
   "cell_type": "code",
   "execution_count": 111,
   "metadata": {
    "colab": {
     "base_uri": "https://localhost:8080/"
    },
    "id": "tzGxjGZqkTT4",
    "outputId": "b6fb44d7-2161-4638-895d-05604ec98952"
   },
   "outputs": [
    {
     "data": {
      "text/plain": [
       "age       147.0\n",
       "height    837.9\n",
       "dtype: float64"
      ]
     },
     "execution_count": 111,
     "metadata": {},
     "output_type": "execute_result"
    }
   ],
   "source": [
    "df[['age','height']].sum(axis=0)"
   ]
  },
  {
   "cell_type": "code",
   "execution_count": 112,
   "metadata": {
    "colab": {
     "base_uri": "https://localhost:8080/"
    },
    "id": "VV0hgqTalDn3",
    "outputId": "aa98ecf4-52b5-4f75-ddcb-4ed1d3ae221d"
   },
   "outputs": [
    {
     "data": {
      "text/plain": [
       "0    176.5\n",
       "1    200.3\n",
       "2    184.4\n",
       "3    213.0\n",
       "4    210.7\n",
       "dtype: float64"
      ]
     },
     "execution_count": 112,
     "metadata": {},
     "output_type": "execute_result"
    }
   ],
   "source": [
    "df[['age','height']].sum(axis=1)"
   ]
  },
  {
   "cell_type": "code",
   "execution_count": 113,
   "metadata": {
    "colab": {
     "base_uri": "https://localhost:8080/",
     "height": 295
    },
    "id": "CE1AOsGqlJle",
    "outputId": "3cb833fe-8463-41e6-dc58-802d8cee1e26"
   },
   "outputs": [
    {
     "data": {
      "text/html": [
       "<div>\n",
       "<style scoped>\n",
       "    .dataframe tbody tr th:only-of-type {\n",
       "        vertical-align: middle;\n",
       "    }\n",
       "\n",
       "    .dataframe tbody tr th {\n",
       "        vertical-align: top;\n",
       "    }\n",
       "\n",
       "    .dataframe thead th {\n",
       "        text-align: right;\n",
       "    }\n",
       "</style>\n",
       "<table border=\"1\" class=\"dataframe\">\n",
       "  <thead>\n",
       "    <tr style=\"text-align: right;\">\n",
       "      <th></th>\n",
       "      <th>age</th>\n",
       "      <th>height</th>\n",
       "      <th>height_inch</th>\n",
       "    </tr>\n",
       "  </thead>\n",
       "  <tbody>\n",
       "    <tr>\n",
       "      <th>count</th>\n",
       "      <td>5.000000</td>\n",
       "      <td>5.000000</td>\n",
       "      <td>5.000000</td>\n",
       "    </tr>\n",
       "    <tr>\n",
       "      <th>mean</th>\n",
       "      <td>29.400000</td>\n",
       "      <td>167.580000</td>\n",
       "      <td>6597.641358</td>\n",
       "    </tr>\n",
       "    <tr>\n",
       "      <th>std</th>\n",
       "      <td>9.838699</td>\n",
       "      <td>10.405623</td>\n",
       "      <td>409.670437</td>\n",
       "    </tr>\n",
       "    <tr>\n",
       "      <th>min</th>\n",
       "      <td>21.000000</td>\n",
       "      <td>153.500000</td>\n",
       "      <td>6043.310350</td>\n",
       "    </tr>\n",
       "    <tr>\n",
       "      <th>25%</th>\n",
       "      <td>23.000000</td>\n",
       "      <td>163.400000</td>\n",
       "      <td>6433.074340</td>\n",
       "    </tr>\n",
       "    <tr>\n",
       "      <th>50%</th>\n",
       "      <td>25.000000</td>\n",
       "      <td>165.700000</td>\n",
       "      <td>6523.625570</td>\n",
       "    </tr>\n",
       "    <tr>\n",
       "      <th>75%</th>\n",
       "      <td>33.000000</td>\n",
       "      <td>175.300000</td>\n",
       "      <td>6901.578530</td>\n",
       "    </tr>\n",
       "    <tr>\n",
       "      <th>max</th>\n",
       "      <td>45.000000</td>\n",
       "      <td>180.000000</td>\n",
       "      <td>7086.618000</td>\n",
       "    </tr>\n",
       "  </tbody>\n",
       "</table>\n",
       "</div>"
      ],
      "text/plain": [
       "             age      height  height_inch\n",
       "count   5.000000    5.000000     5.000000\n",
       "mean   29.400000  167.580000  6597.641358\n",
       "std     9.838699   10.405623   409.670437\n",
       "min    21.000000  153.500000  6043.310350\n",
       "25%    23.000000  163.400000  6433.074340\n",
       "50%    25.000000  165.700000  6523.625570\n",
       "75%    33.000000  175.300000  6901.578530\n",
       "max    45.000000  180.000000  7086.618000"
      ]
     },
     "execution_count": 113,
     "metadata": {},
     "output_type": "execute_result"
    }
   ],
   "source": [
    "df.describe()"
   ]
  },
  {
   "cell_type": "code",
   "execution_count": 114,
   "metadata": {
    "id": "v1cu4teumttm"
   },
   "outputs": [
    {
     "data": {
      "text/html": [
       "<div>\n",
       "<style scoped>\n",
       "    .dataframe tbody tr th:only-of-type {\n",
       "        vertical-align: middle;\n",
       "    }\n",
       "\n",
       "    .dataframe tbody tr th {\n",
       "        vertical-align: top;\n",
       "    }\n",
       "\n",
       "    .dataframe thead th {\n",
       "        text-align: right;\n",
       "    }\n",
       "</style>\n",
       "<table border=\"1\" class=\"dataframe\">\n",
       "  <thead>\n",
       "    <tr style=\"text-align: right;\">\n",
       "      <th></th>\n",
       "      <th>age</th>\n",
       "      <th>height</th>\n",
       "      <th>height_inch</th>\n",
       "    </tr>\n",
       "    <tr>\n",
       "      <th>sex</th>\n",
       "      <th></th>\n",
       "      <th></th>\n",
       "      <th></th>\n",
       "    </tr>\n",
       "  </thead>\n",
       "  <tbody>\n",
       "    <tr>\n",
       "      <th>F</th>\n",
       "      <td>35.000000</td>\n",
       "      <td>170.500000</td>\n",
       "      <td>6712.602050</td>\n",
       "    </tr>\n",
       "    <tr>\n",
       "      <th>M</th>\n",
       "      <td>25.666667</td>\n",
       "      <td>165.633333</td>\n",
       "      <td>6521.000897</td>\n",
       "    </tr>\n",
       "  </tbody>\n",
       "</table>\n",
       "</div>"
      ],
      "text/plain": [
       "           age      height  height_inch\n",
       "sex                                    \n",
       "F    35.000000  170.500000  6712.602050\n",
       "M    25.666667  165.633333  6521.000897"
      ]
     },
     "execution_count": 114,
     "metadata": {},
     "output_type": "execute_result"
    }
   ],
   "source": [
    "grouped = df.groupby(by='sex')\n",
    "grouped.mean()"
   ]
  },
  {
   "cell_type": "code",
   "execution_count": 115,
   "metadata": {
    "colab": {
     "base_uri": "https://localhost:8080/",
     "height": 172
    },
    "id": "Mh_PoqunmG0h",
    "outputId": "a9e53833-3949-41ca-cc7d-c9765324fbcf"
   },
   "outputs": [
    {
     "data": {
      "text/html": [
       "<div>\n",
       "<style scoped>\n",
       "    .dataframe tbody tr th:only-of-type {\n",
       "        vertical-align: middle;\n",
       "    }\n",
       "\n",
       "    .dataframe tbody tr th {\n",
       "        vertical-align: top;\n",
       "    }\n",
       "\n",
       "    .dataframe thead th {\n",
       "        text-align: right;\n",
       "    }\n",
       "</style>\n",
       "<table border=\"1\" class=\"dataframe\">\n",
       "  <thead>\n",
       "    <tr style=\"text-align: right;\">\n",
       "      <th></th>\n",
       "      <th>name</th>\n",
       "      <th>weight</th>\n",
       "    </tr>\n",
       "  </thead>\n",
       "  <tbody>\n",
       "    <tr>\n",
       "      <th>0</th>\n",
       "      <td>이철수</td>\n",
       "      <td>55.6</td>\n",
       "    </tr>\n",
       "    <tr>\n",
       "      <th>1</th>\n",
       "      <td>김영희</td>\n",
       "      <td>67.1</td>\n",
       "    </tr>\n",
       "    <tr>\n",
       "      <th>2</th>\n",
       "      <td>홍길동</td>\n",
       "      <td>80.4</td>\n",
       "    </tr>\n",
       "    <tr>\n",
       "      <th>3</th>\n",
       "      <td>고길동</td>\n",
       "      <td>64.4</td>\n",
       "    </tr>\n",
       "  </tbody>\n",
       "</table>\n",
       "</div>"
      ],
      "text/plain": [
       "  name  weight\n",
       "0  이철수    55.6\n",
       "1  김영희    67.1\n",
       "2  홍길동    80.4\n",
       "3  고길동    64.4"
      ]
     },
     "execution_count": 115,
     "metadata": {},
     "output_type": "execute_result"
    }
   ],
   "source": [
    "new = pd.DataFrame(\n",
    "    { 'name' : ['이철수', '김영희', '홍길동', '고길동'],\n",
    "      'weight' : [55.6, 67.1, 80.4, 64.4]\n",
    "    } )\n",
    "new"
   ]
  },
  {
   "cell_type": "code",
   "execution_count": 116,
   "metadata": {
    "colab": {
     "base_uri": "https://localhost:8080/",
     "height": 110
    },
    "id": "_O-iU3SVmq0p",
    "outputId": "11fab794-36eb-4078-da67-c54cd505a7c1"
   },
   "outputs": [
    {
     "data": {
      "text/html": [
       "<div>\n",
       "<style scoped>\n",
       "    .dataframe tbody tr th:only-of-type {\n",
       "        vertical-align: middle;\n",
       "    }\n",
       "\n",
       "    .dataframe tbody tr th {\n",
       "        vertical-align: top;\n",
       "    }\n",
       "\n",
       "    .dataframe thead th {\n",
       "        text-align: right;\n",
       "    }\n",
       "</style>\n",
       "<table border=\"1\" class=\"dataframe\">\n",
       "  <thead>\n",
       "    <tr style=\"text-align: right;\">\n",
       "      <th></th>\n",
       "      <th>name</th>\n",
       "      <th>sex</th>\n",
       "      <th>age</th>\n",
       "      <th>height</th>\n",
       "      <th>height_inch</th>\n",
       "      <th>weight</th>\n",
       "    </tr>\n",
       "  </thead>\n",
       "  <tbody>\n",
       "    <tr>\n",
       "      <th>0</th>\n",
       "      <td>이철수</td>\n",
       "      <td>M</td>\n",
       "      <td>23</td>\n",
       "      <td>153.5</td>\n",
       "      <td>6043.31035</td>\n",
       "      <td>55.6</td>\n",
       "    </tr>\n",
       "    <tr>\n",
       "      <th>1</th>\n",
       "      <td>홍길동</td>\n",
       "      <td>M</td>\n",
       "      <td>21</td>\n",
       "      <td>163.4</td>\n",
       "      <td>6433.07434</td>\n",
       "      <td>80.4</td>\n",
       "    </tr>\n",
       "  </tbody>\n",
       "</table>\n",
       "</div>"
      ],
      "text/plain": [
       "  name sex  age  height  height_inch  weight\n",
       "0  이철수   M   23   153.5   6043.31035    55.6\n",
       "1  홍길동   M   21   163.4   6433.07434    80.4"
      ]
     },
     "execution_count": 116,
     "metadata": {},
     "output_type": "execute_result"
    }
   ],
   "source": [
    "merged_inner = pd.merge(df, new, on ='name', how='inner')\n",
    "merged_inner"
   ]
  },
  {
   "cell_type": "code",
   "execution_count": 117,
   "metadata": {
    "colab": {
     "base_uri": "https://localhost:8080/",
     "height": 265
    },
    "id": "twvrQCP5nOsN",
    "outputId": "8886d13d-c8f6-44d7-c58c-45d0d5c184ba"
   },
   "outputs": [
    {
     "data": {
      "text/html": [
       "<div>\n",
       "<style scoped>\n",
       "    .dataframe tbody tr th:only-of-type {\n",
       "        vertical-align: middle;\n",
       "    }\n",
       "\n",
       "    .dataframe tbody tr th {\n",
       "        vertical-align: top;\n",
       "    }\n",
       "\n",
       "    .dataframe thead th {\n",
       "        text-align: right;\n",
       "    }\n",
       "</style>\n",
       "<table border=\"1\" class=\"dataframe\">\n",
       "  <thead>\n",
       "    <tr style=\"text-align: right;\">\n",
       "      <th></th>\n",
       "      <th>name</th>\n",
       "      <th>sex</th>\n",
       "      <th>age</th>\n",
       "      <th>height</th>\n",
       "      <th>height_inch</th>\n",
       "      <th>weight</th>\n",
       "    </tr>\n",
       "  </thead>\n",
       "  <tbody>\n",
       "    <tr>\n",
       "      <th>0</th>\n",
       "      <td>이철수</td>\n",
       "      <td>M</td>\n",
       "      <td>23.0</td>\n",
       "      <td>153.5</td>\n",
       "      <td>6043.31035</td>\n",
       "      <td>55.6</td>\n",
       "    </tr>\n",
       "    <tr>\n",
       "      <th>1</th>\n",
       "      <td>평균이상</td>\n",
       "      <td>F</td>\n",
       "      <td>25.0</td>\n",
       "      <td>175.3</td>\n",
       "      <td>6901.57853</td>\n",
       "      <td>NaN</td>\n",
       "    </tr>\n",
       "    <tr>\n",
       "      <th>2</th>\n",
       "      <td>평균이상</td>\n",
       "      <td>M</td>\n",
       "      <td>33.0</td>\n",
       "      <td>180.0</td>\n",
       "      <td>7086.61800</td>\n",
       "      <td>NaN</td>\n",
       "    </tr>\n",
       "    <tr>\n",
       "      <th>3</th>\n",
       "      <td>홍길동</td>\n",
       "      <td>M</td>\n",
       "      <td>21.0</td>\n",
       "      <td>163.4</td>\n",
       "      <td>6433.07434</td>\n",
       "      <td>80.4</td>\n",
       "    </tr>\n",
       "    <tr>\n",
       "      <th>4</th>\n",
       "      <td>Mary Doe</td>\n",
       "      <td>F</td>\n",
       "      <td>45.0</td>\n",
       "      <td>165.7</td>\n",
       "      <td>6523.62557</td>\n",
       "      <td>NaN</td>\n",
       "    </tr>\n",
       "    <tr>\n",
       "      <th>5</th>\n",
       "      <td>김영희</td>\n",
       "      <td>NaN</td>\n",
       "      <td>NaN</td>\n",
       "      <td>NaN</td>\n",
       "      <td>NaN</td>\n",
       "      <td>67.1</td>\n",
       "    </tr>\n",
       "    <tr>\n",
       "      <th>6</th>\n",
       "      <td>고길동</td>\n",
       "      <td>NaN</td>\n",
       "      <td>NaN</td>\n",
       "      <td>NaN</td>\n",
       "      <td>NaN</td>\n",
       "      <td>64.4</td>\n",
       "    </tr>\n",
       "  </tbody>\n",
       "</table>\n",
       "</div>"
      ],
      "text/plain": [
       "       name  sex   age  height  height_inch  weight\n",
       "0       이철수    M  23.0   153.5   6043.31035    55.6\n",
       "1      평균이상    F  25.0   175.3   6901.57853     NaN\n",
       "2      평균이상    M  33.0   180.0   7086.61800     NaN\n",
       "3       홍길동    M  21.0   163.4   6433.07434    80.4\n",
       "4  Mary Doe    F  45.0   165.7   6523.62557     NaN\n",
       "5       김영희  NaN   NaN     NaN          NaN    67.1\n",
       "6       고길동  NaN   NaN     NaN          NaN    64.4"
      ]
     },
     "execution_count": 117,
     "metadata": {},
     "output_type": "execute_result"
    }
   ],
   "source": [
    "merged_outer = pd.merge(df, new, on ='name', how='outer')\n",
    "merged_outer"
   ]
  },
  {
   "cell_type": "code",
   "execution_count": 118,
   "metadata": {
    "colab": {
     "base_uri": "https://localhost:8080/",
     "height": 203
    },
    "id": "cqQbyY68nUHo",
    "outputId": "5939083b-3e1a-4ad1-cb24-e78b01908257"
   },
   "outputs": [
    {
     "data": {
      "text/html": [
       "<div>\n",
       "<style scoped>\n",
       "    .dataframe tbody tr th:only-of-type {\n",
       "        vertical-align: middle;\n",
       "    }\n",
       "\n",
       "    .dataframe tbody tr th {\n",
       "        vertical-align: top;\n",
       "    }\n",
       "\n",
       "    .dataframe thead th {\n",
       "        text-align: right;\n",
       "    }\n",
       "</style>\n",
       "<table border=\"1\" class=\"dataframe\">\n",
       "  <thead>\n",
       "    <tr style=\"text-align: right;\">\n",
       "      <th></th>\n",
       "      <th>name</th>\n",
       "      <th>sex</th>\n",
       "      <th>age</th>\n",
       "      <th>height</th>\n",
       "      <th>height_inch</th>\n",
       "      <th>weight</th>\n",
       "    </tr>\n",
       "  </thead>\n",
       "  <tbody>\n",
       "    <tr>\n",
       "      <th>0</th>\n",
       "      <td>이철수</td>\n",
       "      <td>M</td>\n",
       "      <td>23</td>\n",
       "      <td>153.5</td>\n",
       "      <td>6043.31035</td>\n",
       "      <td>55.6</td>\n",
       "    </tr>\n",
       "    <tr>\n",
       "      <th>1</th>\n",
       "      <td>평균이상</td>\n",
       "      <td>F</td>\n",
       "      <td>25</td>\n",
       "      <td>175.3</td>\n",
       "      <td>6901.57853</td>\n",
       "      <td>NaN</td>\n",
       "    </tr>\n",
       "    <tr>\n",
       "      <th>2</th>\n",
       "      <td>홍길동</td>\n",
       "      <td>M</td>\n",
       "      <td>21</td>\n",
       "      <td>163.4</td>\n",
       "      <td>6433.07434</td>\n",
       "      <td>80.4</td>\n",
       "    </tr>\n",
       "    <tr>\n",
       "      <th>3</th>\n",
       "      <td>평균이상</td>\n",
       "      <td>M</td>\n",
       "      <td>33</td>\n",
       "      <td>180.0</td>\n",
       "      <td>7086.61800</td>\n",
       "      <td>NaN</td>\n",
       "    </tr>\n",
       "    <tr>\n",
       "      <th>4</th>\n",
       "      <td>Mary Doe</td>\n",
       "      <td>F</td>\n",
       "      <td>45</td>\n",
       "      <td>165.7</td>\n",
       "      <td>6523.62557</td>\n",
       "      <td>NaN</td>\n",
       "    </tr>\n",
       "  </tbody>\n",
       "</table>\n",
       "</div>"
      ],
      "text/plain": [
       "       name sex  age  height  height_inch  weight\n",
       "0       이철수   M   23   153.5   6043.31035    55.6\n",
       "1      평균이상   F   25   175.3   6901.57853     NaN\n",
       "2       홍길동   M   21   163.4   6433.07434    80.4\n",
       "3      평균이상   M   33   180.0   7086.61800     NaN\n",
       "4  Mary Doe   F   45   165.7   6523.62557     NaN"
      ]
     },
     "execution_count": 118,
     "metadata": {},
     "output_type": "execute_result"
    }
   ],
   "source": [
    "merged_left = pd.merge(df, new, on ='name', how='left')\n",
    "merged_left"
   ]
  },
  {
   "cell_type": "code",
   "execution_count": 119,
   "metadata": {
    "colab": {
     "base_uri": "https://localhost:8080/",
     "height": 172
    },
    "id": "nfNggN_PnZFj",
    "outputId": "80a78814-2a73-41e6-a4f9-098629b7ad91"
   },
   "outputs": [
    {
     "data": {
      "text/html": [
       "<div>\n",
       "<style scoped>\n",
       "    .dataframe tbody tr th:only-of-type {\n",
       "        vertical-align: middle;\n",
       "    }\n",
       "\n",
       "    .dataframe tbody tr th {\n",
       "        vertical-align: top;\n",
       "    }\n",
       "\n",
       "    .dataframe thead th {\n",
       "        text-align: right;\n",
       "    }\n",
       "</style>\n",
       "<table border=\"1\" class=\"dataframe\">\n",
       "  <thead>\n",
       "    <tr style=\"text-align: right;\">\n",
       "      <th></th>\n",
       "      <th>name</th>\n",
       "      <th>sex</th>\n",
       "      <th>age</th>\n",
       "      <th>height</th>\n",
       "      <th>height_inch</th>\n",
       "      <th>weight</th>\n",
       "    </tr>\n",
       "  </thead>\n",
       "  <tbody>\n",
       "    <tr>\n",
       "      <th>0</th>\n",
       "      <td>이철수</td>\n",
       "      <td>M</td>\n",
       "      <td>23.0</td>\n",
       "      <td>153.5</td>\n",
       "      <td>6043.31035</td>\n",
       "      <td>55.6</td>\n",
       "    </tr>\n",
       "    <tr>\n",
       "      <th>1</th>\n",
       "      <td>김영희</td>\n",
       "      <td>NaN</td>\n",
       "      <td>NaN</td>\n",
       "      <td>NaN</td>\n",
       "      <td>NaN</td>\n",
       "      <td>67.1</td>\n",
       "    </tr>\n",
       "    <tr>\n",
       "      <th>2</th>\n",
       "      <td>홍길동</td>\n",
       "      <td>M</td>\n",
       "      <td>21.0</td>\n",
       "      <td>163.4</td>\n",
       "      <td>6433.07434</td>\n",
       "      <td>80.4</td>\n",
       "    </tr>\n",
       "    <tr>\n",
       "      <th>3</th>\n",
       "      <td>고길동</td>\n",
       "      <td>NaN</td>\n",
       "      <td>NaN</td>\n",
       "      <td>NaN</td>\n",
       "      <td>NaN</td>\n",
       "      <td>64.4</td>\n",
       "    </tr>\n",
       "  </tbody>\n",
       "</table>\n",
       "</div>"
      ],
      "text/plain": [
       "  name  sex   age  height  height_inch  weight\n",
       "0  이철수    M  23.0   153.5   6043.31035    55.6\n",
       "1  김영희  NaN   NaN     NaN          NaN    67.1\n",
       "2  홍길동    M  21.0   163.4   6433.07434    80.4\n",
       "3  고길동  NaN   NaN     NaN          NaN    64.4"
      ]
     },
     "execution_count": 119,
     "metadata": {},
     "output_type": "execute_result"
    }
   ],
   "source": [
    "merged_right = pd.merge(df, new, on ='name', how='right')\n",
    "merged_right"
   ]
  }
 ],
 "metadata": {
  "colab": {
   "collapsed_sections": [],
   "name": "midterm-summary.ipynb",
   "provenance": []
  },
  "kernelspec": {
   "display_name": "Python 3 (ipykernel)",
   "language": "python",
   "name": "python3"
  },
  "language_info": {
   "codemirror_mode": {
    "name": "ipython",
    "version": 3
   },
   "file_extension": ".py",
   "mimetype": "text/x-python",
   "name": "python",
   "nbconvert_exporter": "python",
   "pygments_lexer": "ipython3",
   "version": "3.8.8"
  }
 },
 "nbformat": 4,
 "nbformat_minor": 1
}
