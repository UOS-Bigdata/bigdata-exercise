{
 "cells": [
  {
   "cell_type": "markdown",
   "metadata": {
    "id": "KzYxMWDCyIUE"
   },
   "source": [
    "# 빅데이터개론2 과제 4"
   ]
  },
  {
   "cell_type": "markdown",
   "metadata": {
    "id": "4ECdWdhb18px"
   },
   "source": [
    "**제출기한 : 2022년 11월 11일 23시 59분**"
   ]
  },
  {
   "cell_type": "markdown",
   "metadata": {
    "id": "P9vZkEPpywF2"
   },
   "source": [
    "각 문제를 읽고 주어진 코드셀에 제시된 변수에 결과를 입력하거나, 주어진 텍스트셀에 프로그램 코드 또는 답안을 입력하여 제출하세요.  \n",
    "\n",
    "\n",
    "아래는 필요한 라이브러리를 불러오는 코드셀입니다. 반드시 숙제를 시작할 때 먼저 실행시키고 문제에서 적절하게 이용하세요.\n"
   ]
  },
  {
   "cell_type": "code",
   "execution_count": 1,
   "metadata": {
    "id": "HcMU6jzAj-dU"
   },
   "outputs": [],
   "source": [
    "# 한글 폰트가 깨질 때 사용 - 런타임 메뉴에서 다시 시작 및 모두 실행 선택. (출처: https://teddylee777.github.io/colab/colab-korean)\n",
    "#!sudo apt-get install -y fonts-nanum\n",
    "#!sudo fc-cache -fv\n",
    "#!rm ~/.cache/matplotlib -rf"
   ]
  },
  {
   "cell_type": "code",
   "execution_count": 2,
   "metadata": {
    "id": "txW0mB70TKt7"
   },
   "outputs": [],
   "source": [
    "import matplotlib.pyplot as plt\n",
    "from matplotlib import rc\n",
    "%matplotlib inline\n",
    "\n",
    "plt.rc('font', family='NanumBarunGothic') # clolab 에서 한글 사용 \n",
    "plt.rcParams['axes.unicode_minus'] = False\n",
    "plt.rcParams[\"figure.figsize\"] = (10,5)"
   ]
  },
  {
   "cell_type": "code",
   "execution_count": 3,
   "metadata": {
    "id": "BmQYA543GQIs"
   },
   "outputs": [],
   "source": [
    "import math\n",
    "import numpy as np\n",
    "import pandas as pd\n",
    "from itertools import product"
   ]
  },
  {
   "cell_type": "markdown",
   "metadata": {
    "id": "ew4uy3HByMt0"
   },
   "source": [
    "**다음은 과제의 수행과 제출에 대한 안내입니다.**\n",
    "\n",
    "- 빅데이터개론2 과제는 모두 Colab의 공유 기능을 이용하여 제출하게 됩니다. 자세한 제출방법은 강의시간(또는 동영상)에 알려줄 것입니다.\n",
    "\n",
    "- 제출시 노트북의 이름(화일명)에서 성명과 학번을 자신의 이름과 학번으로 바꾼 후에 제출해야 합니다. (예: `빅데이터개론2-2022F-과제-01-홍길동-12345677.ipynb`) \n",
    "\n",
    "- 답을 입력하는 셀에 있는 `...`는 지우고 답을 입력하세요.\n",
    "\n",
    "- **과제 노트북은 답을 제시하는 코드셀이나 텍스트셀 이외의 내용 또는 순서를 변경하지 마세요.**\n",
    "\n"
   ]
  },
  {
   "cell_type": "markdown",
   "metadata": {
    "id": "gYBMCX74qJ0Q"
   },
   "source": [
    "## 1. 조건문과 반복문"
   ]
  },
  {
   "cell_type": "markdown",
   "metadata": {
    "id": "X-VhvH3oqPdG"
   },
   "source": [
    "**문제 1**\n",
    "\n",
    "**1 부터 200 까지의 정수** 에서 짝수들의 합계(sum)를 구하여 `mysum1` 에 저장하는 코드를 다음 코드 셀에서 작성하시오."
   ]
  },
  {
   "cell_type": "code",
   "execution_count": 4,
   "metadata": {
    "colab": {
     "base_uri": "https://localhost:8080/"
    },
    "id": "nP4XrZQOqOn3",
    "outputId": "08593950-fa5e-49f2-cd9d-7b736b9ec1f2"
   },
   "outputs": [
    {
     "data": {
      "text/plain": [
       "10100"
      ]
     },
     "execution_count": 4,
     "metadata": {},
     "output_type": "execute_result"
    }
   ],
   "source": [
    "mysum1 = 0\n",
    "for i in np.arange(1,201):\n",
    "    remainder = i - (i//2)*2\n",
    "    if remainder ==0 :\n",
    "        mysum1 = mysum1 + i \n",
    "\n",
    "mysum1"
   ]
  },
  {
   "cell_type": "markdown",
   "metadata": {},
   "source": [
    "참고로 표현식 `a // b` 는 `a`를 `b` 로 나누는 경우 몫을 출력하고 `a % b` 는 `a` 를  `b` 로 나누는 경우 나머지를 출력한다."
   ]
  },
  {
   "cell_type": "code",
   "execution_count": 5,
   "metadata": {},
   "outputs": [
    {
     "data": {
      "text/plain": [
       "6"
      ]
     },
     "execution_count": 5,
     "metadata": {},
     "output_type": "execute_result"
    }
   ],
   "source": [
    "13 // 2"
   ]
  },
  {
   "cell_type": "code",
   "execution_count": 6,
   "metadata": {},
   "outputs": [
    {
     "data": {
      "text/plain": [
       "1"
      ]
     },
     "execution_count": 6,
     "metadata": {},
     "output_type": "execute_result"
    }
   ],
   "source": [
    "13 % 2"
   ]
  },
  {
   "cell_type": "markdown",
   "metadata": {},
   "source": [
    "따라서 아래 코드는 위의 코드와 동일한 작업을 한다. "
   ]
  },
  {
   "cell_type": "code",
   "execution_count": 7,
   "metadata": {},
   "outputs": [
    {
     "data": {
      "text/plain": [
       "10100"
      ]
     },
     "execution_count": 7,
     "metadata": {},
     "output_type": "execute_result"
    }
   ],
   "source": [
    "mysum1 = 0\n",
    "for i in np.arange(1,201):\n",
    "    if i % 2 ==0 :\n",
    "        mysum1 = mysum1 + i \n",
    "\n",
    "mysum1"
   ]
  },
  {
   "cell_type": "markdown",
   "metadata": {
    "id": "o7xw-m1PrKqF"
   },
   "source": [
    "**문제 2**\n",
    "\n",
    "다음과 같이 7 명 학생의 이름이 포함된 리스트 `student_names` 가 주어졌다고 하자. "
   ]
  },
  {
   "cell_type": "code",
   "execution_count": 8,
   "metadata": {
    "id": "cDKM1TC_s0EG"
   },
   "outputs": [],
   "source": [
    "student_names = ['이용희', '김철수', '이동철', '윤영이', '고길동', '정이나', '홍길동']"
   ]
  },
  {
   "cell_type": "markdown",
   "metadata": {
    "id": "SLGaKxf2s2FR"
   },
   "source": [
    "성이 '이'씨인 학생의 수 `mysum2` 을 구하는 코드를 아래 코드 셀에 작성하시오.\n",
    "\n",
    "**HINT** : 문자열(string)에서 여러 개의 문자(chracter)들로 구성된 벡터 또는 리스트로 생각할 수 있다."
   ]
  },
  {
   "cell_type": "code",
   "execution_count": 9,
   "metadata": {
    "colab": {
     "base_uri": "https://localhost:8080/"
    },
    "id": "nt06_UoOqNzd",
    "outputId": "aa0557fb-c91e-42d3-b6d5-ee71fe33d39e"
   },
   "outputs": [
    {
     "data": {
      "text/plain": [
       "2"
      ]
     },
     "execution_count": 9,
     "metadata": {},
     "output_type": "execute_result"
    }
   ],
   "source": [
    "mysum2 = 0\n",
    "\n",
    "last_names = []\n",
    "\n",
    "for str in student_names:\n",
    "  last_names.append(str[0])\n",
    "\n",
    "for last_name in last_names:\n",
    "  if \"이\" in last_name:\n",
    "    mysum2 = mysum2 + 1\n",
    "\n",
    "mysum2"
   ]
  },
  {
   "cell_type": "markdown",
   "metadata": {
    "id": "obZMDPf1u0h7"
   },
   "source": [
    "**참고** 위의 코드에서 `last_names` 는 학생들의 이름이 저장된 리스트 `student_names` 에서 첫 번째 문자, 즉 성만 추출하여 얻은 리스트이다."
   ]
  },
  {
   "cell_type": "code",
   "execution_count": 10,
   "metadata": {
    "colab": {
     "base_uri": "https://localhost:8080/"
    },
    "id": "MBUpSL6KvMXq",
    "outputId": "225f358d-d748-4d95-cb25-a7bba25b066c"
   },
   "outputs": [
    {
     "data": {
      "text/plain": [
       "['이', '김', '이', '윤', '고', '정', '홍']"
      ]
     },
     "execution_count": 10,
     "metadata": {},
     "output_type": "execute_result"
    }
   ],
   "source": [
    "last_names"
   ]
  },
  {
   "cell_type": "markdown",
   "metadata": {
    "id": "OHdZxutTvbvT"
   },
   "source": [
    "다음에 제시된 코드도 같은 작업을 하지만 반복문을 한 번만 사용하여 다 쉽게 답을 구할 수 있다. "
   ]
  },
  {
   "cell_type": "code",
   "execution_count": 11,
   "metadata": {
    "colab": {
     "base_uri": "https://localhost:8080/"
    },
    "id": "z-fkOOXLvtoc",
    "outputId": "6acfa330-e7f9-4976-95fa-1362e3a8d339"
   },
   "outputs": [
    {
     "data": {
      "text/plain": [
       "2"
      ]
     },
     "execution_count": 11,
     "metadata": {},
     "output_type": "execute_result"
    }
   ],
   "source": [
    "mysum2 = 0\n",
    "for name in student_names:\n",
    "  if name[0] == '이' :\n",
    "    mysum2 = mysum2 + 1\n",
    "\n",
    "mysum2"
   ]
  },
  {
   "cell_type": "markdown",
   "metadata": {
    "id": "FVTmEgxDwikf"
   },
   "source": [
    "**문제 3**\n",
    "\n",
    "$a_1=1$ 이고 $ r= 3$ 인 경우, 다음의 등비 수열의 합을 `mysum3` 에 저장하는 코드를 다음 코드 셀에 입력하시오.\n",
    "\n",
    "$$ a_{i+1} = r a_{i}$$\n",
    "\n",
    "$$ \\texttt{mysum3 } = \\sum_{i=1}^{10} a_i $$"
   ]
  },
  {
   "cell_type": "code",
   "execution_count": 12,
   "metadata": {
    "colab": {
     "base_uri": "https://localhost:8080/"
    },
    "id": "GftHCP-6uPTl",
    "outputId": "a99f4895-0999-4cf9-c23c-a61b8f9de389"
   },
   "outputs": [
    {
     "data": {
      "text/plain": [
       "29524"
      ]
     },
     "execution_count": 12,
     "metadata": {},
     "output_type": "execute_result"
    }
   ],
   "source": [
    "mysum3 = 0\n",
    "\n",
    "x = 1\n",
    "r = 3\n",
    "\n",
    "for i in np.arange(10):\n",
    "    mysum3 = mysum3 + x\n",
    "    x = r*x    \n",
    "\n",
    "mysum3"
   ]
  },
  {
   "cell_type": "markdown",
   "metadata": {
    "id": "2Py6YWR7wLmw"
   },
   "source": [
    "다음과 같이 반복할 때마다 `i` 와 `a_i`의 값을 출력하여 프로그램이 제대로 작동하는지 확인할 수 있다."
   ]
  },
  {
   "cell_type": "code",
   "execution_count": 13,
   "metadata": {
    "colab": {
     "base_uri": "https://localhost:8080/"
    },
    "id": "aZOlt7ZQwcdO",
    "outputId": "b3281fab-1f64-4455-df23-d56167e22cd9"
   },
   "outputs": [
    {
     "name": "stdout",
     "output_type": "stream",
     "text": [
      "i, a_i\n",
      "1 1\n",
      "2 3\n",
      "3 9\n",
      "4 27\n",
      "5 81\n",
      "6 243\n",
      "7 729\n",
      "8 2187\n",
      "9 6561\n",
      "10 19683\n"
     ]
    },
    {
     "data": {
      "text/plain": [
       "29524"
      ]
     },
     "execution_count": 13,
     "metadata": {},
     "output_type": "execute_result"
    }
   ],
   "source": [
    "mysum3 = 0\n",
    "\n",
    "x = 1\n",
    "r = 3\n",
    "\n",
    "print(\"i, a_i\")\n",
    "\n",
    "for i in np.arange(10):\n",
    "    print(i+1, x)\n",
    "    mysum3 = mysum3 + x\n",
    "    x = r*x    \n",
    "\n",
    "mysum3"
   ]
  },
  {
   "cell_type": "markdown",
   "metadata": {
    "id": "dzJ-C8V4zhuV"
   },
   "source": [
    "## 2. 확률과 함수"
   ]
  },
  {
   "cell_type": "markdown",
   "metadata": {
    "id": "aX8GIHVJ0t7N"
   },
   "source": [
    "다음과 같은 게임을 생각해 보자.\n",
    "\n",
    "- 하나의 주사위를 4번 던져서 그 중 한 번이라도 1의 눈이 나오면 승리한다.\n"
   ]
  },
  {
   "cell_type": "markdown",
   "metadata": {
    "id": "3GFoETh869PH"
   },
   "source": [
    "먼저 한 번이라도 1의 눈이 나오는 사건을 $A$ 라고 하면 A의 여사건 $A^c$은  어떤 사건인가요?\n",
    "\n",
    "$A^c$ 는 주사위를 4번 던지는 경우 1의 눈이 한 번도 나오지 않는 사건입니다. 이제 $A^c$ 의 확률은 어떻게 계산할까요? \n",
    "\n",
    " 하나의 주사위를 던지는 경우 1의 눈이 아닐 사건의 확률은 5/6입니다. 주사위를 4번 던지는 것은 독립시행이므로 확률은 곱셈 법칙을 이용합니다.\n",
    "\n",
    "\n",
    "\n",
    "$$ P(A^c) = \\left ( \\frac{5}{6} \\right ) \\left ( \\frac{5}{6} \\right ) \\left ( \\frac{5}{6} \\right ) \\left ( \\frac{5}{6} \\right ) = 0.482253$$\n"
   ]
  },
  {
   "cell_type": "code",
   "execution_count": 14,
   "metadata": {
    "colab": {
     "base_uri": "https://localhost:8080/"
    },
    "id": "DBwP33ph8lHS",
    "outputId": "05183cc6-b589-4bc4-a3e2-3b95ce22af86"
   },
   "outputs": [
    {
     "data": {
      "text/plain": [
       "0.4822530864197532"
      ]
     },
     "execution_count": 14,
     "metadata": {},
     "output_type": "execute_result"
    }
   ],
   "source": [
    "(5/6)**4"
   ]
  },
  {
   "cell_type": "markdown",
   "metadata": {
    "id": "Fxcq766h8sB6"
   },
   "source": [
    "여사건의 법칙 $P(A) = 1 - P(A^c)$ 을 적용하면 하나의 주사위를 4번 던져서 그 중 한 번이라도 1의 눈이 나올 확률은 다음과 같습니다. "
   ]
  },
  {
   "cell_type": "code",
   "execution_count": 15,
   "metadata": {
    "colab": {
     "base_uri": "https://localhost:8080/"
    },
    "id": "HgupV1U_8Z0U",
    "outputId": "20a1b71b-8475-4105-ecc6-fce3eeba8bfd"
   },
   "outputs": [
    {
     "data": {
      "text/plain": [
       "0.5177469135802468"
      ]
     },
     "execution_count": 15,
     "metadata": {},
     "output_type": "execute_result"
    }
   ],
   "source": [
    "1-(5/6)**4"
   ]
  },
  {
   "cell_type": "markdown",
   "metadata": {
    "id": "LjdjlIr93CQ8"
   },
   "source": [
    "하나의 주사위를 던지는 경우 나올 수 있는 표본 공간은 다음과 같다.\n",
    "\n",
    "$$ S = \\{ 1, 2, 3, 4, 5 ,6 \\} $$\n",
    "\n",
    "표본 공간 S 를 다음과 같이 이름이 `dice` 인 리스트로 만들어 보자."
   ]
  },
  {
   "cell_type": "code",
   "execution_count": 16,
   "metadata": {
    "id": "5gaDuagb3T3A"
   },
   "outputs": [],
   "source": [
    "dice = [1,2,3,4,5,6]"
   ]
  },
  {
   "cell_type": "markdown",
   "metadata": {
    "id": "8GgTSdhz2QwP"
   },
   "source": [
    "**문제 1**\n",
    "\n",
    "주사위를 4 번 던질 때 나올 수 있는 모든 경우를 포함하는 표본 공간을  이름이 `dice_4` 인 리스트에 저장하는 코드를 아래 코드셀에 작성하시오.\n",
    "\n",
    "HINT: 라이브러리 `itertools` 에서 제공하는 함수 `product()` 를 이용하자.\n",
    "\n"
   ]
  },
  {
   "cell_type": "code",
   "execution_count": 17,
   "metadata": {
    "colab": {
     "base_uri": "https://localhost:8080/"
    },
    "id": "j1sYIAEB0sf1",
    "outputId": "eabc905d-4534-41f0-f2ee-8ceedb882fe9"
   },
   "outputs": [
    {
     "data": {
      "text/plain": [
       "[(1, 1, 1, 1),\n",
       " (1, 1, 1, 2),\n",
       " (1, 1, 1, 3),\n",
       " (1, 1, 1, 4),\n",
       " (1, 1, 1, 5),\n",
       " (1, 1, 1, 6),\n",
       " (1, 1, 2, 1),\n",
       " (1, 1, 2, 2),\n",
       " (1, 1, 2, 3),\n",
       " (1, 1, 2, 4)]"
      ]
     },
     "execution_count": 17,
     "metadata": {},
     "output_type": "execute_result"
    }
   ],
   "source": [
    "dice_4 = list(product(dice, repeat= 4))\n",
    "dice_4[0:10]"
   ]
  },
  {
   "cell_type": "markdown",
   "metadata": {
    "id": "odFzvaRm4y17"
   },
   "source": [
    "**문제 2**\n",
    "\n",
    "만약 주사위를 4 번 던진 결과를  리스트 `roll` 에 저장하자. 예를 들어 4번을 던진 결과를 다음과 같이 저장한다."
   ]
  },
  {
   "cell_type": "code",
   "execution_count": 18,
   "metadata": {
    "id": "eDiLYdhQ4c1s"
   },
   "outputs": [],
   "source": [
    "roll = [6,2,1,1]"
   ]
  },
  {
   "cell_type": "markdown",
   "metadata": {
    "id": "74oY3J4H5TyS"
   },
   "source": [
    "주사위를 4번 던진 결과가 저장된 리스트를 인자 `x` 로 받아서 1의 눈의 개수를 세어주는 함수 `count_one(x)` 을 정의하는 코드를 아래 코드 셀에 작성하시오. "
   ]
  },
  {
   "cell_type": "code",
   "execution_count": 19,
   "metadata": {
    "id": "yAX-wJ4r5rrO"
   },
   "outputs": [],
   "source": [
    "def count_one(x):\n",
    "  total = 0\n",
    "  for value in x:\n",
    "    if value == 1:\n",
    "      total = total + 1\n",
    "  return(total) "
   ]
  },
  {
   "cell_type": "markdown",
   "metadata": {
    "id": "9Ks5D7rD_dFq"
   },
   "source": [
    "함수 `count_one(x)` 가 정확하게 작성되었다면 위에서 주사위를 던진 결과 `roll`을 인자로 주면 출력값이 2가 나와야 합니다. "
   ]
  },
  {
   "cell_type": "code",
   "execution_count": 20,
   "metadata": {
    "colab": {
     "base_uri": "https://localhost:8080/"
    },
    "id": "gJKiYFFexQ6h",
    "outputId": "7e4f603d-4241-4318-b66e-2b41f30007b1"
   },
   "outputs": [
    {
     "data": {
      "text/plain": [
       "2"
      ]
     },
     "execution_count": 20,
     "metadata": {},
     "output_type": "execute_result"
    }
   ],
   "source": [
    "count_one(roll)\n"
   ]
  },
  {
   "cell_type": "markdown",
   "metadata": {
    "id": "2vLELXqU6JTw"
   },
   "source": [
    "**문제 3 - 보너스 문제**\n",
    "\n",
    "보너스 문제는 다른 문제보다 점수가 2배로 주어집니다.\n",
    "\n",
    "이제 위의 문제 1 과 2에서 사용한 프로그램과 함수를 응용하여 **하나의 주사위를  5번 던졌을 때  6의 눈이 두 번 나오는 확률** `p` 을 계산하는 코드를 아래 코드 셀에 작성해 보세요. \n"
   ]
  },
  {
   "cell_type": "code",
   "execution_count": 21,
   "metadata": {
    "colab": {
     "base_uri": "https://localhost:8080/"
    },
    "id": "chWRmnLh9hQW",
    "outputId": "3e233177-75c9-409f-a0fc-92f4f2155ff1"
   },
   "outputs": [
    {
     "data": {
      "text/plain": [
       "0.16075102880658437"
      ]
     },
     "execution_count": 21,
     "metadata": {},
     "output_type": "execute_result"
    }
   ],
   "source": [
    "# 문제 2번을 응용하여 주사위를 여러 번 던질 때 6의 눈이 나온 횟수를 구하는 함수\n",
    "# 함수 `count_six` 는 주사위를 몇번 던지는지 상관없이 6의 눈이 나온 횟수를 구해준다.\n",
    "def count_six(x):\n",
    "  total = 0\n",
    "  for value in x:\n",
    "    if value == 6:\n",
    "      total = total + 1\n",
    "  return(total) \n",
    "\n",
    "# 주사위를 1번 던질 때 가능한 모든 결과, 즉 표본공간 \n",
    "dice = [1,2,3,4,5,6]\n",
    "\n",
    "# 주사위를 5번 던질 때 가능한 모든 결과, 즉 표본공간 \n",
    "dice_5 = list(product(dice, repeat= 5))\n",
    "\n",
    "# 주사위를 5번 던질 때 가능한 모든 결과의 수, 즉 표본공간의 크기 (N)\n",
    "N = len(dice_5)\n",
    "\n",
    "# 주사위를 5번 던질 때 가능한 모든 결과에 대하여 반복하여  \n",
    "# 6의 눈이 두 번 나오는 횟수(n)를 구한다.\n",
    "\n",
    "n = 0\n",
    "\n",
    "for roll in dice_5:\n",
    "  res = count_six(roll)\n",
    "  if res == 2:\n",
    "    n = n + 1\n",
    "\n",
    "# 하나의 주사위를 5번 던졌을 때 6의 눈이 두 번 나오는 확률\n",
    "p = n/N\n",
    "p"
   ]
  }
 ],
 "metadata": {
  "colab": {
   "collapsed_sections": [],
   "provenance": []
  },
  "kernelspec": {
   "display_name": "Python 3.9.13 64-bit",
   "language": "python",
   "name": "python3"
  },
  "language_info": {
   "codemirror_mode": {
    "name": "ipython",
    "version": 3
   },
   "file_extension": ".py",
   "mimetype": "text/x-python",
   "name": "python",
   "nbconvert_exporter": "python",
   "pygments_lexer": "ipython3",
   "version": "3.9.13"
  },
  "vscode": {
   "interpreter": {
    "hash": "aee8b7b246df8f9039afb4144a1f6fd8d2ca17a180786b69acc140d282b71a49"
   }
  }
 },
 "nbformat": 4,
 "nbformat_minor": 1
}
