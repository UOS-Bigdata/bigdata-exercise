{
 "cells": [
  {
   "cell_type": "markdown",
   "id": "62edf2f6",
   "metadata": {},
   "source": [
    "# 조건문과 반복문 연습 노트북\n",
    "\n",
    "이 노트북에서는 조건문과 반복문에 대한 연습을 해봅시다."
   ]
  },
  {
   "cell_type": "code",
   "execution_count": 3,
   "id": "2005656e",
   "metadata": {},
   "outputs": [],
   "source": [
    "import pandas as pd\n",
    "import numpy as np"
   ]
  },
  {
   "cell_type": "markdown",
   "id": "886dde83",
   "metadata": {},
   "source": [
    "## 난수\n",
    "\n",
    "먼저 구간 (0,1) 에서 난수(random number)를 추출하는 `np.random.rand()` 함수를 사용하는 예제를 들어 봅시다."
   ]
  },
  {
   "cell_type": "markdown",
   "id": "8469b4bc",
   "metadata": {},
   "source": [
    "먼저 1개의 난수를 발생시키려면 `np.random.rand(1)`을 실행한다. 아래 코드 셀을 반복해서 실행하면 실행할 때마다 추출한 난수가 달라지는 것을 알 수 있다. "
   ]
  },
  {
   "cell_type": "code",
   "execution_count": 4,
   "id": "ef82365e",
   "metadata": {},
   "outputs": [
    {
     "data": {
      "text/plain": [
       "array([0.88900548])"
      ]
     },
     "execution_count": 4,
     "metadata": {},
     "output_type": "execute_result"
    }
   ],
   "source": [
    "np.random.rand(1)"
   ]
  },
  {
   "cell_type": "markdown",
   "id": "67b70833",
   "metadata": {},
   "source": [
    "여러 개의 난수를 추출하는 경우 원하는 개수를 함수 `np.random.rand(n)` 의 인자(arguement) `n`에 넣어준다."
   ]
  },
  {
   "cell_type": "code",
   "execution_count": 5,
   "id": "495082e8",
   "metadata": {},
   "outputs": [
    {
     "data": {
      "text/plain": [
       "array([0.23459998, 0.89563664, 0.4914406 , 0.43072003, 0.29361073,\n",
       "       0.03823229, 0.99643643, 0.84046679, 0.10494487, 0.37621786])"
      ]
     },
     "execution_count": 5,
     "metadata": {},
     "output_type": "execute_result"
    }
   ],
   "source": [
    "np.random.rand(10)"
   ]
  },
  {
   "cell_type": "markdown",
   "id": "e66d5771",
   "metadata": {},
   "source": [
    " `np.random.rand(n)` 으로 추출한 난수들은 벡터로 나타난다."
   ]
  },
  {
   "cell_type": "code",
   "execution_count": 8,
   "id": "000e0b37",
   "metadata": {},
   "outputs": [],
   "source": [
    "random_numbers  = np.random.rand(20)"
   ]
  },
  {
   "cell_type": "code",
   "execution_count": 9,
   "id": "81c2f974",
   "metadata": {},
   "outputs": [
    {
     "data": {
      "text/plain": [
       "array([0.97185258, 0.07789154, 0.95999865, 0.5148956 , 0.94516439,\n",
       "       0.33040906, 0.38390034, 0.55593455, 0.97042378, 0.04891535,\n",
       "       0.79425625, 0.28713925, 0.52381529, 0.46015222, 0.4964237 ,\n",
       "       0.0470596 , 0.83278277, 0.50598442, 0.02198886, 0.70413954])"
      ]
     },
     "execution_count": 9,
     "metadata": {},
     "output_type": "execute_result"
    }
   ],
   "source": [
    "random_numbers "
   ]
  },
  {
   "cell_type": "markdown",
   "id": "d6c20fce",
   "metadata": {},
   "source": [
    "만약 (0,10)의 구간에서 난수를 추출하고 싶다면 추출한 난수에 10.0 을 곱해주면 된다."
   ]
  },
  {
   "cell_type": "code",
   "execution_count": 10,
   "id": "498f2fc9",
   "metadata": {},
   "outputs": [
    {
     "data": {
      "text/plain": [
       "array([0.51851409, 7.2725167 , 8.10556177, 7.37380418, 5.24395014,\n",
       "       8.20846327, 7.2733213 , 9.36897819, 3.43402526, 5.86642655,\n",
       "       8.11321171, 7.19483919, 2.86165196, 9.90977664, 7.97581272,\n",
       "       0.15705143, 0.64910463, 8.19987107, 6.38140455, 3.24124302])"
      ]
     },
     "execution_count": 10,
     "metadata": {},
     "output_type": "execute_result"
    }
   ],
   "source": [
    "np.random.rand(20)*10.0"
   ]
  },
  {
   "cell_type": "markdown",
   "id": "6443193f",
   "metadata": {},
   "source": [
    "만약 (-5,5)의 구간에서 난수를 추출하고 싶다면 어떻게 하면 될까? 추출한 난수에 10.0 을 곱해주고 5를 빼면 된다."
   ]
  },
  {
   "cell_type": "code",
   "execution_count": 12,
   "id": "c9b40de3",
   "metadata": {},
   "outputs": [
    {
     "data": {
      "text/plain": [
       "array([-4.98767305, -0.56423338,  3.19033574, -1.07190254,  3.5336461 ,\n",
       "       -0.5515447 ,  3.75261551, -0.45358487,  0.08350684, -4.22394142,\n",
       "       -2.46472512,  2.66778768,  1.22063221,  0.01881524, -3.4328301 ,\n",
       "        0.12523345, -3.44079826,  2.53534614,  0.83160643, -2.2989138 ])"
      ]
     },
     "execution_count": 12,
     "metadata": {},
     "output_type": "execute_result"
    }
   ],
   "source": [
    "np.random.rand(20)*10.0 - 5.0"
   ]
  },
  {
   "cell_type": "markdown",
   "id": "a0cfb98f",
   "metadata": {},
   "source": [
    "## 조건문 "
   ]
  },
  {
   "cell_type": "markdown",
   "id": "823de175",
   "metadata": {},
   "source": [
    "주어진 숫자가 짝수인지 홀수인지 판단하는 조건문은?\n",
    "\n",
    "파이썬에서 나눗셈을 하는 경우 나머지을 구하는 연산자는 % 이다."
   ]
  },
  {
   "cell_type": "code",
   "execution_count": 16,
   "id": "5228d313",
   "metadata": {},
   "outputs": [
    {
     "data": {
      "text/plain": [
       "0"
      ]
     },
     "execution_count": 16,
     "metadata": {},
     "output_type": "execute_result"
    }
   ],
   "source": [
    "10%2"
   ]
  },
  {
   "cell_type": "code",
   "execution_count": 17,
   "id": "44bda20a",
   "metadata": {},
   "outputs": [
    {
     "data": {
      "text/plain": [
       "1"
      ]
     },
     "execution_count": 17,
     "metadata": {},
     "output_type": "execute_result"
    }
   ],
   "source": [
    "11%2"
   ]
  },
  {
   "cell_type": "code",
   "execution_count": 21,
   "id": "327a2560",
   "metadata": {},
   "outputs": [],
   "source": [
    "x = 11  # x의 값을 바꾸어서 아래 코드를 실행시켜 보세요"
   ]
  },
  {
   "cell_type": "code",
   "execution_count": 22,
   "id": "2720d4df",
   "metadata": {},
   "outputs": [
    {
     "name": "stdout",
     "output_type": "stream",
     "text": [
      "홀수\n"
     ]
    }
   ],
   "source": [
    "if x%2 ==0 :\n",
    "    print(\"짝수\")\n",
    "else :\n",
    "    print(\"홀수\")"
   ]
  },
  {
   "cell_type": "markdown",
   "id": "9832a518",
   "metadata": {},
   "source": [
    "주어진 숫자가 0과 10 사이에 있는지 판단하는 조건문은?  \n",
    "\n",
    "논리 연산자 \n",
    "\n",
    "- `and` : AND(그리고)\n",
    "- `of` : OR(또는)\n",
    "- `not` : NOT(부정)"
   ]
  },
  {
   "cell_type": "code",
   "execution_count": 70,
   "id": "83f1e952",
   "metadata": {},
   "outputs": [],
   "source": [
    "y = 4 # y의 값을 바꾸어서 아래 코드를 실행시켜 보세요"
   ]
  },
  {
   "cell_type": "code",
   "execution_count": 71,
   "id": "243fb431",
   "metadata": {},
   "outputs": [
    {
     "name": "stdout",
     "output_type": "stream",
     "text": [
      "숫자는 0과 10 사이에 있다.\n"
     ]
    }
   ],
   "source": [
    "if (y >= 0) and (y <= 10) :\n",
    "    print(\"숫자는 0과 10 사이에 있다.\")\n",
    "else :\n",
    "    print('숫자는 0과 10사이에 없다')"
   ]
  },
  {
   "cell_type": "markdown",
   "id": "3ae10a1c",
   "metadata": {},
   "source": [
    "주어진 숫자가 정수형, 부동소숫점 또는 문자열인지 판단하는 조건문은?"
   ]
  },
  {
   "cell_type": "code",
   "execution_count": 72,
   "id": "8a0c0d47",
   "metadata": {},
   "outputs": [],
   "source": [
    "z= 10.0 # z의 자료 형식 값을 바꾸어서 아래 코드를 실행시켜 보세요"
   ]
  },
  {
   "cell_type": "code",
   "execution_count": 73,
   "id": "82faaab6",
   "metadata": {},
   "outputs": [
    {
     "data": {
      "text/plain": [
       "float"
      ]
     },
     "execution_count": 73,
     "metadata": {},
     "output_type": "execute_result"
    }
   ],
   "source": [
    "type(z) "
   ]
  },
  {
   "cell_type": "code",
   "execution_count": 74,
   "id": "c89dc995",
   "metadata": {},
   "outputs": [
    {
     "data": {
      "text/plain": [
       "True"
      ]
     },
     "execution_count": 74,
     "metadata": {},
     "output_type": "execute_result"
    }
   ],
   "source": [
    "type(z) == float"
   ]
  },
  {
   "cell_type": "code",
   "execution_count": 75,
   "id": "69ef5a7a",
   "metadata": {},
   "outputs": [
    {
     "data": {
      "text/plain": [
       "int"
      ]
     },
     "execution_count": 75,
     "metadata": {},
     "output_type": "execute_result"
    }
   ],
   "source": [
    "type(2)"
   ]
  },
  {
   "cell_type": "code",
   "execution_count": 76,
   "id": "aaef49e3",
   "metadata": {},
   "outputs": [
    {
     "data": {
      "text/plain": [
       "str"
      ]
     },
     "execution_count": 76,
     "metadata": {},
     "output_type": "execute_result"
    }
   ],
   "source": [
    "type(\"A\")"
   ]
  },
  {
   "cell_type": "code",
   "execution_count": 77,
   "id": "507f6a0d",
   "metadata": {},
   "outputs": [
    {
     "name": "stdout",
     "output_type": "stream",
     "text": [
      "부동 소수점\n"
     ]
    }
   ],
   "source": [
    "if type(z) == float :\n",
    "    print(\"부동 소수점\")\n",
    "elif type(z) == int :\n",
    "    print(\"정수형\")\n",
    "elif type(x) == str :\n",
    "    print(\"문자열\")\n",
    "else :\n",
    "    print(\"???\")\n",
    "    "
   ]
  },
  {
   "cell_type": "markdown",
   "id": "a4f50676",
   "metadata": {},
   "source": [
    "## 반복문 "
   ]
  },
  {
   "cell_type": "markdown",
   "id": "079e732c",
   "metadata": {},
   "source": [
    "\n",
    "### 주어진 숫자 벡터에서 짝수만 더해주는 작업을 수행하는 반복문"
   ]
  },
  {
   "cell_type": "code",
   "execution_count": 38,
   "id": "f164f2c3",
   "metadata": {},
   "outputs": [
    {
     "data": {
      "text/plain": [
       "array([ 0,  1,  2,  3,  4,  5,  6,  7,  8,  9, 10, 11, 12, 13, 14, 15, 16,\n",
       "       17, 18, 19])"
      ]
     },
     "execution_count": 38,
     "metadata": {},
     "output_type": "execute_result"
    }
   ],
   "source": [
    "numbers_1 = np.arange(20) # z 값을 바꾸어서 아래 코드를 실행시켜 보세요\n",
    "numbers_1"
   ]
  },
  {
   "cell_type": "code",
   "execution_count": 39,
   "id": "8af953c5",
   "metadata": {},
   "outputs": [
    {
     "data": {
      "text/plain": [
       "90"
      ]
     },
     "execution_count": 39,
     "metadata": {},
     "output_type": "execute_result"
    }
   ],
   "source": [
    "sum_1 = 0\n",
    "\n",
    "for value in numbers_1 :\n",
    "    if value % 2 == 0 :\n",
    "        sum_1 = sum_1 + value\n",
    "        \n",
    "sum_1"
   ]
  },
  {
   "cell_type": "markdown",
   "id": "20106212",
   "metadata": {},
   "source": [
    "### 주어진 숫자 벡터에서 짝수와 홀수의 개수를 세어주는 반복문"
   ]
  },
  {
   "cell_type": "code",
   "execution_count": 42,
   "id": "7bd177bd",
   "metadata": {},
   "outputs": [],
   "source": [
    "numbers_2 = np.array([1,2,3,4,5,6,10,33,37 ]) # 값을 바꾸어서 아래 코드를 실행시켜 보세요"
   ]
  },
  {
   "cell_type": "code",
   "execution_count": 43,
   "id": "5d682e70",
   "metadata": {},
   "outputs": [
    {
     "data": {
      "text/plain": [
       "(4, 5)"
      ]
     },
     "execution_count": 43,
     "metadata": {},
     "output_type": "execute_result"
    }
   ],
   "source": [
    "count_even = 0\n",
    "count_odd = 0\n",
    "\n",
    "for value in numbers_2 :\n",
    "    if value % 2 == 0 :\n",
    "        count_even = count_even + 1\n",
    "    elif value % 2 != 0 :\n",
    "        count_odd = count_odd + 1\n",
    "\n",
    "count_even, count_odd"
   ]
  },
  {
   "cell_type": "markdown",
   "id": "a94b340c",
   "metadata": {},
   "source": [
    "### 다음 반복문의 결과는 무었일까요?"
   ]
  },
  {
   "cell_type": "code",
   "execution_count": 44,
   "id": "43ed1408",
   "metadata": {},
   "outputs": [],
   "source": [
    "t = \"*\""
   ]
  },
  {
   "cell_type": "code",
   "execution_count": 45,
   "id": "1dd18931",
   "metadata": {},
   "outputs": [
    {
     "name": "stdout",
     "output_type": "stream",
     "text": [
      "\n",
      "*\n",
      "**\n",
      "***\n",
      "****\n",
      "*****\n",
      "******\n",
      "*******\n",
      "********\n",
      "*********\n"
     ]
    }
   ],
   "source": [
    "for i in np.arange(10):\n",
    "    print(t*i)"
   ]
  },
  {
   "cell_type": "code",
   "execution_count": 52,
   "id": "8119e686",
   "metadata": {},
   "outputs": [
    {
     "name": "stdout",
     "output_type": "stream",
     "text": [
      "\n",
      "*\n",
      "**\n",
      "***\n",
      "****\n",
      "*****\n",
      "******\n",
      "*******\n",
      "********\n",
      "*********\n",
      "**********\n",
      "*********\n",
      "********\n",
      "*******\n",
      "******\n",
      "*****\n",
      "****\n",
      "***\n",
      "**\n"
     ]
    }
   ],
   "source": [
    "for i in np.arange(10):\n",
    "    print(t*i)\n",
    "for j in np.arange(10,1,-1):\n",
    "    print(t*j)    "
   ]
  },
  {
   "cell_type": "markdown",
   "id": "67e3c423",
   "metadata": {},
   "source": [
    "### 피보나치 수열 \n",
    "\n",
    "다음 초기값 $a_0=0$, $a_1=1$ 가 주어진 경우 피보나치(Fibonacci) 수열 12개를 만드는 반복문을 작성해보세요.\n",
    "\n",
    "$$ a_{n+2} = a_{n+1} + a_n ,  \\quad n = 0,1,2,...10 $$"
   ]
  },
  {
   "cell_type": "code",
   "execution_count": 64,
   "id": "fdf2be30",
   "metadata": {},
   "outputs": [],
   "source": [
    "fibonacci = [0,1]"
   ]
  },
  {
   "cell_type": "code",
   "execution_count": 65,
   "id": "e55d7313",
   "metadata": {},
   "outputs": [],
   "source": [
    "for i in np.arange(10) :\n",
    "        z = fibonacci[i+1] + fibonacci[i]\n",
    "        fibonacci.append(z)  # list.append(z): 리스트 list 의 마지막 값으로 z 를 추가하는 메소드이다."
   ]
  },
  {
   "cell_type": "code",
   "execution_count": 66,
   "id": "fd03102e",
   "metadata": {},
   "outputs": [
    {
     "data": {
      "text/plain": [
       "[0, 1, 1, 2, 3, 5, 8, 13, 21, 34, 55, 89]"
      ]
     },
     "execution_count": 66,
     "metadata": {},
     "output_type": "execute_result"
    }
   ],
   "source": [
    "fibonacci"
   ]
  },
  {
   "cell_type": "markdown",
   "id": "5d034944",
   "metadata": {},
   "source": [
    "### 특정 문자의 포함 여부\n",
    "\n",
    "주어진 문자열 리스트에서 각 문자열이 특정한 문자를 포함한 개수를 세는 반복문 "
   ]
  },
  {
   "cell_type": "code",
   "execution_count": 68,
   "id": "d52896fe",
   "metadata": {},
   "outputs": [],
   "source": [
    "student_names = ['김철수', '이용희', '손흥민', '방탄소년', '김용희', '박서준', '김지원']\n",
    "char_to_find = \"용희\""
   ]
  },
  {
   "cell_type": "code",
   "execution_count": 69,
   "id": "d507819e",
   "metadata": {},
   "outputs": [
    {
     "data": {
      "text/plain": [
       "2"
      ]
     },
     "execution_count": 69,
     "metadata": {},
     "output_type": "execute_result"
    }
   ],
   "source": [
    "count = 0\n",
    "for value in student_names :\n",
    "    if char_to_find in value :\n",
    "        count = count + 1\n",
    "count"
   ]
  },
  {
   "cell_type": "markdown",
   "id": "622f5337",
   "metadata": {},
   "source": [
    "### 다음 반복문의 결과는?"
   ]
  },
  {
   "cell_type": "code",
   "execution_count": 83,
   "id": "7cb422f2",
   "metadata": {},
   "outputs": [
    {
     "name": "stdout",
     "output_type": "stream",
     "text": [
      "\n",
      "1\n",
      "22\n",
      "333\n",
      "4444\n",
      "55555\n",
      "666666\n",
      "7777777\n",
      "88888888\n",
      "999999999\n"
     ]
    }
   ],
   "source": [
    "for i in np.arange(10):\n",
    "    print(str(i) * i)"
   ]
  },
  {
   "cell_type": "code",
   "execution_count": 86,
   "id": "b61ca898",
   "metadata": {},
   "outputs": [
    {
     "name": "stdout",
     "output_type": "stream",
     "text": [
      "999999999\n",
      "55555\n",
      "7777777\n",
      "999999999\n",
      "\n",
      "1\n",
      "22\n",
      "88888888\n",
      "666666\n",
      "\n"
     ]
    }
   ],
   "source": [
    "for i in np.arange(10):\n",
    "    x = int(np.random.rand(1)*10)\n",
    "    print(str(x) * x)"
   ]
  },
  {
   "cell_type": "code",
   "execution_count": 98,
   "id": "647aae7b",
   "metadata": {},
   "outputs": [],
   "source": [
    "days = 365\n",
    "p = 0.5\n",
    "\n",
    "date = np.arange(days)\n",
    "money = np.repeat(0.0,days)\n",
    "\n",
    "for i in np.arange(days-1):\n",
    "    if np.random.rand(1) < p:\n",
    "        money[i+1] = money[i] + 1.0\n",
    "    else :\n",
    "        money[i+1] = money[i] - 1.0"
   ]
  },
  {
   "cell_type": "code",
   "execution_count": 99,
   "id": "f5eaca70",
   "metadata": {},
   "outputs": [
    {
     "data": {
      "text/plain": [
       "array([  0.,  -1.,   0.,  -1.,   0.,   1.,   0.,   1.,   2.,   1.,   0.,\n",
       "        -1.,  -2.,  -3.,  -2.,  -3.,  -2.,  -1.,  -2.,  -1.,  -2.,  -1.,\n",
       "        -2.,  -1.,  -2.,  -3.,  -4.,  -5.,  -4.,  -5.,  -6.,  -5.,  -6.,\n",
       "        -5.,  -4.,  -3.,  -2.,  -1.,  -2.,  -3.,  -4.,  -3.,  -2.,  -3.,\n",
       "        -2.,  -3.,  -2.,  -1.,  -2.,  -1.,  -2.,  -3.,  -4.,  -5.,  -4.,\n",
       "        -3.,  -2.,  -3.,  -2.,  -1.,  -2.,  -3.,  -4.,  -5.,  -4.,  -5.,\n",
       "        -6.,  -5.,  -6.,  -7.,  -6.,  -7.,  -8.,  -9., -10.,  -9., -10.,\n",
       "        -9.,  -8.,  -9.,  -8.,  -7.,  -8.,  -7.,  -6.,  -7.,  -8.,  -7.,\n",
       "        -6.,  -5.,  -4.,  -5.,  -6.,  -5.,  -6.,  -5.,  -4.,  -3.,  -2.,\n",
       "        -1.,  -2.,  -3.,  -2.,  -3.,  -2.,  -1.,   0.,   1.,   2.,   3.,\n",
       "         2.,   3.,   4.,   5.,   6.,   5.,   6.,   7.,   8.,   7.,   8.,\n",
       "         7.,   6.,   7.,   8.,   7.,   8.,   7.,   8.,   9.,   8.,   9.,\n",
       "         8.,   7.,   6.,   5.,   6.,   5.,   6.,   7.,   6.,   5.,   6.,\n",
       "         7.,   8.,   9.,   8.,   7.,   6.,   7.,   6.,   5.,   6.,   7.,\n",
       "         8.,   7.,   8.,   9.,   8.,   9.,  10.,   9.,  10.,  11.,  12.,\n",
       "        13.,  14.,  15.,  14.,  13.,  14.,  13.,  14.,  13.,  14.,  13.,\n",
       "        14.,  13.,  14.,  13.,  12.,  11.,  10.,   9.,   8.,   7.,   6.,\n",
       "         5.,   6.,   7.,   8.,   7.,   8.,   7.,   6.,   5.,   6.,   7.,\n",
       "         8.,   9.,  10.,   9.,   8.,   9.,  10.,  11.,  10.,  11.,  12.,\n",
       "        11.,  12.,  13.,  14.,  15.,  16.,  17.,  16.,  17.,  16.,  17.,\n",
       "        16.,  17.,  18.,  17.,  18.,  19.,  18.,  17.,  16.,  15.,  16.,\n",
       "        15.,  14.,  15.,  14.,  13.,  12.,  13.,  12.,  11.,  10.,   9.,\n",
       "        10.,   9.,   8.,   7.,   8.,   9.,  10.,  11.,  10.,   9.,   8.,\n",
       "         7.,   8.,   7.,   8.,   9.,   8.,   9.,  10.,   9.,   8.,   9.,\n",
       "        10.,   9.,  10.,   9.,   8.,   9.,  10.,  11.,  10.,  11.,  10.,\n",
       "        11.,  12.,  13.,  14.,  15.,  16.,  15.,  14.,  15.,  14.,  13.,\n",
       "        14.,  13.,  14.,  15.,  16.,  15.,  14.,  15.,  16.,  17.,  16.,\n",
       "        15.,  16.,  17.,  18.,  17.,  16.,  15.,  16.,  15.,  16.,  17.,\n",
       "        18.,  19.,  20.,  19.,  20.,  19.,  20.,  19.,  20.,  21.,  22.,\n",
       "        23.,  24.,  25.,  26.,  27.,  26.,  27.,  26.,  25.,  24.,  25.,\n",
       "        26.,  27.,  26.,  27.,  26.,  27.,  28.,  27.,  28.,  29.,  28.,\n",
       "        29.,  28.,  27.,  26.,  25.,  24.,  23.,  24.,  23.,  24.,  25.,\n",
       "        26.,  27.,  26.,  25.,  26.,  25.,  26.,  27.,  26.,  25.,  26.,\n",
       "        27.,  28.])"
      ]
     },
     "execution_count": 99,
     "metadata": {},
     "output_type": "execute_result"
    }
   ],
   "source": [
    " money"
   ]
  },
  {
   "cell_type": "code",
   "execution_count": 100,
   "id": "c1f4b195",
   "metadata": {},
   "outputs": [],
   "source": [
    "df = pd.DataFrame({'date':date, 'money':money})\n"
   ]
  },
  {
   "cell_type": "code",
   "execution_count": 101,
   "id": "a094db6b",
   "metadata": {},
   "outputs": [
    {
     "data": {
      "text/plain": [
       "<AxesSubplot:xlabel='date'>"
      ]
     },
     "execution_count": 101,
     "metadata": {},
     "output_type": "execute_result"
    },
    {
     "data": {
      "image/png": "[encoded data removed]",
      "text/plain": [
       "<Figure size 432x288 with 1 Axes>"
      ]
     },
     "metadata": {
      "needs_background": "light"
     },
     "output_type": "display_data"
    }
   ],
   "source": [
    "df.plot(x='date', y='money')"
   ]
  },
  {
   "cell_type": "code",
   "execution_count": null,
   "id": "1129c919",
   "metadata": {},
   "outputs": [],
   "source": []
  }
 ],
 "metadata": {
  "kernelspec": {
   "display_name": "Python 3",
   "language": "python",
   "name": "python3"
  },
  "language_info": {
   "codemirror_mode": {
    "name": "ipython",
    "version": 3
   },
   "file_extension": ".py",
   "mimetype": "text/x-python",
   "name": "python",
   "nbconvert_exporter": "python",
   "pygments_lexer": "ipython3",
   "version": "3.8.10"
  }
 },
 "nbformat": 4,
 "nbformat_minor": 5
}
