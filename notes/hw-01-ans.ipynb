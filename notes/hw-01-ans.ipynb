{
 "cells": [
  {
   "cell_type": "markdown",
   "metadata": {
    "id": "KzYxMWDCyIUE"
   },
   "source": [
    "# 빅데이터개론2 과제 1 - 답안"
   ]
  },
  {
   "cell_type": "markdown",
   "metadata": {
    "id": "P9vZkEPpywF2"
   },
   "source": [
    "각 문제를 읽고 주어진 코드셀에 제시된 변수에 결과를 입력하거나, 주어진 텍스트셀에 답안을 입력하여 제출하세요.  \n",
    "\n",
    "아래는 필요한 라이브러리를 불러오는 코드셀입니다. 반드시 숙제를 시작할 때 먼저 실행시키고 문제에서 적절하게 이용하세요.\n"
   ]
  },
  {
   "cell_type": "code",
   "execution_count": 1,
   "metadata": {
    "id": "BmQYA543GQIs"
   },
   "outputs": [],
   "source": [
    "import math\n",
    "import numpy as np\n",
    "import pandas as pd"
   ]
  },
  {
   "cell_type": "markdown",
   "metadata": {
    "id": "4ECdWdhb18px"
   },
   "source": [
    "**제출기한 : 2022년 10월 6일 23시 59분**"
   ]
  },
  {
   "cell_type": "markdown",
   "metadata": {
    "id": "ew4uy3HByMt0"
   },
   "source": [
    "**다음은 과제의 수행과 제출에 대한 안내입니다.**\n",
    "\n",
    "- 빅데이터개론2 과제는 모두 Colab의 공유 기능을 이용하여 제출하게 됩니다. 자세한 제출방법은 강의시간(또는 동영상)에 알려줄 것입니다.\n",
    "\n",
    "- 제출시 노트북의 이름(화일명)에서 성명과 학번을 자신의 이름과 학번으로 바꾼 후에 제출해야 합니다. \n",
    "\n",
    "  + (예: **`빅데이터개론2_2022F_과제-01-홍길동-12345677.ipynb`**) \n",
    "\n",
    "- **답을 입력하는 셀에 있는 `...`는 지우고 답 또는 표현식을 입력하세요.**\n",
    "\n",
    "- **과제의 코드셀과 텍스트셀의 내용 또는 순서를 변경하지 마세요.**\n",
    "\n",
    "- 과제 노트북의 복사본을 만들거나 다른 노트북을 생성하여 연습할 것을 강력히 권고합니다. \n",
    "\n",
    "\n"
   ]
  },
  {
   "cell_type": "markdown",
   "metadata": {
    "id": "uP0-0szz2oo7"
   },
   "source": [
    "## 1. 표현식"
   ]
  },
  {
   "cell_type": "markdown",
   "metadata": {
    "id": "xwJVRFL22s-e"
   },
   "source": [
    "**문제 1**\n",
    "\n",
    "다음 중 오류가 나는 표현식을 선택하세요. 답은 아래 변수 `exp_ans_1` 에 1,2,3,4 중 한 숫자로 입력하세요.\n",
    "\n",
    "\n",
    "1.  `1 + \"1\"`\n",
    "2.  `1 + 1.3` \n",
    "3.  `\"1\" + \"A\"`\n",
    "4.  `1 + 100`\n"
   ]
  },
  {
   "cell_type": "code",
   "execution_count": 2,
   "metadata": {
    "id": "I67EgkM_4MDe"
   },
   "outputs": [],
   "source": [
    "exp_ans_1 = 1"
   ]
  },
  {
   "cell_type": "markdown",
   "metadata": {},
   "source": [
    "정수형 변수와 문자형 변수는 더할 수 없다!!"
   ]
  },
  {
   "cell_type": "code",
   "execution_count": 3,
   "metadata": {},
   "outputs": [
    {
     "ename": "TypeError",
     "evalue": "unsupported operand type(s) for +: 'int' and 'str'",
     "output_type": "error",
     "traceback": [
      "\u001b[0;31m---------------------------------------------------------------------------\u001b[0m",
      "\u001b[0;31mTypeError\u001b[0m                                 Traceback (most recent call last)",
      "Input \u001b[0;32mIn [3]\u001b[0m, in \u001b[0;36m<cell line: 1>\u001b[0;34m()\u001b[0m\n\u001b[0;32m----> 1\u001b[0m \u001b[38;5;241;43m1\u001b[39;49m\u001b[38;5;241;43m+\u001b[39;49m\u001b[38;5;124;43m\"\u001b[39;49m\u001b[38;5;124;43m1\u001b[39;49m\u001b[38;5;124;43m\"\u001b[39;49m\n",
      "\u001b[0;31mTypeError\u001b[0m: unsupported operand type(s) for +: 'int' and 'str'"
     ]
    }
   ],
   "source": [
    "1+\"1\""
   ]
  },
  {
   "cell_type": "markdown",
   "metadata": {},
   "source": [
    "문자열 변수를 더하면 문자열을 연결하여 새로운 문자열을 만들어 준다.  "
   ]
  },
  {
   "cell_type": "code",
   "execution_count": 4,
   "metadata": {},
   "outputs": [
    {
     "data": {
      "text/plain": [
       "'1A'"
      ]
     },
     "execution_count": 4,
     "metadata": {},
     "output_type": "execute_result"
    }
   ],
   "source": [
    "\"1\" + \"A\""
   ]
  },
  {
   "cell_type": "markdown",
   "metadata": {
    "id": "RpIaIg5l7NWA"
   },
   "source": [
    "**문제 2**\n",
    "\n",
    "아래 코드가 실행되었다고 하자.\n",
    "\n",
    "```\n",
    "a = [1, 2, 3]\n",
    "b = [3, 4, 5]\n",
    "b = [2, 'a', b, a]\n",
    "```\n",
    "\n",
    "다음 표현식의 결과는 무었인지 선택하시오. 답은 아래 변수 `exp_ans_2` 에 1,2,3,4 중 한 숫자로 입력하세요.\n",
    "\n",
    "```\n",
    "b[3]\n",
    "```\n",
    "\n",
    "1. `2`\n",
    "2. `[1, 2, 3]`\n",
    "3. `b`\n",
    "4. `3`"
   ]
  },
  {
   "cell_type": "code",
   "execution_count": 5,
   "metadata": {
    "id": "k0EUqRJO8e56"
   },
   "outputs": [],
   "source": [
    "exp_ans_2 = 2"
   ]
  },
  {
   "cell_type": "code",
   "execution_count": 6,
   "metadata": {},
   "outputs": [
    {
     "data": {
      "text/plain": [
       "[1, 2, 3]"
      ]
     },
     "execution_count": 6,
     "metadata": {},
     "output_type": "execute_result"
    }
   ],
   "source": [
    "a = [1, 2, 3]\n",
    "b = [3, 4, 5]\n",
    "b = [2, 'a', b, a]\n",
    "b[3]"
   ]
  },
  {
   "cell_type": "markdown",
   "metadata": {
    "id": "vLbdtmjX8sab"
   },
   "source": [
    "**문제 3**\n",
    "\n",
    "위 문제 2 에서 제시된 코드가 실행되었을 때 다음 표현식의 결과는 무었인지 선택하시오. 답은 아래 변수 `exp_ans_3` 에 1,2,3,4 중 한 숫자로 입력하세요.\n",
    " \n",
    "```\n",
    "a + b[3]\n",
    "```\n",
    "\n",
    "1. `[1, 2, 3]`\n",
    "2. `[1 ,2, 3, 1, 2, 3]`\n",
    "3. `[1, 2, 3, b]`\n",
    "4.  오류 \n"
   ]
  },
  {
   "cell_type": "code",
   "execution_count": 7,
   "metadata": {
    "id": "RyK7B25t9bXE"
   },
   "outputs": [],
   "source": [
    "exp_ans_3 = 2"
   ]
  },
  {
   "cell_type": "code",
   "execution_count": 8,
   "metadata": {},
   "outputs": [
    {
     "data": {
      "text/plain": [
       "[1, 2, 3, 1, 2, 3]"
      ]
     },
     "execution_count": 8,
     "metadata": {},
     "output_type": "execute_result"
    }
   ],
   "source": [
    "a + b[3]"
   ]
  },
  {
   "cell_type": "markdown",
   "metadata": {
    "id": "J6LlV8d2_En9"
   },
   "source": [
    "## 2.숫자와 행렬"
   ]
  },
  {
   "cell_type": "markdown",
   "metadata": {
    "id": "6J-ZOCAjBMRP"
   },
   "source": [
    "**문제 1**\n",
    "\n",
    "다음 코드를 수행하면 오류가 발생한다.\n",
    "\n",
    "```\n",
    "x = print(100)\n",
    "y = x + 100\n",
    "```\n",
    "\n",
    "그 이유는 변수 `x` 형식과  `100` 의 형식은 더하는(`+`) 연산을 수행할 수 없기 떄문이다. \n",
    "\n",
    "변수 `x` 의 형식(type)을 알아내서 문자열로 `num_ans_1` 에 입력하세오\n"
   ]
  },
  {
   "cell_type": "code",
   "execution_count": 9,
   "metadata": {
    "id": "xuKmrDT8_JQ2"
   },
   "outputs": [],
   "source": [
    "num_ans_1 = \"NoneType\""
   ]
  },
  {
   "cell_type": "code",
   "execution_count": 10,
   "metadata": {},
   "outputs": [
    {
     "ename": "NameError",
     "evalue": "name 'x' is not defined",
     "output_type": "error",
     "traceback": [
      "\u001b[0;31m---------------------------------------------------------------------------\u001b[0m",
      "\u001b[0;31mNameError\u001b[0m                                 Traceback (most recent call last)",
      "Input \u001b[0;32mIn [10]\u001b[0m, in \u001b[0;36m<cell line: 1>\u001b[0;34m()\u001b[0m\n\u001b[0;32m----> 1\u001b[0m \u001b[38;5;28mtype\u001b[39m(\u001b[43mx\u001b[49m)\n",
      "\u001b[0;31mNameError\u001b[0m: name 'x' is not defined"
     ]
    }
   ],
   "source": [
    "type(x)"
   ]
  },
  {
   "cell_type": "code",
   "execution_count": 11,
   "metadata": {},
   "outputs": [
    {
     "name": "stdout",
     "output_type": "stream",
     "text": [
      "100\n"
     ]
    },
    {
     "ename": "TypeError",
     "evalue": "unsupported operand type(s) for +: 'NoneType' and 'int'",
     "output_type": "error",
     "traceback": [
      "\u001b[0;31m---------------------------------------------------------------------------\u001b[0m",
      "\u001b[0;31mTypeError\u001b[0m                                 Traceback (most recent call last)",
      "Input \u001b[0;32mIn [11]\u001b[0m, in \u001b[0;36m<cell line: 2>\u001b[0;34m()\u001b[0m\n\u001b[1;32m      1\u001b[0m x \u001b[38;5;241m=\u001b[39m \u001b[38;5;28mprint\u001b[39m(\u001b[38;5;241m100\u001b[39m)\n\u001b[0;32m----> 2\u001b[0m y \u001b[38;5;241m=\u001b[39m \u001b[43mx\u001b[49m\u001b[43m \u001b[49m\u001b[38;5;241;43m+\u001b[39;49m\u001b[43m \u001b[49m\u001b[38;5;241;43m100\u001b[39;49m\n",
      "\u001b[0;31mTypeError\u001b[0m: unsupported operand type(s) for +: 'NoneType' and 'int'"
     ]
    }
   ],
   "source": [
    "x = print(100)\n",
    "y = x + 100"
   ]
  },
  {
   "cell_type": "markdown",
   "metadata": {},
   "source": [
    "NoneType 은 **값이 없다** 라는 의미를 가지는 자료의 형식입니다.  `print(100)` 은 100이라는 숫자를 우리가 볼 수 있게 출력해주는 기능만 수행합니다. 따라서 `x` 에는 아무 값도 저장되지 않아 형식이 `NonType` 이 되는 것입니다. "
   ]
  },
  {
   "cell_type": "markdown",
   "metadata": {
    "id": "yk8yWf7mF1YP"
   },
   "source": [
    "**문제 2**\n",
    "\n",
    "다음과 같은 행렬의 형태와 원소를 가지는 행렬을 라이브러리`numpy`의 행렬 형식으로 정의하여 변수 `num_ans_2`에 입력하세요.\n",
    "\n",
    "$$\n",
    "\\begin{pmatrix}\n",
    "1 & 2 & 3 & 4\\\\\n",
    "4 & 1 & 2 & 3\\\\\n",
    "3 & 4 & 1 & 2\\\\\n",
    "2 & 3 & 4 & 1\n",
    "\\end{pmatrix}\n",
    "$$"
   ]
  },
  {
   "cell_type": "code",
   "execution_count": 12,
   "metadata": {
    "id": "tdcV-zWAHTv1"
   },
   "outputs": [],
   "source": [
    "num_ans_2 = np.array( [1,2,3,4,4,1,2,3,3,4,1,2,2,3,4,1] ).reshape(4,4)"
   ]
  },
  {
   "cell_type": "code",
   "execution_count": 13,
   "metadata": {},
   "outputs": [
    {
     "data": {
      "text/plain": [
       "array([[1, 2, 3, 4],\n",
       "       [4, 1, 2, 3],\n",
       "       [3, 4, 1, 2],\n",
       "       [2, 3, 4, 1]])"
      ]
     },
     "execution_count": 13,
     "metadata": {},
     "output_type": "execute_result"
    }
   ],
   "source": [
    "num_ans_2"
   ]
  },
  {
   "cell_type": "markdown",
   "metadata": {
    "id": "R23kQn1JHeAi"
   },
   "source": [
    "**문제 3**\n",
    "\n",
    "위의 문제 2에서 정의된 행렬에서 다음과 같은 결과를 얻으려면 어떤 표현식을 입력해야 하는가? \n",
    "\n",
    "$$\n",
    "\\begin{pmatrix}\n",
    "2 & 3 \\\\\n",
    "1 & 2 \\\\\n",
    "4 & 1  \n",
    "\\end{pmatrix}\n",
    "$$\n",
    "\n",
    "문제에 대한 적절한 표현식을 정하고 변수 `num_ans_3` 에 입력하세요 (표현식에서 앞의 문제 2 의 변수 `num_ans_2`를 사용하세요)"
   ]
  },
  {
   "cell_type": "code",
   "execution_count": 14,
   "metadata": {
    "id": "MYUIA0dxIMsn"
   },
   "outputs": [],
   "source": [
    "num_ans_3 = num_ans_2[0:3, 1:3]"
   ]
  },
  {
   "cell_type": "code",
   "execution_count": 15,
   "metadata": {},
   "outputs": [
    {
     "data": {
      "text/plain": [
       "array([[2, 3],\n",
       "       [1, 2],\n",
       "       [4, 1]])"
      ]
     },
     "execution_count": 15,
     "metadata": {},
     "output_type": "execute_result"
    }
   ],
   "source": [
    "num_ans_3"
   ]
  },
  {
   "cell_type": "markdown",
   "metadata": {
    "id": "mnZC600B_Jr7"
   },
   "source": [
    "## 3. 문자열"
   ]
  },
  {
   "cell_type": "markdown",
   "metadata": {
    "id": "QxAfI7Ed_PKE"
   },
   "source": [
    "**문제 1**\n",
    "\n",
    "\n",
    "우리가 글자를 컴퓨터에 입력하는 경우 공백은 공백키(space bar)를 누른다. 하나의 공백(space)으로 시작하는 문자열은 문자 `$` 로 시작하는 문자열보다 순서가 뒤에 있는가?\n",
    "\n",
    "1. `True`\n",
    "2. `False`\n",
    "\n",
    "답은 아래 변수 `chr_ans_1` 에 1,2 중 하나를 입력하세요."
   ]
  },
  {
   "cell_type": "code",
   "execution_count": 16,
   "metadata": {
    "id": "18dsM3gq9iFX"
   },
   "outputs": [],
   "source": [
    "chr_ans_1 = 2"
   ]
  },
  {
   "cell_type": "code",
   "execution_count": 17,
   "metadata": {},
   "outputs": [
    {
     "data": {
      "text/plain": [
       "False"
      ]
     },
     "execution_count": 17,
     "metadata": {},
     "output_type": "execute_result"
    }
   ],
   "source": [
    "'$' < ' '"
   ]
  },
  {
   "cell_type": "code",
   "execution_count": 18,
   "metadata": {},
   "outputs": [
    {
     "data": {
      "text/plain": [
       "False"
      ]
     },
     "execution_count": 18,
     "metadata": {},
     "output_type": "execute_result"
    }
   ],
   "source": [
    "'$t45' < ' A43s'"
   ]
  },
  {
   "cell_type": "markdown",
   "metadata": {
    "id": "_jg4afT9DZkx"
   },
   "source": [
    "**문제 2**\n",
    "\n",
    "아래의 코드가 실행되었다고 하자.\n",
    "\n",
    "```\n",
    "m = \"폭넓은 교양과 심오한 학문적 이론 및 창의적 전문기술을 지닌 지성인을 기른다. 성실한 근면을 바탕으로 책임과 의무를 다하는 건전한 인격을 갖춘 민주 시민을 기른다.\"\n",
    "```\n",
    "\n",
    "위와 같이 변수 `m` 에  저장된 문자열에서  문자 `을` 또는 `를` 이 나타나는 총 횟수를 \n",
    "아래 변수 `chr_ans_2` 에 저장할 수 있도록 표현식을 완성하시오.\n",
    "\n",
    "[힌트] 문자열에 적용되는 메소드 `count()` 를 사용할 수 있다."
   ]
  },
  {
   "cell_type": "code",
   "execution_count": 19,
   "metadata": {
    "id": "_NhBPO7ky0-J"
   },
   "outputs": [],
   "source": [
    "chr_ans_2 = 6"
   ]
  },
  {
   "cell_type": "code",
   "execution_count": 20,
   "metadata": {},
   "outputs": [],
   "source": [
    "m = \"폭넓은 교양과 심오한 학문적 이론 및 창의적 전문기술을 지닌 지성인을 기른다. 성실한 근면을 바탕으로 책임과 의무를 다하는 건전한 인격을 갖춘 민주 시민을 기른다.\""
   ]
  },
  {
   "cell_type": "code",
   "execution_count": 21,
   "metadata": {},
   "outputs": [
    {
     "data": {
      "text/plain": [
       "6"
      ]
     },
     "execution_count": 21,
     "metadata": {},
     "output_type": "execute_result"
    }
   ],
   "source": [
    "m.count('을') + m.count('를') "
   ]
  },
  {
   "cell_type": "markdown",
   "metadata": {
    "id": "u-Dw1sJ55i7D"
   },
   "source": [
    "**문제 3**\n",
    "\n",
    "다음과 같은 문자열을 저장할 수 있도록 아래 변수 `chr_ans_3`에 적절한 문자열을 입력하세요 \n",
    "\n",
    "`그는 \"빨리 오세요\" 라고 외쳤다.` "
   ]
  },
  {
   "cell_type": "code",
   "execution_count": 22,
   "metadata": {
    "id": "KVntQCfNyFWZ"
   },
   "outputs": [],
   "source": [
    "chr_ans_3 =  \"그는 \\\"빨리 오세요\\\" 라고 외쳤다.\""
   ]
  },
  {
   "cell_type": "code",
   "execution_count": 23,
   "metadata": {},
   "outputs": [
    {
     "data": {
      "text/plain": [
       "'그는 \"빨리 오세요\" 라고 외쳤다.'"
      ]
     },
     "execution_count": 23,
     "metadata": {},
     "output_type": "execute_result"
    }
   ],
   "source": [
    "chr_ans_3"
   ]
  },
  {
   "cell_type": "markdown",
   "metadata": {
    "id": "IJ7hL1mo6g34"
   },
   "source": [
    "**문제 4**\n",
    "\n",
    "다음과 같은 디렉토리 이름이 저장될 수 있도록 아래 변수 `chr_ans_4`에 적절한 문자열을 입력하세요\n",
    "\n",
    "`D:\\home\\statistics\\normal`"
   ]
  },
  {
   "cell_type": "code",
   "execution_count": 24,
   "metadata": {
    "id": "SvVro8fo4aNL"
   },
   "outputs": [],
   "source": [
    "chr_ans_4  = r\"D:\\home\\statistics\\normal\""
   ]
  },
  {
   "cell_type": "code",
   "execution_count": 25,
   "metadata": {},
   "outputs": [
    {
     "data": {
      "text/plain": [
       "'D:\\\\home\\\\statistics\\\\normal'"
      ]
     },
     "execution_count": 25,
     "metadata": {},
     "output_type": "execute_result"
    }
   ],
   "source": [
    "chr_ans_4"
   ]
  },
  {
   "cell_type": "code",
   "execution_count": 26,
   "metadata": {},
   "outputs": [
    {
     "name": "stdout",
     "output_type": "stream",
     "text": [
      "D:\\home\\statistics\\normal\n"
     ]
    }
   ],
   "source": [
    "print(chr_ans_4)"
   ]
  },
  {
   "cell_type": "markdown",
   "metadata": {
    "id": "E8kBI-djJFcC"
   },
   "source": [
    "**문제 5**\n",
    "\n",
    "다음과 같은 코드가 실행되었다고 하자.\n",
    "\n",
    "```\n",
    "i = '하'\n",
    "j = '웃으셨다'\n",
    "k = '아버지가'\n",
    "l = '크게'\n",
    "p = ' '\n",
    "```\n",
    "\n",
    "다음 표현식의 결과가 무었인지 선택하시오.\n",
    "\n",
    "```\n",
    "k + p + i*3 + p + j + p + l\n",
    "```\n",
    "\n",
    "답은 아래 변수 `chr_ans_5` 에 1,2,3,4 중 한 숫자로 입력하세요.\n",
    "\n",
    "1. `아버지가 하하하 웃으셨다 크게`\n",
    "2. `아버지가 하하하 크게 웃으셨다`\n",
    "3. `아버지가 크게 하하하 웃우셨다`\n",
    "4.  오류"
   ]
  },
  {
   "cell_type": "code",
   "execution_count": 27,
   "metadata": {
    "id": "VftQo0wE3JEF"
   },
   "outputs": [],
   "source": [
    "chr_ans_5 = 1"
   ]
  },
  {
   "cell_type": "code",
   "execution_count": 28,
   "metadata": {},
   "outputs": [],
   "source": [
    "i = '하'\n",
    "j = '웃으셨다'\n",
    "k = '아버지가'\n",
    "l = '크게'\n",
    "p = ' '"
   ]
  },
  {
   "cell_type": "code",
   "execution_count": 29,
   "metadata": {},
   "outputs": [
    {
     "data": {
      "text/plain": [
       "'아버지가 하하하 웃으셨다 크게'"
      ]
     },
     "execution_count": 29,
     "metadata": {},
     "output_type": "execute_result"
    }
   ],
   "source": [
    "k + p + i*3 + p + j + p + l"
   ]
  },
  {
   "cell_type": "markdown",
   "metadata": {
    "id": "JVvWQ3yj4dMg"
   },
   "source": [
    "## 4. 데이터프레임"
   ]
  },
  {
   "cell_type": "markdown",
   "metadata": {
    "id": "OqS9pYiyEUNt"
   },
   "source": [
    "다음은 온라인교과서의  데이터프레임의 정의와 구성요소에 데이터프레임을 만드는 코드이다.\n",
    "\n",
    "```\n",
    "df = pd.DataFrame(\n",
    "    { 'name' : ['이철수', '김영희', '홍길동', 'John Smith', 'Mary Doe'],\n",
    "      'sex'  : ['M', 'F', 'M', 'M', 'F'],\n",
    "      'age'  : [ 23, 25, 21, 33, 45],\n",
    "      'height' : [153.5, 175.3, 163.4, 180.0, 165.7]\n",
    "    } )\n",
    "```\n",
    "\n",
    "위의 코드가 실행되었다고 가정하고 아래 문제 1 - 문제 2 번까지 답하시오."
   ]
  },
  {
   "cell_type": "code",
   "execution_count": 30,
   "metadata": {},
   "outputs": [],
   "source": [
    "df = pd.DataFrame(\n",
    "    { 'name' : ['이철수', '김영희', '홍길동', 'John Smith', 'Mary Doe'],\n",
    "      'sex'  : ['M', 'F', 'M', 'M', 'F'],\n",
    "      'age'  : [ 23, 25, 21, 33, 45],\n",
    "      'height' : [153.5, 175.3, 163.4, 180.0, 165.7]\n",
    "    } )"
   ]
  },
  {
   "cell_type": "code",
   "execution_count": 31,
   "metadata": {},
   "outputs": [
    {
     "data": {
      "text/html": [
       "<div>\n",
       "<style scoped>\n",
       "    .dataframe tbody tr th:only-of-type {\n",
       "        vertical-align: middle;\n",
       "    }\n",
       "\n",
       "    .dataframe tbody tr th {\n",
       "        vertical-align: top;\n",
       "    }\n",
       "\n",
       "    .dataframe thead th {\n",
       "        text-align: right;\n",
       "    }\n",
       "</style>\n",
       "<table border=\"1\" class=\"dataframe\">\n",
       "  <thead>\n",
       "    <tr style=\"text-align: right;\">\n",
       "      <th></th>\n",
       "      <th>name</th>\n",
       "      <th>sex</th>\n",
       "      <th>age</th>\n",
       "      <th>height</th>\n",
       "    </tr>\n",
       "  </thead>\n",
       "  <tbody>\n",
       "    <tr>\n",
       "      <th>0</th>\n",
       "      <td>이철수</td>\n",
       "      <td>M</td>\n",
       "      <td>23</td>\n",
       "      <td>153.5</td>\n",
       "    </tr>\n",
       "    <tr>\n",
       "      <th>1</th>\n",
       "      <td>김영희</td>\n",
       "      <td>F</td>\n",
       "      <td>25</td>\n",
       "      <td>175.3</td>\n",
       "    </tr>\n",
       "    <tr>\n",
       "      <th>2</th>\n",
       "      <td>홍길동</td>\n",
       "      <td>M</td>\n",
       "      <td>21</td>\n",
       "      <td>163.4</td>\n",
       "    </tr>\n",
       "    <tr>\n",
       "      <th>3</th>\n",
       "      <td>John Smith</td>\n",
       "      <td>M</td>\n",
       "      <td>33</td>\n",
       "      <td>180.0</td>\n",
       "    </tr>\n",
       "    <tr>\n",
       "      <th>4</th>\n",
       "      <td>Mary Doe</td>\n",
       "      <td>F</td>\n",
       "      <td>45</td>\n",
       "      <td>165.7</td>\n",
       "    </tr>\n",
       "  </tbody>\n",
       "</table>\n",
       "</div>"
      ],
      "text/plain": [
       "         name sex  age  height\n",
       "0         이철수   M   23   153.5\n",
       "1         김영희   F   25   175.3\n",
       "2         홍길동   M   21   163.4\n",
       "3  John Smith   M   33   180.0\n",
       "4    Mary Doe   F   45   165.7"
      ]
     },
     "execution_count": 31,
     "metadata": {},
     "output_type": "execute_result"
    }
   ],
   "source": [
    "df"
   ]
  },
  {
   "cell_type": "markdown",
   "metadata": {
    "id": "R-78htSk7WNI"
   },
   "source": [
    "**문제 1**\n",
    "\n",
    "위에서 정의된 데이터프레임 `df` 에서 두 개의 열 `sex` 와 `age` 만 슬라이싱하여 아래 변수 `df_ans_` 에 저장하는 표현식을 완성하시오. \n"
   ]
  },
  {
   "cell_type": "code",
   "execution_count": 32,
   "metadata": {
    "id": "Ev11pw_-9qwl"
   },
   "outputs": [],
   "source": [
    "df_ans_1 = df[['sex', 'age']]"
   ]
  },
  {
   "cell_type": "code",
   "execution_count": 33,
   "metadata": {},
   "outputs": [
    {
     "data": {
      "text/html": [
       "<div>\n",
       "<style scoped>\n",
       "    .dataframe tbody tr th:only-of-type {\n",
       "        vertical-align: middle;\n",
       "    }\n",
       "\n",
       "    .dataframe tbody tr th {\n",
       "        vertical-align: top;\n",
       "    }\n",
       "\n",
       "    .dataframe thead th {\n",
       "        text-align: right;\n",
       "    }\n",
       "</style>\n",
       "<table border=\"1\" class=\"dataframe\">\n",
       "  <thead>\n",
       "    <tr style=\"text-align: right;\">\n",
       "      <th></th>\n",
       "      <th>sex</th>\n",
       "      <th>age</th>\n",
       "    </tr>\n",
       "  </thead>\n",
       "  <tbody>\n",
       "    <tr>\n",
       "      <th>0</th>\n",
       "      <td>M</td>\n",
       "      <td>23</td>\n",
       "    </tr>\n",
       "    <tr>\n",
       "      <th>1</th>\n",
       "      <td>F</td>\n",
       "      <td>25</td>\n",
       "    </tr>\n",
       "    <tr>\n",
       "      <th>2</th>\n",
       "      <td>M</td>\n",
       "      <td>21</td>\n",
       "    </tr>\n",
       "    <tr>\n",
       "      <th>3</th>\n",
       "      <td>M</td>\n",
       "      <td>33</td>\n",
       "    </tr>\n",
       "    <tr>\n",
       "      <th>4</th>\n",
       "      <td>F</td>\n",
       "      <td>45</td>\n",
       "    </tr>\n",
       "  </tbody>\n",
       "</table>\n",
       "</div>"
      ],
      "text/plain": [
       "  sex  age\n",
       "0   M   23\n",
       "1   F   25\n",
       "2   M   21\n",
       "3   M   33\n",
       "4   F   45"
      ]
     },
     "execution_count": 33,
     "metadata": {},
     "output_type": "execute_result"
    }
   ],
   "source": [
    "df_ans_1"
   ]
  },
  {
   "cell_type": "markdown",
   "metadata": {
    "id": "wSvETMB-93dS"
   },
   "source": [
    "**문제 2**\n",
    "\n",
    "데이터프레임 `df` 에서 여성이고 키가 170 이하인 사람 만으로 구성된 자료를 데이터프레임으로 만들려고 한다.\n",
    "\n",
    "적절한 표현식을 작성하여 결과를 아래 `df_ans_2` 에 저장히시요 "
   ]
  },
  {
   "cell_type": "code",
   "execution_count": 34,
   "metadata": {
    "id": "5-3HOUF0-snO"
   },
   "outputs": [],
   "source": [
    "df_ans_2 = df[ (df['sex'] == 'F') & (df['height'] <= 170)]"
   ]
  },
  {
   "cell_type": "code",
   "execution_count": 35,
   "metadata": {},
   "outputs": [
    {
     "data": {
      "text/html": [
       "<div>\n",
       "<style scoped>\n",
       "    .dataframe tbody tr th:only-of-type {\n",
       "        vertical-align: middle;\n",
       "    }\n",
       "\n",
       "    .dataframe tbody tr th {\n",
       "        vertical-align: top;\n",
       "    }\n",
       "\n",
       "    .dataframe thead th {\n",
       "        text-align: right;\n",
       "    }\n",
       "</style>\n",
       "<table border=\"1\" class=\"dataframe\">\n",
       "  <thead>\n",
       "    <tr style=\"text-align: right;\">\n",
       "      <th></th>\n",
       "      <th>name</th>\n",
       "      <th>sex</th>\n",
       "      <th>age</th>\n",
       "      <th>height</th>\n",
       "    </tr>\n",
       "  </thead>\n",
       "  <tbody>\n",
       "    <tr>\n",
       "      <th>4</th>\n",
       "      <td>Mary Doe</td>\n",
       "      <td>F</td>\n",
       "      <td>45</td>\n",
       "      <td>165.7</td>\n",
       "    </tr>\n",
       "  </tbody>\n",
       "</table>\n",
       "</div>"
      ],
      "text/plain": [
       "       name sex  age  height\n",
       "4  Mary Doe   F   45   165.7"
      ]
     },
     "execution_count": 35,
     "metadata": {},
     "output_type": "execute_result"
    }
   ],
   "source": [
    "df_ans_2 "
   ]
  },
  {
   "cell_type": "markdown",
   "metadata": {
    "id": "HeG-Hwws7aJC"
   },
   "source": [
    "**문제 3**\n",
    "\n",
    "다음과 같이 3개의 열을 가진 데이터프레임 `df_ans_3` 을 만드는 표현식을 아래 코드셀에 입력하시오.\n",
    "\n",
    "| | name | age |\tweight|\n",
    "|--|------:|-----:|-------:|\n",
    "| 0 | A\t| 12\t|60.5|\n",
    "| 1 |\tB\t| 13\t|75.3|\n",
    "|2\t|C\t|14\t|47.3 |\n",
    "\n"
   ]
  },
  {
   "cell_type": "code",
   "execution_count": 36,
   "metadata": {
    "id": "miRYAXOD-1pw"
   },
   "outputs": [],
   "source": [
    "df_ans_3  = pd.DataFrame( {\n",
    "    'name' : [ 'A', 'B', 'C' ],\n",
    "     'age' : [12, 13, 14 ],\n",
    "     'weight' : [ 60.5, 75.3, 47.3]\n",
    "})"
   ]
  },
  {
   "cell_type": "code",
   "execution_count": 37,
   "metadata": {},
   "outputs": [
    {
     "data": {
      "text/html": [
       "<div>\n",
       "<style scoped>\n",
       "    .dataframe tbody tr th:only-of-type {\n",
       "        vertical-align: middle;\n",
       "    }\n",
       "\n",
       "    .dataframe tbody tr th {\n",
       "        vertical-align: top;\n",
       "    }\n",
       "\n",
       "    .dataframe thead th {\n",
       "        text-align: right;\n",
       "    }\n",
       "</style>\n",
       "<table border=\"1\" class=\"dataframe\">\n",
       "  <thead>\n",
       "    <tr style=\"text-align: right;\">\n",
       "      <th></th>\n",
       "      <th>name</th>\n",
       "      <th>age</th>\n",
       "      <th>weight</th>\n",
       "    </tr>\n",
       "  </thead>\n",
       "  <tbody>\n",
       "    <tr>\n",
       "      <th>0</th>\n",
       "      <td>A</td>\n",
       "      <td>12</td>\n",
       "      <td>60.5</td>\n",
       "    </tr>\n",
       "    <tr>\n",
       "      <th>1</th>\n",
       "      <td>B</td>\n",
       "      <td>13</td>\n",
       "      <td>75.3</td>\n",
       "    </tr>\n",
       "    <tr>\n",
       "      <th>2</th>\n",
       "      <td>C</td>\n",
       "      <td>14</td>\n",
       "      <td>47.3</td>\n",
       "    </tr>\n",
       "  </tbody>\n",
       "</table>\n",
       "</div>"
      ],
      "text/plain": [
       "  name  age  weight\n",
       "0    A   12    60.5\n",
       "1    B   13    75.3\n",
       "2    C   14    47.3"
      ]
     },
     "execution_count": 37,
     "metadata": {},
     "output_type": "execute_result"
    }
   ],
   "source": [
    "df_ans_3"
   ]
  },
  {
   "cell_type": "code",
   "execution_count": null,
   "metadata": {},
   "outputs": [],
   "source": []
  }
 ],
 "metadata": {
  "colab": {
   "collapsed_sections": [],
   "provenance": []
  },
  "kernelspec": {
   "display_name": "Python 3 (ipykernel)",
   "language": "python",
   "name": "python3"
  },
  "language_info": {
   "codemirror_mode": {
    "name": "ipython",
    "version": 3
   },
   "file_extension": ".py",
   "mimetype": "text/x-python",
   "name": "python",
   "nbconvert_exporter": "python",
   "pygments_lexer": "ipython3",
   "version": "3.8.8"
  }
 },
 "nbformat": 4,
 "nbformat_minor": 1
}
