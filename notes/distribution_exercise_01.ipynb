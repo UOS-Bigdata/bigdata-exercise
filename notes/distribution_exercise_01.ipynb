{
  "nbformat": 4,
  "nbformat_minor": 0,
  "metadata": {
    "colab": {
      "provenance": [],
      "collapsed_sections": []
    },
    "kernelspec": {
      "name": "python3",
      "display_name": "Python 3"
    },
    "language_info": {
      "name": "python"
    }
  },
  "cells": [
    {
      "cell_type": "markdown",
      "metadata": {
        "id": "PAgD3ReRZk26"
      },
      "source": [
        "# 자료의 분포 - 시각화와 요약 통계량 - 연습"
      ]
    },
    {
      "cell_type": "markdown",
      "metadata": {
        "id": "ommsWLsnZsEA"
      },
      "source": [
        "이 노트북은 자료의 분포에 대한 시각화를 이용한 탐색적 분석과 요약 통계량을 구하는 연습입니다.\n",
        "\n",
        "교과서에서 본 체력 측정자료에서 우리가 공부한 키, 몸무게와 같은 자료는 평균을 중심으로 대칭인 분포를 가지는 자료입니다. \n",
        "\n",
        "이번 연습에 사용될 자료는 서울특별시 공공자전거 대여 [이력 자료](https://data.seoul.go.kr/dataList/OA-20447/A/1/datasetView.do)를 이용할 것입니다. **분석할 변수는 자전거 이용 시간(`duration`, 분)과 거리(`distance`, m)** 입니다. 시간과 거리의 분포는 체력 자료와 매우 다른 분포를 가지는 것을 볼 수 있습니다.\n",
        "\n",
        "먼저 분석에 필요한 라이브러리를 불러오고 한글 처리에 필요한 코드를 실행합니다."
      ]
    },
    {
      "cell_type": "code",
      "metadata": {
        "id": "f3BlEtcdcKc6"
      },
      "source": [
        "# 라이므러리 불러오기\n",
        "import pandas as pd\n",
        "import numpy as np\n",
        "import seaborn as sns"
      ],
      "execution_count": 1,
      "outputs": []
    },
    {
      "cell_type": "code",
      "metadata": {
        "id": "p-7DeTsPcFK4"
      },
      "source": [
        "# 그림 그리기를 위한 코드\n",
        "import matplotlib.pyplot as plt\n",
        "from matplotlib import rc\n",
        "%matplotlib inline\n",
        "\n",
        "# clolab 에서 그림을 그릴 때 한글을 사용하려면 필요한 코드입니다. \n",
        "plt.rc('font', family='NanumBarunGothic') \n",
        "plt.rcParams['axes.unicode_minus'] = False \n",
        "\n",
        "# 그림 크기 조정 \n",
        "plt.rcParams[\"figure.figsize\"] = (8,8)   \n"
      ],
      "execution_count": 2,
      "outputs": []
    },
    {
      "cell_type": "markdown",
      "metadata": {
        "id": "gd_EgUBabeeZ"
      },
      "source": [
        "## 1. 자료불러오기 \n",
        "\n",
        "자료는 두 개의 화일로 구성됩니다. 자료는 [서울시 열린데이터 광장 사이트](https://data.seoul.go.kr/dataList/OA-15182/F/1/datasetView.do#)에서 다운로드받은 자료입니다. \n",
        "\n",
        " - 서울시 공공 자전거 대여 이력 자료(2019년 9월 한달 자료) \n",
        " - 서울시 공공 자전거 대여소 정보 자료 (2021년 6월의 대여서 현황자료)\n",
        "\n",
        "**참고**: 최근 2020년 자료도 있지만 자료의 크기가 다소 크기 때문에 `colab` 을 이용할 시 시간이 오래 걸립니다. 관심있는 사람들은 최근자료를 다운로드 받아 아래 제시된 코드를 이용하여 실습해보세요. \n"
      ]
    },
    {
      "cell_type": "markdown",
      "metadata": {
        "id": "87Y3REM7dr2M"
      },
      "source": [
        " ### 서울시 공공 자전거 대여 이력 자료 불러 오기\n",
        " \n",
        " 1. 먼저 서울시 공공 자전거 대여 이력 자료를 불러 들여 데이터프레임 `bike0` 에 저장\n",
        " 2. 열이름을 영문으로 바꾸고 열이름에 대한 정보를 가진 데이터프레임 `col_info`를 생성 \n",
        " 3. 대여시간에 대한 두 개의 변수를 시간 변수로 변환 "
      ]
    },
    {
      "cell_type": "code",
      "metadata": {
        "id": "v49RPk_VZdsb"
      },
      "source": [
        "url1 = \"https://ilovedata.github.io/teaching/bigdata2/data/seoul_bike_201909_3.csv\"\n",
        "bike0 = pd.read_csv(url1, encoding=\"CP949\")"
      ],
      "execution_count": 3,
      "outputs": []
    },
    {
      "cell_type": "code",
      "source": [
        "bike0.head(10)"
      ],
      "metadata": {
        "colab": {
          "base_uri": "https://localhost:8080/",
          "height": 407
        },
        "id": "HhQ7zsf49Cwy",
        "outputId": "6249994f-44e4-48e0-d47e-1244c2ad2f1e"
      },
      "execution_count": 4,
      "outputs": [
        {
          "output_type": "execute_result",
          "data": {
            "text/plain": [
              "       자전거번호                 대여일시  대여 대여소번호        대여 대여소명  대여거치대  \\\n",
              "0  SPB-17003  2019-09-28 16:10:55       368      SK 서린빌딩 앞      4   \n",
              "1  SPB-14405  2019-09-28 16:48:16      2024       상도역 1번출구      3   \n",
              "2  SPB-18431  2019-09-28 16:59:54      2002       노들역 1번출구     10   \n",
              "3  SPB-04853  2019-09-28 15:31:49       207   여의나루역 1번출구 앞     32   \n",
              "4  SPB-11122  2019-09-28 15:35:41       207   여의나루역 1번출구 앞     14   \n",
              "5  SPB-23089  2019-09-28 17:02:37      2003         사육신공원앞      5   \n",
              "6  SPB-15669  2019-09-28 16:17:54      2213  고속터미널역 5번출구 앞      7   \n",
              "7  SPB-09727  2019-09-28 17:04:56      2002       노들역 1번출구      5   \n",
              "8  SPB-10053  2019-09-28 16:59:45      2002       노들역 1번출구      3   \n",
              "9  SPB-14487  2019-09-28 16:01:41      2024       상도역 1번출구      5   \n",
              "\n",
              "                  반납일시  반납대여소번호    반납대여소명  반납거치대  이용시간     이용거리  \n",
              "0  2019-09-28 17:03:32     2002  노들역 1번출구     14    52   8940.0  \n",
              "1  2019-09-28 17:03:44     2002  노들역 1번출구     18    15   1910.0  \n",
              "2  2019-09-28 17:03:57     2002  노들역 1번출구     10     2     30.0  \n",
              "3  2019-09-28 17:10:12     2002  노들역 1번출구     19    98   9610.0  \n",
              "4  2019-09-28 17:10:37     2002  노들역 1번출구     18    90   9450.0  \n",
              "5  2019-09-28 17:13:44     2002  노들역 1번출구     10    10   1410.0  \n",
              "6  2019-09-28 17:14:22     2002  노들역 1번출구      8    56      0.0  \n",
              "7  2019-09-28 17:17:10     2002  노들역 1번출구     17    11    380.0  \n",
              "8  2019-09-28 17:17:53     2002  노들역 1번출구      5    17   1080.0  \n",
              "9  2019-09-28 17:20:44     2002  노들역 1번출구     14    78  13870.0  "
            ],
            "text/html": [
              "\n",
              "  <div id=\"df-bdcf7395-78e2-4977-aa4f-8d3d1dc678e7\">\n",
              "    <div class=\"colab-df-container\">\n",
              "      <div>\n",
              "<style scoped>\n",
              "    .dataframe tbody tr th:only-of-type {\n",
              "        vertical-align: middle;\n",
              "    }\n",
              "\n",
              "    .dataframe tbody tr th {\n",
              "        vertical-align: top;\n",
              "    }\n",
              "\n",
              "    .dataframe thead th {\n",
              "        text-align: right;\n",
              "    }\n",
              "</style>\n",
              "<table border=\"1\" class=\"dataframe\">\n",
              "  <thead>\n",
              "    <tr style=\"text-align: right;\">\n",
              "      <th></th>\n",
              "      <th>자전거번호</th>\n",
              "      <th>대여일시</th>\n",
              "      <th>대여 대여소번호</th>\n",
              "      <th>대여 대여소명</th>\n",
              "      <th>대여거치대</th>\n",
              "      <th>반납일시</th>\n",
              "      <th>반납대여소번호</th>\n",
              "      <th>반납대여소명</th>\n",
              "      <th>반납거치대</th>\n",
              "      <th>이용시간</th>\n",
              "      <th>이용거리</th>\n",
              "    </tr>\n",
              "  </thead>\n",
              "  <tbody>\n",
              "    <tr>\n",
              "      <th>0</th>\n",
              "      <td>SPB-17003</td>\n",
              "      <td>2019-09-28 16:10:55</td>\n",
              "      <td>368</td>\n",
              "      <td>SK 서린빌딩 앞</td>\n",
              "      <td>4</td>\n",
              "      <td>2019-09-28 17:03:32</td>\n",
              "      <td>2002</td>\n",
              "      <td>노들역 1번출구</td>\n",
              "      <td>14</td>\n",
              "      <td>52</td>\n",
              "      <td>8940.0</td>\n",
              "    </tr>\n",
              "    <tr>\n",
              "      <th>1</th>\n",
              "      <td>SPB-14405</td>\n",
              "      <td>2019-09-28 16:48:16</td>\n",
              "      <td>2024</td>\n",
              "      <td>상도역 1번출구</td>\n",
              "      <td>3</td>\n",
              "      <td>2019-09-28 17:03:44</td>\n",
              "      <td>2002</td>\n",
              "      <td>노들역 1번출구</td>\n",
              "      <td>18</td>\n",
              "      <td>15</td>\n",
              "      <td>1910.0</td>\n",
              "    </tr>\n",
              "    <tr>\n",
              "      <th>2</th>\n",
              "      <td>SPB-18431</td>\n",
              "      <td>2019-09-28 16:59:54</td>\n",
              "      <td>2002</td>\n",
              "      <td>노들역 1번출구</td>\n",
              "      <td>10</td>\n",
              "      <td>2019-09-28 17:03:57</td>\n",
              "      <td>2002</td>\n",
              "      <td>노들역 1번출구</td>\n",
              "      <td>10</td>\n",
              "      <td>2</td>\n",
              "      <td>30.0</td>\n",
              "    </tr>\n",
              "    <tr>\n",
              "      <th>3</th>\n",
              "      <td>SPB-04853</td>\n",
              "      <td>2019-09-28 15:31:49</td>\n",
              "      <td>207</td>\n",
              "      <td>여의나루역 1번출구 앞</td>\n",
              "      <td>32</td>\n",
              "      <td>2019-09-28 17:10:12</td>\n",
              "      <td>2002</td>\n",
              "      <td>노들역 1번출구</td>\n",
              "      <td>19</td>\n",
              "      <td>98</td>\n",
              "      <td>9610.0</td>\n",
              "    </tr>\n",
              "    <tr>\n",
              "      <th>4</th>\n",
              "      <td>SPB-11122</td>\n",
              "      <td>2019-09-28 15:35:41</td>\n",
              "      <td>207</td>\n",
              "      <td>여의나루역 1번출구 앞</td>\n",
              "      <td>14</td>\n",
              "      <td>2019-09-28 17:10:37</td>\n",
              "      <td>2002</td>\n",
              "      <td>노들역 1번출구</td>\n",
              "      <td>18</td>\n",
              "      <td>90</td>\n",
              "      <td>9450.0</td>\n",
              "    </tr>\n",
              "    <tr>\n",
              "      <th>5</th>\n",
              "      <td>SPB-23089</td>\n",
              "      <td>2019-09-28 17:02:37</td>\n",
              "      <td>2003</td>\n",
              "      <td>사육신공원앞</td>\n",
              "      <td>5</td>\n",
              "      <td>2019-09-28 17:13:44</td>\n",
              "      <td>2002</td>\n",
              "      <td>노들역 1번출구</td>\n",
              "      <td>10</td>\n",
              "      <td>10</td>\n",
              "      <td>1410.0</td>\n",
              "    </tr>\n",
              "    <tr>\n",
              "      <th>6</th>\n",
              "      <td>SPB-15669</td>\n",
              "      <td>2019-09-28 16:17:54</td>\n",
              "      <td>2213</td>\n",
              "      <td>고속터미널역 5번출구 앞</td>\n",
              "      <td>7</td>\n",
              "      <td>2019-09-28 17:14:22</td>\n",
              "      <td>2002</td>\n",
              "      <td>노들역 1번출구</td>\n",
              "      <td>8</td>\n",
              "      <td>56</td>\n",
              "      <td>0.0</td>\n",
              "    </tr>\n",
              "    <tr>\n",
              "      <th>7</th>\n",
              "      <td>SPB-09727</td>\n",
              "      <td>2019-09-28 17:04:56</td>\n",
              "      <td>2002</td>\n",
              "      <td>노들역 1번출구</td>\n",
              "      <td>5</td>\n",
              "      <td>2019-09-28 17:17:10</td>\n",
              "      <td>2002</td>\n",
              "      <td>노들역 1번출구</td>\n",
              "      <td>17</td>\n",
              "      <td>11</td>\n",
              "      <td>380.0</td>\n",
              "    </tr>\n",
              "    <tr>\n",
              "      <th>8</th>\n",
              "      <td>SPB-10053</td>\n",
              "      <td>2019-09-28 16:59:45</td>\n",
              "      <td>2002</td>\n",
              "      <td>노들역 1번출구</td>\n",
              "      <td>3</td>\n",
              "      <td>2019-09-28 17:17:53</td>\n",
              "      <td>2002</td>\n",
              "      <td>노들역 1번출구</td>\n",
              "      <td>5</td>\n",
              "      <td>17</td>\n",
              "      <td>1080.0</td>\n",
              "    </tr>\n",
              "    <tr>\n",
              "      <th>9</th>\n",
              "      <td>SPB-14487</td>\n",
              "      <td>2019-09-28 16:01:41</td>\n",
              "      <td>2024</td>\n",
              "      <td>상도역 1번출구</td>\n",
              "      <td>5</td>\n",
              "      <td>2019-09-28 17:20:44</td>\n",
              "      <td>2002</td>\n",
              "      <td>노들역 1번출구</td>\n",
              "      <td>14</td>\n",
              "      <td>78</td>\n",
              "      <td>13870.0</td>\n",
              "    </tr>\n",
              "  </tbody>\n",
              "</table>\n",
              "</div>\n",
              "      <button class=\"colab-df-convert\" onclick=\"convertToInteractive('df-bdcf7395-78e2-4977-aa4f-8d3d1dc678e7')\"\n",
              "              title=\"Convert this dataframe to an interactive table.\"\n",
              "              style=\"display:none;\">\n",
              "        \n",
              "  <svg xmlns=\"http://www.w3.org/2000/svg\" height=\"24px\"viewBox=\"0 0 24 24\"\n",
              "       width=\"24px\">\n",
              "    <path d=\"M0 0h24v24H0V0z\" fill=\"none\"/>\n",
              "    <path d=\"M18.56 5.44l.94 2.06.94-2.06 2.06-.94-2.06-.94-.94-2.06-.94 2.06-2.06.94zm-11 1L8.5 8.5l.94-2.06 2.06-.94-2.06-.94L8.5 2.5l-.94 2.06-2.06.94zm10 10l.94 2.06.94-2.06 2.06-.94-2.06-.94-.94-2.06-.94 2.06-2.06.94z\"/><path d=\"M17.41 7.96l-1.37-1.37c-.4-.4-.92-.59-1.43-.59-.52 0-1.04.2-1.43.59L10.3 9.45l-7.72 7.72c-.78.78-.78 2.05 0 2.83L4 21.41c.39.39.9.59 1.41.59.51 0 1.02-.2 1.41-.59l7.78-7.78 2.81-2.81c.8-.78.8-2.07 0-2.86zM5.41 20L4 18.59l7.72-7.72 1.47 1.35L5.41 20z\"/>\n",
              "  </svg>\n",
              "      </button>\n",
              "      \n",
              "  <style>\n",
              "    .colab-df-container {\n",
              "      display:flex;\n",
              "      flex-wrap:wrap;\n",
              "      gap: 12px;\n",
              "    }\n",
              "\n",
              "    .colab-df-convert {\n",
              "      background-color: #E8F0FE;\n",
              "      border: none;\n",
              "      border-radius: 50%;\n",
              "      cursor: pointer;\n",
              "      display: none;\n",
              "      fill: #1967D2;\n",
              "      height: 32px;\n",
              "      padding: 0 0 0 0;\n",
              "      width: 32px;\n",
              "    }\n",
              "\n",
              "    .colab-df-convert:hover {\n",
              "      background-color: #E2EBFA;\n",
              "      box-shadow: 0px 1px 2px rgba(60, 64, 67, 0.3), 0px 1px 3px 1px rgba(60, 64, 67, 0.15);\n",
              "      fill: #174EA6;\n",
              "    }\n",
              "\n",
              "    [theme=dark] .colab-df-convert {\n",
              "      background-color: #3B4455;\n",
              "      fill: #D2E3FC;\n",
              "    }\n",
              "\n",
              "    [theme=dark] .colab-df-convert:hover {\n",
              "      background-color: #434B5C;\n",
              "      box-shadow: 0px 1px 3px 1px rgba(0, 0, 0, 0.15);\n",
              "      filter: drop-shadow(0px 1px 2px rgba(0, 0, 0, 0.3));\n",
              "      fill: #FFFFFF;\n",
              "    }\n",
              "  </style>\n",
              "\n",
              "      <script>\n",
              "        const buttonEl =\n",
              "          document.querySelector('#df-bdcf7395-78e2-4977-aa4f-8d3d1dc678e7 button.colab-df-convert');\n",
              "        buttonEl.style.display =\n",
              "          google.colab.kernel.accessAllowed ? 'block' : 'none';\n",
              "\n",
              "        async function convertToInteractive(key) {\n",
              "          const element = document.querySelector('#df-bdcf7395-78e2-4977-aa4f-8d3d1dc678e7');\n",
              "          const dataTable =\n",
              "            await google.colab.kernel.invokeFunction('convertToInteractive',\n",
              "                                                     [key], {});\n",
              "          if (!dataTable) return;\n",
              "\n",
              "          const docLinkHtml = 'Like what you see? Visit the ' +\n",
              "            '<a target=\"_blank\" href=https://colab.research.google.com/notebooks/data_table.ipynb>data table notebook</a>'\n",
              "            + ' to learn more about interactive tables.';\n",
              "          element.innerHTML = '';\n",
              "          dataTable['output_type'] = 'display_data';\n",
              "          await google.colab.output.renderOutput(dataTable, element);\n",
              "          const docLink = document.createElement('div');\n",
              "          docLink.innerHTML = docLinkHtml;\n",
              "          element.appendChild(docLink);\n",
              "        }\n",
              "      </script>\n",
              "    </div>\n",
              "  </div>\n",
              "  "
            ]
          },
          "metadata": {},
          "execution_count": 4
        }
      ]
    },
    {
      "cell_type": "code",
      "source": [
        "bike0.shape"
      ],
      "metadata": {
        "colab": {
          "base_uri": "https://localhost:8080/"
        },
        "id": "b5BdBpCo-321",
        "outputId": "5624eb1e-5276-468b-8055-c371e68dc49e"
      },
      "execution_count": 5,
      "outputs": [
        {
          "output_type": "execute_result",
          "data": {
            "text/plain": [
              "(407589, 11)"
            ]
          },
          "metadata": {},
          "execution_count": 5
        }
      ]
    },
    {
      "cell_type": "code",
      "source": [
        "bike0.dtypes"
      ],
      "metadata": {
        "colab": {
          "base_uri": "https://localhost:8080/"
        },
        "id": "0w-3Wi_a95Z_",
        "outputId": "e4880ddd-06fb-4bd0-f01f-26aee181d54e"
      },
      "execution_count": 6,
      "outputs": [
        {
          "output_type": "execute_result",
          "data": {
            "text/plain": [
              "자전거번호        object\n",
              "대여일시         object\n",
              "대여 대여소번호      int64\n",
              "대여 대여소명      object\n",
              "대여거치대         int64\n",
              "반납일시         object\n",
              "반납대여소번호       int64\n",
              "반납대여소명       object\n",
              "반납거치대         int64\n",
              "이용시간          int64\n",
              "이용거리        float64\n",
              "dtype: object"
            ]
          },
          "metadata": {},
          "execution_count": 6
        }
      ]
    },
    {
      "cell_type": "code",
      "metadata": {
        "id": "jruFwCuveVND"
      },
      "source": [
        "colnames_old = bike0.columns\n",
        "colnames_new = [\"bike_ID\", \"time_start\",\"station_ID_start\", \"station_name_start\", \"spot_ID_start\", \"time_end\", \"station_ID_end\", \"station_name_end\", \"sopt_ID_end\",\"duration\", \"distance\"]"
      ],
      "execution_count": 7,
      "outputs": []
    },
    {
      "cell_type": "code",
      "metadata": {
        "id": "lgODFd4MeYhM"
      },
      "source": [
        "col_info = pd.DataFrame({ 'col_korean':colnames_old , 'col_english':colnames_new })"
      ],
      "execution_count": 8,
      "outputs": []
    },
    {
      "cell_type": "code",
      "metadata": {
        "colab": {
          "base_uri": "https://localhost:8080/",
          "height": 394
        },
        "id": "1afmMspDebf5",
        "outputId": "0facce0a-a608-4b28-c01c-146205189ebf"
      },
      "source": [
        "col_info # 열이름 정보를 가진 데이처프레임"
      ],
      "execution_count": 9,
      "outputs": [
        {
          "output_type": "execute_result",
          "data": {
            "text/plain": [
              "   col_korean         col_english\n",
              "0       자전거번호             bike_ID\n",
              "1        대여일시          time_start\n",
              "2    대여 대여소번호    station_ID_start\n",
              "3     대여 대여소명  station_name_start\n",
              "4       대여거치대       spot_ID_start\n",
              "5        반납일시            time_end\n",
              "6     반납대여소번호      station_ID_end\n",
              "7      반납대여소명    station_name_end\n",
              "8       반납거치대         sopt_ID_end\n",
              "9        이용시간            duration\n",
              "10       이용거리            distance"
            ],
            "text/html": [
              "\n",
              "  <div id=\"df-351724ef-c435-4379-931e-92006403fdde\">\n",
              "    <div class=\"colab-df-container\">\n",
              "      <div>\n",
              "<style scoped>\n",
              "    .dataframe tbody tr th:only-of-type {\n",
              "        vertical-align: middle;\n",
              "    }\n",
              "\n",
              "    .dataframe tbody tr th {\n",
              "        vertical-align: top;\n",
              "    }\n",
              "\n",
              "    .dataframe thead th {\n",
              "        text-align: right;\n",
              "    }\n",
              "</style>\n",
              "<table border=\"1\" class=\"dataframe\">\n",
              "  <thead>\n",
              "    <tr style=\"text-align: right;\">\n",
              "      <th></th>\n",
              "      <th>col_korean</th>\n",
              "      <th>col_english</th>\n",
              "    </tr>\n",
              "  </thead>\n",
              "  <tbody>\n",
              "    <tr>\n",
              "      <th>0</th>\n",
              "      <td>자전거번호</td>\n",
              "      <td>bike_ID</td>\n",
              "    </tr>\n",
              "    <tr>\n",
              "      <th>1</th>\n",
              "      <td>대여일시</td>\n",
              "      <td>time_start</td>\n",
              "    </tr>\n",
              "    <tr>\n",
              "      <th>2</th>\n",
              "      <td>대여 대여소번호</td>\n",
              "      <td>station_ID_start</td>\n",
              "    </tr>\n",
              "    <tr>\n",
              "      <th>3</th>\n",
              "      <td>대여 대여소명</td>\n",
              "      <td>station_name_start</td>\n",
              "    </tr>\n",
              "    <tr>\n",
              "      <th>4</th>\n",
              "      <td>대여거치대</td>\n",
              "      <td>spot_ID_start</td>\n",
              "    </tr>\n",
              "    <tr>\n",
              "      <th>5</th>\n",
              "      <td>반납일시</td>\n",
              "      <td>time_end</td>\n",
              "    </tr>\n",
              "    <tr>\n",
              "      <th>6</th>\n",
              "      <td>반납대여소번호</td>\n",
              "      <td>station_ID_end</td>\n",
              "    </tr>\n",
              "    <tr>\n",
              "      <th>7</th>\n",
              "      <td>반납대여소명</td>\n",
              "      <td>station_name_end</td>\n",
              "    </tr>\n",
              "    <tr>\n",
              "      <th>8</th>\n",
              "      <td>반납거치대</td>\n",
              "      <td>sopt_ID_end</td>\n",
              "    </tr>\n",
              "    <tr>\n",
              "      <th>9</th>\n",
              "      <td>이용시간</td>\n",
              "      <td>duration</td>\n",
              "    </tr>\n",
              "    <tr>\n",
              "      <th>10</th>\n",
              "      <td>이용거리</td>\n",
              "      <td>distance</td>\n",
              "    </tr>\n",
              "  </tbody>\n",
              "</table>\n",
              "</div>\n",
              "      <button class=\"colab-df-convert\" onclick=\"convertToInteractive('df-351724ef-c435-4379-931e-92006403fdde')\"\n",
              "              title=\"Convert this dataframe to an interactive table.\"\n",
              "              style=\"display:none;\">\n",
              "        \n",
              "  <svg xmlns=\"http://www.w3.org/2000/svg\" height=\"24px\"viewBox=\"0 0 24 24\"\n",
              "       width=\"24px\">\n",
              "    <path d=\"M0 0h24v24H0V0z\" fill=\"none\"/>\n",
              "    <path d=\"M18.56 5.44l.94 2.06.94-2.06 2.06-.94-2.06-.94-.94-2.06-.94 2.06-2.06.94zm-11 1L8.5 8.5l.94-2.06 2.06-.94-2.06-.94L8.5 2.5l-.94 2.06-2.06.94zm10 10l.94 2.06.94-2.06 2.06-.94-2.06-.94-.94-2.06-.94 2.06-2.06.94z\"/><path d=\"M17.41 7.96l-1.37-1.37c-.4-.4-.92-.59-1.43-.59-.52 0-1.04.2-1.43.59L10.3 9.45l-7.72 7.72c-.78.78-.78 2.05 0 2.83L4 21.41c.39.39.9.59 1.41.59.51 0 1.02-.2 1.41-.59l7.78-7.78 2.81-2.81c.8-.78.8-2.07 0-2.86zM5.41 20L4 18.59l7.72-7.72 1.47 1.35L5.41 20z\"/>\n",
              "  </svg>\n",
              "      </button>\n",
              "      \n",
              "  <style>\n",
              "    .colab-df-container {\n",
              "      display:flex;\n",
              "      flex-wrap:wrap;\n",
              "      gap: 12px;\n",
              "    }\n",
              "\n",
              "    .colab-df-convert {\n",
              "      background-color: #E8F0FE;\n",
              "      border: none;\n",
              "      border-radius: 50%;\n",
              "      cursor: pointer;\n",
              "      display: none;\n",
              "      fill: #1967D2;\n",
              "      height: 32px;\n",
              "      padding: 0 0 0 0;\n",
              "      width: 32px;\n",
              "    }\n",
              "\n",
              "    .colab-df-convert:hover {\n",
              "      background-color: #E2EBFA;\n",
              "      box-shadow: 0px 1px 2px rgba(60, 64, 67, 0.3), 0px 1px 3px 1px rgba(60, 64, 67, 0.15);\n",
              "      fill: #174EA6;\n",
              "    }\n",
              "\n",
              "    [theme=dark] .colab-df-convert {\n",
              "      background-color: #3B4455;\n",
              "      fill: #D2E3FC;\n",
              "    }\n",
              "\n",
              "    [theme=dark] .colab-df-convert:hover {\n",
              "      background-color: #434B5C;\n",
              "      box-shadow: 0px 1px 3px 1px rgba(0, 0, 0, 0.15);\n",
              "      filter: drop-shadow(0px 1px 2px rgba(0, 0, 0, 0.3));\n",
              "      fill: #FFFFFF;\n",
              "    }\n",
              "  </style>\n",
              "\n",
              "      <script>\n",
              "        const buttonEl =\n",
              "          document.querySelector('#df-351724ef-c435-4379-931e-92006403fdde button.colab-df-convert');\n",
              "        buttonEl.style.display =\n",
              "          google.colab.kernel.accessAllowed ? 'block' : 'none';\n",
              "\n",
              "        async function convertToInteractive(key) {\n",
              "          const element = document.querySelector('#df-351724ef-c435-4379-931e-92006403fdde');\n",
              "          const dataTable =\n",
              "            await google.colab.kernel.invokeFunction('convertToInteractive',\n",
              "                                                     [key], {});\n",
              "          if (!dataTable) return;\n",
              "\n",
              "          const docLinkHtml = 'Like what you see? Visit the ' +\n",
              "            '<a target=\"_blank\" href=https://colab.research.google.com/notebooks/data_table.ipynb>data table notebook</a>'\n",
              "            + ' to learn more about interactive tables.';\n",
              "          element.innerHTML = '';\n",
              "          dataTable['output_type'] = 'display_data';\n",
              "          await google.colab.output.renderOutput(dataTable, element);\n",
              "          const docLink = document.createElement('div');\n",
              "          docLink.innerHTML = docLinkHtml;\n",
              "          element.appendChild(docLink);\n",
              "        }\n",
              "      </script>\n",
              "    </div>\n",
              "  </div>\n",
              "  "
            ]
          },
          "metadata": {},
          "execution_count": 9
        }
      ]
    },
    {
      "cell_type": "code",
      "metadata": {
        "id": "la95BznmedgL"
      },
      "source": [
        "# 열이름 바꾸기\n",
        "bike0.columns = colnames_new\n",
        "# 시간이 포함된 문자열의 형식을 시간형식으로 바꾸기   \n",
        "bike0['time_start'] = pd.to_datetime(bike0['time_start'], format='%Y-%m-%d %H:%M:%S')\n",
        "bike0['time_end'] = pd.to_datetime(bike0['time_end'], format='%Y-%m-%d %H:%M:%S')"
      ],
      "execution_count": 10,
      "outputs": []
    },
    {
      "cell_type": "code",
      "metadata": {
        "colab": {
          "base_uri": "https://localhost:8080/",
          "height": 670
        },
        "id": "ttU_gsvEeuBW",
        "outputId": "15575986-35b9-43f0-91ae-921a7e2bd4cd"
      },
      "source": [
        "bike0.head(10)"
      ],
      "execution_count": 11,
      "outputs": [
        {
          "output_type": "execute_result",
          "data": {
            "text/plain": [
              "     bike_ID          time_start  station_ID_start station_name_start  \\\n",
              "0  SPB-17003 2019-09-28 16:10:55               368          SK 서린빌딩 앞   \n",
              "1  SPB-14405 2019-09-28 16:48:16              2024           상도역 1번출구   \n",
              "2  SPB-18431 2019-09-28 16:59:54              2002           노들역 1번출구   \n",
              "3  SPB-04853 2019-09-28 15:31:49               207       여의나루역 1번출구 앞   \n",
              "4  SPB-11122 2019-09-28 15:35:41               207       여의나루역 1번출구 앞   \n",
              "5  SPB-23089 2019-09-28 17:02:37              2003             사육신공원앞   \n",
              "6  SPB-15669 2019-09-28 16:17:54              2213      고속터미널역 5번출구 앞   \n",
              "7  SPB-09727 2019-09-28 17:04:56              2002           노들역 1번출구   \n",
              "8  SPB-10053 2019-09-28 16:59:45              2002           노들역 1번출구   \n",
              "9  SPB-14487 2019-09-28 16:01:41              2024           상도역 1번출구   \n",
              "\n",
              "   spot_ID_start            time_end  station_ID_end station_name_end  \\\n",
              "0              4 2019-09-28 17:03:32            2002         노들역 1번출구   \n",
              "1              3 2019-09-28 17:03:44            2002         노들역 1번출구   \n",
              "2             10 2019-09-28 17:03:57            2002         노들역 1번출구   \n",
              "3             32 2019-09-28 17:10:12            2002         노들역 1번출구   \n",
              "4             14 2019-09-28 17:10:37            2002         노들역 1번출구   \n",
              "5              5 2019-09-28 17:13:44            2002         노들역 1번출구   \n",
              "6              7 2019-09-28 17:14:22            2002         노들역 1번출구   \n",
              "7              5 2019-09-28 17:17:10            2002         노들역 1번출구   \n",
              "8              3 2019-09-28 17:17:53            2002         노들역 1번출구   \n",
              "9              5 2019-09-28 17:20:44            2002         노들역 1번출구   \n",
              "\n",
              "   sopt_ID_end  duration  distance  \n",
              "0           14        52    8940.0  \n",
              "1           18        15    1910.0  \n",
              "2           10         2      30.0  \n",
              "3           19        98    9610.0  \n",
              "4           18        90    9450.0  \n",
              "5           10        10    1410.0  \n",
              "6            8        56       0.0  \n",
              "7           17        11     380.0  \n",
              "8            5        17    1080.0  \n",
              "9           14        78   13870.0  "
            ],
            "text/html": [
              "\n",
              "  <div id=\"df-18942f1a-1796-4c48-945e-3bd02030bbb4\">\n",
              "    <div class=\"colab-df-container\">\n",
              "      <div>\n",
              "<style scoped>\n",
              "    .dataframe tbody tr th:only-of-type {\n",
              "        vertical-align: middle;\n",
              "    }\n",
              "\n",
              "    .dataframe tbody tr th {\n",
              "        vertical-align: top;\n",
              "    }\n",
              "\n",
              "    .dataframe thead th {\n",
              "        text-align: right;\n",
              "    }\n",
              "</style>\n",
              "<table border=\"1\" class=\"dataframe\">\n",
              "  <thead>\n",
              "    <tr style=\"text-align: right;\">\n",
              "      <th></th>\n",
              "      <th>bike_ID</th>\n",
              "      <th>time_start</th>\n",
              "      <th>station_ID_start</th>\n",
              "      <th>station_name_start</th>\n",
              "      <th>spot_ID_start</th>\n",
              "      <th>time_end</th>\n",
              "      <th>station_ID_end</th>\n",
              "      <th>station_name_end</th>\n",
              "      <th>sopt_ID_end</th>\n",
              "      <th>duration</th>\n",
              "      <th>distance</th>\n",
              "    </tr>\n",
              "  </thead>\n",
              "  <tbody>\n",
              "    <tr>\n",
              "      <th>0</th>\n",
              "      <td>SPB-17003</td>\n",
              "      <td>2019-09-28 16:10:55</td>\n",
              "      <td>368</td>\n",
              "      <td>SK 서린빌딩 앞</td>\n",
              "      <td>4</td>\n",
              "      <td>2019-09-28 17:03:32</td>\n",
              "      <td>2002</td>\n",
              "      <td>노들역 1번출구</td>\n",
              "      <td>14</td>\n",
              "      <td>52</td>\n",
              "      <td>8940.0</td>\n",
              "    </tr>\n",
              "    <tr>\n",
              "      <th>1</th>\n",
              "      <td>SPB-14405</td>\n",
              "      <td>2019-09-28 16:48:16</td>\n",
              "      <td>2024</td>\n",
              "      <td>상도역 1번출구</td>\n",
              "      <td>3</td>\n",
              "      <td>2019-09-28 17:03:44</td>\n",
              "      <td>2002</td>\n",
              "      <td>노들역 1번출구</td>\n",
              "      <td>18</td>\n",
              "      <td>15</td>\n",
              "      <td>1910.0</td>\n",
              "    </tr>\n",
              "    <tr>\n",
              "      <th>2</th>\n",
              "      <td>SPB-18431</td>\n",
              "      <td>2019-09-28 16:59:54</td>\n",
              "      <td>2002</td>\n",
              "      <td>노들역 1번출구</td>\n",
              "      <td>10</td>\n",
              "      <td>2019-09-28 17:03:57</td>\n",
              "      <td>2002</td>\n",
              "      <td>노들역 1번출구</td>\n",
              "      <td>10</td>\n",
              "      <td>2</td>\n",
              "      <td>30.0</td>\n",
              "    </tr>\n",
              "    <tr>\n",
              "      <th>3</th>\n",
              "      <td>SPB-04853</td>\n",
              "      <td>2019-09-28 15:31:49</td>\n",
              "      <td>207</td>\n",
              "      <td>여의나루역 1번출구 앞</td>\n",
              "      <td>32</td>\n",
              "      <td>2019-09-28 17:10:12</td>\n",
              "      <td>2002</td>\n",
              "      <td>노들역 1번출구</td>\n",
              "      <td>19</td>\n",
              "      <td>98</td>\n",
              "      <td>9610.0</td>\n",
              "    </tr>\n",
              "    <tr>\n",
              "      <th>4</th>\n",
              "      <td>SPB-11122</td>\n",
              "      <td>2019-09-28 15:35:41</td>\n",
              "      <td>207</td>\n",
              "      <td>여의나루역 1번출구 앞</td>\n",
              "      <td>14</td>\n",
              "      <td>2019-09-28 17:10:37</td>\n",
              "      <td>2002</td>\n",
              "      <td>노들역 1번출구</td>\n",
              "      <td>18</td>\n",
              "      <td>90</td>\n",
              "      <td>9450.0</td>\n",
              "    </tr>\n",
              "    <tr>\n",
              "      <th>5</th>\n",
              "      <td>SPB-23089</td>\n",
              "      <td>2019-09-28 17:02:37</td>\n",
              "      <td>2003</td>\n",
              "      <td>사육신공원앞</td>\n",
              "      <td>5</td>\n",
              "      <td>2019-09-28 17:13:44</td>\n",
              "      <td>2002</td>\n",
              "      <td>노들역 1번출구</td>\n",
              "      <td>10</td>\n",
              "      <td>10</td>\n",
              "      <td>1410.0</td>\n",
              "    </tr>\n",
              "    <tr>\n",
              "      <th>6</th>\n",
              "      <td>SPB-15669</td>\n",
              "      <td>2019-09-28 16:17:54</td>\n",
              "      <td>2213</td>\n",
              "      <td>고속터미널역 5번출구 앞</td>\n",
              "      <td>7</td>\n",
              "      <td>2019-09-28 17:14:22</td>\n",
              "      <td>2002</td>\n",
              "      <td>노들역 1번출구</td>\n",
              "      <td>8</td>\n",
              "      <td>56</td>\n",
              "      <td>0.0</td>\n",
              "    </tr>\n",
              "    <tr>\n",
              "      <th>7</th>\n",
              "      <td>SPB-09727</td>\n",
              "      <td>2019-09-28 17:04:56</td>\n",
              "      <td>2002</td>\n",
              "      <td>노들역 1번출구</td>\n",
              "      <td>5</td>\n",
              "      <td>2019-09-28 17:17:10</td>\n",
              "      <td>2002</td>\n",
              "      <td>노들역 1번출구</td>\n",
              "      <td>17</td>\n",
              "      <td>11</td>\n",
              "      <td>380.0</td>\n",
              "    </tr>\n",
              "    <tr>\n",
              "      <th>8</th>\n",
              "      <td>SPB-10053</td>\n",
              "      <td>2019-09-28 16:59:45</td>\n",
              "      <td>2002</td>\n",
              "      <td>노들역 1번출구</td>\n",
              "      <td>3</td>\n",
              "      <td>2019-09-28 17:17:53</td>\n",
              "      <td>2002</td>\n",
              "      <td>노들역 1번출구</td>\n",
              "      <td>5</td>\n",
              "      <td>17</td>\n",
              "      <td>1080.0</td>\n",
              "    </tr>\n",
              "    <tr>\n",
              "      <th>9</th>\n",
              "      <td>SPB-14487</td>\n",
              "      <td>2019-09-28 16:01:41</td>\n",
              "      <td>2024</td>\n",
              "      <td>상도역 1번출구</td>\n",
              "      <td>5</td>\n",
              "      <td>2019-09-28 17:20:44</td>\n",
              "      <td>2002</td>\n",
              "      <td>노들역 1번출구</td>\n",
              "      <td>14</td>\n",
              "      <td>78</td>\n",
              "      <td>13870.0</td>\n",
              "    </tr>\n",
              "  </tbody>\n",
              "</table>\n",
              "</div>\n",
              "      <button class=\"colab-df-convert\" onclick=\"convertToInteractive('df-18942f1a-1796-4c48-945e-3bd02030bbb4')\"\n",
              "              title=\"Convert this dataframe to an interactive table.\"\n",
              "              style=\"display:none;\">\n",
              "        \n",
              "  <svg xmlns=\"http://www.w3.org/2000/svg\" height=\"24px\"viewBox=\"0 0 24 24\"\n",
              "       width=\"24px\">\n",
              "    <path d=\"M0 0h24v24H0V0z\" fill=\"none\"/>\n",
              "    <path d=\"M18.56 5.44l.94 2.06.94-2.06 2.06-.94-2.06-.94-.94-2.06-.94 2.06-2.06.94zm-11 1L8.5 8.5l.94-2.06 2.06-.94-2.06-.94L8.5 2.5l-.94 2.06-2.06.94zm10 10l.94 2.06.94-2.06 2.06-.94-2.06-.94-.94-2.06-.94 2.06-2.06.94z\"/><path d=\"M17.41 7.96l-1.37-1.37c-.4-.4-.92-.59-1.43-.59-.52 0-1.04.2-1.43.59L10.3 9.45l-7.72 7.72c-.78.78-.78 2.05 0 2.83L4 21.41c.39.39.9.59 1.41.59.51 0 1.02-.2 1.41-.59l7.78-7.78 2.81-2.81c.8-.78.8-2.07 0-2.86zM5.41 20L4 18.59l7.72-7.72 1.47 1.35L5.41 20z\"/>\n",
              "  </svg>\n",
              "      </button>\n",
              "      \n",
              "  <style>\n",
              "    .colab-df-container {\n",
              "      display:flex;\n",
              "      flex-wrap:wrap;\n",
              "      gap: 12px;\n",
              "    }\n",
              "\n",
              "    .colab-df-convert {\n",
              "      background-color: #E8F0FE;\n",
              "      border: none;\n",
              "      border-radius: 50%;\n",
              "      cursor: pointer;\n",
              "      display: none;\n",
              "      fill: #1967D2;\n",
              "      height: 32px;\n",
              "      padding: 0 0 0 0;\n",
              "      width: 32px;\n",
              "    }\n",
              "\n",
              "    .colab-df-convert:hover {\n",
              "      background-color: #E2EBFA;\n",
              "      box-shadow: 0px 1px 2px rgba(60, 64, 67, 0.3), 0px 1px 3px 1px rgba(60, 64, 67, 0.15);\n",
              "      fill: #174EA6;\n",
              "    }\n",
              "\n",
              "    [theme=dark] .colab-df-convert {\n",
              "      background-color: #3B4455;\n",
              "      fill: #D2E3FC;\n",
              "    }\n",
              "\n",
              "    [theme=dark] .colab-df-convert:hover {\n",
              "      background-color: #434B5C;\n",
              "      box-shadow: 0px 1px 3px 1px rgba(0, 0, 0, 0.15);\n",
              "      filter: drop-shadow(0px 1px 2px rgba(0, 0, 0, 0.3));\n",
              "      fill: #FFFFFF;\n",
              "    }\n",
              "  </style>\n",
              "\n",
              "      <script>\n",
              "        const buttonEl =\n",
              "          document.querySelector('#df-18942f1a-1796-4c48-945e-3bd02030bbb4 button.colab-df-convert');\n",
              "        buttonEl.style.display =\n",
              "          google.colab.kernel.accessAllowed ? 'block' : 'none';\n",
              "\n",
              "        async function convertToInteractive(key) {\n",
              "          const element = document.querySelector('#df-18942f1a-1796-4c48-945e-3bd02030bbb4');\n",
              "          const dataTable =\n",
              "            await google.colab.kernel.invokeFunction('convertToInteractive',\n",
              "                                                     [key], {});\n",
              "          if (!dataTable) return;\n",
              "\n",
              "          const docLinkHtml = 'Like what you see? Visit the ' +\n",
              "            '<a target=\"_blank\" href=https://colab.research.google.com/notebooks/data_table.ipynb>data table notebook</a>'\n",
              "            + ' to learn more about interactive tables.';\n",
              "          element.innerHTML = '';\n",
              "          dataTable['output_type'] = 'display_data';\n",
              "          await google.colab.output.renderOutput(dataTable, element);\n",
              "          const docLink = document.createElement('div');\n",
              "          docLink.innerHTML = docLinkHtml;\n",
              "          element.appendChild(docLink);\n",
              "        }\n",
              "      </script>\n",
              "    </div>\n",
              "  </div>\n",
              "  "
            ]
          },
          "metadata": {},
          "execution_count": 11
        }
      ]
    },
    {
      "cell_type": "code",
      "source": [
        "bike0.dtypes"
      ],
      "metadata": {
        "colab": {
          "base_uri": "https://localhost:8080/"
        },
        "id": "6h5wchnK9th1",
        "outputId": "41d7b555-7ab7-41ad-86e7-ef17b90e4984"
      },
      "execution_count": 12,
      "outputs": [
        {
          "output_type": "execute_result",
          "data": {
            "text/plain": [
              "bike_ID                       object\n",
              "time_start            datetime64[ns]\n",
              "station_ID_start               int64\n",
              "station_name_start            object\n",
              "spot_ID_start                  int64\n",
              "time_end              datetime64[ns]\n",
              "station_ID_end                 int64\n",
              "station_name_end              object\n",
              "sopt_ID_end                    int64\n",
              "duration                       int64\n",
              "distance                     float64\n",
              "dtype: object"
            ]
          },
          "metadata": {},
          "execution_count": 12
        }
      ]
    },
    {
      "cell_type": "markdown",
      "metadata": {
        "id": "dKvFvSS8fX0I"
      },
      "source": [
        "### 서울시 공공 자전거 대여소 정보 자료 불러오기\n",
        "\n",
        "대여소 정보를 가진 자료(`seoul_bike_stations_202106.csv`)에는 대여소의 ID, 대여소 이름과 대여소가 있는 주소와 공간적 위치에 대한 정보로 구성되어 있습니다.\n",
        "\n",
        "자료는 [서울시 열린데이터 광장 사이트](https://data.seoul.go.kr/dataList/OA-13252/F/1/datasetView.do)에서 다운로드 받은 자료입니다. 최근 자료도 다운로드 받을 수 있습니다."
      ]
    },
    {
      "cell_type": "code",
      "metadata": {
        "id": "Qfxlr4YSew66"
      },
      "source": [
        "url2 = \"https://ilovedata.github.io/teaching/bigdata2/data/seoul_bike_stations_202106.csv\"\n",
        "bike_station00 = pd.read_csv(url2, encoding=\"CP949\", header=None)"
      ],
      "execution_count": 13,
      "outputs": []
    },
    {
      "cell_type": "code",
      "source": [
        "bike_station00.head(10)"
      ],
      "metadata": {
        "colab": {
          "base_uri": "https://localhost:8080/",
          "height": 363
        },
        "id": "ymjan1K429fj",
        "outputId": "e3d3fa8e-54e2-4a22-96ba-e871f9c19d34"
      },
      "execution_count": 14,
      "outputs": [
        {
          "output_type": "execute_result",
          "data": {
            "text/plain": [
              "     0                1    2                   3          4           5  \\\n",
              "0  102       망원역 1번출구 앞  마포구   서울특별시 마포구 월드컵로 72  37.555649  126.910629   \n",
              "1  103       망원역 2번출구 앞  마포구   서울특별시 마포구 월드컵로 79  37.554951  126.910835   \n",
              "2  104       합정역 1번출구 앞  마포구    서울특별시 마포구 양화로 59  37.550629  126.914986   \n",
              "3  105       합정역 5번출구 앞  마포구    서울특별시 마포구 양화로 48  37.550007  126.914825   \n",
              "4  106       합정역 7번출구 앞  마포구     서울특별시 마포구 독막로 4  37.548645  126.912826   \n",
              "5  107  신한은행 서교동금융센터점 앞  마포구  서울특별시 마포구 월드컵북로 35  37.557510  126.918503   \n",
              "6  108          서교동 사거리  마포구    서울특별시 마포구 양화로 93  37.552746  126.918617   \n",
              "7  109           제일빌딩 앞  마포구  서울특별시 마포구 어울마당로 26  37.547691  126.919983   \n",
              "8  111       상수역 2번출구 앞  마포구   서울특별시 마포구 와우산로 40  37.547871  126.923531   \n",
              "9  112          극동방송국 앞  마포구   서울특별시 마포구 와우산로 56  37.549202  126.923203   \n",
              "\n",
              "            6     7   8    9  \n",
              "0  2015-09-06  20.0 NaN  LCD  \n",
              "1  2015-09-06  14.0 NaN  LCD  \n",
              "2  2015-09-06  13.0 NaN  LCD  \n",
              "3  2015-09-06   5.0 NaN  LCD  \n",
              "4  2015-09-06  10.0 NaN  LCD  \n",
              "5  2015-09-06   5.0 NaN  LCD  \n",
              "6  2015-09-06  10.0 NaN  LCD  \n",
              "7  2015-09-07  10.0 NaN  LCD  \n",
              "8  2015-09-07  10.0 NaN  LCD  \n",
              "9  2015-09-07  10.0 NaN  LCD  "
            ],
            "text/html": [
              "\n",
              "  <div id=\"df-c95ce2b2-db06-4101-b689-a264a26da352\">\n",
              "    <div class=\"colab-df-container\">\n",
              "      <div>\n",
              "<style scoped>\n",
              "    .dataframe tbody tr th:only-of-type {\n",
              "        vertical-align: middle;\n",
              "    }\n",
              "\n",
              "    .dataframe tbody tr th {\n",
              "        vertical-align: top;\n",
              "    }\n",
              "\n",
              "    .dataframe thead th {\n",
              "        text-align: right;\n",
              "    }\n",
              "</style>\n",
              "<table border=\"1\" class=\"dataframe\">\n",
              "  <thead>\n",
              "    <tr style=\"text-align: right;\">\n",
              "      <th></th>\n",
              "      <th>0</th>\n",
              "      <th>1</th>\n",
              "      <th>2</th>\n",
              "      <th>3</th>\n",
              "      <th>4</th>\n",
              "      <th>5</th>\n",
              "      <th>6</th>\n",
              "      <th>7</th>\n",
              "      <th>8</th>\n",
              "      <th>9</th>\n",
              "    </tr>\n",
              "  </thead>\n",
              "  <tbody>\n",
              "    <tr>\n",
              "      <th>0</th>\n",
              "      <td>102</td>\n",
              "      <td>망원역 1번출구 앞</td>\n",
              "      <td>마포구</td>\n",
              "      <td>서울특별시 마포구 월드컵로 72</td>\n",
              "      <td>37.555649</td>\n",
              "      <td>126.910629</td>\n",
              "      <td>2015-09-06</td>\n",
              "      <td>20.0</td>\n",
              "      <td>NaN</td>\n",
              "      <td>LCD</td>\n",
              "    </tr>\n",
              "    <tr>\n",
              "      <th>1</th>\n",
              "      <td>103</td>\n",
              "      <td>망원역 2번출구 앞</td>\n",
              "      <td>마포구</td>\n",
              "      <td>서울특별시 마포구 월드컵로 79</td>\n",
              "      <td>37.554951</td>\n",
              "      <td>126.910835</td>\n",
              "      <td>2015-09-06</td>\n",
              "      <td>14.0</td>\n",
              "      <td>NaN</td>\n",
              "      <td>LCD</td>\n",
              "    </tr>\n",
              "    <tr>\n",
              "      <th>2</th>\n",
              "      <td>104</td>\n",
              "      <td>합정역 1번출구 앞</td>\n",
              "      <td>마포구</td>\n",
              "      <td>서울특별시 마포구 양화로 59</td>\n",
              "      <td>37.550629</td>\n",
              "      <td>126.914986</td>\n",
              "      <td>2015-09-06</td>\n",
              "      <td>13.0</td>\n",
              "      <td>NaN</td>\n",
              "      <td>LCD</td>\n",
              "    </tr>\n",
              "    <tr>\n",
              "      <th>3</th>\n",
              "      <td>105</td>\n",
              "      <td>합정역 5번출구 앞</td>\n",
              "      <td>마포구</td>\n",
              "      <td>서울특별시 마포구 양화로 48</td>\n",
              "      <td>37.550007</td>\n",
              "      <td>126.914825</td>\n",
              "      <td>2015-09-06</td>\n",
              "      <td>5.0</td>\n",
              "      <td>NaN</td>\n",
              "      <td>LCD</td>\n",
              "    </tr>\n",
              "    <tr>\n",
              "      <th>4</th>\n",
              "      <td>106</td>\n",
              "      <td>합정역 7번출구 앞</td>\n",
              "      <td>마포구</td>\n",
              "      <td>서울특별시 마포구 독막로 4</td>\n",
              "      <td>37.548645</td>\n",
              "      <td>126.912826</td>\n",
              "      <td>2015-09-06</td>\n",
              "      <td>10.0</td>\n",
              "      <td>NaN</td>\n",
              "      <td>LCD</td>\n",
              "    </tr>\n",
              "    <tr>\n",
              "      <th>5</th>\n",
              "      <td>107</td>\n",
              "      <td>신한은행 서교동금융센터점 앞</td>\n",
              "      <td>마포구</td>\n",
              "      <td>서울특별시 마포구 월드컵북로 35</td>\n",
              "      <td>37.557510</td>\n",
              "      <td>126.918503</td>\n",
              "      <td>2015-09-06</td>\n",
              "      <td>5.0</td>\n",
              "      <td>NaN</td>\n",
              "      <td>LCD</td>\n",
              "    </tr>\n",
              "    <tr>\n",
              "      <th>6</th>\n",
              "      <td>108</td>\n",
              "      <td>서교동 사거리</td>\n",
              "      <td>마포구</td>\n",
              "      <td>서울특별시 마포구 양화로 93</td>\n",
              "      <td>37.552746</td>\n",
              "      <td>126.918617</td>\n",
              "      <td>2015-09-06</td>\n",
              "      <td>10.0</td>\n",
              "      <td>NaN</td>\n",
              "      <td>LCD</td>\n",
              "    </tr>\n",
              "    <tr>\n",
              "      <th>7</th>\n",
              "      <td>109</td>\n",
              "      <td>제일빌딩 앞</td>\n",
              "      <td>마포구</td>\n",
              "      <td>서울특별시 마포구 어울마당로 26</td>\n",
              "      <td>37.547691</td>\n",
              "      <td>126.919983</td>\n",
              "      <td>2015-09-07</td>\n",
              "      <td>10.0</td>\n",
              "      <td>NaN</td>\n",
              "      <td>LCD</td>\n",
              "    </tr>\n",
              "    <tr>\n",
              "      <th>8</th>\n",
              "      <td>111</td>\n",
              "      <td>상수역 2번출구 앞</td>\n",
              "      <td>마포구</td>\n",
              "      <td>서울특별시 마포구 와우산로 40</td>\n",
              "      <td>37.547871</td>\n",
              "      <td>126.923531</td>\n",
              "      <td>2015-09-07</td>\n",
              "      <td>10.0</td>\n",
              "      <td>NaN</td>\n",
              "      <td>LCD</td>\n",
              "    </tr>\n",
              "    <tr>\n",
              "      <th>9</th>\n",
              "      <td>112</td>\n",
              "      <td>극동방송국 앞</td>\n",
              "      <td>마포구</td>\n",
              "      <td>서울특별시 마포구 와우산로 56</td>\n",
              "      <td>37.549202</td>\n",
              "      <td>126.923203</td>\n",
              "      <td>2015-09-07</td>\n",
              "      <td>10.0</td>\n",
              "      <td>NaN</td>\n",
              "      <td>LCD</td>\n",
              "    </tr>\n",
              "  </tbody>\n",
              "</table>\n",
              "</div>\n",
              "      <button class=\"colab-df-convert\" onclick=\"convertToInteractive('df-c95ce2b2-db06-4101-b689-a264a26da352')\"\n",
              "              title=\"Convert this dataframe to an interactive table.\"\n",
              "              style=\"display:none;\">\n",
              "        \n",
              "  <svg xmlns=\"http://www.w3.org/2000/svg\" height=\"24px\"viewBox=\"0 0 24 24\"\n",
              "       width=\"24px\">\n",
              "    <path d=\"M0 0h24v24H0V0z\" fill=\"none\"/>\n",
              "    <path d=\"M18.56 5.44l.94 2.06.94-2.06 2.06-.94-2.06-.94-.94-2.06-.94 2.06-2.06.94zm-11 1L8.5 8.5l.94-2.06 2.06-.94-2.06-.94L8.5 2.5l-.94 2.06-2.06.94zm10 10l.94 2.06.94-2.06 2.06-.94-2.06-.94-.94-2.06-.94 2.06-2.06.94z\"/><path d=\"M17.41 7.96l-1.37-1.37c-.4-.4-.92-.59-1.43-.59-.52 0-1.04.2-1.43.59L10.3 9.45l-7.72 7.72c-.78.78-.78 2.05 0 2.83L4 21.41c.39.39.9.59 1.41.59.51 0 1.02-.2 1.41-.59l7.78-7.78 2.81-2.81c.8-.78.8-2.07 0-2.86zM5.41 20L4 18.59l7.72-7.72 1.47 1.35L5.41 20z\"/>\n",
              "  </svg>\n",
              "      </button>\n",
              "      \n",
              "  <style>\n",
              "    .colab-df-container {\n",
              "      display:flex;\n",
              "      flex-wrap:wrap;\n",
              "      gap: 12px;\n",
              "    }\n",
              "\n",
              "    .colab-df-convert {\n",
              "      background-color: #E8F0FE;\n",
              "      border: none;\n",
              "      border-radius: 50%;\n",
              "      cursor: pointer;\n",
              "      display: none;\n",
              "      fill: #1967D2;\n",
              "      height: 32px;\n",
              "      padding: 0 0 0 0;\n",
              "      width: 32px;\n",
              "    }\n",
              "\n",
              "    .colab-df-convert:hover {\n",
              "      background-color: #E2EBFA;\n",
              "      box-shadow: 0px 1px 2px rgba(60, 64, 67, 0.3), 0px 1px 3px 1px rgba(60, 64, 67, 0.15);\n",
              "      fill: #174EA6;\n",
              "    }\n",
              "\n",
              "    [theme=dark] .colab-df-convert {\n",
              "      background-color: #3B4455;\n",
              "      fill: #D2E3FC;\n",
              "    }\n",
              "\n",
              "    [theme=dark] .colab-df-convert:hover {\n",
              "      background-color: #434B5C;\n",
              "      box-shadow: 0px 1px 3px 1px rgba(0, 0, 0, 0.15);\n",
              "      filter: drop-shadow(0px 1px 2px rgba(0, 0, 0, 0.3));\n",
              "      fill: #FFFFFF;\n",
              "    }\n",
              "  </style>\n",
              "\n",
              "      <script>\n",
              "        const buttonEl =\n",
              "          document.querySelector('#df-c95ce2b2-db06-4101-b689-a264a26da352 button.colab-df-convert');\n",
              "        buttonEl.style.display =\n",
              "          google.colab.kernel.accessAllowed ? 'block' : 'none';\n",
              "\n",
              "        async function convertToInteractive(key) {\n",
              "          const element = document.querySelector('#df-c95ce2b2-db06-4101-b689-a264a26da352');\n",
              "          const dataTable =\n",
              "            await google.colab.kernel.invokeFunction('convertToInteractive',\n",
              "                                                     [key], {});\n",
              "          if (!dataTable) return;\n",
              "\n",
              "          const docLinkHtml = 'Like what you see? Visit the ' +\n",
              "            '<a target=\"_blank\" href=https://colab.research.google.com/notebooks/data_table.ipynb>data table notebook</a>'\n",
              "            + ' to learn more about interactive tables.';\n",
              "          element.innerHTML = '';\n",
              "          dataTable['output_type'] = 'display_data';\n",
              "          await google.colab.output.renderOutput(dataTable, element);\n",
              "          const docLink = document.createElement('div');\n",
              "          docLink.innerHTML = docLinkHtml;\n",
              "          element.appendChild(docLink);\n",
              "        }\n",
              "      </script>\n",
              "    </div>\n",
              "  </div>\n",
              "  "
            ]
          },
          "metadata": {},
          "execution_count": 14
        }
      ]
    },
    {
      "cell_type": "code",
      "source": [
        "bike_station00.shape"
      ],
      "metadata": {
        "colab": {
          "base_uri": "https://localhost:8080/"
        },
        "id": "w_tCdlFa-1YN",
        "outputId": "78051efe-046a-4e04-a850-8dac1ebfae8a"
      },
      "execution_count": 15,
      "outputs": [
        {
          "output_type": "execute_result",
          "data": {
            "text/plain": [
              "(2467, 10)"
            ]
          },
          "metadata": {},
          "execution_count": 15
        }
      ]
    },
    {
      "cell_type": "markdown",
      "source": [
        "이제 대여소에 대한 정보가 있는 데이터프레임에 다음과 같은 작업을 적용하여 필요한 자료만 슬라이싱합니다.\n",
        "\n",
        "\n",
        "1. 대여소 ID 와 행정구 이름, 2개의 열(열의 index는 0 과 2)을 선택하고 열이름을 영문으로 변경합니다.\n",
        "1. 결과를 데이터프레임 `bike_station0` 으로 저장합니다."
      ],
      "metadata": {
        "id": "_wEPHefV3igw"
      }
    },
    {
      "cell_type": "code",
      "source": [
        "bike_station0 = bike_station00.iloc[:,[0,2]]\n",
        "bike_station0.columns = [\"station_ID_start\", \"gu_name_start\" ]"
      ],
      "metadata": {
        "id": "jLPa9-RW25EJ"
      },
      "execution_count": 16,
      "outputs": []
    },
    {
      "cell_type": "code",
      "metadata": {
        "colab": {
          "base_uri": "https://localhost:8080/",
          "height": 424
        },
        "id": "7tWDsXYlgImY",
        "outputId": "a615bb43-13c5-472a-ab9a-d3f350a22036"
      },
      "source": [
        "bike_station0"
      ],
      "execution_count": 17,
      "outputs": [
        {
          "output_type": "execute_result",
          "data": {
            "text/plain": [
              "      station_ID_start gu_name_start\n",
              "0                  102           마포구\n",
              "1                  103           마포구\n",
              "2                  104           마포구\n",
              "3                  105           마포구\n",
              "4                  106           마포구\n",
              "...                ...           ...\n",
              "2462              4864           송파구\n",
              "2463              4865           송파구\n",
              "2464              4867           송파구\n",
              "2465              4868           송파구\n",
              "2466              4869           송파구\n",
              "\n",
              "[2467 rows x 2 columns]"
            ],
            "text/html": [
              "\n",
              "  <div id=\"df-b02ef513-49bf-4c9d-9072-b36a0d83c1f4\">\n",
              "    <div class=\"colab-df-container\">\n",
              "      <div>\n",
              "<style scoped>\n",
              "    .dataframe tbody tr th:only-of-type {\n",
              "        vertical-align: middle;\n",
              "    }\n",
              "\n",
              "    .dataframe tbody tr th {\n",
              "        vertical-align: top;\n",
              "    }\n",
              "\n",
              "    .dataframe thead th {\n",
              "        text-align: right;\n",
              "    }\n",
              "</style>\n",
              "<table border=\"1\" class=\"dataframe\">\n",
              "  <thead>\n",
              "    <tr style=\"text-align: right;\">\n",
              "      <th></th>\n",
              "      <th>station_ID_start</th>\n",
              "      <th>gu_name_start</th>\n",
              "    </tr>\n",
              "  </thead>\n",
              "  <tbody>\n",
              "    <tr>\n",
              "      <th>0</th>\n",
              "      <td>102</td>\n",
              "      <td>마포구</td>\n",
              "    </tr>\n",
              "    <tr>\n",
              "      <th>1</th>\n",
              "      <td>103</td>\n",
              "      <td>마포구</td>\n",
              "    </tr>\n",
              "    <tr>\n",
              "      <th>2</th>\n",
              "      <td>104</td>\n",
              "      <td>마포구</td>\n",
              "    </tr>\n",
              "    <tr>\n",
              "      <th>3</th>\n",
              "      <td>105</td>\n",
              "      <td>마포구</td>\n",
              "    </tr>\n",
              "    <tr>\n",
              "      <th>4</th>\n",
              "      <td>106</td>\n",
              "      <td>마포구</td>\n",
              "    </tr>\n",
              "    <tr>\n",
              "      <th>...</th>\n",
              "      <td>...</td>\n",
              "      <td>...</td>\n",
              "    </tr>\n",
              "    <tr>\n",
              "      <th>2462</th>\n",
              "      <td>4864</td>\n",
              "      <td>송파구</td>\n",
              "    </tr>\n",
              "    <tr>\n",
              "      <th>2463</th>\n",
              "      <td>4865</td>\n",
              "      <td>송파구</td>\n",
              "    </tr>\n",
              "    <tr>\n",
              "      <th>2464</th>\n",
              "      <td>4867</td>\n",
              "      <td>송파구</td>\n",
              "    </tr>\n",
              "    <tr>\n",
              "      <th>2465</th>\n",
              "      <td>4868</td>\n",
              "      <td>송파구</td>\n",
              "    </tr>\n",
              "    <tr>\n",
              "      <th>2466</th>\n",
              "      <td>4869</td>\n",
              "      <td>송파구</td>\n",
              "    </tr>\n",
              "  </tbody>\n",
              "</table>\n",
              "<p>2467 rows × 2 columns</p>\n",
              "</div>\n",
              "      <button class=\"colab-df-convert\" onclick=\"convertToInteractive('df-b02ef513-49bf-4c9d-9072-b36a0d83c1f4')\"\n",
              "              title=\"Convert this dataframe to an interactive table.\"\n",
              "              style=\"display:none;\">\n",
              "        \n",
              "  <svg xmlns=\"http://www.w3.org/2000/svg\" height=\"24px\"viewBox=\"0 0 24 24\"\n",
              "       width=\"24px\">\n",
              "    <path d=\"M0 0h24v24H0V0z\" fill=\"none\"/>\n",
              "    <path d=\"M18.56 5.44l.94 2.06.94-2.06 2.06-.94-2.06-.94-.94-2.06-.94 2.06-2.06.94zm-11 1L8.5 8.5l.94-2.06 2.06-.94-2.06-.94L8.5 2.5l-.94 2.06-2.06.94zm10 10l.94 2.06.94-2.06 2.06-.94-2.06-.94-.94-2.06-.94 2.06-2.06.94z\"/><path d=\"M17.41 7.96l-1.37-1.37c-.4-.4-.92-.59-1.43-.59-.52 0-1.04.2-1.43.59L10.3 9.45l-7.72 7.72c-.78.78-.78 2.05 0 2.83L4 21.41c.39.39.9.59 1.41.59.51 0 1.02-.2 1.41-.59l7.78-7.78 2.81-2.81c.8-.78.8-2.07 0-2.86zM5.41 20L4 18.59l7.72-7.72 1.47 1.35L5.41 20z\"/>\n",
              "  </svg>\n",
              "      </button>\n",
              "      \n",
              "  <style>\n",
              "    .colab-df-container {\n",
              "      display:flex;\n",
              "      flex-wrap:wrap;\n",
              "      gap: 12px;\n",
              "    }\n",
              "\n",
              "    .colab-df-convert {\n",
              "      background-color: #E8F0FE;\n",
              "      border: none;\n",
              "      border-radius: 50%;\n",
              "      cursor: pointer;\n",
              "      display: none;\n",
              "      fill: #1967D2;\n",
              "      height: 32px;\n",
              "      padding: 0 0 0 0;\n",
              "      width: 32px;\n",
              "    }\n",
              "\n",
              "    .colab-df-convert:hover {\n",
              "      background-color: #E2EBFA;\n",
              "      box-shadow: 0px 1px 2px rgba(60, 64, 67, 0.3), 0px 1px 3px 1px rgba(60, 64, 67, 0.15);\n",
              "      fill: #174EA6;\n",
              "    }\n",
              "\n",
              "    [theme=dark] .colab-df-convert {\n",
              "      background-color: #3B4455;\n",
              "      fill: #D2E3FC;\n",
              "    }\n",
              "\n",
              "    [theme=dark] .colab-df-convert:hover {\n",
              "      background-color: #434B5C;\n",
              "      box-shadow: 0px 1px 3px 1px rgba(0, 0, 0, 0.15);\n",
              "      filter: drop-shadow(0px 1px 2px rgba(0, 0, 0, 0.3));\n",
              "      fill: #FFFFFF;\n",
              "    }\n",
              "  </style>\n",
              "\n",
              "      <script>\n",
              "        const buttonEl =\n",
              "          document.querySelector('#df-b02ef513-49bf-4c9d-9072-b36a0d83c1f4 button.colab-df-convert');\n",
              "        buttonEl.style.display =\n",
              "          google.colab.kernel.accessAllowed ? 'block' : 'none';\n",
              "\n",
              "        async function convertToInteractive(key) {\n",
              "          const element = document.querySelector('#df-b02ef513-49bf-4c9d-9072-b36a0d83c1f4');\n",
              "          const dataTable =\n",
              "            await google.colab.kernel.invokeFunction('convertToInteractive',\n",
              "                                                     [key], {});\n",
              "          if (!dataTable) return;\n",
              "\n",
              "          const docLinkHtml = 'Like what you see? Visit the ' +\n",
              "            '<a target=\"_blank\" href=https://colab.research.google.com/notebooks/data_table.ipynb>data table notebook</a>'\n",
              "            + ' to learn more about interactive tables.';\n",
              "          element.innerHTML = '';\n",
              "          dataTable['output_type'] = 'display_data';\n",
              "          await google.colab.output.renderOutput(dataTable, element);\n",
              "          const docLink = document.createElement('div');\n",
              "          docLink.innerHTML = docLinkHtml;\n",
              "          element.appendChild(docLink);\n",
              "        }\n",
              "      </script>\n",
              "    </div>\n",
              "  </div>\n",
              "  "
            ]
          },
          "metadata": {},
          "execution_count": 17
        }
      ]
    },
    {
      "cell_type": "markdown",
      "metadata": {
        "id": "6IzR94IngOa4"
      },
      "source": [
        "## 2. 자료의 결합\n",
        "\n",
        "\n",
        "1. 이제 공공자전거 대여 이력 정보를 가진 데이터프레임(`bike0`)와 대여소의 정보를 가진 데이터프레임(`bike_station0`)을 대여소(`station_ID_start`)를 기준으로 결합(merger)하여 새로운 데이터프레임 `bike1`을 만듭니다.\n",
        "2. 필요한 변수만 선택하여 분석을 위한 최종 데이터프레임 `bike_final`를 만듭니다.\n"
      ]
    },
    {
      "cell_type": "code",
      "metadata": {
        "id": "JWHOm97dgM0g"
      },
      "source": [
        "bike1 = pd.merge(bike0, bike_station0, on =\"station_ID_start\", how='left' ) \n",
        "bike_final= bike1[[\"time_start\",\"station_ID_start\", \"station_name_start\",\"gu_name_start\",\"time_end\", \"station_ID_end\", \"station_name_end\", \"duration\", \"distance\" ]]"
      ],
      "execution_count": 18,
      "outputs": []
    },
    {
      "cell_type": "code",
      "metadata": {
        "colab": {
          "base_uri": "https://localhost:8080/",
          "height": 581
        },
        "id": "MtJgg8mtg-QI",
        "outputId": "edde9e1d-8acf-473d-e712-58b3b88426e7"
      },
      "source": [
        "bike_final.head(10)"
      ],
      "execution_count": 19,
      "outputs": [
        {
          "output_type": "execute_result",
          "data": {
            "text/plain": [
              "           time_start  station_ID_start station_name_start gu_name_start  \\\n",
              "0 2019-09-28 16:10:55               368          SK 서린빌딩 앞           종로구   \n",
              "1 2019-09-28 16:48:16              2024           상도역 1번출구           동작구   \n",
              "2 2019-09-28 16:59:54              2002           노들역 1번출구           동작구   \n",
              "3 2019-09-28 15:31:49               207       여의나루역 1번출구 앞          영등포구   \n",
              "4 2019-09-28 15:35:41               207       여의나루역 1번출구 앞          영등포구   \n",
              "5 2019-09-28 17:02:37              2003             사육신공원앞           동작구   \n",
              "6 2019-09-28 16:17:54              2213      고속터미널역 5번출구 앞           서초구   \n",
              "7 2019-09-28 17:04:56              2002           노들역 1번출구           동작구   \n",
              "8 2019-09-28 16:59:45              2002           노들역 1번출구           동작구   \n",
              "9 2019-09-28 16:01:41              2024           상도역 1번출구           동작구   \n",
              "\n",
              "             time_end  station_ID_end station_name_end  duration  distance  \n",
              "0 2019-09-28 17:03:32            2002         노들역 1번출구        52    8940.0  \n",
              "1 2019-09-28 17:03:44            2002         노들역 1번출구        15    1910.0  \n",
              "2 2019-09-28 17:03:57            2002         노들역 1번출구         2      30.0  \n",
              "3 2019-09-28 17:10:12            2002         노들역 1번출구        98    9610.0  \n",
              "4 2019-09-28 17:10:37            2002         노들역 1번출구        90    9450.0  \n",
              "5 2019-09-28 17:13:44            2002         노들역 1번출구        10    1410.0  \n",
              "6 2019-09-28 17:14:22            2002         노들역 1번출구        56       0.0  \n",
              "7 2019-09-28 17:17:10            2002         노들역 1번출구        11     380.0  \n",
              "8 2019-09-28 17:17:53            2002         노들역 1번출구        17    1080.0  \n",
              "9 2019-09-28 17:20:44            2002         노들역 1번출구        78   13870.0  "
            ],
            "text/html": [
              "\n",
              "  <div id=\"df-3c7175b9-9663-4f13-853a-cf086876397b\">\n",
              "    <div class=\"colab-df-container\">\n",
              "      <div>\n",
              "<style scoped>\n",
              "    .dataframe tbody tr th:only-of-type {\n",
              "        vertical-align: middle;\n",
              "    }\n",
              "\n",
              "    .dataframe tbody tr th {\n",
              "        vertical-align: top;\n",
              "    }\n",
              "\n",
              "    .dataframe thead th {\n",
              "        text-align: right;\n",
              "    }\n",
              "</style>\n",
              "<table border=\"1\" class=\"dataframe\">\n",
              "  <thead>\n",
              "    <tr style=\"text-align: right;\">\n",
              "      <th></th>\n",
              "      <th>time_start</th>\n",
              "      <th>station_ID_start</th>\n",
              "      <th>station_name_start</th>\n",
              "      <th>gu_name_start</th>\n",
              "      <th>time_end</th>\n",
              "      <th>station_ID_end</th>\n",
              "      <th>station_name_end</th>\n",
              "      <th>duration</th>\n",
              "      <th>distance</th>\n",
              "    </tr>\n",
              "  </thead>\n",
              "  <tbody>\n",
              "    <tr>\n",
              "      <th>0</th>\n",
              "      <td>2019-09-28 16:10:55</td>\n",
              "      <td>368</td>\n",
              "      <td>SK 서린빌딩 앞</td>\n",
              "      <td>종로구</td>\n",
              "      <td>2019-09-28 17:03:32</td>\n",
              "      <td>2002</td>\n",
              "      <td>노들역 1번출구</td>\n",
              "      <td>52</td>\n",
              "      <td>8940.0</td>\n",
              "    </tr>\n",
              "    <tr>\n",
              "      <th>1</th>\n",
              "      <td>2019-09-28 16:48:16</td>\n",
              "      <td>2024</td>\n",
              "      <td>상도역 1번출구</td>\n",
              "      <td>동작구</td>\n",
              "      <td>2019-09-28 17:03:44</td>\n",
              "      <td>2002</td>\n",
              "      <td>노들역 1번출구</td>\n",
              "      <td>15</td>\n",
              "      <td>1910.0</td>\n",
              "    </tr>\n",
              "    <tr>\n",
              "      <th>2</th>\n",
              "      <td>2019-09-28 16:59:54</td>\n",
              "      <td>2002</td>\n",
              "      <td>노들역 1번출구</td>\n",
              "      <td>동작구</td>\n",
              "      <td>2019-09-28 17:03:57</td>\n",
              "      <td>2002</td>\n",
              "      <td>노들역 1번출구</td>\n",
              "      <td>2</td>\n",
              "      <td>30.0</td>\n",
              "    </tr>\n",
              "    <tr>\n",
              "      <th>3</th>\n",
              "      <td>2019-09-28 15:31:49</td>\n",
              "      <td>207</td>\n",
              "      <td>여의나루역 1번출구 앞</td>\n",
              "      <td>영등포구</td>\n",
              "      <td>2019-09-28 17:10:12</td>\n",
              "      <td>2002</td>\n",
              "      <td>노들역 1번출구</td>\n",
              "      <td>98</td>\n",
              "      <td>9610.0</td>\n",
              "    </tr>\n",
              "    <tr>\n",
              "      <th>4</th>\n",
              "      <td>2019-09-28 15:35:41</td>\n",
              "      <td>207</td>\n",
              "      <td>여의나루역 1번출구 앞</td>\n",
              "      <td>영등포구</td>\n",
              "      <td>2019-09-28 17:10:37</td>\n",
              "      <td>2002</td>\n",
              "      <td>노들역 1번출구</td>\n",
              "      <td>90</td>\n",
              "      <td>9450.0</td>\n",
              "    </tr>\n",
              "    <tr>\n",
              "      <th>5</th>\n",
              "      <td>2019-09-28 17:02:37</td>\n",
              "      <td>2003</td>\n",
              "      <td>사육신공원앞</td>\n",
              "      <td>동작구</td>\n",
              "      <td>2019-09-28 17:13:44</td>\n",
              "      <td>2002</td>\n",
              "      <td>노들역 1번출구</td>\n",
              "      <td>10</td>\n",
              "      <td>1410.0</td>\n",
              "    </tr>\n",
              "    <tr>\n",
              "      <th>6</th>\n",
              "      <td>2019-09-28 16:17:54</td>\n",
              "      <td>2213</td>\n",
              "      <td>고속터미널역 5번출구 앞</td>\n",
              "      <td>서초구</td>\n",
              "      <td>2019-09-28 17:14:22</td>\n",
              "      <td>2002</td>\n",
              "      <td>노들역 1번출구</td>\n",
              "      <td>56</td>\n",
              "      <td>0.0</td>\n",
              "    </tr>\n",
              "    <tr>\n",
              "      <th>7</th>\n",
              "      <td>2019-09-28 17:04:56</td>\n",
              "      <td>2002</td>\n",
              "      <td>노들역 1번출구</td>\n",
              "      <td>동작구</td>\n",
              "      <td>2019-09-28 17:17:10</td>\n",
              "      <td>2002</td>\n",
              "      <td>노들역 1번출구</td>\n",
              "      <td>11</td>\n",
              "      <td>380.0</td>\n",
              "    </tr>\n",
              "    <tr>\n",
              "      <th>8</th>\n",
              "      <td>2019-09-28 16:59:45</td>\n",
              "      <td>2002</td>\n",
              "      <td>노들역 1번출구</td>\n",
              "      <td>동작구</td>\n",
              "      <td>2019-09-28 17:17:53</td>\n",
              "      <td>2002</td>\n",
              "      <td>노들역 1번출구</td>\n",
              "      <td>17</td>\n",
              "      <td>1080.0</td>\n",
              "    </tr>\n",
              "    <tr>\n",
              "      <th>9</th>\n",
              "      <td>2019-09-28 16:01:41</td>\n",
              "      <td>2024</td>\n",
              "      <td>상도역 1번출구</td>\n",
              "      <td>동작구</td>\n",
              "      <td>2019-09-28 17:20:44</td>\n",
              "      <td>2002</td>\n",
              "      <td>노들역 1번출구</td>\n",
              "      <td>78</td>\n",
              "      <td>13870.0</td>\n",
              "    </tr>\n",
              "  </tbody>\n",
              "</table>\n",
              "</div>\n",
              "      <button class=\"colab-df-convert\" onclick=\"convertToInteractive('df-3c7175b9-9663-4f13-853a-cf086876397b')\"\n",
              "              title=\"Convert this dataframe to an interactive table.\"\n",
              "              style=\"display:none;\">\n",
              "        \n",
              "  <svg xmlns=\"http://www.w3.org/2000/svg\" height=\"24px\"viewBox=\"0 0 24 24\"\n",
              "       width=\"24px\">\n",
              "    <path d=\"M0 0h24v24H0V0z\" fill=\"none\"/>\n",
              "    <path d=\"M18.56 5.44l.94 2.06.94-2.06 2.06-.94-2.06-.94-.94-2.06-.94 2.06-2.06.94zm-11 1L8.5 8.5l.94-2.06 2.06-.94-2.06-.94L8.5 2.5l-.94 2.06-2.06.94zm10 10l.94 2.06.94-2.06 2.06-.94-2.06-.94-.94-2.06-.94 2.06-2.06.94z\"/><path d=\"M17.41 7.96l-1.37-1.37c-.4-.4-.92-.59-1.43-.59-.52 0-1.04.2-1.43.59L10.3 9.45l-7.72 7.72c-.78.78-.78 2.05 0 2.83L4 21.41c.39.39.9.59 1.41.59.51 0 1.02-.2 1.41-.59l7.78-7.78 2.81-2.81c.8-.78.8-2.07 0-2.86zM5.41 20L4 18.59l7.72-7.72 1.47 1.35L5.41 20z\"/>\n",
              "  </svg>\n",
              "      </button>\n",
              "      \n",
              "  <style>\n",
              "    .colab-df-container {\n",
              "      display:flex;\n",
              "      flex-wrap:wrap;\n",
              "      gap: 12px;\n",
              "    }\n",
              "\n",
              "    .colab-df-convert {\n",
              "      background-color: #E8F0FE;\n",
              "      border: none;\n",
              "      border-radius: 50%;\n",
              "      cursor: pointer;\n",
              "      display: none;\n",
              "      fill: #1967D2;\n",
              "      height: 32px;\n",
              "      padding: 0 0 0 0;\n",
              "      width: 32px;\n",
              "    }\n",
              "\n",
              "    .colab-df-convert:hover {\n",
              "      background-color: #E2EBFA;\n",
              "      box-shadow: 0px 1px 2px rgba(60, 64, 67, 0.3), 0px 1px 3px 1px rgba(60, 64, 67, 0.15);\n",
              "      fill: #174EA6;\n",
              "    }\n",
              "\n",
              "    [theme=dark] .colab-df-convert {\n",
              "      background-color: #3B4455;\n",
              "      fill: #D2E3FC;\n",
              "    }\n",
              "\n",
              "    [theme=dark] .colab-df-convert:hover {\n",
              "      background-color: #434B5C;\n",
              "      box-shadow: 0px 1px 3px 1px rgba(0, 0, 0, 0.15);\n",
              "      filter: drop-shadow(0px 1px 2px rgba(0, 0, 0, 0.3));\n",
              "      fill: #FFFFFF;\n",
              "    }\n",
              "  </style>\n",
              "\n",
              "      <script>\n",
              "        const buttonEl =\n",
              "          document.querySelector('#df-3c7175b9-9663-4f13-853a-cf086876397b button.colab-df-convert');\n",
              "        buttonEl.style.display =\n",
              "          google.colab.kernel.accessAllowed ? 'block' : 'none';\n",
              "\n",
              "        async function convertToInteractive(key) {\n",
              "          const element = document.querySelector('#df-3c7175b9-9663-4f13-853a-cf086876397b');\n",
              "          const dataTable =\n",
              "            await google.colab.kernel.invokeFunction('convertToInteractive',\n",
              "                                                     [key], {});\n",
              "          if (!dataTable) return;\n",
              "\n",
              "          const docLinkHtml = 'Like what you see? Visit the ' +\n",
              "            '<a target=\"_blank\" href=https://colab.research.google.com/notebooks/data_table.ipynb>data table notebook</a>'\n",
              "            + ' to learn more about interactive tables.';\n",
              "          element.innerHTML = '';\n",
              "          dataTable['output_type'] = 'display_data';\n",
              "          await google.colab.output.renderOutput(dataTable, element);\n",
              "          const docLink = document.createElement('div');\n",
              "          docLink.innerHTML = docLinkHtml;\n",
              "          element.appendChild(docLink);\n",
              "        }\n",
              "      </script>\n",
              "    </div>\n",
              "  </div>\n",
              "  "
            ]
          },
          "metadata": {},
          "execution_count": 19
        }
      ]
    },
    {
      "cell_type": "markdown",
      "metadata": {
        "id": "kdKzEvFVhIpQ"
      },
      "source": [
        "## 3. 구별 대여 횟수 비교\n",
        "\n",
        "이제 구별로 자전거를 대여한 회수를 구해소 돗수 분포표를 구해보고 파이차트와 바차트로 비교해 봅시다.\n",
        "\n"
      ]
    },
    {
      "cell_type": "code",
      "metadata": {
        "colab": {
          "base_uri": "https://localhost:8080/"
        },
        "id": "SCQjg1zWhIBM",
        "outputId": "2434ab5a-9fa2-4d6e-ef2e-b7993376f131"
      },
      "source": [
        "bike_final.gu_name_start.value_counts()"
      ],
      "execution_count": 20,
      "outputs": [
        {
          "output_type": "execute_result",
          "data": {
            "text/plain": [
              "서초구     80773\n",
              "강남구     65964\n",
              "관악구     53201\n",
              "송파구     45516\n",
              "광진구     40502\n",
              "동작구     32726\n",
              "성동구     18678\n",
              "영등포구    13377\n",
              "강서구      7642\n",
              "구로구      7491\n",
              "용산구      6176\n",
              "강동구      5247\n",
              "마포구      4622\n",
              "동대문구     3968\n",
              "서대문구     3287\n",
              "금천구      2378\n",
              "중구       1733\n",
              "종로구      1374\n",
              "중랑구      1343\n",
              "성북구      1090\n",
              "양천구       701\n",
              "노원구       484\n",
              "은평구       351\n",
              "도봉구       102\n",
              "강북구       101\n",
              "Name: gu_name_start, dtype: int64"
            ]
          },
          "metadata": {},
          "execution_count": 20
        }
      ]
    },
    {
      "cell_type": "code",
      "metadata": {
        "colab": {
          "base_uri": "https://localhost:8080/",
          "height": 484
        },
        "id": "0LjOjR26hC4-",
        "outputId": "5e32e661-c9fc-4243-d748-c8aded8e1a7b"
      },
      "source": [
        "bike_final.gu_name_start.value_counts().plot.pie()"
      ],
      "execution_count": 21,
      "outputs": [
        {
          "output_type": "execute_result",
          "data": {
            "text/plain": [
              "<matplotlib.axes._subplots.AxesSubplot at 0x7fcc191cb590>"
            ]
          },
          "metadata": {},
          "execution_count": 21
        },
        {
          "output_type": "display_data",
          "data": {
            "text/plain": [
              "<Figure size 576x576 with 1 Axes>"
            ],
            "image/png": "[encoded data removed]"
          },
          "metadata": {}
        }
      ]
    },
    {
      "cell_type": "code",
      "metadata": {
        "colab": {
          "base_uri": "https://localhost:8080/",
          "height": 526
        },
        "id": "7C0d3WqNhweL",
        "outputId": "b3f1923b-3441-4e08-d713-27239c459e6e"
      },
      "source": [
        "bike_final.gu_name_start.value_counts(normalize=True).plot.bar()"
      ],
      "execution_count": 22,
      "outputs": [
        {
          "output_type": "execute_result",
          "data": {
            "text/plain": [
              "<matplotlib.axes._subplots.AxesSubplot at 0x7fcc18c25e90>"
            ]
          },
          "metadata": {},
          "execution_count": 22
        },
        {
          "output_type": "display_data",
          "data": {
            "text/plain": [
              "<Figure size 576x576 with 1 Axes>"
            ],
            "image/png": "[encoded data removed]"
          },
          "metadata": {
            "needs_background": "light"
          }
        }
      ]
    },
    {
      "cell_type": "markdown",
      "metadata": {
        "id": "davccYNhjKZP"
      },
      "source": [
        "## 4. 자전거 이용시간 및 거리 분석\n",
        "\n",
        "이제 자전거 이용시간과 거리에 대한 시각화 분석과 요약 통계량을 구해봅시다.\n",
        "\n",
        "1. 요약 통계량\n",
        "2. 히스토그램\n",
        "3. 상자그림\n",
        "4. 이용 시간과 거리의 산점도\n",
        "\n",
        "자전거 이용 시간과 거리는 앞에서 말한 대로 체력 측정 자료의 분포와는 매우 다릅니다. 크기가 큰 방향, 즉 오른쪽으로 매우 치우친 분포를 보여줍니다.\n",
        "\n",
        "특히 이동 거리의 평균(mean)과 중간값(50%, median)이 매우 차이가 나는 것을 알 수 있습니다. 왜 이렇게 차이가 나는지 생각해 봅시다. \n",
        "\n",
        "이용 시간과 거리의 최대값을 보면 우리가 생각한 것 보다 매우 큰 값임을 알 수 있습니다. 실제로 이용한 시간과 거리일까요?"
      ]
    },
    {
      "cell_type": "code",
      "metadata": {
        "colab": {
          "base_uri": "https://localhost:8080/",
          "height": 300
        },
        "id": "nUjgJ1Mijly6",
        "outputId": "9a8ace81-fe6d-4eae-964c-c8fb8bdc29a0"
      },
      "source": [
        "bike_final[[\"duration\", \"distance\"]].describe().reset_index()"
      ],
      "execution_count": 23,
      "outputs": [
        {
          "output_type": "execute_result",
          "data": {
            "text/plain": [
              "   index       duration       distance\n",
              "0  count  407589.000000  407589.000000\n",
              "1   mean      30.156827    4253.336228\n",
              "2    std      32.065934    5782.673901\n",
              "3    min       1.000000       0.000000\n",
              "4    25%       8.000000    1200.000000\n",
              "5    50%      18.000000    2380.000000\n",
              "6    75%      43.000000    5130.000000\n",
              "7    max    2479.000000  153490.000000"
            ],
            "text/html": [
              "\n",
              "  <div id=\"df-c5b5add5-b13b-4087-9694-378a5d26075c\">\n",
              "    <div class=\"colab-df-container\">\n",
              "      <div>\n",
              "<style scoped>\n",
              "    .dataframe tbody tr th:only-of-type {\n",
              "        vertical-align: middle;\n",
              "    }\n",
              "\n",
              "    .dataframe tbody tr th {\n",
              "        vertical-align: top;\n",
              "    }\n",
              "\n",
              "    .dataframe thead th {\n",
              "        text-align: right;\n",
              "    }\n",
              "</style>\n",
              "<table border=\"1\" class=\"dataframe\">\n",
              "  <thead>\n",
              "    <tr style=\"text-align: right;\">\n",
              "      <th></th>\n",
              "      <th>index</th>\n",
              "      <th>duration</th>\n",
              "      <th>distance</th>\n",
              "    </tr>\n",
              "  </thead>\n",
              "  <tbody>\n",
              "    <tr>\n",
              "      <th>0</th>\n",
              "      <td>count</td>\n",
              "      <td>407589.000000</td>\n",
              "      <td>407589.000000</td>\n",
              "    </tr>\n",
              "    <tr>\n",
              "      <th>1</th>\n",
              "      <td>mean</td>\n",
              "      <td>30.156827</td>\n",
              "      <td>4253.336228</td>\n",
              "    </tr>\n",
              "    <tr>\n",
              "      <th>2</th>\n",
              "      <td>std</td>\n",
              "      <td>32.065934</td>\n",
              "      <td>5782.673901</td>\n",
              "    </tr>\n",
              "    <tr>\n",
              "      <th>3</th>\n",
              "      <td>min</td>\n",
              "      <td>1.000000</td>\n",
              "      <td>0.000000</td>\n",
              "    </tr>\n",
              "    <tr>\n",
              "      <th>4</th>\n",
              "      <td>25%</td>\n",
              "      <td>8.000000</td>\n",
              "      <td>1200.000000</td>\n",
              "    </tr>\n",
              "    <tr>\n",
              "      <th>5</th>\n",
              "      <td>50%</td>\n",
              "      <td>18.000000</td>\n",
              "      <td>2380.000000</td>\n",
              "    </tr>\n",
              "    <tr>\n",
              "      <th>6</th>\n",
              "      <td>75%</td>\n",
              "      <td>43.000000</td>\n",
              "      <td>5130.000000</td>\n",
              "    </tr>\n",
              "    <tr>\n",
              "      <th>7</th>\n",
              "      <td>max</td>\n",
              "      <td>2479.000000</td>\n",
              "      <td>153490.000000</td>\n",
              "    </tr>\n",
              "  </tbody>\n",
              "</table>\n",
              "</div>\n",
              "      <button class=\"colab-df-convert\" onclick=\"convertToInteractive('df-c5b5add5-b13b-4087-9694-378a5d26075c')\"\n",
              "              title=\"Convert this dataframe to an interactive table.\"\n",
              "              style=\"display:none;\">\n",
              "        \n",
              "  <svg xmlns=\"http://www.w3.org/2000/svg\" height=\"24px\"viewBox=\"0 0 24 24\"\n",
              "       width=\"24px\">\n",
              "    <path d=\"M0 0h24v24H0V0z\" fill=\"none\"/>\n",
              "    <path d=\"M18.56 5.44l.94 2.06.94-2.06 2.06-.94-2.06-.94-.94-2.06-.94 2.06-2.06.94zm-11 1L8.5 8.5l.94-2.06 2.06-.94-2.06-.94L8.5 2.5l-.94 2.06-2.06.94zm10 10l.94 2.06.94-2.06 2.06-.94-2.06-.94-.94-2.06-.94 2.06-2.06.94z\"/><path d=\"M17.41 7.96l-1.37-1.37c-.4-.4-.92-.59-1.43-.59-.52 0-1.04.2-1.43.59L10.3 9.45l-7.72 7.72c-.78.78-.78 2.05 0 2.83L4 21.41c.39.39.9.59 1.41.59.51 0 1.02-.2 1.41-.59l7.78-7.78 2.81-2.81c.8-.78.8-2.07 0-2.86zM5.41 20L4 18.59l7.72-7.72 1.47 1.35L5.41 20z\"/>\n",
              "  </svg>\n",
              "      </button>\n",
              "      \n",
              "  <style>\n",
              "    .colab-df-container {\n",
              "      display:flex;\n",
              "      flex-wrap:wrap;\n",
              "      gap: 12px;\n",
              "    }\n",
              "\n",
              "    .colab-df-convert {\n",
              "      background-color: #E8F0FE;\n",
              "      border: none;\n",
              "      border-radius: 50%;\n",
              "      cursor: pointer;\n",
              "      display: none;\n",
              "      fill: #1967D2;\n",
              "      height: 32px;\n",
              "      padding: 0 0 0 0;\n",
              "      width: 32px;\n",
              "    }\n",
              "\n",
              "    .colab-df-convert:hover {\n",
              "      background-color: #E2EBFA;\n",
              "      box-shadow: 0px 1px 2px rgba(60, 64, 67, 0.3), 0px 1px 3px 1px rgba(60, 64, 67, 0.15);\n",
              "      fill: #174EA6;\n",
              "    }\n",
              "\n",
              "    [theme=dark] .colab-df-convert {\n",
              "      background-color: #3B4455;\n",
              "      fill: #D2E3FC;\n",
              "    }\n",
              "\n",
              "    [theme=dark] .colab-df-convert:hover {\n",
              "      background-color: #434B5C;\n",
              "      box-shadow: 0px 1px 3px 1px rgba(0, 0, 0, 0.15);\n",
              "      filter: drop-shadow(0px 1px 2px rgba(0, 0, 0, 0.3));\n",
              "      fill: #FFFFFF;\n",
              "    }\n",
              "  </style>\n",
              "\n",
              "      <script>\n",
              "        const buttonEl =\n",
              "          document.querySelector('#df-c5b5add5-b13b-4087-9694-378a5d26075c button.colab-df-convert');\n",
              "        buttonEl.style.display =\n",
              "          google.colab.kernel.accessAllowed ? 'block' : 'none';\n",
              "\n",
              "        async function convertToInteractive(key) {\n",
              "          const element = document.querySelector('#df-c5b5add5-b13b-4087-9694-378a5d26075c');\n",
              "          const dataTable =\n",
              "            await google.colab.kernel.invokeFunction('convertToInteractive',\n",
              "                                                     [key], {});\n",
              "          if (!dataTable) return;\n",
              "\n",
              "          const docLinkHtml = 'Like what you see? Visit the ' +\n",
              "            '<a target=\"_blank\" href=https://colab.research.google.com/notebooks/data_table.ipynb>data table notebook</a>'\n",
              "            + ' to learn more about interactive tables.';\n",
              "          element.innerHTML = '';\n",
              "          dataTable['output_type'] = 'display_data';\n",
              "          await google.colab.output.renderOutput(dataTable, element);\n",
              "          const docLink = document.createElement('div');\n",
              "          docLink.innerHTML = docLinkHtml;\n",
              "          element.appendChild(docLink);\n",
              "        }\n",
              "      </script>\n",
              "    </div>\n",
              "  </div>\n",
              "  "
            ]
          },
          "metadata": {},
          "execution_count": 23
        }
      ]
    },
    {
      "cell_type": "code",
      "metadata": {
        "colab": {
          "base_uri": "https://localhost:8080/",
          "height": 501
        },
        "id": "COfW8QjDjiCp",
        "outputId": "1f689b72-d5e3-47b8-e970-02ae75d05819"
      },
      "source": [
        "bike_final.plot.hist(y=\"duration\", bins= 20)"
      ],
      "execution_count": 24,
      "outputs": [
        {
          "output_type": "execute_result",
          "data": {
            "text/plain": [
              "<matplotlib.axes._subplots.AxesSubplot at 0x7fcc18b383d0>"
            ]
          },
          "metadata": {},
          "execution_count": 24
        },
        {
          "output_type": "display_data",
          "data": {
            "text/plain": [
              "<Figure size 576x576 with 1 Axes>"
            ],
            "image/png": "[encoded data removed]"
          },
          "metadata": {
            "needs_background": "light"
          }
        }
      ]
    },
    {
      "cell_type": "code",
      "metadata": {
        "colab": {
          "base_uri": "https://localhost:8080/",
          "height": 501
        },
        "id": "EB8GltEpj6Ge",
        "outputId": "ebf0ba09-356f-477c-fb3c-04ec655995c6"
      },
      "source": [
        "bike_final.plot.box(y=\"duration\")"
      ],
      "execution_count": 25,
      "outputs": [
        {
          "output_type": "execute_result",
          "data": {
            "text/plain": [
              "<matplotlib.axes._subplots.AxesSubplot at 0x7fcc18a7c410>"
            ]
          },
          "metadata": {},
          "execution_count": 25
        },
        {
          "output_type": "display_data",
          "data": {
            "text/plain": [
              "<Figure size 576x576 with 1 Axes>"
            ],
            "image/png": "[encoded data removed]"
          },
          "metadata": {
            "needs_background": "light"
          }
        }
      ]
    },
    {
      "cell_type": "code",
      "metadata": {
        "colab": {
          "base_uri": "https://localhost:8080/",
          "height": 501
        },
        "id": "5Kr7gVnPj8-S",
        "outputId": "0db9ed9a-19d2-447a-d924-e4db58ad6542"
      },
      "source": [
        "bike_final.plot.hist(y=\"distance\", bins=20)"
      ],
      "execution_count": 26,
      "outputs": [
        {
          "output_type": "execute_result",
          "data": {
            "text/plain": [
              "<matplotlib.axes._subplots.AxesSubplot at 0x7fcc189fa110>"
            ]
          },
          "metadata": {},
          "execution_count": 26
        },
        {
          "output_type": "display_data",
          "data": {
            "text/plain": [
              "<Figure size 576x576 with 1 Axes>"
            ],
            "image/png": "[encoded data removed]"
          },
          "metadata": {
            "needs_background": "light"
          }
        }
      ]
    },
    {
      "cell_type": "code",
      "metadata": {
        "colab": {
          "base_uri": "https://localhost:8080/",
          "height": 501
        },
        "id": "haroHWw8kCJy",
        "outputId": "942dd0ca-59ac-46e8-f6e8-3777da314b7c"
      },
      "source": [
        "bike_final.plot.box(y=\"distance\")"
      ],
      "execution_count": 27,
      "outputs": [
        {
          "output_type": "execute_result",
          "data": {
            "text/plain": [
              "<matplotlib.axes._subplots.AxesSubplot at 0x7fcc189331d0>"
            ]
          },
          "metadata": {},
          "execution_count": 27
        },
        {
          "output_type": "display_data",
          "data": {
            "text/plain": [
              "<Figure size 576x576 with 1 Axes>"
            ],
            "image/png": "[encoded data removed]"
          },
          "metadata": {
            "needs_background": "light"
          }
        }
      ]
    },
    {
      "cell_type": "markdown",
      "source": [
        "아래 그림은 이동거리와 시간의 관계를 산점도로 나타낸 것입니다. \n",
        "\n",
        "이동거리와 이동시간이 매우 큰 값들이 나타나 있는 것을 알 수 있습니다.\n",
        "\n",
        "시각적으로 확실하게 나타나지는 않지만 이동시간이 증가하면 거리도 증가하는 경향이 나타납니다. \n"
      ],
      "metadata": {
        "id": "GP8TkBYwKAuB"
      }
    },
    {
      "cell_type": "code",
      "metadata": {
        "colab": {
          "base_uri": "https://localhost:8080/",
          "height": 515
        },
        "id": "C8xA9jeclO2-",
        "outputId": "6d107ecc-10dd-4304-ea10-703ed626cf98"
      },
      "source": [
        "bike_final.plot.scatter(x='duration',y= 'distance', alpha=0.5)"
      ],
      "execution_count": 28,
      "outputs": [
        {
          "output_type": "execute_result",
          "data": {
            "text/plain": [
              "<matplotlib.axes._subplots.AxesSubplot at 0x7fcc1889f990>"
            ]
          },
          "metadata": {},
          "execution_count": 28
        },
        {
          "output_type": "display_data",
          "data": {
            "text/plain": [
              "<Figure size 576x576 with 1 Axes>"
            ],
            "image/png": "[encoded data removed]"
          },
          "metadata": {
            "needs_background": "light"
          }
        }
      ]
    },
    {
      "cell_type": "markdown",
      "metadata": {
        "id": "n8VQZMr0lWKV"
      },
      "source": [
        "\n",
        "\n",
        "이동시간(`duration`)과 이동거리(`distance`)의 분포는 오른쪽으로 매우 치우친 모양으로 나타납니다. \n",
        "\n",
        "이러한 현상은 비정상적으로 매우 큰 값들이 자료에 많이 포함되어 있기 때문입니다. 앞의 분포를 요약하는 그림에서 나타난 것과 같이 평균에서 멀리 떨어진 매우 큰 값들을 우리는 이상점(outlier)라고 부릅니다.\n",
        "\n",
        "이렇게 매우 큰 값들이 포함된 자료의 분포를 파악하는 경우 자료의 값을 로그 변환(log transformation)하여 분석하면 여러 가지 유용한 점이 있습니다.\n",
        "\n",
        "  - 이동시간와 이동거리에 값이 0이 있는 자료가 있으므로 아주 작은 수 0.1을 더해서 로그변환 합니다.\n",
        "  - 로그변환 시 밑을 10을 이용하며 함수는 `numpy` 에 있는 `log10` 함수를 사용합니다.\n",
        "  \n",
        "  \n",
        "이제 오른쪽으로 매우 치우친 분포를 가진 자료를 로그 변환하면 대칭인 분포가 나타나는 것을 알 수 잇습니다.\n",
        "\n",
        "이동 시간과 거리의  로그 변환값에 대한  산점도를 다시 그려봅시다."
      ]
    },
    {
      "cell_type": "markdown",
      "source": [
        "아래 코드를 실행하면 경고(warning)이 나타나지만 결과에는 이상이 없으니 그냥 무시하세요."
      ],
      "metadata": {
        "id": "TOzf9EC-6Wp9"
      }
    },
    {
      "cell_type": "code",
      "metadata": {
        "colab": {
          "base_uri": "https://localhost:8080/"
        },
        "id": "P-UU8_nhmA-k",
        "outputId": "4ad56aad-2249-4e00-f846-fa4a6a2d2cf6"
      },
      "source": [
        "bike_final['duration_log10'] = np.log10(bike_final['duration'] + 0.1)\n",
        "bike_final['distance_log10'] = np.log10(bike_final['distance'] + 0.1)"
      ],
      "execution_count": 29,
      "outputs": [
        {
          "output_type": "stream",
          "name": "stderr",
          "text": [
            "/usr/local/lib/python3.7/dist-packages/ipykernel_launcher.py:1: SettingWithCopyWarning: \n",
            "A value is trying to be set on a copy of a slice from a DataFrame.\n",
            "Try using .loc[row_indexer,col_indexer] = value instead\n",
            "\n",
            "See the caveats in the documentation: https://pandas.pydata.org/pandas-docs/stable/user_guide/indexing.html#returning-a-view-versus-a-copy\n",
            "  \"\"\"Entry point for launching an IPython kernel.\n",
            "/usr/local/lib/python3.7/dist-packages/ipykernel_launcher.py:2: SettingWithCopyWarning: \n",
            "A value is trying to be set on a copy of a slice from a DataFrame.\n",
            "Try using .loc[row_indexer,col_indexer] = value instead\n",
            "\n",
            "See the caveats in the documentation: https://pandas.pydata.org/pandas-docs/stable/user_guide/indexing.html#returning-a-view-versus-a-copy\n",
            "  \n"
          ]
        }
      ]
    },
    {
      "cell_type": "code",
      "metadata": {
        "colab": {
          "base_uri": "https://localhost:8080/",
          "height": 515
        },
        "id": "jh-gj0fxlVU5",
        "outputId": "6ab469e6-db04-4d99-be2f-3535ad599327"
      },
      "source": [
        "bike_final.plot.scatter(x='duration_log10',y= 'distance_log10', alpha=0.5)"
      ],
      "execution_count": 30,
      "outputs": [
        {
          "output_type": "execute_result",
          "data": {
            "text/plain": [
              "<matplotlib.axes._subplots.AxesSubplot at 0x7fcc188396d0>"
            ]
          },
          "metadata": {},
          "execution_count": 30
        },
        {
          "output_type": "display_data",
          "data": {
            "text/plain": [
              "<Figure size 576x576 with 1 Axes>"
            ],
            "image/png": "[encoded data removed]"
          },
          "metadata": {
            "needs_background": "light"
          }
        }
      ]
    },
    {
      "cell_type": "markdown",
      "metadata": {
        "id": "V-TMFcnIm4vD"
      },
      "source": [
        "위의 분석을 보면 거리가 0으로 된 자료가 많은 것 같습니다. 로그변환시 0.1을 더했으므로\n",
        "원래 값이 0 인 자료는 로그 변환시 -1 이 됩니다.\n",
        "\n",
        "$$ log_{10}(0+0.1) = log_{10}(0.1) = -1 $$\n",
        "\n",
        "\n",
        "아마도 거리를 측정하는 센서나 계측기계에 오류가 있는 것으로 생각되어 거리가 0인 것을 제외한 데이터프레임 `bike_nozero`를 만들고 다시 분석해 봅시다."
      ]
    },
    {
      "cell_type": "code",
      "metadata": {
        "id": "dpS05vlnnaxS"
      },
      "source": [
        "bike_nozero = bike_final.loc[bike_final.distance > 0.0]"
      ],
      "execution_count": 31,
      "outputs": []
    },
    {
      "cell_type": "code",
      "source": [
        "bike_nozero.shape"
      ],
      "metadata": {
        "colab": {
          "base_uri": "https://localhost:8080/"
        },
        "id": "sV65JENbIMAo",
        "outputId": "46cbca76-02ae-4bcd-f76a-0c686db6f259"
      },
      "execution_count": 32,
      "outputs": [
        {
          "output_type": "execute_result",
          "data": {
            "text/plain": [
              "(395277, 11)"
            ]
          },
          "metadata": {},
          "execution_count": 32
        }
      ]
    },
    {
      "cell_type": "code",
      "source": [
        "bike_final.shape"
      ],
      "metadata": {
        "colab": {
          "base_uri": "https://localhost:8080/"
        },
        "id": "gPAIF2nSIPMF",
        "outputId": "71ec9614-ade0-4113-e897-7bc7eb7e1794"
      },
      "execution_count": 33,
      "outputs": [
        {
          "output_type": "execute_result",
          "data": {
            "text/plain": [
              "(407589, 11)"
            ]
          },
          "metadata": {},
          "execution_count": 33
        }
      ]
    },
    {
      "cell_type": "markdown",
      "source": [
        "아래외 같이 이동거리가 0인 자료의 수는 12,312 입니다."
      ],
      "metadata": {
        "id": "DuH25vRxJNDW"
      }
    },
    {
      "cell_type": "code",
      "source": [
        "bike_final.shape[0] - bike_nozero.shape[0]"
      ],
      "metadata": {
        "colab": {
          "base_uri": "https://localhost:8080/"
        },
        "id": "sCfefQP9JIAU",
        "outputId": "14493a04-2616-49e8-cba2-97a51dfde586"
      },
      "execution_count": 34,
      "outputs": [
        {
          "output_type": "execute_result",
          "data": {
            "text/plain": [
              "12312"
            ]
          },
          "metadata": {},
          "execution_count": 34
        }
      ]
    },
    {
      "cell_type": "markdown",
      "source": [
        "이제 이동거리가 0인 자료를 제거하고 이동거리와 시간에 대한 요약통계량을 구해봅시다. "
      ],
      "metadata": {
        "id": "aZEaY8yOJYRP"
      }
    },
    {
      "cell_type": "code",
      "metadata": {
        "colab": {
          "base_uri": "https://localhost:8080/",
          "height": 300
        },
        "id": "Sb1-HAWQoeym",
        "outputId": "bcb2b1f8-e6c4-4807-cfc3-f1ff705d119a"
      },
      "source": [
        "bike_nozero[[\"duration\", \"distance\"]].describe().reset_index()"
      ],
      "execution_count": 35,
      "outputs": [
        {
          "output_type": "execute_result",
          "data": {
            "text/plain": [
              "   index       duration       distance\n",
              "0  count  395277.000000  395277.000000\n",
              "1   mean      30.285319    4385.818198\n",
              "2    std      32.119792    5822.356670\n",
              "3    min       1.000000      10.000000\n",
              "4    25%       9.000000    1290.000000\n",
              "5    50%      18.000000    2470.000000\n",
              "6    75%      43.000000    5280.000000\n",
              "7    max    2479.000000  153490.000000"
            ],
            "text/html": [
              "\n",
              "  <div id=\"df-33abdbcb-4dcd-4ecd-94d2-7afb3e2baa18\">\n",
              "    <div class=\"colab-df-container\">\n",
              "      <div>\n",
              "<style scoped>\n",
              "    .dataframe tbody tr th:only-of-type {\n",
              "        vertical-align: middle;\n",
              "    }\n",
              "\n",
              "    .dataframe tbody tr th {\n",
              "        vertical-align: top;\n",
              "    }\n",
              "\n",
              "    .dataframe thead th {\n",
              "        text-align: right;\n",
              "    }\n",
              "</style>\n",
              "<table border=\"1\" class=\"dataframe\">\n",
              "  <thead>\n",
              "    <tr style=\"text-align: right;\">\n",
              "      <th></th>\n",
              "      <th>index</th>\n",
              "      <th>duration</th>\n",
              "      <th>distance</th>\n",
              "    </tr>\n",
              "  </thead>\n",
              "  <tbody>\n",
              "    <tr>\n",
              "      <th>0</th>\n",
              "      <td>count</td>\n",
              "      <td>395277.000000</td>\n",
              "      <td>395277.000000</td>\n",
              "    </tr>\n",
              "    <tr>\n",
              "      <th>1</th>\n",
              "      <td>mean</td>\n",
              "      <td>30.285319</td>\n",
              "      <td>4385.818198</td>\n",
              "    </tr>\n",
              "    <tr>\n",
              "      <th>2</th>\n",
              "      <td>std</td>\n",
              "      <td>32.119792</td>\n",
              "      <td>5822.356670</td>\n",
              "    </tr>\n",
              "    <tr>\n",
              "      <th>3</th>\n",
              "      <td>min</td>\n",
              "      <td>1.000000</td>\n",
              "      <td>10.000000</td>\n",
              "    </tr>\n",
              "    <tr>\n",
              "      <th>4</th>\n",
              "      <td>25%</td>\n",
              "      <td>9.000000</td>\n",
              "      <td>1290.000000</td>\n",
              "    </tr>\n",
              "    <tr>\n",
              "      <th>5</th>\n",
              "      <td>50%</td>\n",
              "      <td>18.000000</td>\n",
              "      <td>2470.000000</td>\n",
              "    </tr>\n",
              "    <tr>\n",
              "      <th>6</th>\n",
              "      <td>75%</td>\n",
              "      <td>43.000000</td>\n",
              "      <td>5280.000000</td>\n",
              "    </tr>\n",
              "    <tr>\n",
              "      <th>7</th>\n",
              "      <td>max</td>\n",
              "      <td>2479.000000</td>\n",
              "      <td>153490.000000</td>\n",
              "    </tr>\n",
              "  </tbody>\n",
              "</table>\n",
              "</div>\n",
              "      <button class=\"colab-df-convert\" onclick=\"convertToInteractive('df-33abdbcb-4dcd-4ecd-94d2-7afb3e2baa18')\"\n",
              "              title=\"Convert this dataframe to an interactive table.\"\n",
              "              style=\"display:none;\">\n",
              "        \n",
              "  <svg xmlns=\"http://www.w3.org/2000/svg\" height=\"24px\"viewBox=\"0 0 24 24\"\n",
              "       width=\"24px\">\n",
              "    <path d=\"M0 0h24v24H0V0z\" fill=\"none\"/>\n",
              "    <path d=\"M18.56 5.44l.94 2.06.94-2.06 2.06-.94-2.06-.94-.94-2.06-.94 2.06-2.06.94zm-11 1L8.5 8.5l.94-2.06 2.06-.94-2.06-.94L8.5 2.5l-.94 2.06-2.06.94zm10 10l.94 2.06.94-2.06 2.06-.94-2.06-.94-.94-2.06-.94 2.06-2.06.94z\"/><path d=\"M17.41 7.96l-1.37-1.37c-.4-.4-.92-.59-1.43-.59-.52 0-1.04.2-1.43.59L10.3 9.45l-7.72 7.72c-.78.78-.78 2.05 0 2.83L4 21.41c.39.39.9.59 1.41.59.51 0 1.02-.2 1.41-.59l7.78-7.78 2.81-2.81c.8-.78.8-2.07 0-2.86zM5.41 20L4 18.59l7.72-7.72 1.47 1.35L5.41 20z\"/>\n",
              "  </svg>\n",
              "      </button>\n",
              "      \n",
              "  <style>\n",
              "    .colab-df-container {\n",
              "      display:flex;\n",
              "      flex-wrap:wrap;\n",
              "      gap: 12px;\n",
              "    }\n",
              "\n",
              "    .colab-df-convert {\n",
              "      background-color: #E8F0FE;\n",
              "      border: none;\n",
              "      border-radius: 50%;\n",
              "      cursor: pointer;\n",
              "      display: none;\n",
              "      fill: #1967D2;\n",
              "      height: 32px;\n",
              "      padding: 0 0 0 0;\n",
              "      width: 32px;\n",
              "    }\n",
              "\n",
              "    .colab-df-convert:hover {\n",
              "      background-color: #E2EBFA;\n",
              "      box-shadow: 0px 1px 2px rgba(60, 64, 67, 0.3), 0px 1px 3px 1px rgba(60, 64, 67, 0.15);\n",
              "      fill: #174EA6;\n",
              "    }\n",
              "\n",
              "    [theme=dark] .colab-df-convert {\n",
              "      background-color: #3B4455;\n",
              "      fill: #D2E3FC;\n",
              "    }\n",
              "\n",
              "    [theme=dark] .colab-df-convert:hover {\n",
              "      background-color: #434B5C;\n",
              "      box-shadow: 0px 1px 3px 1px rgba(0, 0, 0, 0.15);\n",
              "      filter: drop-shadow(0px 1px 2px rgba(0, 0, 0, 0.3));\n",
              "      fill: #FFFFFF;\n",
              "    }\n",
              "  </style>\n",
              "\n",
              "      <script>\n",
              "        const buttonEl =\n",
              "          document.querySelector('#df-33abdbcb-4dcd-4ecd-94d2-7afb3e2baa18 button.colab-df-convert');\n",
              "        buttonEl.style.display =\n",
              "          google.colab.kernel.accessAllowed ? 'block' : 'none';\n",
              "\n",
              "        async function convertToInteractive(key) {\n",
              "          const element = document.querySelector('#df-33abdbcb-4dcd-4ecd-94d2-7afb3e2baa18');\n",
              "          const dataTable =\n",
              "            await google.colab.kernel.invokeFunction('convertToInteractive',\n",
              "                                                     [key], {});\n",
              "          if (!dataTable) return;\n",
              "\n",
              "          const docLinkHtml = 'Like what you see? Visit the ' +\n",
              "            '<a target=\"_blank\" href=https://colab.research.google.com/notebooks/data_table.ipynb>data table notebook</a>'\n",
              "            + ' to learn more about interactive tables.';\n",
              "          element.innerHTML = '';\n",
              "          dataTable['output_type'] = 'display_data';\n",
              "          await google.colab.output.renderOutput(dataTable, element);\n",
              "          const docLink = document.createElement('div');\n",
              "          docLink.innerHTML = docLinkHtml;\n",
              "          element.appendChild(docLink);\n",
              "        }\n",
              "      </script>\n",
              "    </div>\n",
              "  </div>\n",
              "  "
            ]
          },
          "metadata": {},
          "execution_count": 35
        }
      ]
    },
    {
      "cell_type": "markdown",
      "source": [
        "또한 이동거리가 0인 자료를 제거하고  자료의 분포를 살펴봅시다."
      ],
      "metadata": {
        "id": "b3z8_SQMJ2Kk"
      }
    },
    {
      "cell_type": "code",
      "metadata": {
        "colab": {
          "base_uri": "https://localhost:8080/",
          "height": 501
        },
        "id": "dIDNVhR2oq8a",
        "outputId": "373a0af3-658c-4195-a3ac-94c4f7c57377"
      },
      "source": [
        "bike_nozero.plot.hist(y=\"distance\", bins= 20)"
      ],
      "execution_count": 36,
      "outputs": [
        {
          "output_type": "execute_result",
          "data": {
            "text/plain": [
              "<matplotlib.axes._subplots.AxesSubplot at 0x7fcc1e972750>"
            ]
          },
          "metadata": {},
          "execution_count": 36
        },
        {
          "output_type": "display_data",
          "data": {
            "text/plain": [
              "<Figure size 576x576 with 1 Axes>"
            ],
            "image/png": "[encoded data removed]"
          },
          "metadata": {
            "needs_background": "light"
          }
        }
      ]
    },
    {
      "cell_type": "markdown",
      "metadata": {
        "id": "JsxC7AhupiBV"
      },
      "source": [
        "로그 변환을 적용한 자료는 분포가 대칭에 가깝게 됩니다."
      ]
    },
    {
      "cell_type": "code",
      "metadata": {
        "colab": {
          "base_uri": "https://localhost:8080/",
          "height": 501
        },
        "id": "_nO0GOvLoufh",
        "outputId": "4ce82a5c-f26d-46c6-cd17-01fb7a2e3593"
      },
      "source": [
        "bike_nozero.plot.hist(y=\"distance_log10\", bins= 20)"
      ],
      "execution_count": 37,
      "outputs": [
        {
          "output_type": "execute_result",
          "data": {
            "text/plain": [
              "<matplotlib.axes._subplots.AxesSubplot at 0x7fcc1ea0d2d0>"
            ]
          },
          "metadata": {},
          "execution_count": 37
        },
        {
          "output_type": "display_data",
          "data": {
            "text/plain": [
              "<Figure size 576x576 with 1 Axes>"
            ],
            "image/png": "[encoded data removed]"
          },
          "metadata": {
            "needs_background": "light"
          }
        }
      ]
    },
    {
      "cell_type": "code",
      "metadata": {
        "colab": {
          "base_uri": "https://localhost:8080/",
          "height": 501
        },
        "id": "0V8nC5cPpCo5",
        "outputId": "853033b9-8995-4aa8-c8d4-31fa537c92a4"
      },
      "source": [
        "bike_nozero.plot.box(y=\"distance_log10\")"
      ],
      "execution_count": 38,
      "outputs": [
        {
          "output_type": "execute_result",
          "data": {
            "text/plain": [
              "<matplotlib.axes._subplots.AxesSubplot at 0x7fcc16e1b2d0>"
            ]
          },
          "metadata": {},
          "execution_count": 38
        },
        {
          "output_type": "display_data",
          "data": {
            "text/plain": [
              "<Figure size 576x576 with 1 Axes>"
            ],
            "image/png": "[encoded data removed]"
          },
          "metadata": {
            "needs_background": "light"
          }
        }
      ]
    },
    {
      "cell_type": "code",
      "metadata": {
        "colab": {
          "base_uri": "https://localhost:8080/",
          "height": 515
        },
        "id": "Lqcrzmf1nlJW",
        "outputId": "abf15024-a145-4740-9f64-f3062d897643"
      },
      "source": [
        "bike_nozero.plot.scatter(x='duration_log10',y= 'distance_log10', alpha=0.25)"
      ],
      "execution_count": 39,
      "outputs": [
        {
          "output_type": "execute_result",
          "data": {
            "text/plain": [
              "<matplotlib.axes._subplots.AxesSubplot at 0x7fcc18a004d0>"
            ]
          },
          "metadata": {},
          "execution_count": 39
        },
        {
          "output_type": "display_data",
          "data": {
            "text/plain": [
              "<Figure size 576x576 with 1 Axes>"
            ],
            "image/png": "[encoded data removed]"
          },
          "metadata": {
            "needs_background": "light"
          }
        }
      ]
    },
    {
      "cell_type": "markdown",
      "metadata": {
        "id": "4MKD78zMiVVx"
      },
      "source": [
        "## 5. 구별 자전거 이용시간 및 거리 비교\n",
        "\n",
        "이제 구별로 자전거의 이용 시간과 거리를 비교해 봅시다. 여기서 구별로 분석하는 것은 자전거를 출발할 때 대여한 대여소가 위치는 구를 의미합니다.\n",
        "\n",
        "1. 구별 요약 통계량 분석\n",
        "2. 구별 상자그림"
      ]
    },
    {
      "cell_type": "code",
      "metadata": {
        "colab": {
          "base_uri": "https://localhost:8080/",
          "height": 929
        },
        "id": "qBWJVwG5iG2N",
        "outputId": "9402dff2-0a5d-4ab2-db83-45879ab345fa"
      },
      "source": [
        "bike_nozero[[\"gu_name_start\", \"duration\", \"distance\"]].groupby(by=\"gu_name_start\").describe().reset_index()"
      ],
      "execution_count": 40,
      "outputs": [
        {
          "output_type": "execute_result",
          "data": {
            "text/plain": [
              "   gu_name_start duration                                                  \\\n",
              "                    count       mean        std   min   25%   50%     75%   \n",
              "0            강남구  63820.0  29.363601  31.644264   1.0   8.0  17.0   41.00   \n",
              "1            강동구   5113.0  36.461373  28.835377   3.0  15.0  29.0   49.00   \n",
              "2            강북구    100.0  83.830000  42.500637  27.0  46.0  80.0  113.50   \n",
              "3            강서구   7426.0  20.979127  28.844970   1.0   5.0   8.0   20.00   \n",
              "4            관악구  51741.0  24.730929  27.278189   1.0   8.0  14.0   31.00   \n",
              "5            광진구  39251.0  24.207765  28.304476   1.0   7.0  13.0   31.00   \n",
              "6            구로구   7311.0  30.576255  26.481543   1.0  15.0  25.0   39.00   \n",
              "7            금천구   2332.0  32.106346  28.378665   2.0  12.0  25.0   43.00   \n",
              "8            노원구    472.0  72.360169  33.208176   4.0  49.0  66.0   91.00   \n",
              "9            도봉구     97.0  92.474227  30.253820   5.0  69.0  92.0  113.00   \n",
              "10          동대문구   3872.0  30.242252  27.763908   1.0  10.0  20.0   43.00   \n",
              "11           동작구  31662.0  28.978618  33.212139   1.0   7.0  15.0   41.00   \n",
              "12           마포구   4515.0  48.507420  34.103671   2.0  20.0  43.0   67.00   \n",
              "13          서대문구   3200.0  34.571875  37.740023   1.0   9.0  17.0   51.00   \n",
              "14           서초구  78071.0  29.997349  34.510426   1.0   8.0  17.0   41.00   \n",
              "15           성동구  18148.0  35.458783  32.746608   1.0  11.0  25.0   51.00   \n",
              "16           성북구   1062.0  49.246704  32.445494   3.0  24.0  41.5   66.00   \n",
              "17           송파구  44168.0  32.489653  31.268809   1.0  11.0  22.0   45.00   \n",
              "18           양천구    692.0  57.137283  29.549682   4.0  38.0  50.0   70.00   \n",
              "19          영등포구  13036.0  43.814744  30.983401   1.0  21.0  38.0   57.00   \n",
              "20           용산구   6013.0  45.312323  28.544585   1.0  25.0  39.0   56.00   \n",
              "21           은평구    342.0  50.675439  35.505027   3.0  21.0  41.5   80.75   \n",
              "22           종로구   1345.0  44.176208  35.738210   1.0  19.0  35.0   58.00   \n",
              "23            중구   1700.0  40.721176  34.513314   1.0  14.0  34.0   56.00   \n",
              "24           중랑구   1314.0  43.770167  72.627494   2.0  21.0  36.0   55.00   \n",
              "\n",
              "           distance                                                        \\\n",
              "       max    count          mean           std     min      25%      50%   \n",
              "0    911.0  63820.0   4059.047634   5534.558052    10.0   1210.0   2270.0   \n",
              "1    385.0   5113.0   6063.827499   6125.705232    10.0   2350.0   4280.0   \n",
              "2    249.0    100.0  17964.200000  12087.323285  3830.0  10960.0  15515.0   \n",
              "3    323.0   7426.0   3577.347159   6305.250982    10.0    880.0   1400.0   \n",
              "4    468.0  51741.0   3653.434027   5440.731362    10.0   1210.0   2120.0   \n",
              "5    845.0  39251.0   3158.712135   4668.621440    10.0   1030.0   1750.0   \n",
              "6    982.0   7311.0   5391.278895   5357.453664    10.0   2510.0   4360.0   \n",
              "7    221.0   2332.0   5468.975129   6374.993667    30.0   1720.0   3760.0   \n",
              "8    322.0    472.0  16101.588983   9319.765758   540.0  10970.0  13680.0   \n",
              "9    172.0     97.0  19955.463918   9529.382524   840.0  15640.0  17710.0   \n",
              "10   321.0   3872.0   5352.430269   6044.206191    20.0   1570.0   3255.0   \n",
              "11   865.0  31662.0   4085.054955   5972.909677    10.0   1110.0   2020.0   \n",
              "12   378.0   4515.0   9267.145072   8266.710554    10.0   3020.0   7770.0   \n",
              "13   334.0   3200.0   5437.575000   7526.119536    10.0   1307.5   2470.0   \n",
              "14  2457.0  78071.0   3994.706485   5511.477067    10.0   1200.0   2310.0   \n",
              "15   772.0  18148.0   4839.608772   5503.083157    10.0   1540.0   3080.0   \n",
              "16   195.0   1062.0   9703.615819   7276.167526    90.0   4530.0   7725.0   \n",
              "17  1620.0  44168.0   4511.664327   5625.220158    10.0   1550.0   2850.0   \n",
              "18   264.0    692.0  12011.358382   8506.135652   800.0   8072.5  10385.0   \n",
              "19   536.0  13036.0   7582.325867   6780.598739    10.0   3400.0   6220.0   \n",
              "20   346.0   6013.0   7153.838350   6014.478033    10.0   3920.0   5920.0   \n",
              "21   153.0    342.0  10146.988304   9772.512231   550.0   2992.5   6105.0   \n",
              "22   533.0   1345.0   7298.869888   6978.688577   450.0   2870.0   5600.0   \n",
              "23   505.0   1700.0   6760.147059   6858.953106    10.0   1960.0   5380.0   \n",
              "24  2479.0   1314.0   8232.998478   7564.875602   430.0   3672.5   6350.0   \n",
              "\n",
              "                       \n",
              "        75%       max  \n",
              "0    4840.0  125800.0  \n",
              "1    7930.0   91800.0  \n",
              "2   21605.0   85350.0  \n",
              "3    2510.0   80260.0  \n",
              "4    3700.0  116470.0  \n",
              "5    3310.0   87390.0  \n",
              "6    6635.0   83860.0  \n",
              "7    6302.5   74270.0  \n",
              "8   19607.5  106810.0  \n",
              "9   22980.0   76560.0  \n",
              "10   6690.0   74610.0  \n",
              "11   4680.0   99220.0  \n",
              "12  13060.0   83270.0  \n",
              "13   6562.5  130150.0  \n",
              "14   4710.0  141170.0  \n",
              "15   6300.0  103790.0  \n",
              "16  14142.5   72550.0  \n",
              "17   5500.0  153490.0  \n",
              "18  13665.0  108870.0  \n",
              "19   9850.0  100740.0  \n",
              "20   8470.0   84750.0  \n",
              "21  18015.0   81280.0  \n",
              "22   9670.0   97250.0  \n",
              "23   9270.0   80650.0  \n",
              "24  10027.5   69370.0  "
            ],
            "text/html": [
              "\n",
              "  <div id=\"df-74c5644e-5ffc-4e0a-9cbe-561ca8fc5bd4\">\n",
              "    <div class=\"colab-df-container\">\n",
              "      <div>\n",
              "<style scoped>\n",
              "    .dataframe tbody tr th:only-of-type {\n",
              "        vertical-align: middle;\n",
              "    }\n",
              "\n",
              "    .dataframe tbody tr th {\n",
              "        vertical-align: top;\n",
              "    }\n",
              "\n",
              "    .dataframe thead tr th {\n",
              "        text-align: left;\n",
              "    }\n",
              "</style>\n",
              "<table border=\"1\" class=\"dataframe\">\n",
              "  <thead>\n",
              "    <tr>\n",
              "      <th></th>\n",
              "      <th>gu_name_start</th>\n",
              "      <th colspan=\"8\" halign=\"left\">duration</th>\n",
              "      <th colspan=\"8\" halign=\"left\">distance</th>\n",
              "    </tr>\n",
              "    <tr>\n",
              "      <th></th>\n",
              "      <th></th>\n",
              "      <th>count</th>\n",
              "      <th>mean</th>\n",
              "      <th>std</th>\n",
              "      <th>min</th>\n",
              "      <th>25%</th>\n",
              "      <th>50%</th>\n",
              "      <th>75%</th>\n",
              "      <th>max</th>\n",
              "      <th>count</th>\n",
              "      <th>mean</th>\n",
              "      <th>std</th>\n",
              "      <th>min</th>\n",
              "      <th>25%</th>\n",
              "      <th>50%</th>\n",
              "      <th>75%</th>\n",
              "      <th>max</th>\n",
              "    </tr>\n",
              "  </thead>\n",
              "  <tbody>\n",
              "    <tr>\n",
              "      <th>0</th>\n",
              "      <td>강남구</td>\n",
              "      <td>63820.0</td>\n",
              "      <td>29.363601</td>\n",
              "      <td>31.644264</td>\n",
              "      <td>1.0</td>\n",
              "      <td>8.0</td>\n",
              "      <td>17.0</td>\n",
              "      <td>41.00</td>\n",
              "      <td>911.0</td>\n",
              "      <td>63820.0</td>\n",
              "      <td>4059.047634</td>\n",
              "      <td>5534.558052</td>\n",
              "      <td>10.0</td>\n",
              "      <td>1210.0</td>\n",
              "      <td>2270.0</td>\n",
              "      <td>4840.0</td>\n",
              "      <td>125800.0</td>\n",
              "    </tr>\n",
              "    <tr>\n",
              "      <th>1</th>\n",
              "      <td>강동구</td>\n",
              "      <td>5113.0</td>\n",
              "      <td>36.461373</td>\n",
              "      <td>28.835377</td>\n",
              "      <td>3.0</td>\n",
              "      <td>15.0</td>\n",
              "      <td>29.0</td>\n",
              "      <td>49.00</td>\n",
              "      <td>385.0</td>\n",
              "      <td>5113.0</td>\n",
              "      <td>6063.827499</td>\n",
              "      <td>6125.705232</td>\n",
              "      <td>10.0</td>\n",
              "      <td>2350.0</td>\n",
              "      <td>4280.0</td>\n",
              "      <td>7930.0</td>\n",
              "      <td>91800.0</td>\n",
              "    </tr>\n",
              "    <tr>\n",
              "      <th>2</th>\n",
              "      <td>강북구</td>\n",
              "      <td>100.0</td>\n",
              "      <td>83.830000</td>\n",
              "      <td>42.500637</td>\n",
              "      <td>27.0</td>\n",
              "      <td>46.0</td>\n",
              "      <td>80.0</td>\n",
              "      <td>113.50</td>\n",
              "      <td>249.0</td>\n",
              "      <td>100.0</td>\n",
              "      <td>17964.200000</td>\n",
              "      <td>12087.323285</td>\n",
              "      <td>3830.0</td>\n",
              "      <td>10960.0</td>\n",
              "      <td>15515.0</td>\n",
              "      <td>21605.0</td>\n",
              "      <td>85350.0</td>\n",
              "    </tr>\n",
              "    <tr>\n",
              "      <th>3</th>\n",
              "      <td>강서구</td>\n",
              "      <td>7426.0</td>\n",
              "      <td>20.979127</td>\n",
              "      <td>28.844970</td>\n",
              "      <td>1.0</td>\n",
              "      <td>5.0</td>\n",
              "      <td>8.0</td>\n",
              "      <td>20.00</td>\n",
              "      <td>323.0</td>\n",
              "      <td>7426.0</td>\n",
              "      <td>3577.347159</td>\n",
              "      <td>6305.250982</td>\n",
              "      <td>10.0</td>\n",
              "      <td>880.0</td>\n",
              "      <td>1400.0</td>\n",
              "      <td>2510.0</td>\n",
              "      <td>80260.0</td>\n",
              "    </tr>\n",
              "    <tr>\n",
              "      <th>4</th>\n",
              "      <td>관악구</td>\n",
              "      <td>51741.0</td>\n",
              "      <td>24.730929</td>\n",
              "      <td>27.278189</td>\n",
              "      <td>1.0</td>\n",
              "      <td>8.0</td>\n",
              "      <td>14.0</td>\n",
              "      <td>31.00</td>\n",
              "      <td>468.0</td>\n",
              "      <td>51741.0</td>\n",
              "      <td>3653.434027</td>\n",
              "      <td>5440.731362</td>\n",
              "      <td>10.0</td>\n",
              "      <td>1210.0</td>\n",
              "      <td>2120.0</td>\n",
              "      <td>3700.0</td>\n",
              "      <td>116470.0</td>\n",
              "    </tr>\n",
              "    <tr>\n",
              "      <th>5</th>\n",
              "      <td>광진구</td>\n",
              "      <td>39251.0</td>\n",
              "      <td>24.207765</td>\n",
              "      <td>28.304476</td>\n",
              "      <td>1.0</td>\n",
              "      <td>7.0</td>\n",
              "      <td>13.0</td>\n",
              "      <td>31.00</td>\n",
              "      <td>845.0</td>\n",
              "      <td>39251.0</td>\n",
              "      <td>3158.712135</td>\n",
              "      <td>4668.621440</td>\n",
              "      <td>10.0</td>\n",
              "      <td>1030.0</td>\n",
              "      <td>1750.0</td>\n",
              "      <td>3310.0</td>\n",
              "      <td>87390.0</td>\n",
              "    </tr>\n",
              "    <tr>\n",
              "      <th>6</th>\n",
              "      <td>구로구</td>\n",
              "      <td>7311.0</td>\n",
              "      <td>30.576255</td>\n",
              "      <td>26.481543</td>\n",
              "      <td>1.0</td>\n",
              "      <td>15.0</td>\n",
              "      <td>25.0</td>\n",
              "      <td>39.00</td>\n",
              "      <td>982.0</td>\n",
              "      <td>7311.0</td>\n",
              "      <td>5391.278895</td>\n",
              "      <td>5357.453664</td>\n",
              "      <td>10.0</td>\n",
              "      <td>2510.0</td>\n",
              "      <td>4360.0</td>\n",
              "      <td>6635.0</td>\n",
              "      <td>83860.0</td>\n",
              "    </tr>\n",
              "    <tr>\n",
              "      <th>7</th>\n",
              "      <td>금천구</td>\n",
              "      <td>2332.0</td>\n",
              "      <td>32.106346</td>\n",
              "      <td>28.378665</td>\n",
              "      <td>2.0</td>\n",
              "      <td>12.0</td>\n",
              "      <td>25.0</td>\n",
              "      <td>43.00</td>\n",
              "      <td>221.0</td>\n",
              "      <td>2332.0</td>\n",
              "      <td>5468.975129</td>\n",
              "      <td>6374.993667</td>\n",
              "      <td>30.0</td>\n",
              "      <td>1720.0</td>\n",
              "      <td>3760.0</td>\n",
              "      <td>6302.5</td>\n",
              "      <td>74270.0</td>\n",
              "    </tr>\n",
              "    <tr>\n",
              "      <th>8</th>\n",
              "      <td>노원구</td>\n",
              "      <td>472.0</td>\n",
              "      <td>72.360169</td>\n",
              "      <td>33.208176</td>\n",
              "      <td>4.0</td>\n",
              "      <td>49.0</td>\n",
              "      <td>66.0</td>\n",
              "      <td>91.00</td>\n",
              "      <td>322.0</td>\n",
              "      <td>472.0</td>\n",
              "      <td>16101.588983</td>\n",
              "      <td>9319.765758</td>\n",
              "      <td>540.0</td>\n",
              "      <td>10970.0</td>\n",
              "      <td>13680.0</td>\n",
              "      <td>19607.5</td>\n",
              "      <td>106810.0</td>\n",
              "    </tr>\n",
              "    <tr>\n",
              "      <th>9</th>\n",
              "      <td>도봉구</td>\n",
              "      <td>97.0</td>\n",
              "      <td>92.474227</td>\n",
              "      <td>30.253820</td>\n",
              "      <td>5.0</td>\n",
              "      <td>69.0</td>\n",
              "      <td>92.0</td>\n",
              "      <td>113.00</td>\n",
              "      <td>172.0</td>\n",
              "      <td>97.0</td>\n",
              "      <td>19955.463918</td>\n",
              "      <td>9529.382524</td>\n",
              "      <td>840.0</td>\n",
              "      <td>15640.0</td>\n",
              "      <td>17710.0</td>\n",
              "      <td>22980.0</td>\n",
              "      <td>76560.0</td>\n",
              "    </tr>\n",
              "    <tr>\n",
              "      <th>10</th>\n",
              "      <td>동대문구</td>\n",
              "      <td>3872.0</td>\n",
              "      <td>30.242252</td>\n",
              "      <td>27.763908</td>\n",
              "      <td>1.0</td>\n",
              "      <td>10.0</td>\n",
              "      <td>20.0</td>\n",
              "      <td>43.00</td>\n",
              "      <td>321.0</td>\n",
              "      <td>3872.0</td>\n",
              "      <td>5352.430269</td>\n",
              "      <td>6044.206191</td>\n",
              "      <td>20.0</td>\n",
              "      <td>1570.0</td>\n",
              "      <td>3255.0</td>\n",
              "      <td>6690.0</td>\n",
              "      <td>74610.0</td>\n",
              "    </tr>\n",
              "    <tr>\n",
              "      <th>11</th>\n",
              "      <td>동작구</td>\n",
              "      <td>31662.0</td>\n",
              "      <td>28.978618</td>\n",
              "      <td>33.212139</td>\n",
              "      <td>1.0</td>\n",
              "      <td>7.0</td>\n",
              "      <td>15.0</td>\n",
              "      <td>41.00</td>\n",
              "      <td>865.0</td>\n",
              "      <td>31662.0</td>\n",
              "      <td>4085.054955</td>\n",
              "      <td>5972.909677</td>\n",
              "      <td>10.0</td>\n",
              "      <td>1110.0</td>\n",
              "      <td>2020.0</td>\n",
              "      <td>4680.0</td>\n",
              "      <td>99220.0</td>\n",
              "    </tr>\n",
              "    <tr>\n",
              "      <th>12</th>\n",
              "      <td>마포구</td>\n",
              "      <td>4515.0</td>\n",
              "      <td>48.507420</td>\n",
              "      <td>34.103671</td>\n",
              "      <td>2.0</td>\n",
              "      <td>20.0</td>\n",
              "      <td>43.0</td>\n",
              "      <td>67.00</td>\n",
              "      <td>378.0</td>\n",
              "      <td>4515.0</td>\n",
              "      <td>9267.145072</td>\n",
              "      <td>8266.710554</td>\n",
              "      <td>10.0</td>\n",
              "      <td>3020.0</td>\n",
              "      <td>7770.0</td>\n",
              "      <td>13060.0</td>\n",
              "      <td>83270.0</td>\n",
              "    </tr>\n",
              "    <tr>\n",
              "      <th>13</th>\n",
              "      <td>서대문구</td>\n",
              "      <td>3200.0</td>\n",
              "      <td>34.571875</td>\n",
              "      <td>37.740023</td>\n",
              "      <td>1.0</td>\n",
              "      <td>9.0</td>\n",
              "      <td>17.0</td>\n",
              "      <td>51.00</td>\n",
              "      <td>334.0</td>\n",
              "      <td>3200.0</td>\n",
              "      <td>5437.575000</td>\n",
              "      <td>7526.119536</td>\n",
              "      <td>10.0</td>\n",
              "      <td>1307.5</td>\n",
              "      <td>2470.0</td>\n",
              "      <td>6562.5</td>\n",
              "      <td>130150.0</td>\n",
              "    </tr>\n",
              "    <tr>\n",
              "      <th>14</th>\n",
              "      <td>서초구</td>\n",
              "      <td>78071.0</td>\n",
              "      <td>29.997349</td>\n",
              "      <td>34.510426</td>\n",
              "      <td>1.0</td>\n",
              "      <td>8.0</td>\n",
              "      <td>17.0</td>\n",
              "      <td>41.00</td>\n",
              "      <td>2457.0</td>\n",
              "      <td>78071.0</td>\n",
              "      <td>3994.706485</td>\n",
              "      <td>5511.477067</td>\n",
              "      <td>10.0</td>\n",
              "      <td>1200.0</td>\n",
              "      <td>2310.0</td>\n",
              "      <td>4710.0</td>\n",
              "      <td>141170.0</td>\n",
              "    </tr>\n",
              "    <tr>\n",
              "      <th>15</th>\n",
              "      <td>성동구</td>\n",
              "      <td>18148.0</td>\n",
              "      <td>35.458783</td>\n",
              "      <td>32.746608</td>\n",
              "      <td>1.0</td>\n",
              "      <td>11.0</td>\n",
              "      <td>25.0</td>\n",
              "      <td>51.00</td>\n",
              "      <td>772.0</td>\n",
              "      <td>18148.0</td>\n",
              "      <td>4839.608772</td>\n",
              "      <td>5503.083157</td>\n",
              "      <td>10.0</td>\n",
              "      <td>1540.0</td>\n",
              "      <td>3080.0</td>\n",
              "      <td>6300.0</td>\n",
              "      <td>103790.0</td>\n",
              "    </tr>\n",
              "    <tr>\n",
              "      <th>16</th>\n",
              "      <td>성북구</td>\n",
              "      <td>1062.0</td>\n",
              "      <td>49.246704</td>\n",
              "      <td>32.445494</td>\n",
              "      <td>3.0</td>\n",
              "      <td>24.0</td>\n",
              "      <td>41.5</td>\n",
              "      <td>66.00</td>\n",
              "      <td>195.0</td>\n",
              "      <td>1062.0</td>\n",
              "      <td>9703.615819</td>\n",
              "      <td>7276.167526</td>\n",
              "      <td>90.0</td>\n",
              "      <td>4530.0</td>\n",
              "      <td>7725.0</td>\n",
              "      <td>14142.5</td>\n",
              "      <td>72550.0</td>\n",
              "    </tr>\n",
              "    <tr>\n",
              "      <th>17</th>\n",
              "      <td>송파구</td>\n",
              "      <td>44168.0</td>\n",
              "      <td>32.489653</td>\n",
              "      <td>31.268809</td>\n",
              "      <td>1.0</td>\n",
              "      <td>11.0</td>\n",
              "      <td>22.0</td>\n",
              "      <td>45.00</td>\n",
              "      <td>1620.0</td>\n",
              "      <td>44168.0</td>\n",
              "      <td>4511.664327</td>\n",
              "      <td>5625.220158</td>\n",
              "      <td>10.0</td>\n",
              "      <td>1550.0</td>\n",
              "      <td>2850.0</td>\n",
              "      <td>5500.0</td>\n",
              "      <td>153490.0</td>\n",
              "    </tr>\n",
              "    <tr>\n",
              "      <th>18</th>\n",
              "      <td>양천구</td>\n",
              "      <td>692.0</td>\n",
              "      <td>57.137283</td>\n",
              "      <td>29.549682</td>\n",
              "      <td>4.0</td>\n",
              "      <td>38.0</td>\n",
              "      <td>50.0</td>\n",
              "      <td>70.00</td>\n",
              "      <td>264.0</td>\n",
              "      <td>692.0</td>\n",
              "      <td>12011.358382</td>\n",
              "      <td>8506.135652</td>\n",
              "      <td>800.0</td>\n",
              "      <td>8072.5</td>\n",
              "      <td>10385.0</td>\n",
              "      <td>13665.0</td>\n",
              "      <td>108870.0</td>\n",
              "    </tr>\n",
              "    <tr>\n",
              "      <th>19</th>\n",
              "      <td>영등포구</td>\n",
              "      <td>13036.0</td>\n",
              "      <td>43.814744</td>\n",
              "      <td>30.983401</td>\n",
              "      <td>1.0</td>\n",
              "      <td>21.0</td>\n",
              "      <td>38.0</td>\n",
              "      <td>57.00</td>\n",
              "      <td>536.0</td>\n",
              "      <td>13036.0</td>\n",
              "      <td>7582.325867</td>\n",
              "      <td>6780.598739</td>\n",
              "      <td>10.0</td>\n",
              "      <td>3400.0</td>\n",
              "      <td>6220.0</td>\n",
              "      <td>9850.0</td>\n",
              "      <td>100740.0</td>\n",
              "    </tr>\n",
              "    <tr>\n",
              "      <th>20</th>\n",
              "      <td>용산구</td>\n",
              "      <td>6013.0</td>\n",
              "      <td>45.312323</td>\n",
              "      <td>28.544585</td>\n",
              "      <td>1.0</td>\n",
              "      <td>25.0</td>\n",
              "      <td>39.0</td>\n",
              "      <td>56.00</td>\n",
              "      <td>346.0</td>\n",
              "      <td>6013.0</td>\n",
              "      <td>7153.838350</td>\n",
              "      <td>6014.478033</td>\n",
              "      <td>10.0</td>\n",
              "      <td>3920.0</td>\n",
              "      <td>5920.0</td>\n",
              "      <td>8470.0</td>\n",
              "      <td>84750.0</td>\n",
              "    </tr>\n",
              "    <tr>\n",
              "      <th>21</th>\n",
              "      <td>은평구</td>\n",
              "      <td>342.0</td>\n",
              "      <td>50.675439</td>\n",
              "      <td>35.505027</td>\n",
              "      <td>3.0</td>\n",
              "      <td>21.0</td>\n",
              "      <td>41.5</td>\n",
              "      <td>80.75</td>\n",
              "      <td>153.0</td>\n",
              "      <td>342.0</td>\n",
              "      <td>10146.988304</td>\n",
              "      <td>9772.512231</td>\n",
              "      <td>550.0</td>\n",
              "      <td>2992.5</td>\n",
              "      <td>6105.0</td>\n",
              "      <td>18015.0</td>\n",
              "      <td>81280.0</td>\n",
              "    </tr>\n",
              "    <tr>\n",
              "      <th>22</th>\n",
              "      <td>종로구</td>\n",
              "      <td>1345.0</td>\n",
              "      <td>44.176208</td>\n",
              "      <td>35.738210</td>\n",
              "      <td>1.0</td>\n",
              "      <td>19.0</td>\n",
              "      <td>35.0</td>\n",
              "      <td>58.00</td>\n",
              "      <td>533.0</td>\n",
              "      <td>1345.0</td>\n",
              "      <td>7298.869888</td>\n",
              "      <td>6978.688577</td>\n",
              "      <td>450.0</td>\n",
              "      <td>2870.0</td>\n",
              "      <td>5600.0</td>\n",
              "      <td>9670.0</td>\n",
              "      <td>97250.0</td>\n",
              "    </tr>\n",
              "    <tr>\n",
              "      <th>23</th>\n",
              "      <td>중구</td>\n",
              "      <td>1700.0</td>\n",
              "      <td>40.721176</td>\n",
              "      <td>34.513314</td>\n",
              "      <td>1.0</td>\n",
              "      <td>14.0</td>\n",
              "      <td>34.0</td>\n",
              "      <td>56.00</td>\n",
              "      <td>505.0</td>\n",
              "      <td>1700.0</td>\n",
              "      <td>6760.147059</td>\n",
              "      <td>6858.953106</td>\n",
              "      <td>10.0</td>\n",
              "      <td>1960.0</td>\n",
              "      <td>5380.0</td>\n",
              "      <td>9270.0</td>\n",
              "      <td>80650.0</td>\n",
              "    </tr>\n",
              "    <tr>\n",
              "      <th>24</th>\n",
              "      <td>중랑구</td>\n",
              "      <td>1314.0</td>\n",
              "      <td>43.770167</td>\n",
              "      <td>72.627494</td>\n",
              "      <td>2.0</td>\n",
              "      <td>21.0</td>\n",
              "      <td>36.0</td>\n",
              "      <td>55.00</td>\n",
              "      <td>2479.0</td>\n",
              "      <td>1314.0</td>\n",
              "      <td>8232.998478</td>\n",
              "      <td>7564.875602</td>\n",
              "      <td>430.0</td>\n",
              "      <td>3672.5</td>\n",
              "      <td>6350.0</td>\n",
              "      <td>10027.5</td>\n",
              "      <td>69370.0</td>\n",
              "    </tr>\n",
              "  </tbody>\n",
              "</table>\n",
              "</div>\n",
              "      <button class=\"colab-df-convert\" onclick=\"convertToInteractive('df-74c5644e-5ffc-4e0a-9cbe-561ca8fc5bd4')\"\n",
              "              title=\"Convert this dataframe to an interactive table.\"\n",
              "              style=\"display:none;\">\n",
              "        \n",
              "  <svg xmlns=\"http://www.w3.org/2000/svg\" height=\"24px\"viewBox=\"0 0 24 24\"\n",
              "       width=\"24px\">\n",
              "    <path d=\"M0 0h24v24H0V0z\" fill=\"none\"/>\n",
              "    <path d=\"M18.56 5.44l.94 2.06.94-2.06 2.06-.94-2.06-.94-.94-2.06-.94 2.06-2.06.94zm-11 1L8.5 8.5l.94-2.06 2.06-.94-2.06-.94L8.5 2.5l-.94 2.06-2.06.94zm10 10l.94 2.06.94-2.06 2.06-.94-2.06-.94-.94-2.06-.94 2.06-2.06.94z\"/><path d=\"M17.41 7.96l-1.37-1.37c-.4-.4-.92-.59-1.43-.59-.52 0-1.04.2-1.43.59L10.3 9.45l-7.72 7.72c-.78.78-.78 2.05 0 2.83L4 21.41c.39.39.9.59 1.41.59.51 0 1.02-.2 1.41-.59l7.78-7.78 2.81-2.81c.8-.78.8-2.07 0-2.86zM5.41 20L4 18.59l7.72-7.72 1.47 1.35L5.41 20z\"/>\n",
              "  </svg>\n",
              "      </button>\n",
              "      \n",
              "  <style>\n",
              "    .colab-df-container {\n",
              "      display:flex;\n",
              "      flex-wrap:wrap;\n",
              "      gap: 12px;\n",
              "    }\n",
              "\n",
              "    .colab-df-convert {\n",
              "      background-color: #E8F0FE;\n",
              "      border: none;\n",
              "      border-radius: 50%;\n",
              "      cursor: pointer;\n",
              "      display: none;\n",
              "      fill: #1967D2;\n",
              "      height: 32px;\n",
              "      padding: 0 0 0 0;\n",
              "      width: 32px;\n",
              "    }\n",
              "\n",
              "    .colab-df-convert:hover {\n",
              "      background-color: #E2EBFA;\n",
              "      box-shadow: 0px 1px 2px rgba(60, 64, 67, 0.3), 0px 1px 3px 1px rgba(60, 64, 67, 0.15);\n",
              "      fill: #174EA6;\n",
              "    }\n",
              "\n",
              "    [theme=dark] .colab-df-convert {\n",
              "      background-color: #3B4455;\n",
              "      fill: #D2E3FC;\n",
              "    }\n",
              "\n",
              "    [theme=dark] .colab-df-convert:hover {\n",
              "      background-color: #434B5C;\n",
              "      box-shadow: 0px 1px 3px 1px rgba(0, 0, 0, 0.15);\n",
              "      filter: drop-shadow(0px 1px 2px rgba(0, 0, 0, 0.3));\n",
              "      fill: #FFFFFF;\n",
              "    }\n",
              "  </style>\n",
              "\n",
              "      <script>\n",
              "        const buttonEl =\n",
              "          document.querySelector('#df-74c5644e-5ffc-4e0a-9cbe-561ca8fc5bd4 button.colab-df-convert');\n",
              "        buttonEl.style.display =\n",
              "          google.colab.kernel.accessAllowed ? 'block' : 'none';\n",
              "\n",
              "        async function convertToInteractive(key) {\n",
              "          const element = document.querySelector('#df-74c5644e-5ffc-4e0a-9cbe-561ca8fc5bd4');\n",
              "          const dataTable =\n",
              "            await google.colab.kernel.invokeFunction('convertToInteractive',\n",
              "                                                     [key], {});\n",
              "          if (!dataTable) return;\n",
              "\n",
              "          const docLinkHtml = 'Like what you see? Visit the ' +\n",
              "            '<a target=\"_blank\" href=https://colab.research.google.com/notebooks/data_table.ipynb>data table notebook</a>'\n",
              "            + ' to learn more about interactive tables.';\n",
              "          element.innerHTML = '';\n",
              "          dataTable['output_type'] = 'display_data';\n",
              "          await google.colab.output.renderOutput(dataTable, element);\n",
              "          const docLink = document.createElement('div');\n",
              "          docLink.innerHTML = docLinkHtml;\n",
              "          element.appendChild(docLink);\n",
              "        }\n",
              "      </script>\n",
              "    </div>\n",
              "  </div>\n",
              "  "
            ]
          },
          "metadata": {},
          "execution_count": 40
        }
      ]
    },
    {
      "cell_type": "code",
      "metadata": {
        "colab": {
          "base_uri": "https://localhost:8080/",
          "height": 515
        },
        "id": "b5ou__Zbiwb8",
        "outputId": "2cb423a7-94c3-462e-923c-0348bb65da8f"
      },
      "source": [
        "sns.boxplot(data=bike_nozero, x= 'duration', y='gu_name_start', orient='h')"
      ],
      "execution_count": 53,
      "outputs": [
        {
          "output_type": "execute_result",
          "data": {
            "text/plain": [
              "<matplotlib.axes._subplots.AxesSubplot at 0x7fcc12c3b190>"
            ]
          },
          "metadata": {},
          "execution_count": 53
        },
        {
          "output_type": "display_data",
          "data": {
            "text/plain": [
              "<Figure size 576x576 with 1 Axes>"
            ],
            "image/png": "[encoded data removed]"
          },
          "metadata": {
            "needs_background": "light"
          }
        }
      ]
    },
    {
      "cell_type": "code",
      "metadata": {
        "colab": {
          "base_uri": "https://localhost:8080/",
          "height": 515
        },
        "id": "Qaqt3lJSoCrP",
        "outputId": "00cfd4e6-6a69-4fbf-85af-03f9717730c4"
      },
      "source": [
        "sns.boxplot(data=bike_nozero, x= 'distance', y='gu_name_start', orient='h')"
      ],
      "execution_count": 54,
      "outputs": [
        {
          "output_type": "execute_result",
          "data": {
            "text/plain": [
              "<matplotlib.axes._subplots.AxesSubplot at 0x7fcc1296f890>"
            ]
          },
          "metadata": {},
          "execution_count": 54
        },
        {
          "output_type": "display_data",
          "data": {
            "text/plain": [
              "<Figure size 576x576 with 1 Axes>"
            ],
            "image/png": "[encoded data removed]"
          },
          "metadata": {
            "needs_background": "light"
          }
        }
      ]
    }
  ]
}