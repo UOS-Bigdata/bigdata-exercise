{
  "cells": [
    {
      "attachments": {},
      "cell_type": "markdown",
      "metadata": {
        "id": "KzYxMWDCyIUE"
      },
      "source": [
        "# 빅데이터개론2  과제 3"
      ]
    },
    {
      "cell_type": "markdown",
      "metadata": {
        "id": "4ECdWdhb18px"
      },
      "source": [
        "**제출기한 : 2023년 4월 25일 23시 59분**"
      ]
    },
    {
      "cell_type": "markdown",
      "metadata": {
        "id": "P9vZkEPpywF2"
      },
      "source": [
        "각 문제를 읽고 주어진 코드셀에 제시된 변수에 결과를 입력하거나, 주어진 텍스트셀에 프로그램 코드 또는 답안을 입력하여 제출하세요.  \n",
        "\n",
        "\n",
        "아래는 필요한 라이브러리를 불러오는 코드셀입니다. 반드시 숙제를 시작할 때 먼저 실행시키고 문제에서 적절하게 이용하세요.\n"
      ]
    },
    {
      "cell_type": "code",
      "execution_count": null,
      "metadata": {
        "colab": {
          "base_uri": "https://localhost:8080/"
        },
        "id": "HcMU6jzAj-dU",
        "outputId": "dec1430b-ec8e-417c-cb7b-28f7cdc98fc9"
      },
      "outputs": [
        {
          "name": "stdout",
          "output_type": "stream",
          "text": [
            "Reading package lists... Done\n",
            "Building dependency tree       \n",
            "Reading state information... Done\n",
            "fonts-nanum is already the newest version (20180306-3).\n",
            "0 upgraded, 0 newly installed, 0 to remove and 24 not upgraded.\n",
            "/usr/share/fonts: caching, new cache contents: 0 fonts, 1 dirs\n",
            "/usr/share/fonts/truetype: caching, new cache contents: 0 fonts, 3 dirs\n",
            "/usr/share/fonts/truetype/humor-sans: caching, new cache contents: 1 fonts, 0 dirs\n",
            "/usr/share/fonts/truetype/liberation: caching, new cache contents: 16 fonts, 0 dirs\n",
            "/usr/share/fonts/truetype/nanum: caching, new cache contents: 10 fonts, 0 dirs\n",
            "/usr/local/share/fonts: caching, new cache contents: 0 fonts, 0 dirs\n",
            "/root/.local/share/fonts: skipping, no such directory\n",
            "/root/.fonts: skipping, no such directory\n",
            "/usr/share/fonts/truetype: skipping, looped directory detected\n",
            "/usr/share/fonts/truetype/humor-sans: skipping, looped directory detected\n",
            "/usr/share/fonts/truetype/liberation: skipping, looped directory detected\n",
            "/usr/share/fonts/truetype/nanum: skipping, looped directory detected\n",
            "/var/cache/fontconfig: cleaning cache directory\n",
            "/root/.cache/fontconfig: not cleaning non-existent cache directory\n",
            "/root/.fontconfig: not cleaning non-existent cache directory\n",
            "fc-cache: succeeded\n"
          ]
        }
      ],
      "source": [
        "# 한글 폰트가 깨질 때 사용 - 런타임 메뉴에서 \"런타임 다시 시작\" 또는 다시 \"시작 및 모두 실행\"을 선택  (출처: https://teddylee777.github.io/colab/colab-korean)\n",
        "!sudo apt-get install -y fonts-nanum\n",
        "!sudo fc-cache -fv\n",
        "!rm ~/.cache/matplotlib -rf"
      ]
    },
    {
      "cell_type": "code",
      "execution_count": null,
      "metadata": {
        "id": "txW0mB70TKt7"
      },
      "outputs": [],
      "source": [
        "import matplotlib.pyplot as plt\n",
        "from matplotlib import rc\n",
        "%matplotlib inline\n",
        "\n",
        "plt.rc('font', family='NanumBarunGothic') # clolab 에서 한글 사용 \n",
        "plt.rcParams['axes.unicode_minus'] = False\n",
        "plt.rcParams[\"figure.figsize\"] = (10,5)"
      ]
    },
    {
      "cell_type": "code",
      "execution_count": null,
      "metadata": {
        "id": "BmQYA543GQIs"
      },
      "outputs": [],
      "source": [
        "import math\n",
        "import numpy as np\n",
        "import pandas as pd\n",
        "from itertools import product"
      ]
    },
    {
      "cell_type": "markdown",
      "metadata": {
        "id": "ew4uy3HByMt0"
      },
      "source": [
        "**다음은 과제의 수행과 제출에 대한 안내입니다.**\n",
        "\n",
        "- 빅데이터개론2 과제는 모두 Colab의 공유 기능을 이용하여 제출하게 됩니다. 자세한 제출방법은 강의시간(또는 동영상)에 알려줄 것입니다.\n",
        "\n",
        "- 제출시 노트북의 이름(화일명)에서 성명과 학번을 자신의 이름과 학번으로 바꾼 후에 제출해야 합니다. (예: `빅데이터개론2_2023S_과제-03-홍길동-12345677.ipynb`) \n",
        "\n",
        "- 답을 입력하는 셀에 있는 `...`는 지우고 답을 입력하세요.\n",
        "\n",
        "- **과제 노트북은 답을 제시하는 코드셀이나 텍스트셀 이외의 내용 또는 순서를 변경하지 마세요.**\n",
        "\n"
      ]
    },
    {
      "cell_type": "markdown",
      "metadata": {
        "id": "uP0-0szz2oo7"
      },
      "source": [
        "## 1. 자료의 분포\n",
        "\n",
        "고속 열차에 탑승한 승객에 대한 자료는 csv(comma-separated values) 형식으로 train-data-01.csv 화일에 저장되어 있다. csv 자료 화일의 각 열에 대한 이름과 설명은 다음과 같다. 자료는 2019년 7월 한 달 동안 출발역, 도착역별로 날마다 각 열차를 이용한 탑승객의 수가 나타나 있다.\n",
        "\n",
        "\n",
        "- TRAIN_NO: 열차 번호\n",
        "\n",
        "- DATE : 운행 일자\n",
        "\n",
        "- STATION_START: 출발역\n",
        "\n",
        "- STATION_ARRV : 도착역\n",
        "\n",
        "- NUM_PASSENGER : 탑승객 수\n",
        "\n",
        "pandas 라이브러리의 read_csv() 함수를 사용하면 csv 화일의 자료를 읽어서 데이터프레임 `train_raw_data` 를 아래와 같이 만들 수 있다.\n",
        "\n",
        "**열이름이 모두 대문자임을 유의하세요.**\n",
        "\n",
        "\n"
      ]
    },
    {
      "cell_type": "code",
      "execution_count": null,
      "metadata": {
        "id": "avYMt6kTTZ8E"
      },
      "outputs": [],
      "source": [
        "url =\"https://ilovedata.github.io/teaching/bigdata2/data/train-data-01.csv\"\n",
        "train_raw_data = pd.read_csv(url)"
      ]
    },
    {
      "cell_type": "code",
      "execution_count": null,
      "metadata": {
        "colab": {
          "base_uri": "https://localhost:8080/",
          "height": 363
        },
        "id": "g1-9i57_UEdK",
        "outputId": "0264ac75-084e-43bd-a24e-bbf7185e59c3"
      },
      "outputs": [
        {
          "data": {
            "text/html": [
              "\n",
              "  <div id=\"df-5dfe4326-4ebd-4fd5-b16b-5e7e99c2a51c\">\n",
              "    <div class=\"colab-df-container\">\n",
              "      <div>\n",
              "<style scoped>\n",
              "    .dataframe tbody tr th:only-of-type {\n",
              "        vertical-align: middle;\n",
              "    }\n",
              "\n",
              "    .dataframe tbody tr th {\n",
              "        vertical-align: top;\n",
              "    }\n",
              "\n",
              "    .dataframe thead th {\n",
              "        text-align: right;\n",
              "    }\n",
              "</style>\n",
              "<table border=\"1\" class=\"dataframe\">\n",
              "  <thead>\n",
              "    <tr style=\"text-align: right;\">\n",
              "      <th></th>\n",
              "      <th>TRAIN_NO</th>\n",
              "      <th>DATE</th>\n",
              "      <th>STATION_DEPART</th>\n",
              "      <th>STATION_ARRV</th>\n",
              "      <th>NUM_PASSENGER</th>\n",
              "    </tr>\n",
              "  </thead>\n",
              "  <tbody>\n",
              "    <tr>\n",
              "      <th>1759</th>\n",
              "      <td>6</td>\n",
              "      <td>20190721</td>\n",
              "      <td>울산</td>\n",
              "      <td>부산</td>\n",
              "      <td>19.0</td>\n",
              "    </tr>\n",
              "    <tr>\n",
              "      <th>1760</th>\n",
              "      <td>6</td>\n",
              "      <td>20190722</td>\n",
              "      <td>울산</td>\n",
              "      <td>부산</td>\n",
              "      <td>10.0</td>\n",
              "    </tr>\n",
              "    <tr>\n",
              "      <th>1761</th>\n",
              "      <td>6</td>\n",
              "      <td>20190723</td>\n",
              "      <td>울산</td>\n",
              "      <td>부산</td>\n",
              "      <td>7.0</td>\n",
              "    </tr>\n",
              "    <tr>\n",
              "      <th>1762</th>\n",
              "      <td>6</td>\n",
              "      <td>20190724</td>\n",
              "      <td>울산</td>\n",
              "      <td>부산</td>\n",
              "      <td>12.0</td>\n",
              "    </tr>\n",
              "    <tr>\n",
              "      <th>1763</th>\n",
              "      <td>6</td>\n",
              "      <td>20190725</td>\n",
              "      <td>울산</td>\n",
              "      <td>부산</td>\n",
              "      <td>11.0</td>\n",
              "    </tr>\n",
              "    <tr>\n",
              "      <th>1764</th>\n",
              "      <td>6</td>\n",
              "      <td>20190726</td>\n",
              "      <td>울산</td>\n",
              "      <td>부산</td>\n",
              "      <td>10.0</td>\n",
              "    </tr>\n",
              "    <tr>\n",
              "      <th>1765</th>\n",
              "      <td>6</td>\n",
              "      <td>20190727</td>\n",
              "      <td>울산</td>\n",
              "      <td>부산</td>\n",
              "      <td>6.0</td>\n",
              "    </tr>\n",
              "    <tr>\n",
              "      <th>1766</th>\n",
              "      <td>6</td>\n",
              "      <td>20190728</td>\n",
              "      <td>울산</td>\n",
              "      <td>부산</td>\n",
              "      <td>21.0</td>\n",
              "    </tr>\n",
              "    <tr>\n",
              "      <th>1767</th>\n",
              "      <td>6</td>\n",
              "      <td>20190729</td>\n",
              "      <td>울산</td>\n",
              "      <td>부산</td>\n",
              "      <td>12.0</td>\n",
              "    </tr>\n",
              "    <tr>\n",
              "      <th>1768</th>\n",
              "      <td>6</td>\n",
              "      <td>20190730</td>\n",
              "      <td>울산</td>\n",
              "      <td>부산</td>\n",
              "      <td>11.0</td>\n",
              "    </tr>\n",
              "  </tbody>\n",
              "</table>\n",
              "</div>\n",
              "      <button class=\"colab-df-convert\" onclick=\"convertToInteractive('df-5dfe4326-4ebd-4fd5-b16b-5e7e99c2a51c')\"\n",
              "              title=\"Convert this dataframe to an interactive table.\"\n",
              "              style=\"display:none;\">\n",
              "        \n",
              "  <svg xmlns=\"http://www.w3.org/2000/svg\" height=\"24px\"viewBox=\"0 0 24 24\"\n",
              "       width=\"24px\">\n",
              "    <path d=\"M0 0h24v24H0V0z\" fill=\"none\"/>\n",
              "    <path d=\"M18.56 5.44l.94 2.06.94-2.06 2.06-.94-2.06-.94-.94-2.06-.94 2.06-2.06.94zm-11 1L8.5 8.5l.94-2.06 2.06-.94-2.06-.94L8.5 2.5l-.94 2.06-2.06.94zm10 10l.94 2.06.94-2.06 2.06-.94-2.06-.94-.94-2.06-.94 2.06-2.06.94z\"/><path d=\"M17.41 7.96l-1.37-1.37c-.4-.4-.92-.59-1.43-.59-.52 0-1.04.2-1.43.59L10.3 9.45l-7.72 7.72c-.78.78-.78 2.05 0 2.83L4 21.41c.39.39.9.59 1.41.59.51 0 1.02-.2 1.41-.59l7.78-7.78 2.81-2.81c.8-.78.8-2.07 0-2.86zM5.41 20L4 18.59l7.72-7.72 1.47 1.35L5.41 20z\"/>\n",
              "  </svg>\n",
              "      </button>\n",
              "      \n",
              "  <style>\n",
              "    .colab-df-container {\n",
              "      display:flex;\n",
              "      flex-wrap:wrap;\n",
              "      gap: 12px;\n",
              "    }\n",
              "\n",
              "    .colab-df-convert {\n",
              "      background-color: #E8F0FE;\n",
              "      border: none;\n",
              "      border-radius: 50%;\n",
              "      cursor: pointer;\n",
              "      display: none;\n",
              "      fill: #1967D2;\n",
              "      height: 32px;\n",
              "      padding: 0 0 0 0;\n",
              "      width: 32px;\n",
              "    }\n",
              "\n",
              "    .colab-df-convert:hover {\n",
              "      background-color: #E2EBFA;\n",
              "      box-shadow: 0px 1px 2px rgba(60, 64, 67, 0.3), 0px 1px 3px 1px rgba(60, 64, 67, 0.15);\n",
              "      fill: #174EA6;\n",
              "    }\n",
              "\n",
              "    [theme=dark] .colab-df-convert {\n",
              "      background-color: #3B4455;\n",
              "      fill: #D2E3FC;\n",
              "    }\n",
              "\n",
              "    [theme=dark] .colab-df-convert:hover {\n",
              "      background-color: #434B5C;\n",
              "      box-shadow: 0px 1px 3px 1px rgba(0, 0, 0, 0.15);\n",
              "      filter: drop-shadow(0px 1px 2px rgba(0, 0, 0, 0.3));\n",
              "      fill: #FFFFFF;\n",
              "    }\n",
              "  </style>\n",
              "\n",
              "      <script>\n",
              "        const buttonEl =\n",
              "          document.querySelector('#df-5dfe4326-4ebd-4fd5-b16b-5e7e99c2a51c button.colab-df-convert');\n",
              "        buttonEl.style.display =\n",
              "          google.colab.kernel.accessAllowed ? 'block' : 'none';\n",
              "\n",
              "        async function convertToInteractive(key) {\n",
              "          const element = document.querySelector('#df-5dfe4326-4ebd-4fd5-b16b-5e7e99c2a51c');\n",
              "          const dataTable =\n",
              "            await google.colab.kernel.invokeFunction('convertToInteractive',\n",
              "                                                     [key], {});\n",
              "          if (!dataTable) return;\n",
              "\n",
              "          const docLinkHtml = 'Like what you see? Visit the ' +\n",
              "            '<a target=\"_blank\" href=https://colab.research.google.com/notebooks/data_table.ipynb>data table notebook</a>'\n",
              "            + ' to learn more about interactive tables.';\n",
              "          element.innerHTML = '';\n",
              "          dataTable['output_type'] = 'display_data';\n",
              "          await google.colab.output.renderOutput(dataTable, element);\n",
              "          const docLink = document.createElement('div');\n",
              "          docLink.innerHTML = docLinkHtml;\n",
              "          element.appendChild(docLink);\n",
              "        }\n",
              "      </script>\n",
              "    </div>\n",
              "  </div>\n",
              "  "
            ],
            "text/plain": [
              "      TRAIN_NO      DATE STATION_DEPART STATION_ARRV  NUM_PASSENGER\n",
              "1759         6  20190721             울산           부산           19.0\n",
              "1760         6  20190722             울산           부산           10.0\n",
              "1761         6  20190723             울산           부산            7.0\n",
              "1762         6  20190724             울산           부산           12.0\n",
              "1763         6  20190725             울산           부산           11.0\n",
              "1764         6  20190726             울산           부산           10.0\n",
              "1765         6  20190727             울산           부산            6.0\n",
              "1766         6  20190728             울산           부산           21.0\n",
              "1767         6  20190729             울산           부산           12.0\n",
              "1768         6  20190730             울산           부산           11.0"
            ]
          },
          "execution_count": 5,
          "metadata": {},
          "output_type": "execute_result"
        }
      ],
      "source": [
        "train_raw_data.tail(10)"
      ]
    },
    {
      "cell_type": "markdown",
      "metadata": {
        "id": "m5PMEEFUXBWy"
      },
      "source": [
        "**문제 1**\n",
        "\n",
        "데이터프레임 `train_raw_data` 을 이용하여 탑승 인원 수 `NUM_PASSENGER` 에 대한 히스토그램을 작성하는 코드를 다음 코드셀에 작성하시오. \n",
        "\n",
        "단, 구간의 개수(`bins`)는 15개로 지정하시오"
      ]
    },
    {
      "cell_type": "code",
      "execution_count": null,
      "metadata": {
        "colab": {
          "base_uri": "https://localhost:8080/",
          "height": 463
        },
        "id": "LTgQd7RLEZ6h",
        "outputId": "9c2f4c25-a19b-43e4-a9a7-1b47610ddc5d"
      },
      "outputs": [
        {
          "data": {
            "text/plain": [
              "<Axes: ylabel='Frequency'>"
            ]
          },
          "execution_count": 6,
          "metadata": {},
          "output_type": "execute_result"
        },
        {
          "data": {
            "image/png": "[encoded data removed]",
            "text/plain": [
              "<Figure size 1000x500 with 1 Axes>"
            ]
          },
          "metadata": {},
          "output_type": "display_data"
        }
      ],
      "source": [
        "train_raw_data.plot.hist(y='NUM_PASSENGER', bins=15)"
      ]
    },
    {
      "cell_type": "markdown",
      "metadata": {
        "id": "2w84eIZBZRgw"
      },
      "source": [
        "**문제 2**\n",
        "\n",
        "데이터프레임 `train_raw_data` 을 이용하여 탑승 인원 수 `NUM_PASSENGER` 에 대한 상자그림을 작성하는 코드를 다음 코드셀에 작성하시오"
      ]
    },
    {
      "cell_type": "code",
      "execution_count": null,
      "metadata": {
        "colab": {
          "base_uri": "https://localhost:8080/",
          "height": 463
        },
        "id": "oiw6iyLjEeBf",
        "outputId": "e5b44730-db51-4918-adbb-e23d42d65a70"
      },
      "outputs": [
        {
          "data": {
            "text/plain": [
              "<Axes: >"
            ]
          },
          "execution_count": 7,
          "metadata": {},
          "output_type": "execute_result"
        },
        {
          "data": {
            "image/png": "[encoded data removed]",
            "text/plain": [
              "<Figure size 1000x500 with 1 Axes>"
            ]
          },
          "metadata": {},
          "output_type": "display_data"
        }
      ],
      "source": [
        "train_raw_data.plot.box(y='NUM_PASSENGER')"
      ]
    },
    {
      "cell_type": "markdown",
      "metadata": {
        "id": "gok-pu3bcONL"
      },
      "source": [
        "**문제 3**\n",
        "\n",
        " 위의 문제 1 과 2 에서 작성한 히스토그램과 상자그림을 참고하여  다음 4개의 항목 중에서 탑승 인원 수 `NUM_PASSENGER`의 분포에 대한 설명이 적절한 항목을 선택하여 다음 코드셀 `ans3` 에 입력하시오.\n",
        "\n",
        "7월 한 달 동안 열차가 수송한 각 일별, 열차별, 구간별 모든 자료에서 탑승객 수의 분포는\n",
        "\n",
        "1. 종처럼 대칭인 분포이다..\n",
        "2. 왼 쪽으로 꼬리가 긴 분포이다. \n",
        "3. 오른 쪽으로 꼬리가 긴 분포이다.\n",
        "4. 위의 1,2,3 에 해당하지 않는다."
      ]
    },
    {
      "cell_type": "code",
      "execution_count": null,
      "metadata": {
        "id": "JrL-0LrIdtx-"
      },
      "outputs": [],
      "source": [
        "ans3 = 3"
      ]
    },
    {
      "cell_type": "markdown",
      "metadata": {
        "id": "qCvwiFKrapM5"
      },
      "source": [
        "**문제 4**\n",
        "\n",
        "데이터프레임 `train_raw_data` 에서 **출발역이 서울이고, 도착역이 부산인 자료만 선택** 하여 탑승 인원 수 `NUM_PASSENGER` 에 대한 히스토그램과 상자그림을 모두 그려보고 분포에 대한 설명이 가장 적절한 항목을 선택하여 다음 코드셀 `ans4` 에 입력하시오.\n",
        "\n",
        "7월 한 달 동안 열차가 수송한 각 일별, 열차별, 서울-부산 탑승객 수의 분포는\n",
        "\n",
        "1. 종처럼 대칭인 분포이다..\n",
        "2. 왼 쪽으로 꼬리가 긴 분포이다. \n",
        "3. 오른 쪽으로 꼬리가 긴 분포이다.\n",
        "4. 위의 1,2,3 에 해당하지 않는다."
      ]
    },
    {
      "cell_type": "code",
      "execution_count": null,
      "metadata": {
        "id": "0e71UO1fqkhS"
      },
      "outputs": [],
      "source": [
        "df = train_raw_data.loc[(train_raw_data.STATION_DEPART  == '서울') & (train_raw_data.STATION_ARRV == '부산')]"
      ]
    },
    {
      "cell_type": "code",
      "execution_count": null,
      "metadata": {
        "colab": {
          "base_uri": "https://localhost:8080/",
          "height": 463
        },
        "id": "XK3jg-4iqkhS",
        "outputId": "197d7605-25e1-471b-ee18-2f7eae212c62"
      },
      "outputs": [
        {
          "data": {
            "text/plain": [
              "<Axes: ylabel='Frequency'>"
            ]
          },
          "execution_count": 10,
          "metadata": {},
          "output_type": "execute_result"
        },
        {
          "data": {
            "image/png": "[encoded data removed]",
            "text/plain": [
              "<Figure size 1000x500 with 1 Axes>"
            ]
          },
          "metadata": {},
          "output_type": "display_data"
        }
      ],
      "source": [
        "df.plot.hist(y='NUM_PASSENGER', bins=20)"
      ]
    },
    {
      "cell_type": "code",
      "execution_count": null,
      "metadata": {
        "colab": {
          "base_uri": "https://localhost:8080/",
          "height": 463
        },
        "id": "nxNAcr_QqkhS",
        "outputId": "cca36b24-6c81-48be-aaca-05305e0c37e3"
      },
      "outputs": [
        {
          "data": {
            "text/plain": [
              "<Axes: >"
            ]
          },
          "execution_count": 11,
          "metadata": {},
          "output_type": "execute_result"
        },
        {
          "data": {
            "image/png": "[encoded data removed]",
            "text/plain": [
              "<Figure size 1000x500 with 1 Axes>"
            ]
          },
          "metadata": {},
          "output_type": "display_data"
        }
      ],
      "source": [
        "df.plot.box(y='NUM_PASSENGER')"
      ]
    },
    {
      "cell_type": "code",
      "execution_count": null,
      "metadata": {
        "id": "H425ZN_2dqjd"
      },
      "outputs": [],
      "source": [
        "ans4 = 4"
      ]
    },
    {
      "cell_type": "markdown",
      "metadata": {
        "id": "iP_CBahbYH7G"
      },
      "source": [
        "**문제 5**\n",
        "\n",
        "데이터프레임 `train_raw_data` 에서 **출발역이 서울이고, 도착역이 대전인 자료만 선택** 하여 탑승 인원 수 `NUM_PASSENGER` 에 대한 히스토그램과 상자그림을 모두 그려보고 분포에 대한 설명이 가장 적절한 항목을 선택하여 다음 코드셀 `ans5` 에 입력하시오.\n",
        "\n",
        "7월 한 달 동안 열차가 수송한 각 일별, 열차별, 서울-부산 탑승객 수의 분포는\n",
        "\n",
        "1. 종처럼 대칭인 분포이다..\n",
        "2. 오른 쪽으로 꼬리가 긴 분포이다.\n",
        "3. 왼 쪽으로 꼬리가 긴 분포이다. \n",
        "4. 위의 1,2,3 에 해당하지 않는다."
      ]
    },
    {
      "cell_type": "code",
      "execution_count": null,
      "metadata": {
        "id": "ozBVvuiPqkhT"
      },
      "outputs": [],
      "source": [
        "df2 = train_raw_data.loc[(train_raw_data.STATION_DEPART  == '서울') & (train_raw_data.STATION_ARRV == '대전')]"
      ]
    },
    {
      "cell_type": "code",
      "execution_count": null,
      "metadata": {
        "colab": {
          "base_uri": "https://localhost:8080/",
          "height": 463
        },
        "id": "fcF99pUNqkhT",
        "outputId": "d8c13734-c3aa-45bc-ffe4-76ceca1f40ad"
      },
      "outputs": [
        {
          "data": {
            "text/plain": [
              "<Axes: ylabel='Frequency'>"
            ]
          },
          "execution_count": 14,
          "metadata": {},
          "output_type": "execute_result"
        },
        {
          "data": {
            "image/png": "[encoded data removed]",
            "text/plain": [
              "<Figure size 1000x500 with 1 Axes>"
            ]
          },
          "metadata": {},
          "output_type": "display_data"
        }
      ],
      "source": [
        "df2.plot.hist(y='NUM_PASSENGER', bins=10)"
      ]
    },
    {
      "cell_type": "code",
      "execution_count": null,
      "metadata": {
        "colab": {
          "base_uri": "https://localhost:8080/",
          "height": 463
        },
        "id": "ly23pMTtqkhT",
        "outputId": "03ad490a-4840-4124-9f82-9408d922c293"
      },
      "outputs": [
        {
          "data": {
            "text/plain": [
              "<Axes: >"
            ]
          },
          "execution_count": 15,
          "metadata": {},
          "output_type": "execute_result"
        },
        {
          "data": {
            "image/png": "[encoded data removed]",
            "text/plain": [
              "<Figure size 1000x500 with 1 Axes>"
            ]
          },
          "metadata": {},
          "output_type": "display_data"
        }
      ],
      "source": [
        "df2.plot.box(y='NUM_PASSENGER')"
      ]
    },
    {
      "cell_type": "code",
      "execution_count": null,
      "metadata": {
        "id": "TsqqL2TtfdG4"
      },
      "outputs": [],
      "source": [
        "ans5 = 1"
      ]
    },
    {
      "cell_type": "markdown",
      "metadata": {
        "id": "xwJVRFL22s-e"
      },
      "source": [
        "**문제 6**\n",
        "\n",
        "다음 코드는 7월 한 달 동안 **서울에서 출발한 열차**만 선택한 데이터프레임 `train_seoul` 을 만드는 코드이다.  \n"
      ]
    },
    {
      "cell_type": "code",
      "execution_count": null,
      "metadata": {
        "id": "3xSYCUhzWPgj"
      },
      "outputs": [],
      "source": [
        "train_seoul = train_raw_data.loc[ train_raw_data.STATION_DEPART == \"서울\"]"
      ]
    },
    {
      "cell_type": "markdown",
      "metadata": {
        "id": "LSLBjmCVsxeX"
      },
      "source": [
        "위에서 만든 데이터프레임 train_seoul 을 이용하여 7월 한 달 동안 서울에서 출발한 열차를 모두 고려하면 운행 회수가 가장 적은 도착역은 천안아산역이다. 출발역이 서울이고 도착역이 천안아산인 열차의 총 운행 회수를 `ans6` 에 입력하세요.  "
      ]
    },
    {
      "cell_type": "code",
      "execution_count": null,
      "metadata": {
        "id": "o753i6cOtvVh"
      },
      "outputs": [],
      "source": [
        "ans6 = 30"
      ]
    },
    {
      "cell_type": "code",
      "execution_count": null,
      "metadata": {
        "colab": {
          "base_uri": "https://localhost:8080/"
        },
        "id": "cIDTxlZvpXKv",
        "outputId": "2e8f7a7c-0f97-4231-fb29-0fe0b6639e9d"
      },
      "outputs": [
        {
          "data": {
            "text/plain": [
              "STATION_ARRV\n",
              "대전              90\n",
              "동대구             90\n",
              "부산              90\n",
              "광명              60\n",
              "오송              60\n",
              "울산              60\n",
              "천안아산            30\n",
              "dtype: int64"
            ]
          },
          "execution_count": 19,
          "metadata": {},
          "output_type": "execute_result"
        }
      ],
      "source": [
        "train_seoul[ [\"STATION_ARRV\"]].value_counts()"
      ]
    },
    {
      "cell_type": "markdown",
      "metadata": {
        "id": "r_CroYUSh7pE"
      },
      "source": [
        "**문제 7** \n",
        "\n",
        "위에서 만든 데이터프레임 `train_seoul` 을 이용하여 7월 한 달 동안 서울에서 출발한 열차가 **정차한 총 횟수 를 도착열별로** 나타내는 파이 차트(pie chart)를 그리는 코드를 아래 코드 셀에 작성하시오.  "
      ]
    },
    {
      "cell_type": "code",
      "execution_count": null,
      "metadata": {
        "colab": {
          "base_uri": "https://localhost:8080/",
          "height": 440
        },
        "id": "dgsF0q6iCcf2",
        "outputId": "4754c05f-a9a9-4b9c-8510-9feb397b09ed"
      },
      "outputs": [
        {
          "data": {
            "text/plain": [
              "<Axes: >"
            ]
          },
          "execution_count": 20,
          "metadata": {},
          "output_type": "execute_result"
        },
        {
          "data": {
            "image/png": "[encoded data removed]",
            "text/plain": [
              "<Figure size 1000x500 with 1 Axes>"
            ]
          },
          "metadata": {},
          "output_type": "display_data"
        }
      ],
      "source": [
        "train_seoul[ [\"STATION_ARRV\"]].value_counts().plot.pie(legend=True)"
      ]
    },
    {
      "cell_type": "markdown",
      "metadata": {
        "id": "PXVPABTmlp4z"
      },
      "source": [
        "**문제 8**\n",
        "\n",
        "7월 한 달 동안 운행한 모든 열차들을 **출발역과 도착역별로 그룹화** 하여 **총 탑승객의 수**를 고려할 때 총 탑승객 수가 가장 적은 구간을 다음 항목에서 선택하여 `ans8` 에 입력하시오  \n",
        "\n",
        "1. 천안아산\t-> 오송\n",
        "2. 행신\t-> 서울\n",
        "3. 천안아산 ->\t대전\n",
        "4. 천안아산\t-> 동대구\t"
      ]
    },
    {
      "cell_type": "code",
      "execution_count": null,
      "metadata": {
        "colab": {
          "base_uri": "https://localhost:8080/",
          "height": 1000
        },
        "id": "Q9y0KcyBrGcK",
        "outputId": "677e35e6-9abc-46ff-bfc6-635b1407221e"
      },
      "outputs": [
        {
          "data": {
            "text/html": [
              "\n",
              "  <div id=\"df-c6abb910-4734-431a-bf6f-ec7b2ee165fb\">\n",
              "    <div class=\"colab-df-container\">\n",
              "      <div>\n",
              "<style scoped>\n",
              "    .dataframe tbody tr th:only-of-type {\n",
              "        vertical-align: middle;\n",
              "    }\n",
              "\n",
              "    .dataframe tbody tr th {\n",
              "        vertical-align: top;\n",
              "    }\n",
              "\n",
              "    .dataframe thead th {\n",
              "        text-align: right;\n",
              "    }\n",
              "</style>\n",
              "<table border=\"1\" class=\"dataframe\">\n",
              "  <thead>\n",
              "    <tr style=\"text-align: right;\">\n",
              "      <th></th>\n",
              "      <th>STATION_DEPART</th>\n",
              "      <th>STATION_ARRV</th>\n",
              "      <th>NUM_PASSENGER</th>\n",
              "    </tr>\n",
              "  </thead>\n",
              "  <tbody>\n",
              "    <tr>\n",
              "      <th>26</th>\n",
              "      <td>천안아산</td>\n",
              "      <td>오송</td>\n",
              "      <td>127.0</td>\n",
              "    </tr>\n",
              "    <tr>\n",
              "      <th>31</th>\n",
              "      <td>행신</td>\n",
              "      <td>서울</td>\n",
              "      <td>260.0</td>\n",
              "    </tr>\n",
              "    <tr>\n",
              "      <th>23</th>\n",
              "      <td>천안아산</td>\n",
              "      <td>대전</td>\n",
              "      <td>262.0</td>\n",
              "    </tr>\n",
              "    <tr>\n",
              "      <th>18</th>\n",
              "      <td>오송</td>\n",
              "      <td>대전</td>\n",
              "      <td>262.0</td>\n",
              "    </tr>\n",
              "    <tr>\n",
              "      <th>24</th>\n",
              "      <td>천안아산</td>\n",
              "      <td>동대구</td>\n",
              "      <td>317.0</td>\n",
              "    </tr>\n",
              "    <tr>\n",
              "      <th>5</th>\n",
              "      <td>광명</td>\n",
              "      <td>천안아산</td>\n",
              "      <td>329.0</td>\n",
              "    </tr>\n",
              "    <tr>\n",
              "      <th>25</th>\n",
              "      <td>천안아산</td>\n",
              "      <td>부산</td>\n",
              "      <td>368.0</td>\n",
              "    </tr>\n",
              "    <tr>\n",
              "      <th>27</th>\n",
              "      <td>천안아산</td>\n",
              "      <td>울산</td>\n",
              "      <td>397.0</td>\n",
              "    </tr>\n",
              "    <tr>\n",
              "      <th>11</th>\n",
              "      <td>서울</td>\n",
              "      <td>광명</td>\n",
              "      <td>586.0</td>\n",
              "    </tr>\n",
              "    <tr>\n",
              "      <th>3</th>\n",
              "      <td>광명</td>\n",
              "      <td>오송</td>\n",
              "      <td>699.0</td>\n",
              "    </tr>\n",
              "    <tr>\n",
              "      <th>21</th>\n",
              "      <td>오송</td>\n",
              "      <td>울산</td>\n",
              "      <td>912.0</td>\n",
              "    </tr>\n",
              "    <tr>\n",
              "      <th>19</th>\n",
              "      <td>오송</td>\n",
              "      <td>동대구</td>\n",
              "      <td>925.0</td>\n",
              "    </tr>\n",
              "    <tr>\n",
              "      <th>28</th>\n",
              "      <td>행신</td>\n",
              "      <td>대전</td>\n",
              "      <td>963.0</td>\n",
              "    </tr>\n",
              "    <tr>\n",
              "      <th>29</th>\n",
              "      <td>행신</td>\n",
              "      <td>동대구</td>\n",
              "      <td>970.0</td>\n",
              "    </tr>\n",
              "    <tr>\n",
              "      <th>22</th>\n",
              "      <td>울산</td>\n",
              "      <td>부산</td>\n",
              "      <td>1088.0</td>\n",
              "    </tr>\n",
              "    <tr>\n",
              "      <th>0</th>\n",
              "      <td>광명</td>\n",
              "      <td>대전</td>\n",
              "      <td>1177.0</td>\n",
              "    </tr>\n",
              "    <tr>\n",
              "      <th>8</th>\n",
              "      <td>대전</td>\n",
              "      <td>울산</td>\n",
              "      <td>1258.0</td>\n",
              "    </tr>\n",
              "    <tr>\n",
              "      <th>20</th>\n",
              "      <td>오송</td>\n",
              "      <td>부산</td>\n",
              "      <td>1583.0</td>\n",
              "    </tr>\n",
              "    <tr>\n",
              "      <th>6</th>\n",
              "      <td>대전</td>\n",
              "      <td>동대구</td>\n",
              "      <td>1669.0</td>\n",
              "    </tr>\n",
              "    <tr>\n",
              "      <th>10</th>\n",
              "      <td>동대구</td>\n",
              "      <td>울산</td>\n",
              "      <td>1847.0</td>\n",
              "    </tr>\n",
              "    <tr>\n",
              "      <th>17</th>\n",
              "      <td>서울</td>\n",
              "      <td>천안아산</td>\n",
              "      <td>1992.0</td>\n",
              "    </tr>\n",
              "    <tr>\n",
              "      <th>4</th>\n",
              "      <td>광명</td>\n",
              "      <td>울산</td>\n",
              "      <td>2144.0</td>\n",
              "    </tr>\n",
              "    <tr>\n",
              "      <th>1</th>\n",
              "      <td>광명</td>\n",
              "      <td>동대구</td>\n",
              "      <td>2147.0</td>\n",
              "    </tr>\n",
              "    <tr>\n",
              "      <th>30</th>\n",
              "      <td>행신</td>\n",
              "      <td>부산</td>\n",
              "      <td>2354.0</td>\n",
              "    </tr>\n",
              "    <tr>\n",
              "      <th>9</th>\n",
              "      <td>동대구</td>\n",
              "      <td>부산</td>\n",
              "      <td>2533.0</td>\n",
              "    </tr>\n",
              "    <tr>\n",
              "      <th>2</th>\n",
              "      <td>광명</td>\n",
              "      <td>부산</td>\n",
              "      <td>2793.0</td>\n",
              "    </tr>\n",
              "    <tr>\n",
              "      <th>7</th>\n",
              "      <td>대전</td>\n",
              "      <td>부산</td>\n",
              "      <td>3259.0</td>\n",
              "    </tr>\n",
              "    <tr>\n",
              "      <th>15</th>\n",
              "      <td>서울</td>\n",
              "      <td>오송</td>\n",
              "      <td>5121.0</td>\n",
              "    </tr>\n",
              "    <tr>\n",
              "      <th>16</th>\n",
              "      <td>서울</td>\n",
              "      <td>울산</td>\n",
              "      <td>5551.0</td>\n",
              "    </tr>\n",
              "    <tr>\n",
              "      <th>12</th>\n",
              "      <td>서울</td>\n",
              "      <td>대전</td>\n",
              "      <td>9694.0</td>\n",
              "    </tr>\n",
              "    <tr>\n",
              "      <th>13</th>\n",
              "      <td>서울</td>\n",
              "      <td>동대구</td>\n",
              "      <td>12058.0</td>\n",
              "    </tr>\n",
              "    <tr>\n",
              "      <th>14</th>\n",
              "      <td>서울</td>\n",
              "      <td>부산</td>\n",
              "      <td>26985.0</td>\n",
              "    </tr>\n",
              "  </tbody>\n",
              "</table>\n",
              "</div>\n",
              "      <button class=\"colab-df-convert\" onclick=\"convertToInteractive('df-c6abb910-4734-431a-bf6f-ec7b2ee165fb')\"\n",
              "              title=\"Convert this dataframe to an interactive table.\"\n",
              "              style=\"display:none;\">\n",
              "        \n",
              "  <svg xmlns=\"http://www.w3.org/2000/svg\" height=\"24px\"viewBox=\"0 0 24 24\"\n",
              "       width=\"24px\">\n",
              "    <path d=\"M0 0h24v24H0V0z\" fill=\"none\"/>\n",
              "    <path d=\"M18.56 5.44l.94 2.06.94-2.06 2.06-.94-2.06-.94-.94-2.06-.94 2.06-2.06.94zm-11 1L8.5 8.5l.94-2.06 2.06-.94-2.06-.94L8.5 2.5l-.94 2.06-2.06.94zm10 10l.94 2.06.94-2.06 2.06-.94-2.06-.94-.94-2.06-.94 2.06-2.06.94z\"/><path d=\"M17.41 7.96l-1.37-1.37c-.4-.4-.92-.59-1.43-.59-.52 0-1.04.2-1.43.59L10.3 9.45l-7.72 7.72c-.78.78-.78 2.05 0 2.83L4 21.41c.39.39.9.59 1.41.59.51 0 1.02-.2 1.41-.59l7.78-7.78 2.81-2.81c.8-.78.8-2.07 0-2.86zM5.41 20L4 18.59l7.72-7.72 1.47 1.35L5.41 20z\"/>\n",
              "  </svg>\n",
              "      </button>\n",
              "      \n",
              "  <style>\n",
              "    .colab-df-container {\n",
              "      display:flex;\n",
              "      flex-wrap:wrap;\n",
              "      gap: 12px;\n",
              "    }\n",
              "\n",
              "    .colab-df-convert {\n",
              "      background-color: #E8F0FE;\n",
              "      border: none;\n",
              "      border-radius: 50%;\n",
              "      cursor: pointer;\n",
              "      display: none;\n",
              "      fill: #1967D2;\n",
              "      height: 32px;\n",
              "      padding: 0 0 0 0;\n",
              "      width: 32px;\n",
              "    }\n",
              "\n",
              "    .colab-df-convert:hover {\n",
              "      background-color: #E2EBFA;\n",
              "      box-shadow: 0px 1px 2px rgba(60, 64, 67, 0.3), 0px 1px 3px 1px rgba(60, 64, 67, 0.15);\n",
              "      fill: #174EA6;\n",
              "    }\n",
              "\n",
              "    [theme=dark] .colab-df-convert {\n",
              "      background-color: #3B4455;\n",
              "      fill: #D2E3FC;\n",
              "    }\n",
              "\n",
              "    [theme=dark] .colab-df-convert:hover {\n",
              "      background-color: #434B5C;\n",
              "      box-shadow: 0px 1px 3px 1px rgba(0, 0, 0, 0.15);\n",
              "      filter: drop-shadow(0px 1px 2px rgba(0, 0, 0, 0.3));\n",
              "      fill: #FFFFFF;\n",
              "    }\n",
              "  </style>\n",
              "\n",
              "      <script>\n",
              "        const buttonEl =\n",
              "          document.querySelector('#df-c6abb910-4734-431a-bf6f-ec7b2ee165fb button.colab-df-convert');\n",
              "        buttonEl.style.display =\n",
              "          google.colab.kernel.accessAllowed ? 'block' : 'none';\n",
              "\n",
              "        async function convertToInteractive(key) {\n",
              "          const element = document.querySelector('#df-c6abb910-4734-431a-bf6f-ec7b2ee165fb');\n",
              "          const dataTable =\n",
              "            await google.colab.kernel.invokeFunction('convertToInteractive',\n",
              "                                                     [key], {});\n",
              "          if (!dataTable) return;\n",
              "\n",
              "          const docLinkHtml = 'Like what you see? Visit the ' +\n",
              "            '<a target=\"_blank\" href=https://colab.research.google.com/notebooks/data_table.ipynb>data table notebook</a>'\n",
              "            + ' to learn more about interactive tables.';\n",
              "          element.innerHTML = '';\n",
              "          dataTable['output_type'] = 'display_data';\n",
              "          await google.colab.output.renderOutput(dataTable, element);\n",
              "          const docLink = document.createElement('div');\n",
              "          docLink.innerHTML = docLinkHtml;\n",
              "          element.appendChild(docLink);\n",
              "        }\n",
              "      </script>\n",
              "    </div>\n",
              "  </div>\n",
              "  "
            ],
            "text/plain": [
              "   STATION_DEPART STATION_ARRV  NUM_PASSENGER\n",
              "26           천안아산           오송          127.0\n",
              "31             행신           서울          260.0\n",
              "23           천안아산           대전          262.0\n",
              "18             오송           대전          262.0\n",
              "24           천안아산          동대구          317.0\n",
              "5              광명         천안아산          329.0\n",
              "25           천안아산           부산          368.0\n",
              "27           천안아산           울산          397.0\n",
              "11             서울           광명          586.0\n",
              "3              광명           오송          699.0\n",
              "21             오송           울산          912.0\n",
              "19             오송          동대구          925.0\n",
              "28             행신           대전          963.0\n",
              "29             행신          동대구          970.0\n",
              "22             울산           부산         1088.0\n",
              "0              광명           대전         1177.0\n",
              "8              대전           울산         1258.0\n",
              "20             오송           부산         1583.0\n",
              "6              대전          동대구         1669.0\n",
              "10            동대구           울산         1847.0\n",
              "17             서울         천안아산         1992.0\n",
              "4              광명           울산         2144.0\n",
              "1              광명          동대구         2147.0\n",
              "30             행신           부산         2354.0\n",
              "9             동대구           부산         2533.0\n",
              "2              광명           부산         2793.0\n",
              "7              대전           부산         3259.0\n",
              "15             서울           오송         5121.0\n",
              "16             서울           울산         5551.0\n",
              "12             서울           대전         9694.0\n",
              "13             서울          동대구        12058.0\n",
              "14             서울           부산        26985.0"
            ]
          },
          "execution_count": 21,
          "metadata": {},
          "output_type": "execute_result"
        }
      ],
      "source": [
        "df3 = train_raw_data[['STATION_DEPART',\t'STATION_ARRV', 'NUM_PASSENGER']].groupby(by =['STATION_DEPART',\t'STATION_ARRV']).sum().reset_index()\n",
        "df3.sort_values(by=['NUM_PASSENGER'])"
      ]
    },
    {
      "cell_type": "code",
      "execution_count": null,
      "metadata": {
        "id": "_AH9gtQ7nWlF"
      },
      "outputs": [],
      "source": [
        "ans8 = 1"
      ]
    },
    {
      "cell_type": "markdown",
      "metadata": {
        "id": "Z5vuily4n13Z"
      },
      "source": [
        "**문제 9**\n",
        "\n",
        "7월 한 달 동안 **출발역이 서울이고 도착역이 대전인 자료만 선택하여** 데이터프레임 `df4`를 만드는 코드이다. \n",
        "\n",
        "데이터프레임 `df4`를 이용하여 다음 문제들의 답을 지정된 코드 셀에 입력하시오.\n",
        "\n"
      ]
    },
    {
      "cell_type": "code",
      "execution_count": null,
      "metadata": {
        "id": "Iu_VwhWYsTHq"
      },
      "outputs": [],
      "source": [
        "df4 = train_raw_data.loc[(train_raw_data.STATION_DEPART  == '서울') & (train_raw_data.STATION_ARRV == '대전')]"
      ]
    },
    {
      "cell_type": "code",
      "execution_count": null,
      "metadata": {
        "colab": {
          "base_uri": "https://localhost:8080/",
          "height": 424
        },
        "id": "dDJLe1DcrEAx",
        "outputId": "58a62f69-0275-4bb0-e527-50a5ba84fa3f"
      },
      "outputs": [
        {
          "data": {
            "text/html": [
              "\n",
              "  <div id=\"df-5a094200-00e8-43f5-ade0-ad8cfbeaee66\">\n",
              "    <div class=\"colab-df-container\">\n",
              "      <div>\n",
              "<style scoped>\n",
              "    .dataframe tbody tr th:only-of-type {\n",
              "        vertical-align: middle;\n",
              "    }\n",
              "\n",
              "    .dataframe tbody tr th {\n",
              "        vertical-align: top;\n",
              "    }\n",
              "\n",
              "    .dataframe thead th {\n",
              "        text-align: right;\n",
              "    }\n",
              "</style>\n",
              "<table border=\"1\" class=\"dataframe\">\n",
              "  <thead>\n",
              "    <tr style=\"text-align: right;\">\n",
              "      <th></th>\n",
              "      <th>TRAIN_NO</th>\n",
              "      <th>DATE</th>\n",
              "      <th>STATION_DEPART</th>\n",
              "      <th>STATION_ARRV</th>\n",
              "      <th>NUM_PASSENGER</th>\n",
              "    </tr>\n",
              "  </thead>\n",
              "  <tbody>\n",
              "    <tr>\n",
              "      <th>0</th>\n",
              "      <td>2</td>\n",
              "      <td>20190701</td>\n",
              "      <td>서울</td>\n",
              "      <td>대전</td>\n",
              "      <td>106.0</td>\n",
              "    </tr>\n",
              "    <tr>\n",
              "      <th>1</th>\n",
              "      <td>2</td>\n",
              "      <td>20190702</td>\n",
              "      <td>서울</td>\n",
              "      <td>대전</td>\n",
              "      <td>113.0</td>\n",
              "    </tr>\n",
              "    <tr>\n",
              "      <th>2</th>\n",
              "      <td>2</td>\n",
              "      <td>20190703</td>\n",
              "      <td>서울</td>\n",
              "      <td>대전</td>\n",
              "      <td>146.0</td>\n",
              "    </tr>\n",
              "    <tr>\n",
              "      <th>3</th>\n",
              "      <td>2</td>\n",
              "      <td>20190704</td>\n",
              "      <td>서울</td>\n",
              "      <td>대전</td>\n",
              "      <td>84.0</td>\n",
              "    </tr>\n",
              "    <tr>\n",
              "      <th>4</th>\n",
              "      <td>2</td>\n",
              "      <td>20190705</td>\n",
              "      <td>서울</td>\n",
              "      <td>대전</td>\n",
              "      <td>105.0</td>\n",
              "    </tr>\n",
              "    <tr>\n",
              "      <th>...</th>\n",
              "      <td>...</td>\n",
              "      <td>...</td>\n",
              "      <td>...</td>\n",
              "      <td>...</td>\n",
              "      <td>...</td>\n",
              "    </tr>\n",
              "    <tr>\n",
              "      <th>955</th>\n",
              "      <td>6</td>\n",
              "      <td>20190726</td>\n",
              "      <td>서울</td>\n",
              "      <td>대전</td>\n",
              "      <td>98.0</td>\n",
              "    </tr>\n",
              "    <tr>\n",
              "      <th>956</th>\n",
              "      <td>6</td>\n",
              "      <td>20190727</td>\n",
              "      <td>서울</td>\n",
              "      <td>대전</td>\n",
              "      <td>92.0</td>\n",
              "    </tr>\n",
              "    <tr>\n",
              "      <th>957</th>\n",
              "      <td>6</td>\n",
              "      <td>20190728</td>\n",
              "      <td>서울</td>\n",
              "      <td>대전</td>\n",
              "      <td>131.0</td>\n",
              "    </tr>\n",
              "    <tr>\n",
              "      <th>958</th>\n",
              "      <td>6</td>\n",
              "      <td>20190729</td>\n",
              "      <td>서울</td>\n",
              "      <td>대전</td>\n",
              "      <td>77.0</td>\n",
              "    </tr>\n",
              "    <tr>\n",
              "      <th>959</th>\n",
              "      <td>6</td>\n",
              "      <td>20190730</td>\n",
              "      <td>서울</td>\n",
              "      <td>대전</td>\n",
              "      <td>75.0</td>\n",
              "    </tr>\n",
              "  </tbody>\n",
              "</table>\n",
              "<p>90 rows × 5 columns</p>\n",
              "</div>\n",
              "      <button class=\"colab-df-convert\" onclick=\"convertToInteractive('df-5a094200-00e8-43f5-ade0-ad8cfbeaee66')\"\n",
              "              title=\"Convert this dataframe to an interactive table.\"\n",
              "              style=\"display:none;\">\n",
              "        \n",
              "  <svg xmlns=\"http://www.w3.org/2000/svg\" height=\"24px\"viewBox=\"0 0 24 24\"\n",
              "       width=\"24px\">\n",
              "    <path d=\"M0 0h24v24H0V0z\" fill=\"none\"/>\n",
              "    <path d=\"M18.56 5.44l.94 2.06.94-2.06 2.06-.94-2.06-.94-.94-2.06-.94 2.06-2.06.94zm-11 1L8.5 8.5l.94-2.06 2.06-.94-2.06-.94L8.5 2.5l-.94 2.06-2.06.94zm10 10l.94 2.06.94-2.06 2.06-.94-2.06-.94-.94-2.06-.94 2.06-2.06.94z\"/><path d=\"M17.41 7.96l-1.37-1.37c-.4-.4-.92-.59-1.43-.59-.52 0-1.04.2-1.43.59L10.3 9.45l-7.72 7.72c-.78.78-.78 2.05 0 2.83L4 21.41c.39.39.9.59 1.41.59.51 0 1.02-.2 1.41-.59l7.78-7.78 2.81-2.81c.8-.78.8-2.07 0-2.86zM5.41 20L4 18.59l7.72-7.72 1.47 1.35L5.41 20z\"/>\n",
              "  </svg>\n",
              "      </button>\n",
              "      \n",
              "  <style>\n",
              "    .colab-df-container {\n",
              "      display:flex;\n",
              "      flex-wrap:wrap;\n",
              "      gap: 12px;\n",
              "    }\n",
              "\n",
              "    .colab-df-convert {\n",
              "      background-color: #E8F0FE;\n",
              "      border: none;\n",
              "      border-radius: 50%;\n",
              "      cursor: pointer;\n",
              "      display: none;\n",
              "      fill: #1967D2;\n",
              "      height: 32px;\n",
              "      padding: 0 0 0 0;\n",
              "      width: 32px;\n",
              "    }\n",
              "\n",
              "    .colab-df-convert:hover {\n",
              "      background-color: #E2EBFA;\n",
              "      box-shadow: 0px 1px 2px rgba(60, 64, 67, 0.3), 0px 1px 3px 1px rgba(60, 64, 67, 0.15);\n",
              "      fill: #174EA6;\n",
              "    }\n",
              "\n",
              "    [theme=dark] .colab-df-convert {\n",
              "      background-color: #3B4455;\n",
              "      fill: #D2E3FC;\n",
              "    }\n",
              "\n",
              "    [theme=dark] .colab-df-convert:hover {\n",
              "      background-color: #434B5C;\n",
              "      box-shadow: 0px 1px 3px 1px rgba(0, 0, 0, 0.15);\n",
              "      filter: drop-shadow(0px 1px 2px rgba(0, 0, 0, 0.3));\n",
              "      fill: #FFFFFF;\n",
              "    }\n",
              "  </style>\n",
              "\n",
              "      <script>\n",
              "        const buttonEl =\n",
              "          document.querySelector('#df-5a094200-00e8-43f5-ade0-ad8cfbeaee66 button.colab-df-convert');\n",
              "        buttonEl.style.display =\n",
              "          google.colab.kernel.accessAllowed ? 'block' : 'none';\n",
              "\n",
              "        async function convertToInteractive(key) {\n",
              "          const element = document.querySelector('#df-5a094200-00e8-43f5-ade0-ad8cfbeaee66');\n",
              "          const dataTable =\n",
              "            await google.colab.kernel.invokeFunction('convertToInteractive',\n",
              "                                                     [key], {});\n",
              "          if (!dataTable) return;\n",
              "\n",
              "          const docLinkHtml = 'Like what you see? Visit the ' +\n",
              "            '<a target=\"_blank\" href=https://colab.research.google.com/notebooks/data_table.ipynb>data table notebook</a>'\n",
              "            + ' to learn more about interactive tables.';\n",
              "          element.innerHTML = '';\n",
              "          dataTable['output_type'] = 'display_data';\n",
              "          await google.colab.output.renderOutput(dataTable, element);\n",
              "          const docLink = document.createElement('div');\n",
              "          docLink.innerHTML = docLinkHtml;\n",
              "          element.appendChild(docLink);\n",
              "        }\n",
              "      </script>\n",
              "    </div>\n",
              "  </div>\n",
              "  "
            ],
            "text/plain": [
              "     TRAIN_NO      DATE STATION_DEPART STATION_ARRV  NUM_PASSENGER\n",
              "0           2  20190701             서울           대전          106.0\n",
              "1           2  20190702             서울           대전          113.0\n",
              "2           2  20190703             서울           대전          146.0\n",
              "3           2  20190704             서울           대전           84.0\n",
              "4           2  20190705             서울           대전          105.0\n",
              "..        ...       ...            ...          ...            ...\n",
              "955         6  20190726             서울           대전           98.0\n",
              "956         6  20190727             서울           대전           92.0\n",
              "957         6  20190728             서울           대전          131.0\n",
              "958         6  20190729             서울           대전           77.0\n",
              "959         6  20190730             서울           대전           75.0\n",
              "\n",
              "[90 rows x 5 columns]"
            ]
          },
          "execution_count": 24,
          "metadata": {},
          "output_type": "execute_result"
        }
      ],
      "source": [
        "df4"
      ]
    },
    {
      "cell_type": "code",
      "execution_count": null,
      "metadata": {
        "colab": {
          "base_uri": "https://localhost:8080/",
          "height": 300
        },
        "id": "Vf2fYgHgvOs-",
        "outputId": "6b80a9c7-8a24-4a5b-d054-4f8a14f2b64a"
      },
      "outputs": [
        {
          "data": {
            "text/html": [
              "\n",
              "  <div id=\"df-75afc316-6290-4af9-b607-039b728b11c1\">\n",
              "    <div class=\"colab-df-container\">\n",
              "      <div>\n",
              "<style scoped>\n",
              "    .dataframe tbody tr th:only-of-type {\n",
              "        vertical-align: middle;\n",
              "    }\n",
              "\n",
              "    .dataframe tbody tr th {\n",
              "        vertical-align: top;\n",
              "    }\n",
              "\n",
              "    .dataframe thead th {\n",
              "        text-align: right;\n",
              "    }\n",
              "</style>\n",
              "<table border=\"1\" class=\"dataframe\">\n",
              "  <thead>\n",
              "    <tr style=\"text-align: right;\">\n",
              "      <th></th>\n",
              "      <th>TRAIN_NO</th>\n",
              "      <th>DATE</th>\n",
              "      <th>NUM_PASSENGER</th>\n",
              "    </tr>\n",
              "  </thead>\n",
              "  <tbody>\n",
              "    <tr>\n",
              "      <th>count</th>\n",
              "      <td>90.000000</td>\n",
              "      <td>9.000000e+01</td>\n",
              "      <td>90.000000</td>\n",
              "    </tr>\n",
              "    <tr>\n",
              "      <th>mean</th>\n",
              "      <td>4.333333</td>\n",
              "      <td>2.019072e+07</td>\n",
              "      <td>107.711111</td>\n",
              "    </tr>\n",
              "    <tr>\n",
              "      <th>std</th>\n",
              "      <td>1.709195</td>\n",
              "      <td>8.703932e+00</td>\n",
              "      <td>25.844063</td>\n",
              "    </tr>\n",
              "    <tr>\n",
              "      <th>min</th>\n",
              "      <td>2.000000</td>\n",
              "      <td>2.019070e+07</td>\n",
              "      <td>54.000000</td>\n",
              "    </tr>\n",
              "    <tr>\n",
              "      <th>25%</th>\n",
              "      <td>2.000000</td>\n",
              "      <td>2.019071e+07</td>\n",
              "      <td>89.000000</td>\n",
              "    </tr>\n",
              "    <tr>\n",
              "      <th>50%</th>\n",
              "      <td>5.000000</td>\n",
              "      <td>2.019072e+07</td>\n",
              "      <td>109.500000</td>\n",
              "    </tr>\n",
              "    <tr>\n",
              "      <th>75%</th>\n",
              "      <td>6.000000</td>\n",
              "      <td>2.019072e+07</td>\n",
              "      <td>124.000000</td>\n",
              "    </tr>\n",
              "    <tr>\n",
              "      <th>max</th>\n",
              "      <td>6.000000</td>\n",
              "      <td>2.019073e+07</td>\n",
              "      <td>177.000000</td>\n",
              "    </tr>\n",
              "  </tbody>\n",
              "</table>\n",
              "</div>\n",
              "      <button class=\"colab-df-convert\" onclick=\"convertToInteractive('df-75afc316-6290-4af9-b607-039b728b11c1')\"\n",
              "              title=\"Convert this dataframe to an interactive table.\"\n",
              "              style=\"display:none;\">\n",
              "        \n",
              "  <svg xmlns=\"http://www.w3.org/2000/svg\" height=\"24px\"viewBox=\"0 0 24 24\"\n",
              "       width=\"24px\">\n",
              "    <path d=\"M0 0h24v24H0V0z\" fill=\"none\"/>\n",
              "    <path d=\"M18.56 5.44l.94 2.06.94-2.06 2.06-.94-2.06-.94-.94-2.06-.94 2.06-2.06.94zm-11 1L8.5 8.5l.94-2.06 2.06-.94-2.06-.94L8.5 2.5l-.94 2.06-2.06.94zm10 10l.94 2.06.94-2.06 2.06-.94-2.06-.94-.94-2.06-.94 2.06-2.06.94z\"/><path d=\"M17.41 7.96l-1.37-1.37c-.4-.4-.92-.59-1.43-.59-.52 0-1.04.2-1.43.59L10.3 9.45l-7.72 7.72c-.78.78-.78 2.05 0 2.83L4 21.41c.39.39.9.59 1.41.59.51 0 1.02-.2 1.41-.59l7.78-7.78 2.81-2.81c.8-.78.8-2.07 0-2.86zM5.41 20L4 18.59l7.72-7.72 1.47 1.35L5.41 20z\"/>\n",
              "  </svg>\n",
              "      </button>\n",
              "      \n",
              "  <style>\n",
              "    .colab-df-container {\n",
              "      display:flex;\n",
              "      flex-wrap:wrap;\n",
              "      gap: 12px;\n",
              "    }\n",
              "\n",
              "    .colab-df-convert {\n",
              "      background-color: #E8F0FE;\n",
              "      border: none;\n",
              "      border-radius: 50%;\n",
              "      cursor: pointer;\n",
              "      display: none;\n",
              "      fill: #1967D2;\n",
              "      height: 32px;\n",
              "      padding: 0 0 0 0;\n",
              "      width: 32px;\n",
              "    }\n",
              "\n",
              "    .colab-df-convert:hover {\n",
              "      background-color: #E2EBFA;\n",
              "      box-shadow: 0px 1px 2px rgba(60, 64, 67, 0.3), 0px 1px 3px 1px rgba(60, 64, 67, 0.15);\n",
              "      fill: #174EA6;\n",
              "    }\n",
              "\n",
              "    [theme=dark] .colab-df-convert {\n",
              "      background-color: #3B4455;\n",
              "      fill: #D2E3FC;\n",
              "    }\n",
              "\n",
              "    [theme=dark] .colab-df-convert:hover {\n",
              "      background-color: #434B5C;\n",
              "      box-shadow: 0px 1px 3px 1px rgba(0, 0, 0, 0.15);\n",
              "      filter: drop-shadow(0px 1px 2px rgba(0, 0, 0, 0.3));\n",
              "      fill: #FFFFFF;\n",
              "    }\n",
              "  </style>\n",
              "\n",
              "      <script>\n",
              "        const buttonEl =\n",
              "          document.querySelector('#df-75afc316-6290-4af9-b607-039b728b11c1 button.colab-df-convert');\n",
              "        buttonEl.style.display =\n",
              "          google.colab.kernel.accessAllowed ? 'block' : 'none';\n",
              "\n",
              "        async function convertToInteractive(key) {\n",
              "          const element = document.querySelector('#df-75afc316-6290-4af9-b607-039b728b11c1');\n",
              "          const dataTable =\n",
              "            await google.colab.kernel.invokeFunction('convertToInteractive',\n",
              "                                                     [key], {});\n",
              "          if (!dataTable) return;\n",
              "\n",
              "          const docLinkHtml = 'Like what you see? Visit the ' +\n",
              "            '<a target=\"_blank\" href=https://colab.research.google.com/notebooks/data_table.ipynb>data table notebook</a>'\n",
              "            + ' to learn more about interactive tables.';\n",
              "          element.innerHTML = '';\n",
              "          dataTable['output_type'] = 'display_data';\n",
              "          await google.colab.output.renderOutput(dataTable, element);\n",
              "          const docLink = document.createElement('div');\n",
              "          docLink.innerHTML = docLinkHtml;\n",
              "          element.appendChild(docLink);\n",
              "        }\n",
              "      </script>\n",
              "    </div>\n",
              "  </div>\n",
              "  "
            ],
            "text/plain": [
              "        TRAIN_NO          DATE  NUM_PASSENGER\n",
              "count  90.000000  9.000000e+01      90.000000\n",
              "mean    4.333333  2.019072e+07     107.711111\n",
              "std     1.709195  8.703932e+00      25.844063\n",
              "min     2.000000  2.019070e+07      54.000000\n",
              "25%     2.000000  2.019071e+07      89.000000\n",
              "50%     5.000000  2.019072e+07     109.500000\n",
              "75%     6.000000  2.019072e+07     124.000000\n",
              "max     6.000000  2.019073e+07     177.000000"
            ]
          },
          "execution_count": 25,
          "metadata": {},
          "output_type": "execute_result"
        }
      ],
      "source": [
        "df4.describe()"
      ]
    },
    {
      "cell_type": "code",
      "execution_count": null,
      "metadata": {
        "colab": {
          "base_uri": "https://localhost:8080/"
        },
        "id": "SFozPHubspbN",
        "outputId": "24c4f97e-0477-4c0c-de67-3581fbe373af"
      },
      "outputs": [
        {
          "data": {
            "text/plain": [
              "35"
            ]
          },
          "execution_count": 26,
          "metadata": {},
          "output_type": "execute_result"
        }
      ],
      "source": [
        "IQR = 124-89\n",
        "IQR"
      ]
    },
    {
      "cell_type": "markdown",
      "metadata": {
        "id": "ZZP8n2VuofTW"
      },
      "source": [
        "(1) 탑승객의 수의 평균(mean)을 다음 코드 셀의 `ans91` 에 입력하시오 (소숫점 첫째 자리에서 반올림하여 정수로 답하세요)"
      ]
    },
    {
      "cell_type": "code",
      "execution_count": null,
      "metadata": {
        "id": "JlmBD2MzkujD"
      },
      "outputs": [],
      "source": [
        "ans91 = 108"
      ]
    },
    {
      "cell_type": "markdown",
      "metadata": {
        "id": "btBQsuVJozUQ"
      },
      "source": [
        "(2) 탑승객의 수의 중앙값(median)을 다음 코드 셀의 `ans92` 에 입력하시오 (소숫점 첫째 자리에서 반올림하여 정수로 답하세요)."
      ]
    },
    {
      "cell_type": "code",
      "execution_count": null,
      "metadata": {
        "id": "uoUutZ9ZpBoE"
      },
      "outputs": [],
      "source": [
        "ans92 = 110"
      ]
    },
    {
      "cell_type": "markdown",
      "metadata": {
        "id": "Gcc_bi4lpIHm"
      },
      "source": [
        "(3) 탑승객의 수의 IQR 을 다음 코드 셀의 `ans93` 에 입력하시오 (소숫점 첫째 자리에서 반올림하여 정수로 답하세요)."
      ]
    },
    {
      "cell_type": "code",
      "execution_count": null,
      "metadata": {
        "id": "uxeLnRclpTuG"
      },
      "outputs": [],
      "source": [
        "ans93 = 35"
      ]
    },
    {
      "cell_type": "markdown",
      "metadata": {
        "id": "59_UDPG6uca6"
      },
      "source": [
        "(4) 탑승객 수에 대한 상자그림을 그리는 코드를 입력하세요."
      ]
    },
    {
      "cell_type": "code",
      "execution_count": null,
      "metadata": {
        "colab": {
          "base_uri": "https://localhost:8080/",
          "height": 463
        },
        "id": "GbIizJInrVeM",
        "outputId": "40f33dd6-86f4-4145-bc67-f0de44732633"
      },
      "outputs": [
        {
          "data": {
            "text/plain": [
              "<Axes: >"
            ]
          },
          "execution_count": 30,
          "metadata": {},
          "output_type": "execute_result"
        },
        {
          "data": {
            "image/png": "[encoded data removed]",
            "text/plain": [
              "<Figure size 1000x500 with 1 Axes>"
            ]
          },
          "metadata": {},
          "output_type": "display_data"
        }
      ],
      "source": [
        "df4.plot.box(y='NUM_PASSENGER')"
      ]
    },
    {
      "cell_type": "markdown",
      "metadata": {
        "id": "yNcXeOTyvye5"
      },
      "source": [
        "## 2. 조건문과 반복문"
      ]
    },
    {
      "cell_type": "markdown",
      "metadata": {
        "id": "7Pj3pk5Rv9w-"
      },
      "source": [
        "**문제 1**\n",
        "\n",
        "**1 부터 1000 까지의 정수** 에서 **짝수** 들의 합계(sum)를 구하여 `mysum1` 에 저장하는 코드를 다음 코드 셀에서 작성하시오."
      ]
    },
    {
      "cell_type": "code",
      "execution_count": null,
      "metadata": {
        "colab": {
          "base_uri": "https://localhost:8080/"
        },
        "id": "AP0QL5dkrbdD",
        "outputId": "f3d63bd3-9dc6-4086-9ea7-fa401a9c2dd0"
      },
      "outputs": [
        {
          "data": {
            "text/plain": [
              "250500"
            ]
          },
          "execution_count": 31,
          "metadata": {},
          "output_type": "execute_result"
        }
      ],
      "source": [
        "mysum1 = 0\n",
        "for i in np.arange(1,1001):\n",
        "    remainder = i - (i//2)*2\n",
        "    if remainder ==0 :\n",
        "        mysum1 = mysum1 + i \n",
        "\n",
        "mysum1"
      ]
    },
    {
      "cell_type": "markdown",
      "metadata": {
        "id": "PdWjDeo9wMaN"
      },
      "source": [
        "참고로 표현식 `a // b` 는 `a`를 `b` 로 나누는 경우 몫을 출력하고 `a % b` 는 `a` 를  `b` 로 나누는 경우 나머지를 출력한다."
      ]
    },
    {
      "cell_type": "markdown",
      "metadata": {
        "id": "2Px4E-gtwaFs"
      },
      "source": [
        "**문제 2**\n",
        "\n",
        "다음과 같이 7 명 학생의 이름이 포함된 리스트 `student_names` 가 주어졌다고 하자. "
      ]
    },
    {
      "cell_type": "code",
      "execution_count": null,
      "metadata": {
        "id": "jkDLPCvIwZPx"
      },
      "outputs": [],
      "source": [
        "student_names = ['이용희', '김철수', '한용희', '윤이영', '이길용', '김용희', '홍동이']"
      ]
    },
    {
      "cell_type": "markdown",
      "metadata": {
        "id": "AMcZlwVmwk3u"
      },
      "source": [
        "이름이 `용희`인 학생의 수를 계산하여 `mysum2` 에  저장하는 구하는 코드를 아래 코드 셀에 작성하시오."
      ]
    },
    {
      "cell_type": "code",
      "execution_count": null,
      "metadata": {
        "colab": {
          "base_uri": "https://localhost:8080/"
        },
        "id": "Syms_tp7xDSf",
        "outputId": "bc2e7c5e-d501-4a3a-e12a-42dec78f64ba"
      },
      "outputs": [
        {
          "data": {
            "text/plain": [
              "3"
            ]
          },
          "execution_count": 33,
          "metadata": {},
          "output_type": "execute_result"
        }
      ],
      "source": [
        "mysum2 = 0\n",
        "\n",
        "for firstname in student_names:\n",
        "  if \"용희\" in firstname:\n",
        "    mysum2 = mysum2 + 1\n",
        "\n",
        "mysum2"
      ]
    },
    {
      "cell_type": "markdown",
      "metadata": {
        "id": "KNPRTjZtx13J"
      },
      "source": [
        "**문제 3**\n",
        "\n",
        "위의 문제 2에서 주어진 리스트 `student_names` 에서 성이 **`이`** 씨인 사람이 몇 명인지 계산하여 `mysum3` 에  저장하는 구하는 코드를 아래 코드 셀에 작성하시오."
      ]
    },
    {
      "cell_type": "code",
      "execution_count": null,
      "metadata": {
        "colab": {
          "base_uri": "https://localhost:8080/"
        },
        "id": "VHZ7mNqxxaRb",
        "outputId": "bc1b593e-ee1e-43e9-d264-d2fa518505bc"
      },
      "outputs": [
        {
          "data": {
            "text/plain": [
              "2"
            ]
          },
          "execution_count": 34,
          "metadata": {},
          "output_type": "execute_result"
        }
      ],
      "source": [
        "mysum3 = 0\n",
        "\n",
        "last_names = []\n",
        "\n",
        "for str in student_names:\n",
        "  last_names.append(str[0])\n",
        "\n",
        "for last_name in last_names:\n",
        "  if \"이\" in last_name:\n",
        "    mysum3 = mysum3 + 1\n",
        "\n",
        "mysum3"
      ]
    },
    {
      "cell_type": "markdown",
      "metadata": {
        "id": "NVMV_92Cyi0O"
      },
      "source": [
        "**문제 4**\n",
        "\n",
        "$a_1=1$ 이고 $ r= 5$ 인 경우, 다음의 등비 수열의 합을 `mysum4` 에 저장하는 코드를 다음 코드 셀에 입력하시오.\n",
        "\n",
        "$$ a_{i+1} = r a_{i}$$\n",
        "\n",
        "$$ \\texttt{mysum4 } = \\sum_{i=1}^{10} a_i $$"
      ]
    },
    {
      "cell_type": "code",
      "execution_count": null,
      "metadata": {
        "colab": {
          "base_uri": "https://localhost:8080/"
        },
        "id": "839KVpc-yZQg",
        "outputId": "92e6e738-302b-4b78-e909-d71779fb89fa"
      },
      "outputs": [
        {
          "data": {
            "text/plain": [
              "2441406"
            ]
          },
          "execution_count": 35,
          "metadata": {},
          "output_type": "execute_result"
        }
      ],
      "source": [
        "mysum4 = 0\n",
        "\n",
        "x = 1\n",
        "r = 5\n",
        "\n",
        "for i in np.arange(10):\n",
        "    mysum4 = mysum4 + x\n",
        "    x = r*x    \n",
        "\n",
        "mysum4"
      ]
    },
    {
      "cell_type": "markdown",
      "metadata": {
        "id": "NEktVHWn0JSE"
      },
      "source": [
        "## 3.독립시행과 표본공간\n",
        "\n",
        "하나의 주사위를 던지는 경우 나올 수 있는 표본 공간은 다음과 같다.\n",
        "\n",
        "$$ S = \\{ 1, 2, 3, 4, 5 ,6 \\} $$\n",
        "\n",
        "표본 공간 S 를 다음과 같이 이름이 `dice` 인 리스트로 만들어 보자."
      ]
    },
    {
      "cell_type": "code",
      "execution_count": null,
      "metadata": {
        "id": "7NSc_nK4y4Au"
      },
      "outputs": [],
      "source": [
        "dice = [1,2,3,4,5,6]"
      ]
    },
    {
      "cell_type": "markdown",
      "metadata": {
        "id": "3qdOIkXT0XXh"
      },
      "source": [
        "**문제 1**\n",
        "\n",
        "주사위를 5 번 연속으로 던질 때 나올 수 있는 모든 경우를 포함하는 표본 공간을  이름이 `dice_5` 인 리스트에 저장하는 코드를 아래 코드셀에 작성하시오.\n",
        "\n",
        "HINT: 라이브러리 `itertools` 에서 제공하는 함수 `product()` 를 이용하자.\n",
        "\n"
      ]
    },
    {
      "cell_type": "code",
      "execution_count": null,
      "metadata": {
        "colab": {
          "base_uri": "https://localhost:8080/"
        },
        "id": "nhiJgdaA0Wp7",
        "outputId": "2bd3314a-6b3c-445a-95cc-c01358cc2b60"
      },
      "outputs": [
        {
          "data": {
            "text/plain": [
              "[(1, 1, 1, 1, 1),\n",
              " (1, 1, 1, 1, 2),\n",
              " (1, 1, 1, 1, 3),\n",
              " (1, 1, 1, 1, 4),\n",
              " (1, 1, 1, 1, 5),\n",
              " (1, 1, 1, 1, 6),\n",
              " (1, 1, 1, 2, 1),\n",
              " (1, 1, 1, 2, 2),\n",
              " (1, 1, 1, 2, 3),\n",
              " (1, 1, 1, 2, 4)]"
            ]
          },
          "execution_count": 37,
          "metadata": {},
          "output_type": "execute_result"
        }
      ],
      "source": [
        "dice_5 = list(product(dice, repeat= 5))\n",
        "dice_5[0:10]"
      ]
    },
    {
      "cell_type": "markdown",
      "metadata": {
        "id": "GIiAUQom0tOE"
      },
      "source": [
        "**문제 2**\n",
        "\n",
        "예를 주사위를 5번 연속으로 던진 결과가 다음과 같이 리스트 `roll` 과 같이 나오면 1의 눈이 3번 나온 것이다."
      ]
    },
    {
      "cell_type": "code",
      "execution_count": null,
      "metadata": {
        "colab": {
          "base_uri": "https://localhost:8080/"
        },
        "id": "FKPUHZdf0hcp",
        "outputId": "8102403f-ef41-4f91-c2b0-f02d619d4b59"
      },
      "outputs": [
        {
          "data": {
            "text/plain": [
              "3"
            ]
          },
          "execution_count": 41,
          "metadata": {},
          "output_type": "execute_result"
        }
      ],
      "source": [
        "roll = [6,2,1,1,1]\n",
        "\n",
        "tsum =0\n",
        "\n",
        "for res in roll:\n",
        "    if res == 1 :\n",
        "      tsum = tsum + 1\n",
        "\n",
        "tsum"
      ]
    },
    {
      "cell_type": "markdown",
      "metadata": {
        "id": "kzZ94K2U1J_R"
      },
      "source": [
        "주사위를 5번 연속으로 던졌을 때 1의 눈이 3번 나온 경우가 표본 공간 `dice_5` 인 리스트에 몇 번 나타나는지 횟수를 계산하여 `mysum5` 에 저장하는 코드를 작성하시오.\n",
        "\n",
        "[HINT] 반복문을 중첩하여 사용할 수 있다. "
      ]
    },
    {
      "cell_type": "code",
      "execution_count": null,
      "metadata": {
        "colab": {
          "base_uri": "https://localhost:8080/"
        },
        "id": "V3I_MJKc1GNK",
        "outputId": "7ebff24c-ef3d-4d52-e659-a60a9053a4db"
      },
      "outputs": [
        {
          "data": {
            "text/plain": [
              "250"
            ]
          },
          "execution_count": 39,
          "metadata": {},
          "output_type": "execute_result"
        }
      ],
      "source": [
        "mysum5 = 0\n",
        "\n",
        "for oneroll in dice_5:\n",
        "  tsum = 0\n",
        "  for res in oneroll:\n",
        "    if res == 1 :\n",
        "      tsum = tsum + 1\n",
        "  if tsum == 3:\n",
        "    mysum5 =mysum5+ 1\n",
        "\n",
        "mysum5    "
      ]
    },
    {
      "cell_type": "code",
      "execution_count": null,
      "metadata": {
        "id": "OiDrovRk3AHN"
      },
      "outputs": [],
      "source": []
    }
  ],
  "metadata": {
    "colab": {
      "provenance": []
    },
    "kernelspec": {
      "display_name": "Python 3 (ipykernel)",
      "language": "python",
      "name": "python3"
    },
    "language_info": {
      "codemirror_mode": {
        "name": "ipython",
        "version": 3
      },
      "file_extension": ".py",
      "mimetype": "text/x-python",
      "name": "python",
      "nbconvert_exporter": "python",
      "pygments_lexer": "ipython3",
      "version": "3.9.13"
    }
  },
  "nbformat": 4,
  "nbformat_minor": 0
}
